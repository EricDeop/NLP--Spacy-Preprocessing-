{
  "nbformat": 4,
  "nbformat_minor": 0,
  "metadata": {
    "colab": {
      "name": "Female Comments.ipynb",
      "provenance": [],
      "collapsed_sections": [],
      "authorship_tag": "ABX9TyOXN/4JxbrPikRxdR8tDb7P",
      "include_colab_link": true
    },
    "kernelspec": {
      "name": "python3",
      "display_name": "Python 3"
    },
    "language_info": {
      "name": "python"
    }
  },
  "cells": [
    {
      "cell_type": "markdown",
      "metadata": {
        "id": "view-in-github",
        "colab_type": "text"
      },
      "source": [
        "<a href=\"https://colab.research.google.com/github/EricDeop/NLP--Spacy-Preprocessing-/blob/Female-Comments/Female_Comments.ipynb\" target=\"_parent\"><img src=\"https://colab.research.google.com/assets/colab-badge.svg\" alt=\"Open In Colab\"/></a>"
      ]
    },
    {
      "cell_type": "code",
      "execution_count": 1,
      "metadata": {
        "colab": {
          "base_uri": "https://localhost:8080/",
          "height": 224
        },
        "id": "lXxDz9p0f3XD",
        "outputId": "00386321-839d-4513-9e9c-384667a1677d"
      },
      "outputs": [
        {
          "output_type": "stream",
          "name": "stdout",
          "text": [
            "Mounted at /content/drive\n"
          ]
        },
        {
          "output_type": "execute_result",
          "data": {
            "text/plain": [
              "   SURVEYRESPONDERID AVERAGE_RESPONSE_DATE  YEAR  MONTH  GENDER  \\\n",
              "0           17296164                1/7/21  2021      1    Male   \n",
              "1           17311889                1/7/21  2021      1  Female   \n",
              "2           17334983                1/7/21  2021      1    Male   \n",
              "3           17340598                1/2/21  2021      1    Male   \n",
              "4           17340874                1/2/21  2021      1    Male   \n",
              "\n",
              "   SURVEYQUESTIONESSENCEID                                            COMMENT  \n",
              "0                    30013  Melvins professional demeanor and interpersona...  \n",
              "1                    30014             Proved better supervision and support.  \n",
              "2                    30013                                 Proven experience   \n",
              "3                    30014  Let the team do what they were hired to do, so...  \n",
              "4                    30013  They consistently look for opportunities to ma...  "
            ],
            "text/html": [
              "\n",
              "  <div id=\"df-84031a4c-4423-4ac0-b755-371e344b687c\">\n",
              "    <div class=\"colab-df-container\">\n",
              "      <div>\n",
              "<style scoped>\n",
              "    .dataframe tbody tr th:only-of-type {\n",
              "        vertical-align: middle;\n",
              "    }\n",
              "\n",
              "    .dataframe tbody tr th {\n",
              "        vertical-align: top;\n",
              "    }\n",
              "\n",
              "    .dataframe thead th {\n",
              "        text-align: right;\n",
              "    }\n",
              "</style>\n",
              "<table border=\"1\" class=\"dataframe\">\n",
              "  <thead>\n",
              "    <tr style=\"text-align: right;\">\n",
              "      <th></th>\n",
              "      <th>SURVEYRESPONDERID</th>\n",
              "      <th>AVERAGE_RESPONSE_DATE</th>\n",
              "      <th>YEAR</th>\n",
              "      <th>MONTH</th>\n",
              "      <th>GENDER</th>\n",
              "      <th>SURVEYQUESTIONESSENCEID</th>\n",
              "      <th>COMMENT</th>\n",
              "    </tr>\n",
              "  </thead>\n",
              "  <tbody>\n",
              "    <tr>\n",
              "      <th>0</th>\n",
              "      <td>17296164</td>\n",
              "      <td>1/7/21</td>\n",
              "      <td>2021</td>\n",
              "      <td>1</td>\n",
              "      <td>Male</td>\n",
              "      <td>30013</td>\n",
              "      <td>Melvins professional demeanor and interpersona...</td>\n",
              "    </tr>\n",
              "    <tr>\n",
              "      <th>1</th>\n",
              "      <td>17311889</td>\n",
              "      <td>1/7/21</td>\n",
              "      <td>2021</td>\n",
              "      <td>1</td>\n",
              "      <td>Female</td>\n",
              "      <td>30014</td>\n",
              "      <td>Proved better supervision and support.</td>\n",
              "    </tr>\n",
              "    <tr>\n",
              "      <th>2</th>\n",
              "      <td>17334983</td>\n",
              "      <td>1/7/21</td>\n",
              "      <td>2021</td>\n",
              "      <td>1</td>\n",
              "      <td>Male</td>\n",
              "      <td>30013</td>\n",
              "      <td>Proven experience</td>\n",
              "    </tr>\n",
              "    <tr>\n",
              "      <th>3</th>\n",
              "      <td>17340598</td>\n",
              "      <td>1/2/21</td>\n",
              "      <td>2021</td>\n",
              "      <td>1</td>\n",
              "      <td>Male</td>\n",
              "      <td>30014</td>\n",
              "      <td>Let the team do what they were hired to do, so...</td>\n",
              "    </tr>\n",
              "    <tr>\n",
              "      <th>4</th>\n",
              "      <td>17340874</td>\n",
              "      <td>1/2/21</td>\n",
              "      <td>2021</td>\n",
              "      <td>1</td>\n",
              "      <td>Male</td>\n",
              "      <td>30013</td>\n",
              "      <td>They consistently look for opportunities to ma...</td>\n",
              "    </tr>\n",
              "  </tbody>\n",
              "</table>\n",
              "</div>\n",
              "      <button class=\"colab-df-convert\" onclick=\"convertToInteractive('df-84031a4c-4423-4ac0-b755-371e344b687c')\"\n",
              "              title=\"Convert this dataframe to an interactive table.\"\n",
              "              style=\"display:none;\">\n",
              "        \n",
              "  <svg xmlns=\"http://www.w3.org/2000/svg\" height=\"24px\"viewBox=\"0 0 24 24\"\n",
              "       width=\"24px\">\n",
              "    <path d=\"M0 0h24v24H0V0z\" fill=\"none\"/>\n",
              "    <path d=\"M18.56 5.44l.94 2.06.94-2.06 2.06-.94-2.06-.94-.94-2.06-.94 2.06-2.06.94zm-11 1L8.5 8.5l.94-2.06 2.06-.94-2.06-.94L8.5 2.5l-.94 2.06-2.06.94zm10 10l.94 2.06.94-2.06 2.06-.94-2.06-.94-.94-2.06-.94 2.06-2.06.94z\"/><path d=\"M17.41 7.96l-1.37-1.37c-.4-.4-.92-.59-1.43-.59-.52 0-1.04.2-1.43.59L10.3 9.45l-7.72 7.72c-.78.78-.78 2.05 0 2.83L4 21.41c.39.39.9.59 1.41.59.51 0 1.02-.2 1.41-.59l7.78-7.78 2.81-2.81c.8-.78.8-2.07 0-2.86zM5.41 20L4 18.59l7.72-7.72 1.47 1.35L5.41 20z\"/>\n",
              "  </svg>\n",
              "      </button>\n",
              "      \n",
              "  <style>\n",
              "    .colab-df-container {\n",
              "      display:flex;\n",
              "      flex-wrap:wrap;\n",
              "      gap: 12px;\n",
              "    }\n",
              "\n",
              "    .colab-df-convert {\n",
              "      background-color: #E8F0FE;\n",
              "      border: none;\n",
              "      border-radius: 50%;\n",
              "      cursor: pointer;\n",
              "      display: none;\n",
              "      fill: #1967D2;\n",
              "      height: 32px;\n",
              "      padding: 0 0 0 0;\n",
              "      width: 32px;\n",
              "    }\n",
              "\n",
              "    .colab-df-convert:hover {\n",
              "      background-color: #E2EBFA;\n",
              "      box-shadow: 0px 1px 2px rgba(60, 64, 67, 0.3), 0px 1px 3px 1px rgba(60, 64, 67, 0.15);\n",
              "      fill: #174EA6;\n",
              "    }\n",
              "\n",
              "    [theme=dark] .colab-df-convert {\n",
              "      background-color: #3B4455;\n",
              "      fill: #D2E3FC;\n",
              "    }\n",
              "\n",
              "    [theme=dark] .colab-df-convert:hover {\n",
              "      background-color: #434B5C;\n",
              "      box-shadow: 0px 1px 3px 1px rgba(0, 0, 0, 0.15);\n",
              "      filter: drop-shadow(0px 1px 2px rgba(0, 0, 0, 0.3));\n",
              "      fill: #FFFFFF;\n",
              "    }\n",
              "  </style>\n",
              "\n",
              "      <script>\n",
              "        const buttonEl =\n",
              "          document.querySelector('#df-84031a4c-4423-4ac0-b755-371e344b687c button.colab-df-convert');\n",
              "        buttonEl.style.display =\n",
              "          google.colab.kernel.accessAllowed ? 'block' : 'none';\n",
              "\n",
              "        async function convertToInteractive(key) {\n",
              "          const element = document.querySelector('#df-84031a4c-4423-4ac0-b755-371e344b687c');\n",
              "          const dataTable =\n",
              "            await google.colab.kernel.invokeFunction('convertToInteractive',\n",
              "                                                     [key], {});\n",
              "          if (!dataTable) return;\n",
              "\n",
              "          const docLinkHtml = 'Like what you see? Visit the ' +\n",
              "            '<a target=\"_blank\" href=https://colab.research.google.com/notebooks/data_table.ipynb>data table notebook</a>'\n",
              "            + ' to learn more about interactive tables.';\n",
              "          element.innerHTML = '';\n",
              "          dataTable['output_type'] = 'display_data';\n",
              "          await google.colab.output.renderOutput(dataTable, element);\n",
              "          const docLink = document.createElement('div');\n",
              "          docLink.innerHTML = docLinkHtml;\n",
              "          element.appendChild(docLink);\n",
              "        }\n",
              "      </script>\n",
              "    </div>\n",
              "  </div>\n",
              "  "
            ]
          },
          "metadata": {},
          "execution_count": 1
        }
      ],
      "source": [
        "from google.colab import drive\n",
        "\n",
        "drive.mount('/content/drive')\n",
        "\n",
        "import numpy as np\n",
        "import pandas as pd\n",
        "\n",
        "path = \"/content/drive/MyDrive/LeaderComment.csv\"\n",
        "\n",
        "df = pd.read_csv(path)\n",
        "\n",
        "df.head()"
      ]
    },
    {
      "cell_type": "code",
      "source": [
        "#Importing necessary packages\n",
        "import spacy\n",
        "import re\n",
        "import string\n",
        "from pprint import pprint\n",
        "\n",
        "import gensim\n",
        "import gensim.corpora as corpora\n",
        "from gensim.utils import simple_preprocess\n",
        "from gensim.models import CoherenceModel\n",
        "\n",
        "import matplotlib.pyplot as plt\n",
        "%matplotlib inline"
      ],
      "metadata": {
        "id": "OHhXi18EgDdx"
      },
      "execution_count": 2,
      "outputs": []
    },
    {
      "cell_type": "markdown",
      "source": [
        "#Data Cleaning before splitting dataset to only male gender"
      ],
      "metadata": {
        "id": "5kdC93a2gMS1"
      }
    },
    {
      "cell_type": "code",
      "source": [
        "df['GENDER'] = df['GENDER'].str.lower()\n",
        "\n",
        "df = df.replace({'GENDER' : {'do not wish to disclose' : 'prefer not to answer',\n",
        "                        'cisgender' : 'gender not listed', 'm' : 'male', \n",
        "                        'f' : 'female'}})\n",
        "\n",
        "df = df[df[\"GENDER\"].str.contains(\n",
        "    \"non-binary|other gender|gender not listed|gender identity not listed|other gender\"\n",
        "    ) == False]\n",
        "\n",
        "print(\"\\n\")\n",
        "\n",
        "df['GENDER'].value_counts()"
      ],
      "metadata": {
        "colab": {
          "base_uri": "https://localhost:8080/"
        },
        "id": "m1SXWrfcgL9-",
        "outputId": "914ecd6b-f7ce-4eb4-cbd9-d97b0e61221f"
      },
      "execution_count": 3,
      "outputs": [
        {
          "output_type": "stream",
          "name": "stdout",
          "text": [
            "\n",
            "\n"
          ]
        },
        {
          "output_type": "execute_result",
          "data": {
            "text/plain": [
              "female                  96071\n",
              "male                    84840\n",
              "prefer not to answer    24326\n",
              "Name: GENDER, dtype: int64"
            ]
          },
          "metadata": {},
          "execution_count": 3
        }
      ]
    },
    {
      "cell_type": "code",
      "source": [
        "#Removing duplicates\n",
        "#Survey responder ID - Duplicate survey ID indicates same person\n",
        "#cannot ascertain if duplicate comments exist that they are from the same person\n",
        "#left comments as is and the other columns too\n",
        "\n",
        "ids = df['SURVEYRESPONDERID']\n",
        "duplicates = ids[ids.duplicated()]\n",
        "\n",
        "print(\"Duplicate ID's :\", duplicates.value_counts().sum(),\"\\n\")\n",
        "\n",
        "df = df.drop_duplicates(subset=['SURVEYRESPONDERID'])\n",
        "print(\"Rows, Columns after Duplicate ID's removed: \",df.shape)"
      ],
      "metadata": {
        "colab": {
          "base_uri": "https://localhost:8080/"
        },
        "id": "a_d9u6cOgLAt",
        "outputId": "7a547195-0402-4874-faf8-697d147ab0a4"
      },
      "execution_count": 4,
      "outputs": [
        {
          "output_type": "stream",
          "name": "stdout",
          "text": [
            "Duplicate ID's : 24 \n",
            "\n",
            "Rows, Columns after Duplicate ID's removed:  (205213, 7)\n"
          ]
        }
      ]
    },
    {
      "cell_type": "code",
      "source": [
        "# Removing Nan Values\n",
        "\n",
        "print(df.isna().sum().sort_values(ascending = False))\n",
        "\n",
        "#NaN values only found in comment column\n",
        "#Removal of those 4 comments\n",
        "df = df.dropna()\n",
        "\n",
        "df.shape\n",
        "\n",
        "# Dropping AVERAGE_RESPONSE_DATE, YEAR, and MONTH columns as they will \n",
        "# not be relevant to this analysis\n",
        "\n",
        "df = df.drop(columns=['AVERAGE_RESPONSE_DATE', 'YEAR', 'MONTH'], axis=1)\n",
        "df.head()"
      ],
      "metadata": {
        "colab": {
          "base_uri": "https://localhost:8080/",
          "height": 345
        },
        "id": "AylOf0bYhCx3",
        "outputId": "52c4712f-c9bc-4631-d179-77e9f84440a0"
      },
      "execution_count": 5,
      "outputs": [
        {
          "output_type": "stream",
          "name": "stdout",
          "text": [
            "COMMENT                    4\n",
            "SURVEYRESPONDERID          0\n",
            "AVERAGE_RESPONSE_DATE      0\n",
            "YEAR                       0\n",
            "MONTH                      0\n",
            "GENDER                     0\n",
            "SURVEYQUESTIONESSENCEID    0\n",
            "dtype: int64\n"
          ]
        },
        {
          "output_type": "execute_result",
          "data": {
            "text/plain": [
              "   SURVEYRESPONDERID  GENDER  SURVEYQUESTIONESSENCEID  \\\n",
              "0           17296164    male                    30013   \n",
              "1           17311889  female                    30014   \n",
              "2           17334983    male                    30013   \n",
              "3           17340598    male                    30014   \n",
              "4           17340874    male                    30013   \n",
              "\n",
              "                                             COMMENT  \n",
              "0  Melvins professional demeanor and interpersona...  \n",
              "1             Proved better supervision and support.  \n",
              "2                                 Proven experience   \n",
              "3  Let the team do what they were hired to do, so...  \n",
              "4  They consistently look for opportunities to ma...  "
            ],
            "text/html": [
              "\n",
              "  <div id=\"df-5313c77c-ea6a-4ddc-83ba-4fd5145c594b\">\n",
              "    <div class=\"colab-df-container\">\n",
              "      <div>\n",
              "<style scoped>\n",
              "    .dataframe tbody tr th:only-of-type {\n",
              "        vertical-align: middle;\n",
              "    }\n",
              "\n",
              "    .dataframe tbody tr th {\n",
              "        vertical-align: top;\n",
              "    }\n",
              "\n",
              "    .dataframe thead th {\n",
              "        text-align: right;\n",
              "    }\n",
              "</style>\n",
              "<table border=\"1\" class=\"dataframe\">\n",
              "  <thead>\n",
              "    <tr style=\"text-align: right;\">\n",
              "      <th></th>\n",
              "      <th>SURVEYRESPONDERID</th>\n",
              "      <th>GENDER</th>\n",
              "      <th>SURVEYQUESTIONESSENCEID</th>\n",
              "      <th>COMMENT</th>\n",
              "    </tr>\n",
              "  </thead>\n",
              "  <tbody>\n",
              "    <tr>\n",
              "      <th>0</th>\n",
              "      <td>17296164</td>\n",
              "      <td>male</td>\n",
              "      <td>30013</td>\n",
              "      <td>Melvins professional demeanor and interpersona...</td>\n",
              "    </tr>\n",
              "    <tr>\n",
              "      <th>1</th>\n",
              "      <td>17311889</td>\n",
              "      <td>female</td>\n",
              "      <td>30014</td>\n",
              "      <td>Proved better supervision and support.</td>\n",
              "    </tr>\n",
              "    <tr>\n",
              "      <th>2</th>\n",
              "      <td>17334983</td>\n",
              "      <td>male</td>\n",
              "      <td>30013</td>\n",
              "      <td>Proven experience</td>\n",
              "    </tr>\n",
              "    <tr>\n",
              "      <th>3</th>\n",
              "      <td>17340598</td>\n",
              "      <td>male</td>\n",
              "      <td>30014</td>\n",
              "      <td>Let the team do what they were hired to do, so...</td>\n",
              "    </tr>\n",
              "    <tr>\n",
              "      <th>4</th>\n",
              "      <td>17340874</td>\n",
              "      <td>male</td>\n",
              "      <td>30013</td>\n",
              "      <td>They consistently look for opportunities to ma...</td>\n",
              "    </tr>\n",
              "  </tbody>\n",
              "</table>\n",
              "</div>\n",
              "      <button class=\"colab-df-convert\" onclick=\"convertToInteractive('df-5313c77c-ea6a-4ddc-83ba-4fd5145c594b')\"\n",
              "              title=\"Convert this dataframe to an interactive table.\"\n",
              "              style=\"display:none;\">\n",
              "        \n",
              "  <svg xmlns=\"http://www.w3.org/2000/svg\" height=\"24px\"viewBox=\"0 0 24 24\"\n",
              "       width=\"24px\">\n",
              "    <path d=\"M0 0h24v24H0V0z\" fill=\"none\"/>\n",
              "    <path d=\"M18.56 5.44l.94 2.06.94-2.06 2.06-.94-2.06-.94-.94-2.06-.94 2.06-2.06.94zm-11 1L8.5 8.5l.94-2.06 2.06-.94-2.06-.94L8.5 2.5l-.94 2.06-2.06.94zm10 10l.94 2.06.94-2.06 2.06-.94-2.06-.94-.94-2.06-.94 2.06-2.06.94z\"/><path d=\"M17.41 7.96l-1.37-1.37c-.4-.4-.92-.59-1.43-.59-.52 0-1.04.2-1.43.59L10.3 9.45l-7.72 7.72c-.78.78-.78 2.05 0 2.83L4 21.41c.39.39.9.59 1.41.59.51 0 1.02-.2 1.41-.59l7.78-7.78 2.81-2.81c.8-.78.8-2.07 0-2.86zM5.41 20L4 18.59l7.72-7.72 1.47 1.35L5.41 20z\"/>\n",
              "  </svg>\n",
              "      </button>\n",
              "      \n",
              "  <style>\n",
              "    .colab-df-container {\n",
              "      display:flex;\n",
              "      flex-wrap:wrap;\n",
              "      gap: 12px;\n",
              "    }\n",
              "\n",
              "    .colab-df-convert {\n",
              "      background-color: #E8F0FE;\n",
              "      border: none;\n",
              "      border-radius: 50%;\n",
              "      cursor: pointer;\n",
              "      display: none;\n",
              "      fill: #1967D2;\n",
              "      height: 32px;\n",
              "      padding: 0 0 0 0;\n",
              "      width: 32px;\n",
              "    }\n",
              "\n",
              "    .colab-df-convert:hover {\n",
              "      background-color: #E2EBFA;\n",
              "      box-shadow: 0px 1px 2px rgba(60, 64, 67, 0.3), 0px 1px 3px 1px rgba(60, 64, 67, 0.15);\n",
              "      fill: #174EA6;\n",
              "    }\n",
              "\n",
              "    [theme=dark] .colab-df-convert {\n",
              "      background-color: #3B4455;\n",
              "      fill: #D2E3FC;\n",
              "    }\n",
              "\n",
              "    [theme=dark] .colab-df-convert:hover {\n",
              "      background-color: #434B5C;\n",
              "      box-shadow: 0px 1px 3px 1px rgba(0, 0, 0, 0.15);\n",
              "      filter: drop-shadow(0px 1px 2px rgba(0, 0, 0, 0.3));\n",
              "      fill: #FFFFFF;\n",
              "    }\n",
              "  </style>\n",
              "\n",
              "      <script>\n",
              "        const buttonEl =\n",
              "          document.querySelector('#df-5313c77c-ea6a-4ddc-83ba-4fd5145c594b button.colab-df-convert');\n",
              "        buttonEl.style.display =\n",
              "          google.colab.kernel.accessAllowed ? 'block' : 'none';\n",
              "\n",
              "        async function convertToInteractive(key) {\n",
              "          const element = document.querySelector('#df-5313c77c-ea6a-4ddc-83ba-4fd5145c594b');\n",
              "          const dataTable =\n",
              "            await google.colab.kernel.invokeFunction('convertToInteractive',\n",
              "                                                     [key], {});\n",
              "          if (!dataTable) return;\n",
              "\n",
              "          const docLinkHtml = 'Like what you see? Visit the ' +\n",
              "            '<a target=\"_blank\" href=https://colab.research.google.com/notebooks/data_table.ipynb>data table notebook</a>'\n",
              "            + ' to learn more about interactive tables.';\n",
              "          element.innerHTML = '';\n",
              "          dataTable['output_type'] = 'display_data';\n",
              "          await google.colab.output.renderOutput(dataTable, element);\n",
              "          const docLink = document.createElement('div');\n",
              "          docLink.innerHTML = docLinkHtml;\n",
              "          element.appendChild(docLink);\n",
              "        }\n",
              "      </script>\n",
              "    </div>\n",
              "  </div>\n",
              "  "
            ]
          },
          "metadata": {},
          "execution_count": 5
        }
      ]
    },
    {
      "cell_type": "code",
      "source": [
        "# Converting all text to lowercase and removing punctuations\n",
        "\n",
        "def clean_text(text):\n",
        "  text = text.lower()\n",
        "  text = re.sub(r'[^\\w\\s]',' ', text)\n",
        "  text = re.sub('\\[.*?\\#]', '', text)\n",
        "  text = re.sub('\\n', ' ', text)\n",
        "  text = re.sub('[%s]' % re.escape(string.punctuation), ' ', text)\n",
        "  return text\n",
        "\n",
        "cleaning = lambda x: clean_text(x)"
      ],
      "metadata": {
        "id": "NtWzhJVUhQb2"
      },
      "execution_count": 6,
      "outputs": []
    },
    {
      "cell_type": "code",
      "source": [
        "df_clean = pd.DataFrame(df['COMMENT'].apply(cleaning))\n",
        "\n",
        "df[\"COMMENT\"] = df_clean\n",
        "\n",
        "print(df['COMMENT'].head(10),\"\\n\")\n",
        "print(df['COMMENT'].tail(10))"
      ],
      "metadata": {
        "colab": {
          "base_uri": "https://localhost:8080/"
        },
        "id": "2qZt4ZuvhR2u",
        "outputId": "e077d195-2081-475a-a4ef-e09afe2330da"
      },
      "execution_count": 7,
      "outputs": [
        {
          "output_type": "stream",
          "name": "stdout",
          "text": [
            "0    melvins professional demeanor and interpersona...\n",
            "1               proved better supervision and support \n",
            "2                                   proven experience \n",
            "3    let the team do what they were hired to do  so...\n",
            "4    they consistently look for opportunities to ma...\n",
            "5    willingness to terminate bad employees  commit...\n",
            "6    calm  fearless  godliness of character  respec...\n",
            "7    it doesnt  you have a manager that wife works ...\n",
            "8    quit pitting the different shifts and departme...\n",
            "9    pay me what i deserve based on my qualificatio...\n",
            "Name: COMMENT, dtype: object \n",
            "\n",
            "206951               good at communicating what is required\n",
            "206952                 employ composite industry managers  \n",
            "206953                        drug test and stick to policy\n",
            "206954                     passion and drive for results   \n",
            "206955    spend money in the right areas   stop employin...\n",
            "206956    his open and willingness to describe what is g...\n",
            "206957    howard makes sure that we feel safe and feel c...\n",
            "206958    be present  engage with management  make it a ...\n",
            "206959    change in leadership style  servant leadership...\n",
            "206960             they have made great decisions so far   \n",
            "Name: COMMENT, dtype: object\n"
          ]
        }
      ]
    },
    {
      "cell_type": "code",
      "source": [
        "#Splitting Original data to only FEMALE under GENDER column\n",
        "\n",
        "female = df[df[\"GENDER\"].str.match(\"female\") == True]\n",
        "\n",
        "female.head()"
      ],
      "metadata": {
        "colab": {
          "base_uri": "https://localhost:8080/",
          "height": 206
        },
        "id": "owgncwh1hldf",
        "outputId": "894de92b-1bb3-4ab1-fdc6-0b7fa13e2426"
      },
      "execution_count": 8,
      "outputs": [
        {
          "output_type": "execute_result",
          "data": {
            "text/plain": [
              "    SURVEYRESPONDERID  GENDER  SURVEYQUESTIONESSENCEID  \\\n",
              "1            17311889  female                    30014   \n",
              "6            17341738  female                    30013   \n",
              "8            17341752  female                    30014   \n",
              "11           17341807  female                    30013   \n",
              "12           17341840  female                    30014   \n",
              "\n",
              "                                              COMMENT  \n",
              "1              proved better supervision and support   \n",
              "6   calm  fearless  godliness of character  respec...  \n",
              "8   quit pitting the different shifts and departme...  \n",
              "11  the leaders at pa one call have proven their c...  \n",
              "12  i would like to see policies that focus less o...  "
            ],
            "text/html": [
              "\n",
              "  <div id=\"df-e5765c23-5706-45f3-9e46-aa8570bff6fc\">\n",
              "    <div class=\"colab-df-container\">\n",
              "      <div>\n",
              "<style scoped>\n",
              "    .dataframe tbody tr th:only-of-type {\n",
              "        vertical-align: middle;\n",
              "    }\n",
              "\n",
              "    .dataframe tbody tr th {\n",
              "        vertical-align: top;\n",
              "    }\n",
              "\n",
              "    .dataframe thead th {\n",
              "        text-align: right;\n",
              "    }\n",
              "</style>\n",
              "<table border=\"1\" class=\"dataframe\">\n",
              "  <thead>\n",
              "    <tr style=\"text-align: right;\">\n",
              "      <th></th>\n",
              "      <th>SURVEYRESPONDERID</th>\n",
              "      <th>GENDER</th>\n",
              "      <th>SURVEYQUESTIONESSENCEID</th>\n",
              "      <th>COMMENT</th>\n",
              "    </tr>\n",
              "  </thead>\n",
              "  <tbody>\n",
              "    <tr>\n",
              "      <th>1</th>\n",
              "      <td>17311889</td>\n",
              "      <td>female</td>\n",
              "      <td>30014</td>\n",
              "      <td>proved better supervision and support</td>\n",
              "    </tr>\n",
              "    <tr>\n",
              "      <th>6</th>\n",
              "      <td>17341738</td>\n",
              "      <td>female</td>\n",
              "      <td>30013</td>\n",
              "      <td>calm  fearless  godliness of character  respec...</td>\n",
              "    </tr>\n",
              "    <tr>\n",
              "      <th>8</th>\n",
              "      <td>17341752</td>\n",
              "      <td>female</td>\n",
              "      <td>30014</td>\n",
              "      <td>quit pitting the different shifts and departme...</td>\n",
              "    </tr>\n",
              "    <tr>\n",
              "      <th>11</th>\n",
              "      <td>17341807</td>\n",
              "      <td>female</td>\n",
              "      <td>30013</td>\n",
              "      <td>the leaders at pa one call have proven their c...</td>\n",
              "    </tr>\n",
              "    <tr>\n",
              "      <th>12</th>\n",
              "      <td>17341840</td>\n",
              "      <td>female</td>\n",
              "      <td>30014</td>\n",
              "      <td>i would like to see policies that focus less o...</td>\n",
              "    </tr>\n",
              "  </tbody>\n",
              "</table>\n",
              "</div>\n",
              "      <button class=\"colab-df-convert\" onclick=\"convertToInteractive('df-e5765c23-5706-45f3-9e46-aa8570bff6fc')\"\n",
              "              title=\"Convert this dataframe to an interactive table.\"\n",
              "              style=\"display:none;\">\n",
              "        \n",
              "  <svg xmlns=\"http://www.w3.org/2000/svg\" height=\"24px\"viewBox=\"0 0 24 24\"\n",
              "       width=\"24px\">\n",
              "    <path d=\"M0 0h24v24H0V0z\" fill=\"none\"/>\n",
              "    <path d=\"M18.56 5.44l.94 2.06.94-2.06 2.06-.94-2.06-.94-.94-2.06-.94 2.06-2.06.94zm-11 1L8.5 8.5l.94-2.06 2.06-.94-2.06-.94L8.5 2.5l-.94 2.06-2.06.94zm10 10l.94 2.06.94-2.06 2.06-.94-2.06-.94-.94-2.06-.94 2.06-2.06.94z\"/><path d=\"M17.41 7.96l-1.37-1.37c-.4-.4-.92-.59-1.43-.59-.52 0-1.04.2-1.43.59L10.3 9.45l-7.72 7.72c-.78.78-.78 2.05 0 2.83L4 21.41c.39.39.9.59 1.41.59.51 0 1.02-.2 1.41-.59l7.78-7.78 2.81-2.81c.8-.78.8-2.07 0-2.86zM5.41 20L4 18.59l7.72-7.72 1.47 1.35L5.41 20z\"/>\n",
              "  </svg>\n",
              "      </button>\n",
              "      \n",
              "  <style>\n",
              "    .colab-df-container {\n",
              "      display:flex;\n",
              "      flex-wrap:wrap;\n",
              "      gap: 12px;\n",
              "    }\n",
              "\n",
              "    .colab-df-convert {\n",
              "      background-color: #E8F0FE;\n",
              "      border: none;\n",
              "      border-radius: 50%;\n",
              "      cursor: pointer;\n",
              "      display: none;\n",
              "      fill: #1967D2;\n",
              "      height: 32px;\n",
              "      padding: 0 0 0 0;\n",
              "      width: 32px;\n",
              "    }\n",
              "\n",
              "    .colab-df-convert:hover {\n",
              "      background-color: #E2EBFA;\n",
              "      box-shadow: 0px 1px 2px rgba(60, 64, 67, 0.3), 0px 1px 3px 1px rgba(60, 64, 67, 0.15);\n",
              "      fill: #174EA6;\n",
              "    }\n",
              "\n",
              "    [theme=dark] .colab-df-convert {\n",
              "      background-color: #3B4455;\n",
              "      fill: #D2E3FC;\n",
              "    }\n",
              "\n",
              "    [theme=dark] .colab-df-convert:hover {\n",
              "      background-color: #434B5C;\n",
              "      box-shadow: 0px 1px 3px 1px rgba(0, 0, 0, 0.15);\n",
              "      filter: drop-shadow(0px 1px 2px rgba(0, 0, 0, 0.3));\n",
              "      fill: #FFFFFF;\n",
              "    }\n",
              "  </style>\n",
              "\n",
              "      <script>\n",
              "        const buttonEl =\n",
              "          document.querySelector('#df-e5765c23-5706-45f3-9e46-aa8570bff6fc button.colab-df-convert');\n",
              "        buttonEl.style.display =\n",
              "          google.colab.kernel.accessAllowed ? 'block' : 'none';\n",
              "\n",
              "        async function convertToInteractive(key) {\n",
              "          const element = document.querySelector('#df-e5765c23-5706-45f3-9e46-aa8570bff6fc');\n",
              "          const dataTable =\n",
              "            await google.colab.kernel.invokeFunction('convertToInteractive',\n",
              "                                                     [key], {});\n",
              "          if (!dataTable) return;\n",
              "\n",
              "          const docLinkHtml = 'Like what you see? Visit the ' +\n",
              "            '<a target=\"_blank\" href=https://colab.research.google.com/notebooks/data_table.ipynb>data table notebook</a>'\n",
              "            + ' to learn more about interactive tables.';\n",
              "          element.innerHTML = '';\n",
              "          dataTable['output_type'] = 'display_data';\n",
              "          await google.colab.output.renderOutput(dataTable, element);\n",
              "          const docLink = document.createElement('div');\n",
              "          docLink.innerHTML = docLinkHtml;\n",
              "          element.appendChild(docLink);\n",
              "        }\n",
              "      </script>\n",
              "    </div>\n",
              "  </div>\n",
              "  "
            ]
          },
          "metadata": {},
          "execution_count": 8
        }
      ]
    },
    {
      "cell_type": "code",
      "source": [
        "# Splitting MALE gender by SURVEYQUESTIONESSENCEID\n",
        "\n",
        "female_inspire = female[female[\"SURVEYQUESTIONESSENCEID\"] == 30013]\n",
        "female_gain = female[female[\"SURVEYQUESTIONESSENCEID\"] == 30014]\n",
        "\n",
        "\n",
        "print(female_inspire.iloc[[0,1,2,3,4],[1,2]], \"\\n\")\n",
        "print(female_gain.iloc[[0,1,2,3,4],[1,2]])"
      ],
      "metadata": {
        "colab": {
          "base_uri": "https://localhost:8080/"
        },
        "id": "GslOn4qGhxaH",
        "outputId": "9b880880-2463-4816-917e-9413115cdbf6"
      },
      "execution_count": 9,
      "outputs": [
        {
          "output_type": "stream",
          "name": "stdout",
          "text": [
            "    GENDER  SURVEYQUESTIONESSENCEID\n",
            "6   female                    30013\n",
            "11  female                    30013\n",
            "14  female                    30013\n",
            "17  female                    30013\n",
            "23  female                    30013 \n",
            "\n",
            "    GENDER  SURVEYQUESTIONESSENCEID\n",
            "1   female                    30014\n",
            "8   female                    30014\n",
            "12  female                    30014\n",
            "15  female                    30014\n",
            "40  female                    30014\n"
          ]
        }
      ]
    },
    {
      "cell_type": "code",
      "source": [
        "print(female_inspire.value_counts)\n",
        "print(female_gain.value_counts)"
      ],
      "metadata": {
        "colab": {
          "base_uri": "https://localhost:8080/"
        },
        "id": "_xoZ25L7Zlfl",
        "outputId": "8e7c0989-8fef-428b-96a9-79b53d56b1e0"
      },
      "execution_count": 10,
      "outputs": [
        {
          "output_type": "stream",
          "name": "stdout",
          "text": [
            "<bound method DataFrame.value_counts of         SURVEYRESPONDERID  GENDER  SURVEYQUESTIONESSENCEID  \\\n",
            "6                17341738  female                    30013   \n",
            "11               17341807  female                    30013   \n",
            "14               17341879  female                    30013   \n",
            "17               17347734  female                    30013   \n",
            "23               17356655  female                    30013   \n",
            "...                   ...     ...                      ...   \n",
            "206940           23340863  female                    30013   \n",
            "206943           23341503  female                    30013   \n",
            "206950           23342653  female                    30013   \n",
            "206954           23342696  female                    30013   \n",
            "206957           23343130  female                    30013   \n",
            "\n",
            "                                                  COMMENT  \n",
            "6       calm  fearless  godliness of character  respec...  \n",
            "11      the leaders at pa one call have proven their c...  \n",
            "14            listening skills  confidence in the mission  \n",
            "17      he knows the business   and he wants to make h...  \n",
            "23      he is confident we will make a change and beco...  \n",
            "...                                                   ...  \n",
            "206940  i respect that whenever rj and molly come in  ...  \n",
            "206943  i feel like they have taken extra effort to sh...  \n",
            "206950  md brings structure and accountability to our ...  \n",
            "206954                   passion and drive for results     \n",
            "206957  howard makes sure that we feel safe and feel c...  \n",
            "\n",
            "[56806 rows x 4 columns]>\n",
            "<bound method DataFrame.value_counts of         SURVEYRESPONDERID  GENDER  SURVEYQUESTIONESSENCEID  \\\n",
            "1                17311889  female                    30014   \n",
            "8                17341752  female                    30014   \n",
            "12               17341840  female                    30014   \n",
            "15               17342009  female                    30014   \n",
            "40               17358861  female                    30014   \n",
            "...                   ...     ...                      ...   \n",
            "206942           23340948  female                    30014   \n",
            "206944           23341542  female                    30014   \n",
            "206945           23341598  female                    30014   \n",
            "206949           23342634  female                    30014   \n",
            "206958           23343143  female                    30014   \n",
            "\n",
            "                                                  COMMENT  \n",
            "1                  proved better supervision and support   \n",
            "8       quit pitting the different shifts and departme...  \n",
            "12      i would like to see policies that focus less o...  \n",
            "15          act like a coworker and not a parental figure  \n",
            "40      ask those of us that do the job and talk to th...  \n",
            "...                                                   ...  \n",
            "206942  tell us straight up that something is being do...  \n",
            "206944  be present  engage with management  make it a ...  \n",
            "206945                                         more staff  \n",
            "206949  once i see change start to happen  once the pe...  \n",
            "206958  be present  engage with management  make it a ...  \n",
            "\n",
            "[39250 rows x 4 columns]>\n"
          ]
        }
      ]
    },
    {
      "cell_type": "markdown",
      "source": [
        "#TOKENIZATION"
      ],
      "metadata": {
        "id": "kJJybtzPittO"
      }
    },
    {
      "cell_type": "code",
      "source": [
        "def sent_to_words(sentences):\n",
        "    for sentence in sentences:\n",
        "        yield(gensim.utils.simple_preprocess(str(sentence), deacc=True))\n",
        "\n",
        "female_inspire_words = list(sent_to_words(female_inspire[\"COMMENT\"]))\n",
        "\n",
        "female_gain_words = list(sent_to_words(female_gain[\"COMMENT\"]))\n",
        "\n",
        "print(female_inspire_words[:1],\"\\n\")\n",
        "\n",
        "print(female_gain_words[:1])"
      ],
      "metadata": {
        "colab": {
          "base_uri": "https://localhost:8080/"
        },
        "id": "pGfvWNTbiVkV",
        "outputId": "ff0c9641-c21b-43dc-9327-fd59782068ee"
      },
      "execution_count": 11,
      "outputs": [
        {
          "output_type": "stream",
          "name": "stdout",
          "text": [
            "[['calm', 'fearless', 'godliness', 'of', 'character', 'respectful', 'really', 'cares', 'about', 'their', 'employees']] \n",
            "\n",
            "[['proved', 'better', 'supervision', 'and', 'support']]\n"
          ]
        }
      ]
    },
    {
      "cell_type": "code",
      "source": [
        "print(len(female_inspire_words))\n",
        "print(len(female_gain_words))"
      ],
      "metadata": {
        "colab": {
          "base_uri": "https://localhost:8080/"
        },
        "id": "od0gUh2oZMdu",
        "outputId": "4c138fde-778f-49ac-e06d-4fc2f7b4fb14"
      },
      "execution_count": 12,
      "outputs": [
        {
          "output_type": "stream",
          "name": "stdout",
          "text": [
            "56806\n",
            "39250\n"
          ]
        }
      ]
    },
    {
      "cell_type": "markdown",
      "source": [
        "#Forming Bigrams in Datasets"
      ],
      "metadata": {
        "id": "4l9L8lmFjalk"
      }
    },
    {
      "cell_type": "code",
      "source": [
        "#Bigrams\n",
        "\n",
        "inspire_bigram = gensim.models.Phrases(female_inspire_words, min_count=3,threshold=10)\n",
        "\n",
        "gain_bigram = gensim.models.Phrases(female_gain_words, min_count=3,threshold=10)"
      ],
      "metadata": {
        "id": "48oTBvUwjZ9t"
      },
      "execution_count": 13,
      "outputs": []
    },
    {
      "cell_type": "code",
      "source": [
        "bigram_mod_inspire = gensim.models.phrases.Phraser(inspire_bigram)\n",
        "\n",
        "bigram_mod_gain = gensim.models.phrases.Phraser(gain_bigram)"
      ],
      "metadata": {
        "id": "aOr07dfGjvSE"
      },
      "execution_count": 14,
      "outputs": []
    },
    {
      "cell_type": "code",
      "source": [
        "def make_inspire_bigrams(texts):\n",
        "    return [bigram_mod_inspire[doc] for doc in texts]\n",
        "\n",
        "def make_gain_bigrams(texts):\n",
        "    return [bigram_mod_gain[doc] for doc in texts]\n",
        "\n",
        "female_inspire_words = make_inspire_bigrams(female_inspire_words)\n",
        "\n",
        "female_gain_words = make_gain_bigrams(female_gain_words)"
      ],
      "metadata": {
        "id": "y_SSgbmjl4cb"
      },
      "execution_count": 15,
      "outputs": []
    },
    {
      "cell_type": "code",
      "source": [
        "print(female_inspire_words[0])\n",
        "\n",
        "print(female_gain_words[1])"
      ],
      "metadata": {
        "colab": {
          "base_uri": "https://localhost:8080/"
        },
        "id": "cWEtxxcIj6rg",
        "outputId": "0c7ddda8-7d85-4e2d-bea0-287e6169ae42"
      },
      "execution_count": 16,
      "outputs": [
        {
          "output_type": "stream",
          "name": "stdout",
          "text": [
            "['calm', 'fearless', 'godliness', 'of', 'character', 'respectful', 'really', 'cares_about', 'their', 'employees']\n",
            "['quit', 'pitting', 'the', 'different', 'shifts', 'and', 'departments', 'against_each', 'other', 'treat', 'all', 'fairly', 'quit', 'playing_favorites', 'make_sure', 'the', 'distribution', 'of', 'work', 'is', 'equal', 'all', 'around', 'make_sure', 'everyone', 'is', 'pulling_their', 'weight', 'if', 'task', 'is', 'not', 'suited', 'to', 'ones', 'personality', 'try', 'something', 'different']\n"
          ]
        }
      ]
    },
    {
      "cell_type": "code",
      "source": [
        "print(len(female_inspire_words))\n",
        "print(len(female_gain_words))"
      ],
      "metadata": {
        "colab": {
          "base_uri": "https://localhost:8080/"
        },
        "id": "zWMwF74vo1-h",
        "outputId": "0cd02324-d3c6-4aab-d926-3a983ae4a1de"
      },
      "execution_count": 17,
      "outputs": [
        {
          "output_type": "stream",
          "name": "stdout",
          "text": [
            "56806\n",
            "39250\n"
          ]
        }
      ]
    },
    {
      "cell_type": "markdown",
      "source": [
        "#Removing Stop Words with manual list added and removal of bigrams from dataset"
      ],
      "metadata": {
        "id": "VH3eqH-wpxL-"
      }
    },
    {
      "cell_type": "code",
      "source": [
        "import spacy.cli\n",
        "spacy.cli.download(\"en_core_web_lg\")\n",
        "\n",
        "nlp = spacy.load('en_core_web_lg', disable = ['parser','ner'])\n",
        "\n",
        "print(nlp.Defaults.stop_words)"
      ],
      "metadata": {
        "colab": {
          "base_uri": "https://localhost:8080/"
        },
        "id": "J6mMxgOwp2qu",
        "outputId": "28ad69f7-0bee-4f78-df98-b9069fc25b9c"
      },
      "execution_count": 18,
      "outputs": [
        {
          "output_type": "stream",
          "name": "stdout",
          "text": [
            "\u001b[38;5;2m✔ Download and installation successful\u001b[0m\n",
            "You can now load the package via spacy.load('en_core_web_lg')\n",
            "{'been', 'below', 'have', 'else', 'off', 'get', 'because', 'forty', \"'ve\", 'toward', 'so', 'used', 'take', 'due', 'such', 'doing', 'made', 'seeming', '‘d', 'too', 'there', '’d', '‘ll', 'behind', \"n't\", 'against', 'mostly', 'onto', 'wherever', 'hence', 'n‘t', 'as', 'yet', 'who', 'with', 'except', 'while', 'very', 'often', 'afterwards', 'a', 'none', 'done', 'just', 'themselves', '’ll', 'this', 'either', 'somehow', 'which', 'become', 'everyone', 'besides', 'using', 'will', 'twelve', 'our', 'more', 'your', 'any', 'via', 'again', 'call', 'to', 'few', 'give', 'least', 'during', 'anything', 'say', 'nobody', 'whereafter', 'perhaps', 'thereafter', 'third', 'three', 'herein', 'name', 'whose', 'under', 'eleven', 'when', 'does', 'same', 'unless', \"'m\", 'further', 'amount', 'being', 'otherwise', 'thru', 'had', 'almost', 'what', 'may', 'i', 'am', 'keep', \"'d\", 'own', 'anyway', 'where', 'that', 'here', 'those', 'hereupon', 'down', 'several', 'he', 'one', 'somewhere', 'for', 'hereafter', 'whether', 'rather', 'serious', 'before', 'his', 'anywhere', 'has', 'its', 'through', 'must', 'show', 'ever', 'yourselves', 'some', 'side', 'becoming', 'everything', 'beforehand', 'him', 'wherein', 'first', '’ve', 'twenty', 'could', 'many', '’re', 'neither', 'into', 'every', 'them', 'really', 'on', 'over', 'indeed', 'each', \"'re\", 'above', 'were', 'not', 'ourselves', 'himself', 'after', 'thus', 'across', 'ca', 'my', 'last', 'nor', 'about', 'therein', 'in', 'top', 'two', 'hers', 'nine', 'thence', 'quite', 'seems', 'part', 'it', 'namely', 'latterly', 'by', 'always', 'at', 'all', 'and', 'becomes', 'would', 'now', 'along', '‘re', 'ten', 'sometimes', 'between', 'mine', 'than', 'until', '’s', 'seemed', 'beside', 'of', 'be', \"'s\", 'never', 'five', 'hundred', 'next', 'are', 'might', 'herself', 'meanwhile', 'seem', 'everywhere', 'amongst', 'whence', 'then', 'but', 'upon', 'formerly', 'hereby', 'whither', 'is', 'latter', 'already', 'six', 'n’t', 'even', 'put', 'since', '‘ve', 'fifty', 'nothing', 'should', 'yours', 'can', '’m', 'go', 'together', 'moreover', 'us', 'among', 'did', 'various', 'ours', 'myself', 'make', 'bottom', 'throughout', 'itself', 'whenever', 'they', 'other', 'fifteen', 'per', 'nevertheless', 'however', 'still', 'full', 'others', 're', 'we', 'these', 'thereby', 'whereupon', 'her', 'anyhow', 'something', 'enough', 'only', 'move', 'sometime', 'whatever', \"'ll\", 'anyone', 'back', 'or', 'whoever', 'elsewhere', 'former', 'also', 'although', 'you', 'eight', 'no', '‘s', 'someone', 'whom', 'whereby', 'though', 'beyond', 'the', 'once', 'well', 'their', 'much', 'see', 'both', 'from', 'became', 'within', 'nowhere', 'alone', 'out', 'how', 'without', 'noone', 'whole', 'empty', 'regarding', 'another', 'around', 'thereupon', 'most', 'if', 'was', 'me', 'please', 'less', 'yourself', 'she', 'an', 'cannot', 'therefore', 'front', 'do', 'whereas', 'four', 'towards', 'up', 'sixty', '‘m', 'why'}\n"
          ]
        }
      ]
    },
    {
      "cell_type": "code",
      "source": [
        "#Adding my own stop words to list to get a better topic model\n",
        "\n",
        "nlp.Defaults.stop_words |= {'employee','employees', 'company', 'work', 'people', 'like', \n",
        "                            'feel', 'leadership','know', 'time', 'staff', \n",
        "                            'better', 'leader', 'good', 'team', 'don','confidence',\n",
        "                            'great', 'ceo', 'care', 'new', 'job', 'business',\n",
        "                            'things', 'listen', 'decisions','doesn','u','come'}"
      ],
      "metadata": {
        "id": "7Ur8SvQGqRU1"
      },
      "execution_count": 19,
      "outputs": []
    },
    {
      "cell_type": "code",
      "source": [
        "def remove_stopwords(texts):\n",
        "    return [[word for word in simple_preprocess(str(doc)) if word not in nlp.Defaults.stop_words] for doc in texts]"
      ],
      "metadata": {
        "id": "3cNbPJLlp7Ie"
      },
      "execution_count": 20,
      "outputs": []
    },
    {
      "cell_type": "code",
      "source": [
        "inspire_words_nostops = remove_stopwords(female_inspire_words)\n",
        "\n",
        "gain_words_nostops = remove_stopwords(female_gain_words)"
      ],
      "metadata": {
        "id": "3KnWLyjDp7Et"
      },
      "execution_count": 21,
      "outputs": []
    },
    {
      "cell_type": "code",
      "source": [
        "#Making bigrams with data set with no stop words\n",
        "\n",
        "inspire_nostops_bigrams = make_inspire_bigrams(inspire_words_nostops)\n",
        "\n",
        "gain_nostops_bigrams = make_gain_bigrams(gain_words_nostops)"
      ],
      "metadata": {
        "id": "xwQLgvXgqCaW"
      },
      "execution_count": 22,
      "outputs": []
    },
    {
      "cell_type": "code",
      "source": [
        "print(inspire_nostops_bigrams[0:5],\"\\n\")\n",
        "      \n",
        "print(gain_nostops_bigrams[0:5]) "
      ],
      "metadata": {
        "colab": {
          "base_uri": "https://localhost:8080/"
        },
        "id": "J_j5ZloQsSpb",
        "outputId": "47803452-069a-49c2-8f3d-4495dbdbf261"
      },
      "execution_count": 23,
      "outputs": [
        {
          "output_type": "stream",
          "name": "stdout",
          "text": [
            "[['calm', 'fearless', 'godliness', 'character', 'respectful', 'cares_about'], ['leaders', 'pa', 'proven', 'committment', 'quality', 'hard', 'shown', 'lot', 'making_sure', 'need', 'management', 'handles', 'highest', 'standards', 'expects'], ['mission'], ['knows', 'wants', 'those_around', 'focused_on', 'education', 'making_sure', 'firstperson', 'opportunities', 'available', 'resources'], ['confident', 'change', 'bigger_than', 'actually']] \n",
            "\n",
            "[['proved', 'supervision', 'support'], ['quit', 'pitting', 'different', 'shifts', 'departments', 'against_each', 'treat', 'fairly', 'quit', 'make_sure', 'distribution', 'equal', 'make_sure', 'pulling_their', 'weight', 'task', 'suited', 'ones', 'personality', 'try', 'different'], ['policies', 'focus', 'strikes', 'written', 'warnings', 'deducting', 'points', 'look', 'holistically', 'supports', 'efforts', 'seems_like', 'lot', 'policies', 'geared_towards', 'penalizing', 'bad', 'unforgiving', 'ways', 'frustrate', 'trying', 'cheat', 'system'], ['act_like', 'coworker', 'parental', 'figure'], ['ask', 'talk', 'callers', 'day', 'everyday', 'input', 'feedback']]\n"
          ]
        }
      ]
    },
    {
      "cell_type": "markdown",
      "source": [
        "# Lemmatization"
      ],
      "metadata": {
        "id": "IJN10iPFtDZj"
      }
    },
    {
      "cell_type": "code",
      "source": [
        "def lemmatization(texts, allowed_postags=['NOUN','ADJ', 'VERB','ADV']):\n",
        "    texts_out = []\n",
        "    for sent in texts:\n",
        "        doc = nlp(\" \".join(sent)) \n",
        "        texts_out.append([token.lemma_ for token in doc if token.pos_ in allowed_postags])\n",
        "    return texts_out\n",
        "\n",
        "inspire_final_words = lemmatization(inspire_nostops_bigrams, allowed_postags = [\n",
        "    'NOUN','ADJ', 'VERB','ADV'])\n",
        "\n",
        "gain_final_words = lemmatization(gain_nostops_bigrams, allowed_postags = [\n",
        "    'NOUN','ADJ', 'VERB','ADV'])\n",
        "\n",
        "print(inspire_final_words[:1])\n",
        "print(gain_final_words[:1])"
      ],
      "metadata": {
        "colab": {
          "base_uri": "https://localhost:8080/"
        },
        "id": "XSDgMHxytFqb",
        "outputId": "d9db31fe-7af4-4269-81fd-bcb1daf16075"
      },
      "execution_count": 24,
      "outputs": [
        {
          "output_type": "stream",
          "name": "stdout",
          "text": [
            "[['godliness', 'character', 'respectful']]\n",
            "[['prove', 'supervision', 'support']]\n"
          ]
        }
      ]
    },
    {
      "cell_type": "markdown",
      "source": [
        "#EDA"
      ],
      "metadata": {
        "id": "MJrpYBOC2_4G"
      }
    },
    {
      "cell_type": "code",
      "source": [
        "long_list_inspire = [item for sublist in inspire_final_words for item in sublist]   \n",
        "\n",
        "long_list_gain = [item for sublist in gain_final_words for item in sublist]   "
      ],
      "metadata": {
        "id": "oyoBXT7pn0mK"
      },
      "execution_count": 25,
      "outputs": []
    },
    {
      "cell_type": "code",
      "source": [
        "from nltk import word_tokenize, pos_tag\n",
        "import nltk\n",
        "nltk.download('punkt')\n",
        "nltk.download('averaged_perceptron_tagger')\n",
        "\n",
        "def vb_adj(text):\n",
        "    '''Given a string of text, tokenize the text and pull out only the nouns.'''\n",
        "    is_vb_adj = lambda pos: pos[:2] == 'VB' or pos[:2] == 'JJ'\n",
        "    tokenized = word_tokenize(text)\n",
        "    all_vbs_adj = [word for (word, pos) in pos_tag(tokenized) if is_vb_adj(pos)]\n",
        "    return ' '.join(all_vbs_adj) "
      ],
      "metadata": {
        "colab": {
          "base_uri": "https://localhost:8080/"
        },
        "id": "IzGkZm9R8cTl",
        "outputId": "5c932fed-d7ee-46d5-acbb-dfbc418d0cd5"
      },
      "execution_count": 26,
      "outputs": [
        {
          "output_type": "stream",
          "name": "stderr",
          "text": [
            "[nltk_data] Downloading package punkt to /root/nltk_data...\n",
            "[nltk_data]   Unzipping tokenizers/punkt.zip.\n",
            "[nltk_data] Downloading package averaged_perceptron_tagger to\n",
            "[nltk_data]     /root/nltk_data...\n",
            "[nltk_data]   Unzipping taggers/averaged_perceptron_tagger.zip.\n"
          ]
        }
      ]
    },
    {
      "cell_type": "code",
      "source": [
        "long_string_inspire = ' '.join(long_list_inspire)\n",
        "\n",
        "long_string_gain = ' '.join(long_list_gain)"
      ],
      "metadata": {
        "id": "_WM-U3vj8cLx"
      },
      "execution_count": 27,
      "outputs": []
    },
    {
      "cell_type": "code",
      "source": [
        "inspire_verbs_adj = vb_adj(long_string_inspire)\n",
        "\n",
        "inspire_verbs_adj_tokens = word_tokenize(inspire_verbs_adj)\n",
        "\n",
        "gain_verbs_adj = vb_adj(long_string_gain)\n",
        "\n",
        "gain_verbs_adj_tokens = word_tokenize(gain_verbs_adj)"
      ],
      "metadata": {
        "id": "j0P6bfVZ8cAk"
      },
      "execution_count": 28,
      "outputs": []
    },
    {
      "cell_type": "code",
      "source": [
        "print(inspire_verbs_adj_tokens[:4])\n",
        "print(gain_verbs_adj_tokens[:4])"
      ],
      "metadata": {
        "colab": {
          "base_uri": "https://localhost:8080/"
        },
        "id": "keimbAHp8b-E",
        "outputId": "d6b8975a-f984-433e-90c4-1dccc1c7a896"
      },
      "execution_count": 29,
      "outputs": [
        {
          "output_type": "stream",
          "name": "stdout",
          "text": [
            "['respectful', 'hard', 'need', 'handle']\n",
            "['prove', 'quit', 'pit', 'different']\n"
          ]
        }
      ]
    },
    {
      "cell_type": "code",
      "source": [
        "print(len(inspire_verbs_adj_tokens))\n",
        "\n",
        "print(len(gain_verbs_adj_tokens))"
      ],
      "metadata": {
        "colab": {
          "base_uri": "https://localhost:8080/"
        },
        "id": "WZZlPrRa8b7M",
        "outputId": "2ad65283-e45a-4da1-d192-bff2f9881c6c"
      },
      "execution_count": 30,
      "outputs": [
        {
          "output_type": "stream",
          "name": "stdout",
          "text": [
            "122243\n",
            "124591\n"
          ]
        }
      ]
    },
    {
      "cell_type": "code",
      "source": [
        "from nltk.probability import FreqDist\n",
        "\n",
        "fd_inspire = FreqDist(inspire_verbs_adj_tokens)\n",
        "\n",
        "fd_gain = FreqDist(gain_verbs_adj_tokens)\n",
        "\n",
        "print(fd_inspire.tabulate(50))\n",
        "print(fd_gain.tabulate(50))"
      ],
      "metadata": {
        "colab": {
          "base_uri": "https://localhost:8080/"
        },
        "id": "KZLZ6UUu3A__",
        "outputId": "31c99599-d367-41e7-ab93-15283cf6c4ee"
      },
      "execution_count": 31,
      "outputs": [
        {
          "output_type": "stream",
          "name": "stdout",
          "text": [
            "         make          want          open      positive       believe          good         think          know        strong       willing  approachable     confident          need          take          grow          hard       genuine            go          give knowledgeable      pandemic    understand        listen        honest    appreciate          keep     important          hear       provide           see      continue        future       improve    supportive    individual          come         smart        happen          lead         clear     encourage       succeed          easy     available   transparent         speak    personable          love          able        update \n",
            "         2613          2417          2352          2109          1896          1813          1578          1513          1268          1265          1265          1214          1201          1069          1042          1008           948           889           865           864           815           808           804           787           765           737           721           695           683           683           654           635           622           590           580           571           561           549           542           528           516           513           500           497           487           481           469           458           457           455 \n",
            "None\n",
            "       need          go       think  understand        want        hard        make    continue        hear     provide        open        take      happen        give        sure       leave         get        have   different       allow     believe     present         say     improve     include        stop  individual   important        come        high        good      little     current         ask    pandemic        know        able transparent      honest      expect         see        hold   recognize      ensure        real    training        live        lose       start accountable \n",
            "       2574        1988        1967        1340        1332        1194        1131        1008         950         927         900         806         804         763         762         752         722         710         706         682         680         648         623         616         591         583         582         573         567         558         545         533         521         517         511         505         498         494         455         447         440         432         420         413         412         411         408         407         406         405 \n",
            "None\n"
          ]
        }
      ]
    },
    {
      "cell_type": "code",
      "source": [
        "import seaborn as sns\n",
        "sns.set_theme(style=\"ticks\")\n",
        "top_inspire = fd_inspire.most_common(50)\n",
        "\n",
        "fdist_inspire = pd.Series(dict(top_inspire))\n",
        "\n",
        "sns.set(rc = {'figure.figsize':(2,9)})\n",
        "pnta_inspire = sns.barplot(y=fdist_inspire.index, x=fdist_inspire.values, color='grey')\n",
        "pnta_inspire.set_title(\"Female TOP 50 words\\n--Survey Essence ID: 30013--\\n Question: 'What about the leader\\n of this company\\n inspires your confidence?'\", weight='bold')"
      ],
      "metadata": {
        "colab": {
          "base_uri": "https://localhost:8080/",
          "height": 633
        },
        "id": "bvGNPQGv3QoL",
        "outputId": "65dfc804-72c8-44cf-b13c-5f3e447d378e"
      },
      "execution_count": 32,
      "outputs": [
        {
          "output_type": "execute_result",
          "data": {
            "text/plain": [
              "Text(0.5, 1.0, \"Female TOP 50 words\\n--Survey Essence ID: 30013--\\n Question: 'What about the leader\\n of this company\\n inspires your confidence?'\")"
            ]
          },
          "metadata": {},
          "execution_count": 32
        },
        {
          "output_type": "display_data",
          "data": {
            "text/plain": [
              "<Figure size 144x648 with 1 Axes>"
            ],
            "image/png": "[encoded data removed]"
          },
          "metadata": {}
        }
      ]
    },
    {
      "cell_type": "code",
      "source": [
        "sns.set_theme(style=\"ticks\")\n",
        "top_gain = fd_gain.most_common(50)\n",
        "\n",
        "fdist_gain = pd.Series(dict(top_gain))\n",
        "\n",
        "sns.set(rc = {'figure.figsize':(2,9)})\n",
        "Female_gain = sns.barplot(y=fdist_gain.index, x=fdist_gain.values, color='black')\n",
        "Female_gain.set_title(\"Females TOP 50 words\\n--Survey Essence ID: 30014--\\n Question: 'What could the leader of\\n this company do to\\n gain your full confidence?'\", weight ='bold')"
      ],
      "metadata": {
        "colab": {
          "base_uri": "https://localhost:8080/",
          "height": 633
        },
        "id": "Lul3hVMKAjlr",
        "outputId": "b28a77ca-c86f-45e8-d694-e367f6e93950"
      },
      "execution_count": 33,
      "outputs": [
        {
          "output_type": "execute_result",
          "data": {
            "text/plain": [
              "Text(0.5, 1.0, \"Females TOP 50 words\\n--Survey Essence ID: 30014--\\n Question: 'What could the leader of\\n this company do to\\n gain your full confidence?'\")"
            ]
          },
          "metadata": {},
          "execution_count": 33
        },
        {
          "output_type": "display_data",
          "data": {
            "text/plain": [
              "<Figure size 144x648 with 1 Axes>"
            ],
            "image/png": "[encoded data removed]"
          },
          "metadata": {}
        }
      ]
    },
    {
      "cell_type": "code",
      "source": [
        "print(sum(fdist_inspire.values[:50]))\n",
        "print(sum(fdist_gain.values[:50]))"
      ],
      "metadata": {
        "colab": {
          "base_uri": "https://localhost:8080/"
        },
        "id": "NEBzMiHJ4DF7",
        "outputId": "bc0752c1-0161-432a-eec3-67fe440cba6d"
      },
      "execution_count": 34,
      "outputs": [
        {
          "output_type": "stream",
          "name": "stdout",
          "text": [
            "47352\n",
            "37219\n"
          ]
        }
      ]
    },
    {
      "cell_type": "code",
      "source": [
        "top_50_inspire = fd_inspire.most_common(50)\n",
        "top_50_gain = fd_gain.most_common(50)\n",
        "\n",
        "fdist_50_inspire = pd.Series(dict(top_50_inspire))\n",
        "fdist_50_gain = pd.Series(dict(top_50_gain))\n",
        "\n",
        "\n",
        "print(fdist_50_inspire.index[:50])\n",
        "print(fdist_50_gain.index[:50])"
      ],
      "metadata": {
        "colab": {
          "base_uri": "https://localhost:8080/"
        },
        "id": "zSL3NaAjA4Ni",
        "outputId": "9faf6d3a-f378-4abb-f25c-62064e98e56e"
      },
      "execution_count": 35,
      "outputs": [
        {
          "output_type": "stream",
          "name": "stdout",
          "text": [
            "Index(['make', 'want', 'open', 'positive', 'believe', 'good', 'think', 'know',\n",
            "       'strong', 'willing', 'approachable', 'confident', 'need', 'take',\n",
            "       'grow', 'hard', 'genuine', 'go', 'give', 'knowledgeable', 'pandemic',\n",
            "       'understand', 'listen', 'honest', 'appreciate', 'keep', 'important',\n",
            "       'hear', 'provide', 'see', 'continue', 'future', 'improve', 'supportive',\n",
            "       'individual', 'come', 'smart', 'happen', 'lead', 'clear', 'encourage',\n",
            "       'succeed', 'easy', 'available', 'transparent', 'speak', 'personable',\n",
            "       'love', 'able', 'update'],\n",
            "      dtype='object')\n",
            "Index(['need', 'go', 'think', 'understand', 'want', 'hard', 'make', 'continue',\n",
            "       'hear', 'provide', 'open', 'take', 'happen', 'give', 'sure', 'leave',\n",
            "       'get', 'have', 'different', 'allow', 'believe', 'present', 'say',\n",
            "       'improve', 'include', 'stop', 'individual', 'important', 'come', 'high',\n",
            "       'good', 'little', 'current', 'ask', 'pandemic', 'know', 'able',\n",
            "       'transparent', 'honest', 'expect', 'see', 'hold', 'recognize', 'ensure',\n",
            "       'real', 'training', 'live', 'lose', 'start', 'accountable'],\n",
            "      dtype='object')\n"
          ]
        }
      ]
    },
    {
      "cell_type": "code",
      "source": [
        "#Adding words to stop list that are common to both lists\n",
        "\n",
        "inspire_top_50 = ['make', 'want', 'open', 'positive', 'believe', 'good', 'think', 'know',\n",
        "       'strong', 'willing', 'approachable', 'confident', 'need', 'take',\n",
        "       'grow', 'hard', 'genuine', 'go', 'give', 'knowledgeable', 'pandemic',\n",
        "       'understand', 'listen', 'honest', 'appreciate', 'keep', 'important',\n",
        "       'hear', 'provide', 'see', 'continue', 'future', 'improve', 'supportive',\n",
        "       'individual', 'come', 'smart', 'happen', 'lead', 'clear', 'encourage',\n",
        "       'succeed', 'easy', 'available', 'transparent', 'speak', 'personable',\n",
        "       'love', 'able', 'update']\n",
        "\n",
        "gain_top_50 = ['need', 'go', 'think', 'understand', 'want', 'hard', 'make', 'continue',\n",
        "       'hear', 'provide', 'open', 'take', 'happen', 'give', 'sure', 'leave',\n",
        "       'get', 'have', 'different', 'allow', 'believe', 'present', 'say',\n",
        "       'improve', 'include', 'stop', 'individual', 'important', 'come', 'high',\n",
        "       'good', 'little', 'current', 'ask', 'pandemic', 'know', 'able',\n",
        "       'transparent', 'honest', 'expect', 'see', 'hold', 'recognize', 'ensure',\n",
        "       'real', 'training', 'live', 'lose', 'start', 'accountable']\n",
        "\n",
        "\n",
        "gain_inpspire_common_words = []\n",
        "\n",
        "for word in inspire_top_50:\n",
        "  if word in gain_top_50:\n",
        "    gain_inpspire_common_words.append(word) "
      ],
      "metadata": {
        "id": "gGd28EW1BOZy"
      },
      "execution_count": 36,
      "outputs": []
    },
    {
      "cell_type": "code",
      "source": [
        "print(gain_inpspire_common_words) \n",
        "print(len(gain_inpspire_common_words))\n",
        "#WORDS ADDED TO STOPWORD LIST"
      ],
      "metadata": {
        "colab": {
          "base_uri": "https://localhost:8080/"
        },
        "id": "ePJC8s7ZBwSi",
        "outputId": "1c8f5125-0795-4f6d-c858-c67de43774c3"
      },
      "execution_count": 37,
      "outputs": [
        {
          "output_type": "stream",
          "name": "stdout",
          "text": [
            "['make', 'want', 'open', 'believe', 'good', 'think', 'know', 'need', 'take', 'hard', 'go', 'give', 'pandemic', 'understand', 'honest', 'important', 'hear', 'provide', 'see', 'continue', 'improve', 'individual', 'come', 'happen', 'transparent', 'able']\n",
            "26\n"
          ]
        }
      ]
    },
    {
      "cell_type": "code",
      "source": [
        "nlp.Defaults.stop_words |= {'make', 'want', 'open', 'believe', 'good', 'think',\n",
        "                            'know', 'need', 'take', 'hard', 'go', 'give',\n",
        "                            'pandemic', 'understand', 'honest', 'important', \n",
        "                            'hear', 'provide', 'see', 'continue', 'improve', \n",
        "                            'individual', 'come', 'happen', 'transparent', \n",
        "                            'able','big','happen','look','live','sure',\n",
        "                            'real','stop','allow','current','little','different',\n",
        "                            'try','confident','big','try','right','live','current',\n",
        "                            'sure','run','little','allow','high',\n",
        "                            'bad','different','start','lead','real',\n",
        "                            'bring','hold','true','set','different','inspire','hold',\n",
        "                            'stop','little','follow','high','allow',\n",
        "                            'real','look','bad','expect','focus','present',\n",
        "                            'let','find','tell','start','ask','invest','big',\n",
        "                            'actual','actually'}"
      ],
      "metadata": {
        "id": "aB6vCBFkCWBA"
      },
      "execution_count": 38,
      "outputs": []
    },
    {
      "cell_type": "code",
      "source": [
        "#stopwords removed after lemmatization and implementing common\n",
        "#word between datasets\n",
        "\n",
        "inspire_final_verbs_adj = remove_stopwords(inspire_verbs_adj_tokens)\n",
        "\n",
        "gain_final_verbs_adj = remove_stopwords(gain_verbs_adj_tokens)"
      ],
      "metadata": {
        "id": "PaQrn20FUjfg"
      },
      "execution_count": 39,
      "outputs": []
    },
    {
      "cell_type": "markdown",
      "source": [
        "# Creating corpus for Topic Modeling"
      ],
      "metadata": {
        "id": "ZbdeZuAIukk4"
      }
    },
    {
      "cell_type": "code",
      "source": [
        "id2inspire = corpora.Dictionary(inspire_final_verbs_adj)\n",
        "\n",
        "id2gain = corpora.Dictionary(gain_final_verbs_adj)\n",
        "\n",
        "inspire_texts = inspire_final_verbs_adj\n",
        "\n",
        "gain_texts = gain_final_verbs_adj\n",
        "\n",
        "inspire_corpus = [id2inspire.doc2bow(text) for text in inspire_texts]\n",
        "\n",
        "gain_corpus = [id2gain.doc2bow(text) for text in gain_texts]\n",
        "\n",
        "print(inspire_corpus[:1])\n",
        "print(gain_corpus[:1])"
      ],
      "metadata": {
        "colab": {
          "base_uri": "https://localhost:8080/"
        },
        "id": "nOpFji5kukUa",
        "outputId": "258dda5d-ed04-4000-b393-c7e85fed680f"
      },
      "execution_count": 40,
      "outputs": [
        {
          "output_type": "stream",
          "name": "stdout",
          "text": [
            "[[(0, 1)]]\n",
            "[[(0, 1)]]\n"
          ]
        }
      ]
    },
    {
      "cell_type": "code",
      "source": [
        "lda_inspire_model = gensim.models.ldamodel.LdaModel(corpus=inspire_corpus,\n",
        "                                           id2word=id2inspire,\n",
        "                                           num_topics=2, \n",
        "                                           random_state=100,\n",
        "                                           update_every=1,\n",
        "                                           chunksize=100,\n",
        "                                           passes=3,\n",
        "                                           alpha='auto',\n",
        "                                           per_word_topics=True)\n",
        "\n",
        "\n",
        "lda_gain_model = gensim.models.ldamodel.LdaModel(corpus=gain_corpus,\n",
        "                                           id2word=id2gain,\n",
        "                                           num_topics=2, \n",
        "                                           random_state=100,\n",
        "                                           update_every=1,\n",
        "                                           chunksize=100,\n",
        "                                           passes=3,\n",
        "                                           alpha='auto',\n",
        "                                           per_word_topics=True)"
      ],
      "metadata": {
        "id": "xDekKLaOvYeB"
      },
      "execution_count": 41,
      "outputs": []
    },
    {
      "cell_type": "markdown",
      "source": [
        "# Female topics for those who answered\n",
        "\n",
        "# **\"What about the leader of this company inspires your confidence?\"**"
      ],
      "metadata": {
        "id": "29-rQVSQwc6f"
      }
    },
    {
      "cell_type": "code",
      "source": [
        "pprint(lda_inspire_model.print_topics())\n",
        "doc_inspire_lda = lda_inspire_model[inspire_corpus]"
      ],
      "metadata": {
        "colab": {
          "base_uri": "https://localhost:8080/"
        },
        "id": "nH-x6LTVwBXI",
        "outputId": "b7d0dac6-4b44-47c5-d02a-d16a9128e954"
      },
      "execution_count": 42,
      "outputs": [
        {
          "output_type": "stream",
          "name": "stdout",
          "text": [
            "[(0,\n",
            "  '0.028*\"willing\" + 0.024*\"grow\" + 0.023*\"future\" + 0.020*\"knowledgeable\" + '\n",
            "  '0.017*\"supportive\" + 0.015*\"appreciate\" + 0.013*\"succeed\" + 0.011*\"love\" + '\n",
            "  '0.011*\"personable\" + 0.011*\"ensure\"'),\n",
            " (1,\n",
            "  '0.036*\"positive\" + 0.032*\"approachable\" + 0.025*\"strong\" + 0.019*\"genuine\" '\n",
            "  '+ 0.016*\"smart\" + 0.015*\"clear\" + 0.013*\"recognize\" + 0.012*\"appear\" + '\n",
            "  '0.011*\"professional\" + 0.010*\"learn\"')]\n"
          ]
        }
      ]
    },
    {
      "cell_type": "markdown",
      "source": [
        "# Female topics for those who answered\n",
        "\n",
        "# **\"What could the leader of this company do to gain your full confidence?\"**"
      ],
      "metadata": {
        "id": "uAh-C0BZwwot"
      }
    },
    {
      "cell_type": "code",
      "source": [
        "pprint(lda_gain_model.print_topics())\n",
        "doc_gain_lda = lda_gain_model[gain_corpus]"
      ],
      "metadata": {
        "colab": {
          "base_uri": "https://localhost:8080/"
        },
        "id": "a1QVt_MPw39n",
        "outputId": "7fffdde6-cc86-40ec-a677-f9a5922d324d"
      },
      "execution_count": 43,
      "outputs": [
        {
          "output_type": "stream",
          "name": "stdout",
          "text": [
            "[(0,\n",
            "  '0.017*\"leave\" + 0.014*\"include\" + 0.012*\"lose\" + 0.010*\"patient\" + '\n",
            "  '0.009*\"personal\" + 0.008*\"pay\" + 0.008*\"corporate\" + 0.007*\"appreciate\" + '\n",
            "  '0.007*\"add\" + 0.006*\"update\"'),\n",
            " (1,\n",
            "  '0.011*\"grow\" + 0.009*\"build\" + 0.008*\"clear\" + 0.008*\"accountable\" + '\n",
            "  '0.008*\"communicate\" + 0.008*\"recognize\" + 0.007*\"large\" + 0.007*\"ensure\" + '\n",
            "  '0.007*\"direct\" + 0.007*\"positive\"')]\n"
          ]
        }
      ]
    },
    {
      "cell_type": "markdown",
      "source": [
        "# DATA VISUALIZATIONS"
      ],
      "metadata": {
        "id": "aibEw2o-w_ze"
      }
    },
    {
      "cell_type": "code",
      "source": [
        "!pip install pyLDAvis"
      ],
      "metadata": {
        "colab": {
          "base_uri": "https://localhost:8080/"
        },
        "id": "xZUqAUoGxCQ-",
        "outputId": "e1c017c8-79b2-4441-d0de-70fcdffae571"
      },
      "execution_count": 44,
      "outputs": [
        {
          "output_type": "stream",
          "name": "stdout",
          "text": [
            "Looking in indexes: https://pypi.org/simple, https://us-python.pkg.dev/colab-wheels/public/simple/\n",
            "Collecting pyLDAvis\n",
            "  Downloading pyLDAvis-3.3.1.tar.gz (1.7 MB)\n",
            "\u001b[K     |████████████████████████████████| 1.7 MB 5.1 MB/s \n",
            "\u001b[?25h  Installing build dependencies ... \u001b[?25l\u001b[?25hdone\n",
            "  Getting requirements to build wheel ... \u001b[?25l\u001b[?25hdone\n",
            "  Installing backend dependencies ... \u001b[?25l\u001b[?25hdone\n",
            "    Preparing wheel metadata ... \u001b[?25l\u001b[?25hdone\n",
            "Requirement already satisfied: gensim in /usr/local/lib/python3.7/dist-packages (from pyLDAvis) (3.6.0)\n",
            "Requirement already satisfied: setuptools in /usr/local/lib/python3.7/dist-packages (from pyLDAvis) (57.4.0)\n",
            "Requirement already satisfied: pandas>=1.2.0 in /usr/local/lib/python3.7/dist-packages (from pyLDAvis) (1.3.5)\n",
            "Requirement already satisfied: scipy in /usr/local/lib/python3.7/dist-packages (from pyLDAvis) (1.7.3)\n",
            "Requirement already satisfied: jinja2 in /usr/local/lib/python3.7/dist-packages (from pyLDAvis) (2.11.3)\n",
            "Requirement already satisfied: future in /usr/local/lib/python3.7/dist-packages (from pyLDAvis) (0.16.0)\n",
            "Requirement already satisfied: sklearn in /usr/local/lib/python3.7/dist-packages (from pyLDAvis) (0.0)\n",
            "Requirement already satisfied: numexpr in /usr/local/lib/python3.7/dist-packages (from pyLDAvis) (2.8.3)\n",
            "Requirement already satisfied: scikit-learn in /usr/local/lib/python3.7/dist-packages (from pyLDAvis) (1.0.2)\n",
            "Collecting funcy\n",
            "  Downloading funcy-1.17-py2.py3-none-any.whl (33 kB)\n",
            "Requirement already satisfied: numpy>=1.20.0 in /usr/local/lib/python3.7/dist-packages (from pyLDAvis) (1.21.6)\n",
            "Requirement already satisfied: joblib in /usr/local/lib/python3.7/dist-packages (from pyLDAvis) (1.1.0)\n",
            "Requirement already satisfied: python-dateutil>=2.7.3 in /usr/local/lib/python3.7/dist-packages (from pandas>=1.2.0->pyLDAvis) (2.8.2)\n",
            "Requirement already satisfied: pytz>=2017.3 in /usr/local/lib/python3.7/dist-packages (from pandas>=1.2.0->pyLDAvis) (2022.2)\n",
            "Requirement already satisfied: six>=1.5 in /usr/local/lib/python3.7/dist-packages (from python-dateutil>=2.7.3->pandas>=1.2.0->pyLDAvis) (1.15.0)\n",
            "Requirement already satisfied: smart-open>=1.2.1 in /usr/local/lib/python3.7/dist-packages (from gensim->pyLDAvis) (5.2.1)\n",
            "Requirement already satisfied: MarkupSafe>=0.23 in /usr/local/lib/python3.7/dist-packages (from jinja2->pyLDAvis) (2.0.1)\n",
            "Requirement already satisfied: packaging in /usr/local/lib/python3.7/dist-packages (from numexpr->pyLDAvis) (21.3)\n",
            "Requirement already satisfied: pyparsing!=3.0.5,>=2.0.2 in /usr/local/lib/python3.7/dist-packages (from packaging->numexpr->pyLDAvis) (3.0.9)\n",
            "Requirement already satisfied: threadpoolctl>=2.0.0 in /usr/local/lib/python3.7/dist-packages (from scikit-learn->pyLDAvis) (3.1.0)\n",
            "Building wheels for collected packages: pyLDAvis\n",
            "  Building wheel for pyLDAvis (PEP 517) ... \u001b[?25l\u001b[?25hdone\n",
            "  Created wheel for pyLDAvis: filename=pyLDAvis-3.3.1-py2.py3-none-any.whl size=136898 sha256=d51ad3206eb960e8a5565446e59403827c2dc49b85d62d058f664956f34e6e18\n",
            "  Stored in directory: /root/.cache/pip/wheels/c9/21/f6/17bcf2667e8a68532ba2fbf6d5c72fdf4c7f7d9abfa4852d2f\n",
            "Successfully built pyLDAvis\n",
            "Installing collected packages: funcy, pyLDAvis\n",
            "Successfully installed funcy-1.17 pyLDAvis-3.3.1\n"
          ]
        }
      ]
    },
    {
      "cell_type": "code",
      "source": [
        "import pyLDAvis\n",
        "import pyLDAvis.gensim_models\n",
        "\n",
        "pyLDAvis.enable_notebook()\n",
        "inspire_vis = pyLDAvis.gensim_models.prepare(lda_inspire_model, inspire_corpus, id2inspire)\n",
        "inspire_vis"
      ],
      "metadata": {
        "colab": {
          "base_uri": "https://localhost:8080/",
          "height": 931
        },
        "id": "0Xpkyij-xEY-",
        "outputId": "152351e9-e6f4-4541-a92c-ea3b91b7e6ce"
      },
      "execution_count": 45,
      "outputs": [
        {
          "output_type": "stream",
          "name": "stderr",
          "text": [
            "/usr/local/lib/python3.7/dist-packages/past/types/oldstr.py:5: DeprecationWarning: Using or importing the ABCs from 'collections' instead of from 'collections.abc' is deprecated since Python 3.3,and in 3.9 it will stop working\n",
            "  from collections import Iterable\n",
            "/usr/local/lib/python3.7/dist-packages/pyLDAvis/_prepare.py:247: FutureWarning: In a future version of pandas all arguments of DataFrame.drop except for the argument 'labels' will be keyword-only\n",
            "  by='saliency', ascending=False).head(R).drop('saliency', 1)\n"
          ]
        },
        {
          "output_type": "execute_result",
          "data": {
            "text/plain": [
              "PreparedData(topic_coordinates=              x    y  topics  cluster       Freq\n",
              "topic                                           \n",
              "1      0.151461  0.0       1        1  50.024243\n",
              "0     -0.151461  0.0       2        1  49.975757, topic_info=             Term         Freq        Total Category  logprob  loglift\n",
              "22       positive  1455.000000  1455.000000  Default  30.0000  30.0000\n",
              "130  approachable  1294.000000  1294.000000  Default  29.0000  29.0000\n",
              "107       willing  1128.000000  1128.000000  Default  28.0000  28.0000\n",
              "234        strong   999.000000   999.000000  Default  27.0000  27.0000\n",
              "79           grow   977.000000   977.000000  Default  26.0000  26.0000\n",
              "..            ...          ...          ...      ...      ...      ...\n",
              "334          safe   299.398624   302.363902   Topic2  -4.8998   0.6838\n",
              "72    informative   209.372251   211.205551   Topic2  -5.2574   0.6849\n",
              "229      possible   187.055607   189.203303   Topic2  -5.3702   0.6822\n",
              "644     all_level   199.282067   209.295414   Topic2  -5.3068   0.6446\n",
              "231        humble   255.748522   374.047856   Topic2  -5.0574   0.3134\n",
              "\n",
              "[104 rows x 6 columns], token_table=      Topic      Freq           Term\n",
              "term                                \n",
              "458       1  0.993549     accessible\n",
              "458       2  0.009493     accessible\n",
              "644       1  0.047779      all_level\n",
              "644       2  0.950809      all_level\n",
              "138       1  0.996140        amazing\n",
              "...     ...       ...            ...\n",
              "478       2  0.009046  understanding\n",
              "14        1  0.002451         update\n",
              "14        2  0.997680         update\n",
              "107       1  0.000886        willing\n",
              "107       2  0.998627        willing\n",
              "\n",
              "[148 rows x 3 columns], R=30, lambda_step=0.01, plot_opts={'xlab': 'PC1', 'ylab': 'PC2'}, topic_order=[2, 1])"
            ],
            "text/html": [
              "\n",
              "<link rel=\"stylesheet\" type=\"text/css\" href=\"https://cdn.jsdelivr.net/gh/bmabey/pyLDAvis@3.3.1/pyLDAvis/js/ldavis.v1.0.0.css\">\n",
              "\n",
              "\n",
              "<div id=\"ldavis_el591401911899472165782448984\"></div>\n",
              "<script type=\"text/javascript\">\n",
              "\n",
              "var ldavis_el591401911899472165782448984_data = {\"mdsDat\": {\"x\": [0.1514607952853031, -0.1514607952853031], \"y\": [0.0, 0.0], \"topics\": [1, 2], \"cluster\": [1, 1], \"Freq\": [50.024243401815426, 49.97575659818458]}, \"tinfo\": {\"Term\": [\"positive\", \"approachable\", \"willing\", \"strong\", \"grow\", \"future\", \"knowledgeable\", \"genuine\", \"supportive\", \"smart\", \"appreciate\", \"clear\", \"succeed\", \"recognize\", \"appear\", \"professional\", \"love\", \"personable\", \"ensure\", \"encourage\", \"easy\", \"update\", \"learn\", \"personal\", \"involve\", \"speak\", \"available\", \"thoughtful\", \"strive\", \"fair\", \"positive\", \"approachable\", \"strong\", \"genuine\", \"smart\", \"clear\", \"appear\", \"involve\", \"professional\", \"learn\", \"nice\", \"amazing\", \"include\", \"overall\", \"caring\", \"recognize\", \"fair\", \"patient\", \"happy\", \"informed\", \"has_been\", \"understanding\", \"accessible\", \"communicate\", \"inclusive\", \"email\", \"receive\", \"meet\", \"handle\", \"awesome\", \"innovative\", \"interested\", \"leave\", \"help\", \"mean\", \"capable\", \"human\", \"stay\", \"willing\", \"grow\", \"knowledgeable\", \"future\", \"appreciate\", \"supportive\", \"succeed\", \"easy\", \"encourage\", \"available\", \"personable\", \"speak\", \"update\", \"personal\", \"ensure\", \"strive\", \"direct\", \"love\", \"thoughtful\", \"helpful\", \"engage\", \"successful\", \"friendly\", \"encouraging\", \"financial\", \"feel_like\", \"intelligent\", \"aware\", \"consistent\", \"going_on\", \"not_just\", \"safe\", \"informative\", \"possible\", \"all_level\", \"humble\"], \"Freq\": [1455.0, 1294.0, 1128.0, 999.0, 977.0, 908.0, 810.0, 768.0, 687.0, 635.0, 618.0, 594.0, 506.0, 506.0, 466.0, 461.0, 454.0, 447.0, 427.0, 421.0, 412.0, 407.0, 406.0, 401.0, 400.0, 389.0, 383.0, 343.0, 332.0, 330.0, 1454.6282563142279, 1292.8782004731167, 997.9834518475928, 766.9826178866927, 633.5310199054461, 592.5948131051847, 464.49385803421035, 399.0589720015519, 459.4832840691479, 404.8677617905167, 291.5857560008564, 234.83889142335764, 234.6025669271631, 268.6264930002709, 241.52207997458402, 503.78019645764584, 329.20090381828425, 212.19429056414145, 123.51294721727909, 202.03968196753004, 254.31142659187842, 329.0395069095219, 313.52175810310905, 129.65293418034852, 286.5713972464312, 170.21975865442056, 123.52179088351264, 167.93640647387332, 143.10108709059017, 272.8933371189887, 314.48399395711414, 176.9226768254434, 245.4406485256126, 354.71596762378584, 214.79101206196876, 249.50749837870126, 267.99733734676136, 206.05457528149657, 1127.218851134796, 976.3885160486337, 809.5332664953221, 907.0196977476079, 616.9424352806774, 685.3054005500544, 505.20159006093627, 411.3300975681059, 420.46955344931916, 382.3099572650895, 445.97433698871856, 388.676990483217, 406.51721734818705, 400.3411120168174, 426.09013350390467, 331.3684129255533, 321.1875015773369, 452.20218003371554, 341.9360468365556, 278.241511737871, 288.39296029258185, 324.11888106535866, 181.8332240563183, 208.2660481543026, 239.2692740560233, 151.75921797365956, 177.42237806696662, 133.90321148040158, 289.89812718494295, 148.0560780178902, 286.0440793249538, 299.3986239563312, 209.37225063702098, 187.0556071564921, 199.28206747185507, 255.74852201997493], \"Total\": [1455.0, 1294.0, 1128.0, 999.0, 977.0, 908.0, 810.0, 768.0, 687.0, 635.0, 618.0, 594.0, 506.0, 506.0, 466.0, 461.0, 454.0, 447.0, 427.0, 421.0, 412.0, 407.0, 406.0, 401.0, 400.0, 389.0, 383.0, 343.0, 332.0, 330.0, 1455.7441851367228, 1294.3160781543097, 999.2619019648275, 768.253343584575, 635.1168004532171, 594.3460650730965, 466.05693138334146, 400.4997919844311, 461.3300925488763, 406.561524810173, 292.8196801145859, 235.91053641190956, 235.73162525910104, 269.92474939971646, 242.69588037616737, 506.2866008286826, 330.8990174082769, 213.66435778621778, 124.37359466283955, 203.48030482204575, 256.18315440730476, 331.6282112024071, 316.0388030186436, 130.78110806692868, 289.093221208641, 172.0656092774867, 124.92106182289791, 169.86694815073977, 144.7488719667938, 276.2200651443126, 319.0457964015882, 179.1166279145337, 252.33951067036327, 369.3768988834631, 224.01504946497624, 266.40021635810393, 301.29037122153926, 236.43208417022169, 1128.549808557751, 977.7600888167815, 810.940109120654, 908.8300452334861, 618.2559247940944, 687.0380011785776, 506.73282382289227, 412.5984600261765, 421.7965101730914, 383.5301209663757, 447.4164283925811, 389.99306725498747, 407.9464870754618, 401.8243094300876, 427.68600276152, 332.7773622452118, 322.665791031041, 454.49608735006734, 343.67232481185977, 279.67282404523417, 289.9713070410911, 325.96426947082193, 182.9057707258928, 209.672656572372, 241.07886300312995, 152.9610426607706, 178.87212160761453, 135.0147589288526, 292.32144001540985, 149.2972263239512, 288.4443783642853, 302.36390249250655, 211.2055511665259, 189.2033026847075, 209.29541395806478, 374.04785631214935], \"Category\": [\"Default\", \"Default\", \"Default\", \"Default\", \"Default\", \"Default\", \"Default\", \"Default\", \"Default\", \"Default\", \"Default\", \"Default\", \"Default\", \"Default\", \"Default\", \"Default\", \"Default\", \"Default\", \"Default\", \"Default\", \"Default\", \"Default\", \"Default\", \"Default\", \"Default\", \"Default\", \"Default\", \"Default\", \"Default\", \"Default\", \"Topic1\", \"Topic1\", \"Topic1\", \"Topic1\", \"Topic1\", \"Topic1\", \"Topic1\", \"Topic1\", \"Topic1\", \"Topic1\", \"Topic1\", \"Topic1\", \"Topic1\", \"Topic1\", \"Topic1\", \"Topic1\", \"Topic1\", \"Topic1\", \"Topic1\", \"Topic1\", \"Topic1\", \"Topic1\", \"Topic1\", \"Topic1\", \"Topic1\", \"Topic1\", \"Topic1\", \"Topic1\", \"Topic1\", \"Topic1\", \"Topic1\", \"Topic1\", \"Topic1\", \"Topic1\", \"Topic1\", \"Topic1\", \"Topic1\", \"Topic1\", \"Topic2\", \"Topic2\", \"Topic2\", \"Topic2\", \"Topic2\", \"Topic2\", \"Topic2\", \"Topic2\", \"Topic2\", \"Topic2\", \"Topic2\", \"Topic2\", \"Topic2\", \"Topic2\", \"Topic2\", \"Topic2\", \"Topic2\", \"Topic2\", \"Topic2\", \"Topic2\", \"Topic2\", \"Topic2\", \"Topic2\", \"Topic2\", \"Topic2\", \"Topic2\", \"Topic2\", \"Topic2\", \"Topic2\", \"Topic2\", \"Topic2\", \"Topic2\", \"Topic2\", \"Topic2\", \"Topic2\", \"Topic2\"], \"logprob\": [30.0, 29.0, 28.0, 27.0, 26.0, 25.0, 24.0, 23.0, 22.0, 21.0, 20.0, 19.0, 18.0, 17.0, 16.0, 15.0, 14.0, 13.0, 12.0, 11.0, 10.0, 9.0, 8.0, 7.0, 6.0, 5.0, 4.0, 3.0, 2.0, 1.0, -3.32, -3.4379, -3.6968, -3.9601, -4.1512, -4.218, -4.4616, -4.6134, -4.4724, -4.599, -4.9272, -5.1436, -5.1446, -5.0092, -5.1156, -4.3804, -4.8059, -5.245, -5.7862, -5.2941, -5.064, -4.8064, -4.8547, -5.7377, -4.9445, -5.4654, -5.7861, -5.4789, -5.639, -4.9934, -4.8516, -5.4268, -5.0995, -4.7312, -5.2329, -5.083, -5.0116, -5.2744, -3.5741, -3.7177, -3.9051, -3.7914, -4.1768, -4.0717, -4.3766, -4.5822, -4.5602, -4.6553, -4.5013, -4.6388, -4.5939, -4.6092, -4.5469, -4.7983, -4.8295, -4.4874, -4.7669, -4.9731, -4.9372, -4.8204, -5.3985, -5.2627, -5.124, -5.5793, -5.423, -5.7044, -4.932, -5.604, -4.9454, -4.8998, -5.2574, -5.3702, -5.3068, -5.0574], \"loglift\": [30.0, 29.0, 28.0, 27.0, 26.0, 25.0, 24.0, 23.0, 22.0, 21.0, 20.0, 19.0, 18.0, 17.0, 16.0, 15.0, 14.0, 13.0, 12.0, 11.0, 10.0, 9.0, 8.0, 7.0, 6.0, 5.0, 4.0, 3.0, 2.0, 1.0, 0.6919, 0.6916, 0.6914, 0.691, 0.6902, 0.6897, 0.6893, 0.6891, 0.6887, 0.6885, 0.6884, 0.6881, 0.6879, 0.6878, 0.6878, 0.6877, 0.6875, 0.6858, 0.6857, 0.6856, 0.6853, 0.6848, 0.6847, 0.684, 0.6839, 0.6819, 0.6814, 0.6812, 0.6812, 0.6805, 0.6783, 0.6803, 0.6649, 0.6522, 0.6506, 0.6272, 0.5756, 0.5551, 0.6925, 0.6922, 0.6919, 0.6916, 0.6915, 0.6911, 0.6906, 0.6906, 0.6905, 0.6904, 0.6904, 0.6903, 0.6901, 0.6899, 0.6899, 0.6894, 0.689, 0.6886, 0.6886, 0.6885, 0.6882, 0.688, 0.6878, 0.6869, 0.6861, 0.6857, 0.6855, 0.6854, 0.6853, 0.6853, 0.6853, 0.6838, 0.6849, 0.6822, 0.6446, 0.3134]}, \"token.table\": {\"Topic\": [1, 2, 1, 2, 1, 2, 1, 2, 1, 2, 1, 2, 1, 2, 1, 2, 1, 2, 1, 2, 1, 2, 1, 2, 1, 2, 1, 2, 1, 2, 1, 2, 1, 2, 1, 2, 1, 2, 1, 2, 1, 2, 1, 2, 1, 2, 1, 2, 1, 2, 1, 2, 1, 2, 1, 2, 1, 2, 1, 2, 1, 2, 1, 2, 1, 2, 1, 2, 1, 2, 1, 2, 1, 2, 1, 2, 1, 2, 1, 2, 1, 2, 1, 2, 1, 2, 1, 2, 1, 2, 1, 2, 1, 2, 1, 2, 1, 2, 1, 2, 1, 2, 1, 2, 1, 2, 1, 2, 1, 2, 1, 2, 1, 2, 1, 2, 1, 2, 1, 2, 1, 2, 1, 2, 1, 2, 1, 2, 1, 2, 1, 2, 1, 2, 1, 2, 1, 2, 1, 2, 1, 2, 1, 2, 1, 2, 1, 2], \"Freq\": [0.9935488838738472, 0.009492505259941216, 0.047779355557229924, 0.9508091755888755, 0.9961403317301618, 0.0042388950286389865, 0.9955865233519087, 0.004291321221344434, 0.0016174531612180548, 0.9979686004715398, 0.998983186428321, 0.0007726088062090649, 0.0026073571418075677, 0.9960104281704908, 0.007406597678161691, 0.9924840888736666, 0.988342392350714, 0.010860905410447406, 0.9384376762815454, 0.06381376198714508, 0.9971327062697201, 0.004120383083759173, 0.997735216648686, 0.0033650428892029885, 0.9940273631377329, 0.007646364331828714, 0.006841783482917193, 0.9920586050229929, 0.0030991819641140645, 0.9948374104806147, 0.0024236639175448135, 0.9961258701109182, 0.9879952229491977, 0.011623473211167032, 0.0023708114597478127, 0.9957408130940814, 0.004769339103856078, 0.9920225336020643, 0.006897234145020373, 0.9932017168829337, 0.004676327930037988, 0.9960578490980915, 0.9942610364238893, 0.006044140039050999, 0.006537612339749477, 0.9937170756419205, 0.008296040453675251, 0.9913768342141925, 0.005467296061963103, 0.9950478832772848, 0.0022006314717359318, 0.9979863724322451, 0.9983685803712522, 0.001301653950940355, 0.006698048079139523, 0.9913111157126494, 0.0010227457752035388, 0.9981998765986537, 0.9879178888026497, 0.013817033409827269, 0.9969961898757344, 0.008040291853836567, 0.991478150027641, 0.007806914567146779, 0.9610779696106578, 0.04060892829340808, 0.0035756066161017506, 0.9940186392762866, 0.8895073510428888, 0.10952889024035571, 0.31546765476321026, 0.6844044035540833, 0.996896363573208, 0.004242112185417906, 0.9927593556158472, 0.010377275494242305, 0.009469448075363755, 0.9895573238755124, 0.9927250707465749, 0.004914480548250371, 0.9841847268997177, 0.0156717313200592, 0.005590586118241862, 0.9895337429288096, 0.9881829624687684, 0.01116590918043806, 0.9962551990926142, 0.0024968801982271035, 0.0012331366875962687, 0.9988407169529776, 0.9961591918691713, 0.004919304651205784, 0.9709141440004176, 0.027740404114297647, 0.004400477926357893, 0.9945080113568837, 0.9597569471939174, 0.040175872208117476, 0.9890093501351244, 0.011773920834941956, 0.9972007342052108, 0.0034150710075520918, 0.006933745810341772, 0.9915256508788735, 0.9965740473899745, 0.0037047362356504624, 0.992210409806005, 0.004680237782103797, 0.0022350542728005506, 0.9968342056690456, 0.0024886498316100195, 0.9954599326440079, 0.9994887940173, 0.0006869338790496907, 0.010570640002689823, 0.9883548402514986, 0.9949491858725227, 0.004335290570250644, 0.9926268492321678, 0.008005055235743288, 0.9954835841498868, 0.0059254975247017075, 0.009921819288843014, 0.9888746557880205, 0.9982415825680879, 0.0031490270743472805, 0.002564148145090421, 0.9974536284401738, 0.8712861485063431, 0.126886332306749, 0.0030050120995403994, 0.9946590049478722, 0.9987371659398339, 0.0010007386432262864, 0.003946853067286239, 0.9965803994897755, 0.006135641808983687, 0.9939739730553574, 0.002911047127770378, 0.9970336412613545, 0.0058194968160292845, 0.9951339555410077, 0.9920748262251942, 0.009046275011171983, 0.002451301902778784, 0.997679874430965, 0.0008860929242263277, 0.9986267256030714], \"Term\": [\"accessible\", \"accessible\", \"all_level\", \"all_level\", \"amazing\", \"amazing\", \"appear\", \"appear\", \"appreciate\", \"appreciate\", \"approachable\", \"approachable\", \"available\", \"available\", \"aware\", \"aware\", \"awesome\", \"awesome\", \"capable\", \"capable\", \"caring\", \"caring\", \"clear\", \"clear\", \"communicate\", \"communicate\", \"consistent\", \"consistent\", \"direct\", \"direct\", \"easy\", \"easy\", \"email\", \"email\", \"encourage\", \"encourage\", \"encouraging\", \"encouraging\", \"engage\", \"engage\", \"ensure\", \"ensure\", \"fair\", \"fair\", \"feel_like\", \"feel_like\", \"financial\", \"financial\", \"friendly\", \"friendly\", \"future\", \"future\", \"genuine\", \"genuine\", \"going_on\", \"going_on\", \"grow\", \"grow\", \"handle\", \"handle\", \"happy\", \"happy\", \"has_been\", \"has_been\", \"help\", \"help\", \"helpful\", \"helpful\", \"human\", \"human\", \"humble\", \"humble\", \"include\", \"include\", \"inclusive\", \"inclusive\", \"informative\", \"informative\", \"informed\", \"informed\", \"innovative\", \"innovative\", \"intelligent\", \"intelligent\", \"interested\", \"interested\", \"involve\", \"involve\", \"knowledgeable\", \"knowledgeable\", \"learn\", \"learn\", \"leave\", \"leave\", \"love\", \"love\", \"mean\", \"mean\", \"meet\", \"meet\", \"nice\", \"nice\", \"not_just\", \"not_just\", \"overall\", \"overall\", \"patient\", \"patient\", \"personable\", \"personable\", \"personal\", \"personal\", \"positive\", \"positive\", \"possible\", \"possible\", \"professional\", \"professional\", \"receive\", \"receive\", \"recognize\", \"recognize\", \"safe\", \"safe\", \"smart\", \"smart\", \"speak\", \"speak\", \"stay\", \"stay\", \"strive\", \"strive\", \"strong\", \"strong\", \"succeed\", \"succeed\", \"successful\", \"successful\", \"supportive\", \"supportive\", \"thoughtful\", \"thoughtful\", \"understanding\", \"understanding\", \"update\", \"update\", \"willing\", \"willing\"]}, \"R\": 30, \"lambda.step\": 0.01, \"plot.opts\": {\"xlab\": \"PC1\", \"ylab\": \"PC2\"}, \"topic.order\": [2, 1]};\n",
              "\n",
              "function LDAvis_load_lib(url, callback){\n",
              "  var s = document.createElement('script');\n",
              "  s.src = url;\n",
              "  s.async = true;\n",
              "  s.onreadystatechange = s.onload = callback;\n",
              "  s.onerror = function(){console.warn(\"failed to load library \" + url);};\n",
              "  document.getElementsByTagName(\"head\")[0].appendChild(s);\n",
              "}\n",
              "\n",
              "if(typeof(LDAvis) !== \"undefined\"){\n",
              "   // already loaded: just create the visualization\n",
              "   !function(LDAvis){\n",
              "       new LDAvis(\"#\" + \"ldavis_el591401911899472165782448984\", ldavis_el591401911899472165782448984_data);\n",
              "   }(LDAvis);\n",
              "}else if(typeof define === \"function\" && define.amd){\n",
              "   // require.js is available: use it to load d3/LDAvis\n",
              "   require.config({paths: {d3: \"https://d3js.org/d3.v5\"}});\n",
              "   require([\"d3\"], function(d3){\n",
              "      window.d3 = d3;\n",
              "      LDAvis_load_lib(\"https://cdn.jsdelivr.net/gh/bmabey/pyLDAvis@3.3.1/pyLDAvis/js/ldavis.v3.0.0.js\", function(){\n",
              "        new LDAvis(\"#\" + \"ldavis_el591401911899472165782448984\", ldavis_el591401911899472165782448984_data);\n",
              "      });\n",
              "    });\n",
              "}else{\n",
              "    // require.js not available: dynamically load d3 & LDAvis\n",
              "    LDAvis_load_lib(\"https://d3js.org/d3.v5.js\", function(){\n",
              "         LDAvis_load_lib(\"https://cdn.jsdelivr.net/gh/bmabey/pyLDAvis@3.3.1/pyLDAvis/js/ldavis.v3.0.0.js\", function(){\n",
              "                 new LDAvis(\"#\" + \"ldavis_el591401911899472165782448984\", ldavis_el591401911899472165782448984_data);\n",
              "            })\n",
              "         });\n",
              "}\n",
              "</script>"
            ]
          },
          "metadata": {},
          "execution_count": 45
        }
      ]
    },
    {
      "cell_type": "code",
      "source": [
        "gain_vis = pyLDAvis.gensim_models.prepare(lda_gain_model, gain_corpus, id2gain)\n",
        "gain_vis"
      ],
      "metadata": {
        "colab": {
          "base_uri": "https://localhost:8080/",
          "height": 896
        },
        "id": "4ivJOJGCxVSO",
        "outputId": "77d02a77-3c15-45a5-dcc8-417ecbb5b7c1"
      },
      "execution_count": 46,
      "outputs": [
        {
          "output_type": "stream",
          "name": "stderr",
          "text": [
            "/usr/local/lib/python3.7/dist-packages/pyLDAvis/_prepare.py:247: FutureWarning: In a future version of pandas all arguments of DataFrame.drop except for the argument 'labels' will be keyword-only\n",
            "  by='saliency', ascending=False).head(R).drop('saliency', 1)\n"
          ]
        },
        {
          "output_type": "execute_result",
          "data": {
            "text/plain": [
              "PreparedData(topic_coordinates=              x    y  topics  cluster       Freq\n",
              "topic                                           \n",
              "1      0.071393  0.0       1        1  50.011042\n",
              "0     -0.071393  0.0       2        1  49.988958, topic_info=            Term        Freq       Total Category  logprob  loglift\n",
              "334        leave  714.000000  714.000000  Default  30.0000  30.0000\n",
              "15       include  592.000000  592.000000  Default  29.0000  29.0000\n",
              "53          lose  492.000000  492.000000  Default  28.0000  28.0000\n",
              "126         grow  481.000000  481.000000  Default  27.0000  27.0000\n",
              "302      patient  446.000000  446.000000  Default  26.0000  26.0000\n",
              "..           ...         ...         ...      ...      ...      ...\n",
              "322        spend  243.180744  342.838228   Topic2  -5.1524   0.3499\n",
              "309  acknowledge  189.102610  250.210504   Topic2  -5.4039   0.4134\n",
              "488    clinician  250.892189  504.037864   Topic2  -5.1212  -0.0043\n",
              "602       strong  196.250503  288.531616   Topic2  -5.3668   0.3080\n",
              "611       senior  179.785884  253.060388   Topic2  -5.4544   0.3515\n",
              "\n",
              "[115 rows x 6 columns], token_table=      Topic      Freq         Term\n",
              "term                              \n",
              "134       1  0.994066  accountable\n",
              "134       2  0.005763  accountable\n",
              "309       1  0.243795  acknowledge\n",
              "309       2  0.755364  acknowledge\n",
              "175       1  0.010037          add\n",
              "...     ...       ...          ...\n",
              "323       2  0.982364       update\n",
              "142       1  0.979802      visible\n",
              "142       2  0.023329      visible\n",
              "276       1  0.085986      willing\n",
              "276       2  0.912200      willing\n",
              "\n",
              "[168 rows x 3 columns], R=30, lambda_step=0.01, plot_opts={'xlab': 'PC1', 'ylab': 'PC2'}, topic_order=[2, 1])"
            ],
            "text/html": [
              "\n",
              "<link rel=\"stylesheet\" type=\"text/css\" href=\"https://cdn.jsdelivr.net/gh/bmabey/pyLDAvis@3.3.1/pyLDAvis/js/ldavis.v1.0.0.css\">\n",
              "\n",
              "\n",
              "<div id=\"ldavis_el59140191189950160100859347\"></div>\n",
              "<script type=\"text/javascript\">\n",
              "\n",
              "var ldavis_el59140191189950160100859347_data = {\"mdsDat\": {\"x\": [0.07139310930184506, -0.07139310930184506], \"y\": [0.0, 0.0], \"topics\": [1, 2], \"cluster\": [1, 1], \"Freq\": [50.01104153603978, 49.98895846396022]}, \"tinfo\": {\"Term\": [\"leave\", \"include\", \"lose\", \"grow\", \"patient\", \"personal\", \"build\", \"clear\", \"accountable\", \"pay\", \"recognize\", \"communicate\", \"large\", \"appreciate\", \"corporate\", \"positive\", \"ensure\", \"add\", \"training\", \"involve\", \"difficult\", \"complete\", \"update\", \"stay\", \"understanding\", \"speak\", \"affect\", \"raise\", \"aware\", \"appear\", \"recognize\", \"clear\", \"grow\", \"training\", \"accountable\", \"positive\", \"speak\", \"difficult\", \"aware\", \"communicate\", \"large\", \"understanding\", \"stay\", \"available\", \"affect\", \"build\", \"involve\", \"respect\", \"ensure\", \"email\", \"staffing\", \"happy\", \"covid\", \"handle\", \"so_many\", \"multiple\", \"successful\", \"visible\", \"replace\", \"from_home\", \"learn\", \"promote\", \"direct\", \"explain\", \"team_member\", \"overall\", \"exist\", \"consider\", \"clinician\", \"specific\", \"salary\", \"encourage\", \"include\", \"lose\", \"pay\", \"personal\", \"appreciate\", \"complete\", \"raise\", \"receive\", \"add\", \"feel_like\", \"appear\", \"everyday\", \"necessary\", \"more_visible\", \"daily\", \"has_been\", \"patient\", \"professional\", \"close\", \"realize\", \"update\", \"safe\", \"possible\", \"engage\", \"corporate\", \"internal\", \"huge\", \"leave\", \"regular\", \"old\", \"right_now\", \"fix\", \"willing\", \"nurse\", \"help\", \"small\", \"clinic\", \"mean\", \"spend\", \"acknowledge\", \"clinician\", \"strong\", \"senior\"], \"Freq\": [714.0, 592.0, 492.0, 481.0, 446.0, 391.0, 366.0, 350.0, 347.0, 339.0, 326.0, 327.0, 311.0, 301.0, 334.0, 295.0, 304.0, 298.0, 287.0, 287.0, 264.0, 265.0, 274.0, 255.0, 248.0, 244.0, 248.0, 233.0, 232.0, 237.0, 325.34222496540787, 348.5226131663669, 478.97817526073135, 285.80576719383384, 345.3570789312467, 293.8033123661697, 243.5052483126897, 262.9476853698223, 230.8108415721353, 325.6314391323285, 309.67737137937644, 246.790482358398, 253.84834583429816, 214.08979821294665, 246.83708558908663, 363.64888613891475, 284.74664024227184, 201.14913843493835, 301.39129738174773, 80.68976372079783, 82.97714035646712, 123.46684958870671, 112.53240993887076, 125.10540351476763, 150.90875077473288, 68.33780261045275, 98.63200753592237, 41.65780550261768, 99.28447234675264, 87.25621766839461, 238.2608379462584, 146.5587210231414, 298.7669284771073, 155.5669492845503, 127.49045112298941, 180.79568654260044, 130.59592985032725, 156.1533667436525, 253.1456748539361, 148.81039136000368, 168.56545189594272, 134.32567647580981, 591.0572909508229, 490.7289443265257, 337.21816210381274, 389.23430900887024, 299.3967084344354, 263.49050638954424, 232.01766149112373, 210.2058825440313, 296.3222729497065, 213.0317467324313, 234.5957372849155, 148.7106747651704, 209.11455669043207, 92.91449241331254, 141.0394024684127, 118.06705979679477, 439.69827496242596, 78.25594948064817, 145.5894804751714, 124.3352841335766, 270.42672204698835, 104.91309739101229, 167.03086861819065, 226.72534372176383, 326.68384757319234, 152.69514542379412, 90.32264733550763, 694.0282048981561, 94.04309417508964, 187.07242848456048, 255.80090440625014, 191.93199732779175, 244.107484305559, 171.44864602041898, 138.99329860757948, 172.66269171874129, 174.22260382473516, 234.88143769534963, 243.18074396619835, 189.10261008164852, 250.89218890750058, 196.25050279183264, 179.78588387963663], \"Total\": [714.0, 592.0, 492.0, 481.0, 446.0, 391.0, 366.0, 350.0, 347.0, 339.0, 326.0, 327.0, 311.0, 301.0, 334.0, 295.0, 304.0, 298.0, 287.0, 287.0, 264.0, 265.0, 274.0, 255.0, 248.0, 244.0, 248.0, 233.0, 232.0, 237.0, 326.7572488751429, 350.1030033513144, 481.19481270104427, 287.14750385698477, 347.0593539167186, 295.30319563563773, 244.80514484237727, 264.5715914343185, 232.26760683515565, 327.7268732941813, 311.7541585654213, 248.48695714307493, 255.79211572433508, 215.72946537352914, 248.81976202479154, 366.6353341739691, 287.14452570026185, 202.85472194473277, 304.22327462581, 81.70033417936764, 84.02276065226745, 125.2097261326541, 114.22580816444201, 127.0629312205308, 153.28873790668538, 69.69644047032074, 100.88131262090582, 42.865821481495985, 102.19062004840272, 90.12451451841571, 246.36805927992816, 151.80339310637572, 319.95484240177154, 164.69057950520798, 137.87537454917293, 223.01657814139824, 153.47794768248488, 208.3084248796447, 504.0378637614367, 197.31770486745432, 310.4900030498028, 168.14928654654642, 592.8041374208425, 492.7254422412003, 339.00728160806653, 391.3593790016298, 301.22624183078005, 265.32454697793776, 233.68760865307797, 211.80168384969662, 298.89446043233795, 215.06260626892447, 237.22904133102807, 150.52885336635399, 211.68745919243148, 94.17353420609743, 143.032267766504, 119.78204629491515, 446.29234389423686, 79.43342491126502, 147.86729628917715, 126.33389008566874, 274.84733066586546, 106.84447010559548, 170.2336227168646, 231.48976161711587, 334.21821562081607, 156.8235503788555, 92.82597863658349, 714.0169852865312, 97.32591208560396, 194.86568066060286, 268.81076410747426, 206.16357271499692, 267.48522886647896, 183.51114942280066, 147.41739306609585, 197.45224003287578, 201.2632154588616, 309.49628916988223, 342.838228179759, 250.21050399114313, 504.0378637614367, 288.5316159032825, 253.06038825624483], \"Category\": [\"Default\", \"Default\", \"Default\", \"Default\", \"Default\", \"Default\", \"Default\", \"Default\", \"Default\", \"Default\", \"Default\", \"Default\", \"Default\", \"Default\", \"Default\", \"Default\", \"Default\", \"Default\", \"Default\", \"Default\", \"Default\", \"Default\", \"Default\", \"Default\", \"Default\", \"Default\", \"Default\", \"Default\", \"Default\", \"Default\", \"Topic1\", \"Topic1\", \"Topic1\", \"Topic1\", \"Topic1\", \"Topic1\", \"Topic1\", \"Topic1\", \"Topic1\", \"Topic1\", \"Topic1\", \"Topic1\", \"Topic1\", \"Topic1\", \"Topic1\", \"Topic1\", \"Topic1\", \"Topic1\", \"Topic1\", \"Topic1\", \"Topic1\", \"Topic1\", \"Topic1\", \"Topic1\", \"Topic1\", \"Topic1\", \"Topic1\", \"Topic1\", \"Topic1\", \"Topic1\", \"Topic1\", \"Topic1\", \"Topic1\", \"Topic1\", \"Topic1\", \"Topic1\", \"Topic1\", \"Topic1\", \"Topic1\", \"Topic1\", \"Topic1\", \"Topic1\", \"Topic2\", \"Topic2\", \"Topic2\", \"Topic2\", \"Topic2\", \"Topic2\", \"Topic2\", \"Topic2\", \"Topic2\", \"Topic2\", \"Topic2\", \"Topic2\", \"Topic2\", \"Topic2\", \"Topic2\", \"Topic2\", \"Topic2\", \"Topic2\", \"Topic2\", \"Topic2\", \"Topic2\", \"Topic2\", \"Topic2\", \"Topic2\", \"Topic2\", \"Topic2\", \"Topic2\", \"Topic2\", \"Topic2\", \"Topic2\", \"Topic2\", \"Topic2\", \"Topic2\", \"Topic2\", \"Topic2\", \"Topic2\", \"Topic2\", \"Topic2\", \"Topic2\", \"Topic2\", \"Topic2\", \"Topic2\", \"Topic2\"], \"logprob\": [30.0, 29.0, 28.0, 27.0, 26.0, 25.0, 24.0, 23.0, 22.0, 21.0, 20.0, 19.0, 18.0, 17.0, 16.0, 15.0, 14.0, 13.0, 12.0, 11.0, 10.0, 9.0, 8.0, 7.0, 6.0, 5.0, 4.0, 3.0, 2.0, 1.0, -4.8617, -4.7929, -4.475, -4.9913, -4.802, -4.9637, -5.1515, -5.0747, -5.205, -4.8609, -4.9111, -5.1381, -5.1099, -5.2802, -5.1379, -4.7504, -4.995, -5.3426, -4.9382, -6.256, -6.2281, -5.8306, -5.9234, -5.8175, -5.6299, -6.4222, -6.0552, -6.9171, -6.0486, -6.1778, -5.1733, -5.6592, -4.947, -5.5995, -5.7986, -5.4493, -5.7745, -5.5958, -5.1127, -5.6439, -5.5193, -5.7464, -4.2643, -4.4503, -4.8254, -4.682, -4.9444, -5.0722, -5.1994, -5.2981, -4.9547, -5.2847, -5.1883, -5.6442, -5.3033, -6.1145, -5.6971, -5.8749, -4.5601, -6.2862, -5.6654, -5.8232, -5.0462, -5.993, -5.528, -5.2224, -4.8572, -5.6177, -6.1428, -4.1037, -6.1024, -5.4147, -5.1018, -5.389, -5.1486, -5.5019, -5.7118, -5.4948, -5.4858, -5.1871, -5.1524, -5.4039, -5.1212, -5.3668, -5.4544], \"loglift\": [30.0, 29.0, 28.0, 27.0, 26.0, 25.0, 24.0, 23.0, 22.0, 21.0, 20.0, 19.0, 18.0, 17.0, 16.0, 15.0, 14.0, 13.0, 12.0, 11.0, 10.0, 9.0, 8.0, 7.0, 6.0, 5.0, 4.0, 3.0, 2.0, 1.0, 0.6886, 0.6884, 0.6883, 0.6882, 0.688, 0.6878, 0.6876, 0.6868, 0.6866, 0.6865, 0.6862, 0.6861, 0.6853, 0.6853, 0.6849, 0.6847, 0.6845, 0.6845, 0.6836, 0.6805, 0.6804, 0.6789, 0.678, 0.6774, 0.6773, 0.6732, 0.6704, 0.6643, 0.6641, 0.6606, 0.6595, 0.6578, 0.6244, 0.6359, 0.6146, 0.483, 0.5315, 0.4047, 0.0042, 0.4108, 0.0821, 0.4683, 0.6904, 0.6893, 0.6881, 0.6879, 0.6873, 0.6864, 0.6862, 0.6858, 0.6847, 0.6839, 0.6822, 0.6812, 0.6811, 0.6799, 0.6793, 0.6789, 0.6785, 0.6784, 0.6778, 0.6774, 0.6772, 0.6751, 0.6744, 0.6726, 0.6706, 0.6667, 0.666, 0.665, 0.6591, 0.6526, 0.6438, 0.6218, 0.6019, 0.6254, 0.6345, 0.5592, 0.5491, 0.4175, 0.3499, 0.4134, -0.0043, 0.308, 0.3515]}, \"token.table\": {\"Topic\": [1, 2, 1, 2, 1, 2, 1, 2, 1, 2, 1, 2, 1, 2, 1, 2, 1, 2, 1, 2, 1, 2, 1, 2, 1, 2, 1, 2, 1, 2, 1, 2, 1, 2, 1, 2, 1, 2, 1, 2, 1, 2, 1, 2, 1, 2, 1, 2, 1, 2, 1, 2, 1, 2, 1, 2, 1, 2, 1, 2, 1, 2, 1, 2, 1, 2, 1, 2, 1, 2, 1, 2, 1, 2, 1, 2, 1, 2, 1, 2, 1, 2, 1, 2, 1, 2, 1, 2, 1, 2, 1, 2, 1, 2, 1, 2, 1, 2, 1, 2, 1, 2, 1, 2, 1, 2, 1, 2, 1, 2, 1, 2, 1, 2, 1, 2, 1, 2, 1, 2, 1, 2, 1, 2, 1, 2, 1, 2, 1, 2, 1, 2, 1, 2, 1, 2, 1, 2, 1, 2, 1, 2, 1, 2, 1, 2, 1, 2, 1, 2, 1, 2, 1, 2, 1, 2, 1, 2, 1, 2, 1, 2, 1, 2, 1, 2, 1, 2], \"Freq\": [0.9940662774436768, 0.005762703057644503, 0.24379472095287918, 0.7553639714769536, 0.01003698762319191, 0.9903161121549351, 0.9926864248643955, 0.00803794676003559, 0.012646006505644547, 0.9906038429421562, 0.0066395277776746305, 0.9926094027623573, 0.9919831749894035, 0.009270870794293489, 0.9945424725710663, 0.004305378669138815, 0.9928121107587556, 0.008182517396363371, 0.9968494890339242, 0.005712604521684379, 0.1341526812956977, 0.8645395016833852, 0.5019464175011781, 0.4979784616316035, 0.013525641235021256, 0.9873718101565517, 0.9947307546774439, 0.006102642666732785, 0.007537938056542895, 0.9912388544353906, 0.7488895376657609, 0.24962984588858697, 0.023936457159104457, 0.9784026863783947, 0.9892685533668774, 0.017509177935696944, 0.013982858771874761, 0.9857915434171707, 0.9940598632460935, 0.007559390595027327, 0.9345068752687973, 0.06563426214262455, 0.9914280132829064, 0.01223985201583835, 0.7969109043047093, 0.20220127422656803, 0.02159922739162003, 0.9806049235795493, 0.9894049045728845, 0.009861178450892537, 0.0132864893027016, 0.9898434530512692, 0.8535428182230632, 0.14985866274145385, 0.947230864501675, 0.054647934490481255, 0.009299617607624011, 0.9904092752119572, 0.0679072438240764, 0.9312993438730478, 0.9653311362051525, 0.033287280558798364, 0.9954388271795277, 0.004156320781542913, 0.983764492124376, 0.015740231873990016, 0.9823518012465502, 0.01597320002026911, 0.01669699309590858, 0.9851225926586061, 0.05426768058781999, 0.9429009502133724, 0.03231853888387313, 0.9695561665161939, 0.00337379561603863, 0.9969566045394151, 0.025506373183981426, 0.9756187742872896, 0.9925315459348146, 0.006965133655682909, 0.9943732632998601, 0.00641531137612813, 0.9660343174988434, 0.03247174176466701, 0.02801053814143386, 0.9719656735077549, 0.004059055669832764, 0.9964981669439434, 0.2423292382637666, 0.7592982798931354, 0.010618694609161788, 0.9875385986520463, 0.9756595823420402, 0.014347935034441768, 0.014171836212899568, 0.98730458949867, 0.0653911222165177, 0.9318234915853773, 0.04105391966856176, 0.9596353722526313, 0.8115988573963383, 0.18832680668865306, 0.015684786207443596, 0.9859008473250259, 0.005899578293755478, 0.994078942497798, 0.005110392409917615, 0.993971323728976, 0.9955869233557306, 0.0033863500794412606, 0.017622840612336908, 0.9810047940867545, 0.012589158797031586, 0.9819543861684638, 0.9683578014424897, 0.0329373401851187, 0.008558434105802799, 0.9927783562731248, 0.015831064796973895, 0.9815260174123815, 0.009442795560677808, 0.9914935338711699, 0.9946221579438796, 0.003060375870596553, 0.030824268025983877, 0.9658270648141615, 0.9687777601614367, 0.02935690182307384, 0.9908568953832976, 0.009859272590878583, 0.04836115861343417, 0.9523428157722421, 0.018718797500922413, 0.9827368687984267, 0.5443009383232615, 0.4573416168159949, 0.2884686951720053, 0.7112926730268624, 0.12661289634312328, 0.8761612426944132, 0.9850691059373282, 0.013047272926322228, 0.9967110787524679, 0.0040848814702969995, 0.7551273723768928, 0.24833047816421305, 0.29168275816536826, 0.7087891023418449, 0.98782757619093, 0.011901537062541325, 0.9929938586290658, 0.007818849280543825, 0.3188558720401682, 0.6793016404334018, 0.9813512277742117, 0.019825277328771953, 0.9211217044034629, 0.07252926806326479, 0.9960037825801324, 0.0034825307083221416, 0.9940159549612949, 0.008048712185921417, 0.014553534103130289, 0.9823635519612944, 0.9798015889682707, 0.023328609261149304, 0.08598605649166874, 0.9121999036507465], \"Term\": [\"accountable\", \"accountable\", \"acknowledge\", \"acknowledge\", \"add\", \"add\", \"affect\", \"affect\", \"appear\", \"appear\", \"appreciate\", \"appreciate\", \"available\", \"available\", \"aware\", \"aware\", \"build\", \"build\", \"clear\", \"clear\", \"clinic\", \"clinic\", \"clinician\", \"clinician\", \"close\", \"close\", \"communicate\", \"communicate\", \"complete\", \"complete\", \"consider\", \"consider\", \"corporate\", \"corporate\", \"covid\", \"covid\", \"daily\", \"daily\", \"difficult\", \"difficult\", \"direct\", \"direct\", \"email\", \"email\", \"encourage\", \"encourage\", \"engage\", \"engage\", \"ensure\", \"ensure\", \"everyday\", \"everyday\", \"exist\", \"exist\", \"explain\", \"explain\", \"feel_like\", \"feel_like\", \"fix\", \"fix\", \"from_home\", \"from_home\", \"grow\", \"grow\", \"handle\", \"handle\", \"happy\", \"happy\", \"has_been\", \"has_been\", \"help\", \"help\", \"huge\", \"huge\", \"include\", \"include\", \"internal\", \"internal\", \"involve\", \"involve\", \"large\", \"large\", \"learn\", \"learn\", \"leave\", \"leave\", \"lose\", \"lose\", \"mean\", \"mean\", \"more_visible\", \"more_visible\", \"multiple\", \"multiple\", \"necessary\", \"necessary\", \"nurse\", \"nurse\", \"old\", \"old\", \"overall\", \"overall\", \"patient\", \"patient\", \"pay\", \"pay\", \"personal\", \"personal\", \"positive\", \"positive\", \"possible\", \"possible\", \"professional\", \"professional\", \"promote\", \"promote\", \"raise\", \"raise\", \"realize\", \"realize\", \"receive\", \"receive\", \"recognize\", \"recognize\", \"regular\", \"regular\", \"replace\", \"replace\", \"respect\", \"respect\", \"right_now\", \"right_now\", \"safe\", \"safe\", \"salary\", \"salary\", \"senior\", \"senior\", \"small\", \"small\", \"so_many\", \"so_many\", \"speak\", \"speak\", \"specific\", \"specific\", \"spend\", \"spend\", \"staffing\", \"staffing\", \"stay\", \"stay\", \"strong\", \"strong\", \"successful\", \"successful\", \"team_member\", \"team_member\", \"training\", \"training\", \"understanding\", \"understanding\", \"update\", \"update\", \"visible\", \"visible\", \"willing\", \"willing\"]}, \"R\": 30, \"lambda.step\": 0.01, \"plot.opts\": {\"xlab\": \"PC1\", \"ylab\": \"PC2\"}, \"topic.order\": [2, 1]};\n",
              "\n",
              "function LDAvis_load_lib(url, callback){\n",
              "  var s = document.createElement('script');\n",
              "  s.src = url;\n",
              "  s.async = true;\n",
              "  s.onreadystatechange = s.onload = callback;\n",
              "  s.onerror = function(){console.warn(\"failed to load library \" + url);};\n",
              "  document.getElementsByTagName(\"head\")[0].appendChild(s);\n",
              "}\n",
              "\n",
              "if(typeof(LDAvis) !== \"undefined\"){\n",
              "   // already loaded: just create the visualization\n",
              "   !function(LDAvis){\n",
              "       new LDAvis(\"#\" + \"ldavis_el59140191189950160100859347\", ldavis_el59140191189950160100859347_data);\n",
              "   }(LDAvis);\n",
              "}else if(typeof define === \"function\" && define.amd){\n",
              "   // require.js is available: use it to load d3/LDAvis\n",
              "   require.config({paths: {d3: \"https://d3js.org/d3.v5\"}});\n",
              "   require([\"d3\"], function(d3){\n",
              "      window.d3 = d3;\n",
              "      LDAvis_load_lib(\"https://cdn.jsdelivr.net/gh/bmabey/pyLDAvis@3.3.1/pyLDAvis/js/ldavis.v3.0.0.js\", function(){\n",
              "        new LDAvis(\"#\" + \"ldavis_el59140191189950160100859347\", ldavis_el59140191189950160100859347_data);\n",
              "      });\n",
              "    });\n",
              "}else{\n",
              "    // require.js not available: dynamically load d3 & LDAvis\n",
              "    LDAvis_load_lib(\"https://d3js.org/d3.v5.js\", function(){\n",
              "         LDAvis_load_lib(\"https://cdn.jsdelivr.net/gh/bmabey/pyLDAvis@3.3.1/pyLDAvis/js/ldavis.v3.0.0.js\", function(){\n",
              "                 new LDAvis(\"#\" + \"ldavis_el59140191189950160100859347\", ldavis_el59140191189950160100859347_data);\n",
              "            })\n",
              "         });\n",
              "}\n",
              "</script>"
            ]
          },
          "metadata": {},
          "execution_count": 46
        }
      ]
    },
    {
      "cell_type": "code",
      "source": [
        "pyLDAvis.save_html(inspire_vis, 'lda_inspire.html')\n",
        "pyLDAvis.save_html(gain_vis, 'lda_gain.html')"
      ],
      "metadata": {
        "id": "PDE_JItrGsyl"
      },
      "execution_count": 47,
      "outputs": []
    },
    {
      "cell_type": "markdown",
      "source": [
        "#WORD CLOUDS"
      ],
      "metadata": {
        "id": "CUC4xzrlxhbm"
      }
    },
    {
      "cell_type": "code",
      "source": [
        "import matplotlib.colors as mcolors\n",
        "from wordcloud import WordCloud\n",
        "\n",
        "colsi = [color for name, color in mcolors.CSS4_COLORS.items()]\n",
        "\n",
        "x, y = np.ogrid[:290, :290]\n",
        "\n",
        "mask = (x - 150) ** 2 + (y - 150) ** 2 > 120 ** 2\n",
        "mask = 255 * mask.astype(int)\n",
        "\n",
        "cloud_inspire = WordCloud(background_color='gray',\n",
        "                  width=500,\n",
        "                  height=500,\n",
        "                  mask=mask,\n",
        "                  max_words=100,\n",
        "                  color_func=lambda *args, **kwargs: colsi[i+20],\n",
        "                  prefer_horizontal=1.0)\n",
        "\n",
        "topics = lda_inspire_model.show_topics(formatted=False)\n",
        "\n",
        "fig, axes = plt.subplots(1, 2, figsize=(15,3), sharex=True, sharey=True)\n",
        "\n",
        "for i, ax in enumerate(axes.flatten()):\n",
        "    fig.add_subplot(ax)\n",
        "    topic_words = dict(topics[i][1])\n",
        "    cloud_inspire.generate_from_frequencies(topic_words, max_font_size=300)\n",
        "    plt.gca().imshow(cloud_inspire)\n",
        "    plt.gca().set_title('Topic ' + str(i+1), fontdict=dict(size=16))\n",
        "    plt.gca().axis('off')\n",
        "\n",
        "fig.patch.set_facecolor('grey')\n",
        "fig.suptitle(\"TOPICS for Female Option \\n\\n-- Survey Essence ID: 30013 --\\n\\nQuestion: 'What about the leader\\n of this company\\n inspires your confidence?'\",\n",
        "             fontweight='bold',y=0.8,fontsize=12)\n",
        "\n",
        "plt.subplots_adjust(wspace=0, hspace=0)\n",
        "plt.axis('off')\n",
        "plt.margins(x=0, y=0)\n",
        "plt.tight_layout()\n",
        "plt.show()"
      ],
      "metadata": {
        "colab": {
          "base_uri": "https://localhost:8080/",
          "height": 221
        },
        "id": "sYRNwDUlxjRe",
        "outputId": "dc9b45ea-a89d-4197-cb11-8111fb414071"
      },
      "execution_count": 48,
      "outputs": [
        {
          "output_type": "display_data",
          "data": {
            "text/plain": [
              "<Figure size 1080x216 with 2 Axes>"
            ],
            "image/png": "[encoded data removed]"
          },
          "metadata": {}
        }
      ]
    },
    {
      "cell_type": "code",
      "source": [
        "colsd = [color for name, color in mcolors.TABLEAU_COLORS.items()]\n",
        "\n",
        "cloud_gain = WordCloud(background_color='black',\n",
        "                  width=500,\n",
        "                  height=500,\n",
        "                  max_words=100,\n",
        "                  mask=mask,\n",
        "                  color_func=lambda *args, **kwargs: colsd[i+3],\n",
        "                  prefer_horizontal=1.0)\n",
        "\n",
        "topics = lda_gain_model.show_topics(formatted=False)\n",
        "\n",
        "fig, axes = plt.subplots(1, 2, figsize=(15,3), sharex=True, sharey=True)\n",
        "\n",
        "for i, ax in enumerate(axes.flatten()):\n",
        "    fig.add_subplot(ax)\n",
        "    topic_words = dict(topics[i][1])\n",
        "    cloud_gain.generate_from_frequencies(topic_words, max_font_size=300)\n",
        "    plt.gca().imshow(cloud_gain)\n",
        "    plt.gca().set_title('Topic ' + str(i+1), fontdict=dict(size=16), color='white')\n",
        "    plt.gca().axis('off')\n",
        "\n",
        "fig.patch.set_facecolor('black')\n",
        "fig.suptitle(\"TOPICS for Female Option \\n\\n--Survey Essence ID: 30014--\\n\\nQuestion: 'What could the leader\\n of this company do to gain\\n your full confidence?'\",\n",
        "             fontweight='bold',y=0.8,fontsize=12, color='white')\n",
        "\n",
        "\n",
        "plt.subplots_adjust(wspace=0, hspace=0)\n",
        "plt.axis('off')\n",
        "plt.margins(x=0, y=0)\n",
        "plt.tight_layout()\n",
        "plt.show()"
      ],
      "metadata": {
        "colab": {
          "base_uri": "https://localhost:8080/",
          "height": 221
        },
        "id": "SkXKiGte1NFj",
        "outputId": "86868ebe-7071-4d42-d30e-4f24044763a4"
      },
      "execution_count": 49,
      "outputs": [
        {
          "output_type": "display_data",
          "data": {
            "text/plain": [
              "<Figure size 1080x216 with 2 Axes>"
            ],
            "image/png": "[encoded data removed]"
          },
          "metadata": {}
        }
      ]
    }
  ]
}