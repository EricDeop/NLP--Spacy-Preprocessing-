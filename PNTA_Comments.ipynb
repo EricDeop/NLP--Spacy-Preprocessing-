{
  "nbformat": 4,
  "nbformat_minor": 0,
  "metadata": {
    "colab": {
      "name": "PNTA Comments.ipynb",
      "provenance": [],
      "collapsed_sections": [],
      "authorship_tag": "ABX9TyMVqLAnDGpLjjnB3qzna8He",
      "include_colab_link": true
    },
    "kernelspec": {
      "name": "python3",
      "display_name": "Python 3"
    },
    "language_info": {
      "name": "python"
    }
  },
  "cells": [
    {
      "cell_type": "markdown",
      "metadata": {
        "id": "view-in-github",
        "colab_type": "text"
      },
      "source": [
        "<a href=\"https://colab.research.google.com/github/EricDeop/NLP--Spacy-Preprocessing-/blob/PNTA-comments/PNTA_Comments.ipynb\" target=\"_parent\"><img src=\"https://colab.research.google.com/assets/colab-badge.svg\" alt=\"Open In Colab\"/></a>"
      ]
    },
    {
      "cell_type": "code",
      "execution_count": 1,
      "metadata": {
        "colab": {
          "base_uri": "https://localhost:8080/",
          "height": 224
        },
        "id": "lXxDz9p0f3XD",
        "outputId": "c1c82b42-e162-471d-b235-b4928e4948f1"
      },
      "outputs": [
        {
          "output_type": "stream",
          "name": "stdout",
          "text": [
            "Mounted at /content/drive\n"
          ]
        },
        {
          "output_type": "execute_result",
          "data": {
            "text/plain": [
              "   SURVEYRESPONDERID AVERAGE_RESPONSE_DATE  YEAR  MONTH  GENDER  \\\n",
              "0           17296164                1/7/21  2021      1    Male   \n",
              "1           17311889                1/7/21  2021      1  Female   \n",
              "2           17334983                1/7/21  2021      1    Male   \n",
              "3           17340598                1/2/21  2021      1    Male   \n",
              "4           17340874                1/2/21  2021      1    Male   \n",
              "\n",
              "   SURVEYQUESTIONESSENCEID                                            COMMENT  \n",
              "0                    30013  Melvins professional demeanor and interpersona...  \n",
              "1                    30014             Proved better supervision and support.  \n",
              "2                    30013                                 Proven experience   \n",
              "3                    30014  Let the team do what they were hired to do, so...  \n",
              "4                    30013  They consistently look for opportunities to ma...  "
            ],
            "text/html": [
              "\n",
              "  <div id=\"df-64286d33-802c-4d99-9f14-8baf1afa8f2d\">\n",
              "    <div class=\"colab-df-container\">\n",
              "      <div>\n",
              "<style scoped>\n",
              "    .dataframe tbody tr th:only-of-type {\n",
              "        vertical-align: middle;\n",
              "    }\n",
              "\n",
              "    .dataframe tbody tr th {\n",
              "        vertical-align: top;\n",
              "    }\n",
              "\n",
              "    .dataframe thead th {\n",
              "        text-align: right;\n",
              "    }\n",
              "</style>\n",
              "<table border=\"1\" class=\"dataframe\">\n",
              "  <thead>\n",
              "    <tr style=\"text-align: right;\">\n",
              "      <th></th>\n",
              "      <th>SURVEYRESPONDERID</th>\n",
              "      <th>AVERAGE_RESPONSE_DATE</th>\n",
              "      <th>YEAR</th>\n",
              "      <th>MONTH</th>\n",
              "      <th>GENDER</th>\n",
              "      <th>SURVEYQUESTIONESSENCEID</th>\n",
              "      <th>COMMENT</th>\n",
              "    </tr>\n",
              "  </thead>\n",
              "  <tbody>\n",
              "    <tr>\n",
              "      <th>0</th>\n",
              "      <td>17296164</td>\n",
              "      <td>1/7/21</td>\n",
              "      <td>2021</td>\n",
              "      <td>1</td>\n",
              "      <td>Male</td>\n",
              "      <td>30013</td>\n",
              "      <td>Melvins professional demeanor and interpersona...</td>\n",
              "    </tr>\n",
              "    <tr>\n",
              "      <th>1</th>\n",
              "      <td>17311889</td>\n",
              "      <td>1/7/21</td>\n",
              "      <td>2021</td>\n",
              "      <td>1</td>\n",
              "      <td>Female</td>\n",
              "      <td>30014</td>\n",
              "      <td>Proved better supervision and support.</td>\n",
              "    </tr>\n",
              "    <tr>\n",
              "      <th>2</th>\n",
              "      <td>17334983</td>\n",
              "      <td>1/7/21</td>\n",
              "      <td>2021</td>\n",
              "      <td>1</td>\n",
              "      <td>Male</td>\n",
              "      <td>30013</td>\n",
              "      <td>Proven experience</td>\n",
              "    </tr>\n",
              "    <tr>\n",
              "      <th>3</th>\n",
              "      <td>17340598</td>\n",
              "      <td>1/2/21</td>\n",
              "      <td>2021</td>\n",
              "      <td>1</td>\n",
              "      <td>Male</td>\n",
              "      <td>30014</td>\n",
              "      <td>Let the team do what they were hired to do, so...</td>\n",
              "    </tr>\n",
              "    <tr>\n",
              "      <th>4</th>\n",
              "      <td>17340874</td>\n",
              "      <td>1/2/21</td>\n",
              "      <td>2021</td>\n",
              "      <td>1</td>\n",
              "      <td>Male</td>\n",
              "      <td>30013</td>\n",
              "      <td>They consistently look for opportunities to ma...</td>\n",
              "    </tr>\n",
              "  </tbody>\n",
              "</table>\n",
              "</div>\n",
              "      <button class=\"colab-df-convert\" onclick=\"convertToInteractive('df-64286d33-802c-4d99-9f14-8baf1afa8f2d')\"\n",
              "              title=\"Convert this dataframe to an interactive table.\"\n",
              "              style=\"display:none;\">\n",
              "        \n",
              "  <svg xmlns=\"http://www.w3.org/2000/svg\" height=\"24px\"viewBox=\"0 0 24 24\"\n",
              "       width=\"24px\">\n",
              "    <path d=\"M0 0h24v24H0V0z\" fill=\"none\"/>\n",
              "    <path d=\"M18.56 5.44l.94 2.06.94-2.06 2.06-.94-2.06-.94-.94-2.06-.94 2.06-2.06.94zm-11 1L8.5 8.5l.94-2.06 2.06-.94-2.06-.94L8.5 2.5l-.94 2.06-2.06.94zm10 10l.94 2.06.94-2.06 2.06-.94-2.06-.94-.94-2.06-.94 2.06-2.06.94z\"/><path d=\"M17.41 7.96l-1.37-1.37c-.4-.4-.92-.59-1.43-.59-.52 0-1.04.2-1.43.59L10.3 9.45l-7.72 7.72c-.78.78-.78 2.05 0 2.83L4 21.41c.39.39.9.59 1.41.59.51 0 1.02-.2 1.41-.59l7.78-7.78 2.81-2.81c.8-.78.8-2.07 0-2.86zM5.41 20L4 18.59l7.72-7.72 1.47 1.35L5.41 20z\"/>\n",
              "  </svg>\n",
              "      </button>\n",
              "      \n",
              "  <style>\n",
              "    .colab-df-container {\n",
              "      display:flex;\n",
              "      flex-wrap:wrap;\n",
              "      gap: 12px;\n",
              "    }\n",
              "\n",
              "    .colab-df-convert {\n",
              "      background-color: #E8F0FE;\n",
              "      border: none;\n",
              "      border-radius: 50%;\n",
              "      cursor: pointer;\n",
              "      display: none;\n",
              "      fill: #1967D2;\n",
              "      height: 32px;\n",
              "      padding: 0 0 0 0;\n",
              "      width: 32px;\n",
              "    }\n",
              "\n",
              "    .colab-df-convert:hover {\n",
              "      background-color: #E2EBFA;\n",
              "      box-shadow: 0px 1px 2px rgba(60, 64, 67, 0.3), 0px 1px 3px 1px rgba(60, 64, 67, 0.15);\n",
              "      fill: #174EA6;\n",
              "    }\n",
              "\n",
              "    [theme=dark] .colab-df-convert {\n",
              "      background-color: #3B4455;\n",
              "      fill: #D2E3FC;\n",
              "    }\n",
              "\n",
              "    [theme=dark] .colab-df-convert:hover {\n",
              "      background-color: #434B5C;\n",
              "      box-shadow: 0px 1px 3px 1px rgba(0, 0, 0, 0.15);\n",
              "      filter: drop-shadow(0px 1px 2px rgba(0, 0, 0, 0.3));\n",
              "      fill: #FFFFFF;\n",
              "    }\n",
              "  </style>\n",
              "\n",
              "      <script>\n",
              "        const buttonEl =\n",
              "          document.querySelector('#df-64286d33-802c-4d99-9f14-8baf1afa8f2d button.colab-df-convert');\n",
              "        buttonEl.style.display =\n",
              "          google.colab.kernel.accessAllowed ? 'block' : 'none';\n",
              "\n",
              "        async function convertToInteractive(key) {\n",
              "          const element = document.querySelector('#df-64286d33-802c-4d99-9f14-8baf1afa8f2d');\n",
              "          const dataTable =\n",
              "            await google.colab.kernel.invokeFunction('convertToInteractive',\n",
              "                                                     [key], {});\n",
              "          if (!dataTable) return;\n",
              "\n",
              "          const docLinkHtml = 'Like what you see? Visit the ' +\n",
              "            '<a target=\"_blank\" href=https://colab.research.google.com/notebooks/data_table.ipynb>data table notebook</a>'\n",
              "            + ' to learn more about interactive tables.';\n",
              "          element.innerHTML = '';\n",
              "          dataTable['output_type'] = 'display_data';\n",
              "          await google.colab.output.renderOutput(dataTable, element);\n",
              "          const docLink = document.createElement('div');\n",
              "          docLink.innerHTML = docLinkHtml;\n",
              "          element.appendChild(docLink);\n",
              "        }\n",
              "      </script>\n",
              "    </div>\n",
              "  </div>\n",
              "  "
            ]
          },
          "metadata": {},
          "execution_count": 1
        }
      ],
      "source": [
        "from google.colab import drive\n",
        "\n",
        "drive.mount('/content/drive')\n",
        "\n",
        "import numpy as np\n",
        "import pandas as pd\n",
        "\n",
        "path = \"/content/drive/MyDrive/LeaderComment.csv\"\n",
        "\n",
        "df = pd.read_csv(path)\n",
        "\n",
        "df.head()"
      ]
    },
    {
      "cell_type": "code",
      "source": [
        "#Importing necessary packages\n",
        "import spacy\n",
        "import re\n",
        "import string\n",
        "from pprint import pprint\n",
        "\n",
        "import gensim\n",
        "import gensim.corpora as corpora\n",
        "from gensim.utils import simple_preprocess\n",
        "from gensim.models import CoherenceModel\n",
        "\n",
        "import matplotlib.pyplot as plt\n",
        "%matplotlib inline"
      ],
      "metadata": {
        "id": "OHhXi18EgDdx"
      },
      "execution_count": 2,
      "outputs": []
    },
    {
      "cell_type": "markdown",
      "source": [
        "#Data Cleaning before splitting dataset to only male gender"
      ],
      "metadata": {
        "id": "5kdC93a2gMS1"
      }
    },
    {
      "cell_type": "code",
      "source": [
        "df['GENDER'] = df['GENDER'].str.lower()\n",
        "\n",
        "df = df.replace({'GENDER' : {'do not wish to disclose' : 'prefer not to answer',\n",
        "                        'cisgender' : 'gender not listed', 'm' : 'male', \n",
        "                        'f' : 'female'}})\n",
        "\n",
        "df = df[df[\"GENDER\"].str.contains(\n",
        "    \"non-binary|other gender|gender not listed|gender identity not listed|other gender\"\n",
        "    ) == False]\n",
        "\n",
        "print(\"\\n\")\n",
        "\n",
        "df['GENDER'].value_counts()"
      ],
      "metadata": {
        "colab": {
          "base_uri": "https://localhost:8080/"
        },
        "id": "m1SXWrfcgL9-",
        "outputId": "eb28638f-2f05-4259-bed9-6d2989f4f8e8"
      },
      "execution_count": 3,
      "outputs": [
        {
          "output_type": "stream",
          "name": "stdout",
          "text": [
            "\n",
            "\n"
          ]
        },
        {
          "output_type": "execute_result",
          "data": {
            "text/plain": [
              "female                  96071\n",
              "male                    84840\n",
              "prefer not to answer    24326\n",
              "Name: GENDER, dtype: int64"
            ]
          },
          "metadata": {},
          "execution_count": 3
        }
      ]
    },
    {
      "cell_type": "code",
      "source": [
        "#Removing duplicates\n",
        "#Survey responder ID - Duplicate survey ID indicates same person\n",
        "#cannot ascertain if duplicate comments exist that they are from the same person\n",
        "#left comments as is and the other columns too\n",
        "\n",
        "ids = df['SURVEYRESPONDERID']\n",
        "duplicates = ids[ids.duplicated()]\n",
        "\n",
        "print(\"Duplicate ID's :\", duplicates.value_counts().sum(),\"\\n\")\n",
        "\n",
        "df = df.drop_duplicates(subset=['SURVEYRESPONDERID'])\n",
        "print(\"Rows, Columns after Duplicate ID's removed: \",df.shape)"
      ],
      "metadata": {
        "colab": {
          "base_uri": "https://localhost:8080/"
        },
        "id": "a_d9u6cOgLAt",
        "outputId": "69aa03ce-c2ec-4774-b8a3-3e3ff67b58a1"
      },
      "execution_count": 4,
      "outputs": [
        {
          "output_type": "stream",
          "name": "stdout",
          "text": [
            "Duplicate ID's : 24 \n",
            "\n",
            "Rows, Columns after Duplicate ID's removed:  (205213, 7)\n"
          ]
        }
      ]
    },
    {
      "cell_type": "code",
      "source": [
        "# Removing Nan Values\n",
        "\n",
        "print(df.isna().sum().sort_values(ascending = False))\n",
        "\n",
        "#NaN values only found in comment column\n",
        "#Removal of those 4 comments\n",
        "df = df.dropna()\n",
        "\n",
        "df.shape\n",
        "\n",
        "# Dropping AVERAGE_RESPONSE_DATE, YEAR, and MONTH columns as they will \n",
        "# not be relevant to this analysis\n",
        "\n",
        "df = df.drop(columns=['AVERAGE_RESPONSE_DATE', 'YEAR', 'MONTH'], axis=1)\n",
        "df.head()"
      ],
      "metadata": {
        "colab": {
          "base_uri": "https://localhost:8080/",
          "height": 345
        },
        "id": "AylOf0bYhCx3",
        "outputId": "402aca4a-cc4c-424a-fc98-4bb70e6bb234"
      },
      "execution_count": 5,
      "outputs": [
        {
          "output_type": "stream",
          "name": "stdout",
          "text": [
            "COMMENT                    4\n",
            "SURVEYRESPONDERID          0\n",
            "AVERAGE_RESPONSE_DATE      0\n",
            "YEAR                       0\n",
            "MONTH                      0\n",
            "GENDER                     0\n",
            "SURVEYQUESTIONESSENCEID    0\n",
            "dtype: int64\n"
          ]
        },
        {
          "output_type": "execute_result",
          "data": {
            "text/plain": [
              "   SURVEYRESPONDERID  GENDER  SURVEYQUESTIONESSENCEID  \\\n",
              "0           17296164    male                    30013   \n",
              "1           17311889  female                    30014   \n",
              "2           17334983    male                    30013   \n",
              "3           17340598    male                    30014   \n",
              "4           17340874    male                    30013   \n",
              "\n",
              "                                             COMMENT  \n",
              "0  Melvins professional demeanor and interpersona...  \n",
              "1             Proved better supervision and support.  \n",
              "2                                 Proven experience   \n",
              "3  Let the team do what they were hired to do, so...  \n",
              "4  They consistently look for opportunities to ma...  "
            ],
            "text/html": [
              "\n",
              "  <div id=\"df-308eb5ec-9f7e-43af-9801-275354e8f069\">\n",
              "    <div class=\"colab-df-container\">\n",
              "      <div>\n",
              "<style scoped>\n",
              "    .dataframe tbody tr th:only-of-type {\n",
              "        vertical-align: middle;\n",
              "    }\n",
              "\n",
              "    .dataframe tbody tr th {\n",
              "        vertical-align: top;\n",
              "    }\n",
              "\n",
              "    .dataframe thead th {\n",
              "        text-align: right;\n",
              "    }\n",
              "</style>\n",
              "<table border=\"1\" class=\"dataframe\">\n",
              "  <thead>\n",
              "    <tr style=\"text-align: right;\">\n",
              "      <th></th>\n",
              "      <th>SURVEYRESPONDERID</th>\n",
              "      <th>GENDER</th>\n",
              "      <th>SURVEYQUESTIONESSENCEID</th>\n",
              "      <th>COMMENT</th>\n",
              "    </tr>\n",
              "  </thead>\n",
              "  <tbody>\n",
              "    <tr>\n",
              "      <th>0</th>\n",
              "      <td>17296164</td>\n",
              "      <td>male</td>\n",
              "      <td>30013</td>\n",
              "      <td>Melvins professional demeanor and interpersona...</td>\n",
              "    </tr>\n",
              "    <tr>\n",
              "      <th>1</th>\n",
              "      <td>17311889</td>\n",
              "      <td>female</td>\n",
              "      <td>30014</td>\n",
              "      <td>Proved better supervision and support.</td>\n",
              "    </tr>\n",
              "    <tr>\n",
              "      <th>2</th>\n",
              "      <td>17334983</td>\n",
              "      <td>male</td>\n",
              "      <td>30013</td>\n",
              "      <td>Proven experience</td>\n",
              "    </tr>\n",
              "    <tr>\n",
              "      <th>3</th>\n",
              "      <td>17340598</td>\n",
              "      <td>male</td>\n",
              "      <td>30014</td>\n",
              "      <td>Let the team do what they were hired to do, so...</td>\n",
              "    </tr>\n",
              "    <tr>\n",
              "      <th>4</th>\n",
              "      <td>17340874</td>\n",
              "      <td>male</td>\n",
              "      <td>30013</td>\n",
              "      <td>They consistently look for opportunities to ma...</td>\n",
              "    </tr>\n",
              "  </tbody>\n",
              "</table>\n",
              "</div>\n",
              "      <button class=\"colab-df-convert\" onclick=\"convertToInteractive('df-308eb5ec-9f7e-43af-9801-275354e8f069')\"\n",
              "              title=\"Convert this dataframe to an interactive table.\"\n",
              "              style=\"display:none;\">\n",
              "        \n",
              "  <svg xmlns=\"http://www.w3.org/2000/svg\" height=\"24px\"viewBox=\"0 0 24 24\"\n",
              "       width=\"24px\">\n",
              "    <path d=\"M0 0h24v24H0V0z\" fill=\"none\"/>\n",
              "    <path d=\"M18.56 5.44l.94 2.06.94-2.06 2.06-.94-2.06-.94-.94-2.06-.94 2.06-2.06.94zm-11 1L8.5 8.5l.94-2.06 2.06-.94-2.06-.94L8.5 2.5l-.94 2.06-2.06.94zm10 10l.94 2.06.94-2.06 2.06-.94-2.06-.94-.94-2.06-.94 2.06-2.06.94z\"/><path d=\"M17.41 7.96l-1.37-1.37c-.4-.4-.92-.59-1.43-.59-.52 0-1.04.2-1.43.59L10.3 9.45l-7.72 7.72c-.78.78-.78 2.05 0 2.83L4 21.41c.39.39.9.59 1.41.59.51 0 1.02-.2 1.41-.59l7.78-7.78 2.81-2.81c.8-.78.8-2.07 0-2.86zM5.41 20L4 18.59l7.72-7.72 1.47 1.35L5.41 20z\"/>\n",
              "  </svg>\n",
              "      </button>\n",
              "      \n",
              "  <style>\n",
              "    .colab-df-container {\n",
              "      display:flex;\n",
              "      flex-wrap:wrap;\n",
              "      gap: 12px;\n",
              "    }\n",
              "\n",
              "    .colab-df-convert {\n",
              "      background-color: #E8F0FE;\n",
              "      border: none;\n",
              "      border-radius: 50%;\n",
              "      cursor: pointer;\n",
              "      display: none;\n",
              "      fill: #1967D2;\n",
              "      height: 32px;\n",
              "      padding: 0 0 0 0;\n",
              "      width: 32px;\n",
              "    }\n",
              "\n",
              "    .colab-df-convert:hover {\n",
              "      background-color: #E2EBFA;\n",
              "      box-shadow: 0px 1px 2px rgba(60, 64, 67, 0.3), 0px 1px 3px 1px rgba(60, 64, 67, 0.15);\n",
              "      fill: #174EA6;\n",
              "    }\n",
              "\n",
              "    [theme=dark] .colab-df-convert {\n",
              "      background-color: #3B4455;\n",
              "      fill: #D2E3FC;\n",
              "    }\n",
              "\n",
              "    [theme=dark] .colab-df-convert:hover {\n",
              "      background-color: #434B5C;\n",
              "      box-shadow: 0px 1px 3px 1px rgba(0, 0, 0, 0.15);\n",
              "      filter: drop-shadow(0px 1px 2px rgba(0, 0, 0, 0.3));\n",
              "      fill: #FFFFFF;\n",
              "    }\n",
              "  </style>\n",
              "\n",
              "      <script>\n",
              "        const buttonEl =\n",
              "          document.querySelector('#df-308eb5ec-9f7e-43af-9801-275354e8f069 button.colab-df-convert');\n",
              "        buttonEl.style.display =\n",
              "          google.colab.kernel.accessAllowed ? 'block' : 'none';\n",
              "\n",
              "        async function convertToInteractive(key) {\n",
              "          const element = document.querySelector('#df-308eb5ec-9f7e-43af-9801-275354e8f069');\n",
              "          const dataTable =\n",
              "            await google.colab.kernel.invokeFunction('convertToInteractive',\n",
              "                                                     [key], {});\n",
              "          if (!dataTable) return;\n",
              "\n",
              "          const docLinkHtml = 'Like what you see? Visit the ' +\n",
              "            '<a target=\"_blank\" href=https://colab.research.google.com/notebooks/data_table.ipynb>data table notebook</a>'\n",
              "            + ' to learn more about interactive tables.';\n",
              "          element.innerHTML = '';\n",
              "          dataTable['output_type'] = 'display_data';\n",
              "          await google.colab.output.renderOutput(dataTable, element);\n",
              "          const docLink = document.createElement('div');\n",
              "          docLink.innerHTML = docLinkHtml;\n",
              "          element.appendChild(docLink);\n",
              "        }\n",
              "      </script>\n",
              "    </div>\n",
              "  </div>\n",
              "  "
            ]
          },
          "metadata": {},
          "execution_count": 5
        }
      ]
    },
    {
      "cell_type": "code",
      "source": [
        "# Converting all text to lowercase and removing punctuations\n",
        "\n",
        "def clean_text(text):\n",
        "  text = text.lower()\n",
        "  text = re.sub(r'[^\\w\\s]',' ', text)\n",
        "  text = re.sub('\\[.*?\\#]', '', text)\n",
        "  text = re.sub('\\n', ' ', text)\n",
        "  text = re.sub('[%s]' % re.escape(string.punctuation), ' ', text)\n",
        "  return text\n",
        "\n",
        "cleaning = lambda x: clean_text(x)"
      ],
      "metadata": {
        "id": "NtWzhJVUhQb2"
      },
      "execution_count": 6,
      "outputs": []
    },
    {
      "cell_type": "code",
      "source": [
        "df_clean = pd.DataFrame(df['COMMENT'].apply(cleaning))\n",
        "\n",
        "df[\"COMMENT\"] = df_clean\n",
        "\n",
        "print(df['COMMENT'].head(10),\"\\n\")\n",
        "print(df['COMMENT'].tail(10))"
      ],
      "metadata": {
        "colab": {
          "base_uri": "https://localhost:8080/"
        },
        "id": "2qZt4ZuvhR2u",
        "outputId": "1e9aea85-5412-4b1b-97bb-c223caf07cf8"
      },
      "execution_count": 7,
      "outputs": [
        {
          "output_type": "stream",
          "name": "stdout",
          "text": [
            "0    melvins professional demeanor and interpersona...\n",
            "1               proved better supervision and support \n",
            "2                                   proven experience \n",
            "3    let the team do what they were hired to do  so...\n",
            "4    they consistently look for opportunities to ma...\n",
            "5    willingness to terminate bad employees  commit...\n",
            "6    calm  fearless  godliness of character  respec...\n",
            "7    it doesnt  you have a manager that wife works ...\n",
            "8    quit pitting the different shifts and departme...\n",
            "9    pay me what i deserve based on my qualificatio...\n",
            "Name: COMMENT, dtype: object \n",
            "\n",
            "206951               good at communicating what is required\n",
            "206952                 employ composite industry managers  \n",
            "206953                        drug test and stick to policy\n",
            "206954                     passion and drive for results   \n",
            "206955    spend money in the right areas   stop employin...\n",
            "206956    his open and willingness to describe what is g...\n",
            "206957    howard makes sure that we feel safe and feel c...\n",
            "206958    be present  engage with management  make it a ...\n",
            "206959    change in leadership style  servant leadership...\n",
            "206960             they have made great decisions so far   \n",
            "Name: COMMENT, dtype: object\n"
          ]
        }
      ]
    },
    {
      "cell_type": "code",
      "source": [
        "#Splitting Original data to only prefer not to answer under GENDER column\n",
        "\n",
        "PNTA = df[df[\"GENDER\"].str.match(\"prefer not to answer\") == True]\n",
        "\n",
        "PNTA.head()"
      ],
      "metadata": {
        "colab": {
          "base_uri": "https://localhost:8080/",
          "height": 206
        },
        "id": "owgncwh1hldf",
        "outputId": "cf33bf46-f60f-4936-d6ae-c464ff787c8c"
      },
      "execution_count": 8,
      "outputs": [
        {
          "output_type": "execute_result",
          "data": {
            "text/plain": [
              "    SURVEYRESPONDERID                GENDER  SURVEYQUESTIONESSENCEID  \\\n",
              "7            17341745  prefer not to answer                    30013   \n",
              "10           17341787  prefer not to answer                    30013   \n",
              "70           17363891  prefer not to answer                    30014   \n",
              "81           17365201  prefer not to answer                    30013   \n",
              "89           17365445  prefer not to answer                    30013   \n",
              "\n",
              "                                              COMMENT  \n",
              "7   it doesnt  you have a manager that wife works ...  \n",
              "10  when they take the time to truly understand an...  \n",
              "70                             talk less  listen more  \n",
              "81                                     great speaker   \n",
              "89                                           genuine   "
            ],
            "text/html": [
              "\n",
              "  <div id=\"df-c83daa2e-4127-4bff-9158-78710735d978\">\n",
              "    <div class=\"colab-df-container\">\n",
              "      <div>\n",
              "<style scoped>\n",
              "    .dataframe tbody tr th:only-of-type {\n",
              "        vertical-align: middle;\n",
              "    }\n",
              "\n",
              "    .dataframe tbody tr th {\n",
              "        vertical-align: top;\n",
              "    }\n",
              "\n",
              "    .dataframe thead th {\n",
              "        text-align: right;\n",
              "    }\n",
              "</style>\n",
              "<table border=\"1\" class=\"dataframe\">\n",
              "  <thead>\n",
              "    <tr style=\"text-align: right;\">\n",
              "      <th></th>\n",
              "      <th>SURVEYRESPONDERID</th>\n",
              "      <th>GENDER</th>\n",
              "      <th>SURVEYQUESTIONESSENCEID</th>\n",
              "      <th>COMMENT</th>\n",
              "    </tr>\n",
              "  </thead>\n",
              "  <tbody>\n",
              "    <tr>\n",
              "      <th>7</th>\n",
              "      <td>17341745</td>\n",
              "      <td>prefer not to answer</td>\n",
              "      <td>30013</td>\n",
              "      <td>it doesnt  you have a manager that wife works ...</td>\n",
              "    </tr>\n",
              "    <tr>\n",
              "      <th>10</th>\n",
              "      <td>17341787</td>\n",
              "      <td>prefer not to answer</td>\n",
              "      <td>30013</td>\n",
              "      <td>when they take the time to truly understand an...</td>\n",
              "    </tr>\n",
              "    <tr>\n",
              "      <th>70</th>\n",
              "      <td>17363891</td>\n",
              "      <td>prefer not to answer</td>\n",
              "      <td>30014</td>\n",
              "      <td>talk less  listen more</td>\n",
              "    </tr>\n",
              "    <tr>\n",
              "      <th>81</th>\n",
              "      <td>17365201</td>\n",
              "      <td>prefer not to answer</td>\n",
              "      <td>30013</td>\n",
              "      <td>great speaker</td>\n",
              "    </tr>\n",
              "    <tr>\n",
              "      <th>89</th>\n",
              "      <td>17365445</td>\n",
              "      <td>prefer not to answer</td>\n",
              "      <td>30013</td>\n",
              "      <td>genuine</td>\n",
              "    </tr>\n",
              "  </tbody>\n",
              "</table>\n",
              "</div>\n",
              "      <button class=\"colab-df-convert\" onclick=\"convertToInteractive('df-c83daa2e-4127-4bff-9158-78710735d978')\"\n",
              "              title=\"Convert this dataframe to an interactive table.\"\n",
              "              style=\"display:none;\">\n",
              "        \n",
              "  <svg xmlns=\"http://www.w3.org/2000/svg\" height=\"24px\"viewBox=\"0 0 24 24\"\n",
              "       width=\"24px\">\n",
              "    <path d=\"M0 0h24v24H0V0z\" fill=\"none\"/>\n",
              "    <path d=\"M18.56 5.44l.94 2.06.94-2.06 2.06-.94-2.06-.94-.94-2.06-.94 2.06-2.06.94zm-11 1L8.5 8.5l.94-2.06 2.06-.94-2.06-.94L8.5 2.5l-.94 2.06-2.06.94zm10 10l.94 2.06.94-2.06 2.06-.94-2.06-.94-.94-2.06-.94 2.06-2.06.94z\"/><path d=\"M17.41 7.96l-1.37-1.37c-.4-.4-.92-.59-1.43-.59-.52 0-1.04.2-1.43.59L10.3 9.45l-7.72 7.72c-.78.78-.78 2.05 0 2.83L4 21.41c.39.39.9.59 1.41.59.51 0 1.02-.2 1.41-.59l7.78-7.78 2.81-2.81c.8-.78.8-2.07 0-2.86zM5.41 20L4 18.59l7.72-7.72 1.47 1.35L5.41 20z\"/>\n",
              "  </svg>\n",
              "      </button>\n",
              "      \n",
              "  <style>\n",
              "    .colab-df-container {\n",
              "      display:flex;\n",
              "      flex-wrap:wrap;\n",
              "      gap: 12px;\n",
              "    }\n",
              "\n",
              "    .colab-df-convert {\n",
              "      background-color: #E8F0FE;\n",
              "      border: none;\n",
              "      border-radius: 50%;\n",
              "      cursor: pointer;\n",
              "      display: none;\n",
              "      fill: #1967D2;\n",
              "      height: 32px;\n",
              "      padding: 0 0 0 0;\n",
              "      width: 32px;\n",
              "    }\n",
              "\n",
              "    .colab-df-convert:hover {\n",
              "      background-color: #E2EBFA;\n",
              "      box-shadow: 0px 1px 2px rgba(60, 64, 67, 0.3), 0px 1px 3px 1px rgba(60, 64, 67, 0.15);\n",
              "      fill: #174EA6;\n",
              "    }\n",
              "\n",
              "    [theme=dark] .colab-df-convert {\n",
              "      background-color: #3B4455;\n",
              "      fill: #D2E3FC;\n",
              "    }\n",
              "\n",
              "    [theme=dark] .colab-df-convert:hover {\n",
              "      background-color: #434B5C;\n",
              "      box-shadow: 0px 1px 3px 1px rgba(0, 0, 0, 0.15);\n",
              "      filter: drop-shadow(0px 1px 2px rgba(0, 0, 0, 0.3));\n",
              "      fill: #FFFFFF;\n",
              "    }\n",
              "  </style>\n",
              "\n",
              "      <script>\n",
              "        const buttonEl =\n",
              "          document.querySelector('#df-c83daa2e-4127-4bff-9158-78710735d978 button.colab-df-convert');\n",
              "        buttonEl.style.display =\n",
              "          google.colab.kernel.accessAllowed ? 'block' : 'none';\n",
              "\n",
              "        async function convertToInteractive(key) {\n",
              "          const element = document.querySelector('#df-c83daa2e-4127-4bff-9158-78710735d978');\n",
              "          const dataTable =\n",
              "            await google.colab.kernel.invokeFunction('convertToInteractive',\n",
              "                                                     [key], {});\n",
              "          if (!dataTable) return;\n",
              "\n",
              "          const docLinkHtml = 'Like what you see? Visit the ' +\n",
              "            '<a target=\"_blank\" href=https://colab.research.google.com/notebooks/data_table.ipynb>data table notebook</a>'\n",
              "            + ' to learn more about interactive tables.';\n",
              "          element.innerHTML = '';\n",
              "          dataTable['output_type'] = 'display_data';\n",
              "          await google.colab.output.renderOutput(dataTable, element);\n",
              "          const docLink = document.createElement('div');\n",
              "          docLink.innerHTML = docLinkHtml;\n",
              "          element.appendChild(docLink);\n",
              "        }\n",
              "      </script>\n",
              "    </div>\n",
              "  </div>\n",
              "  "
            ]
          },
          "metadata": {},
          "execution_count": 8
        }
      ]
    },
    {
      "cell_type": "code",
      "source": [
        "# Splitting MALE gender by SURVEYQUESTIONESSENCEID\n",
        "\n",
        "pnta_inspire = PNTA[PNTA[\"SURVEYQUESTIONESSENCEID\"] == 30013]\n",
        "pnta_gain = PNTA[PNTA[\"SURVEYQUESTIONESSENCEID\"] == 30014]\n",
        "\n",
        "\n",
        "print(pnta_inspire.iloc[[0,1,2,3,4],[1,2]], \"\\n\")\n",
        "print(pnta_gain.iloc[[0,1,2,3,4],[1,2]])"
      ],
      "metadata": {
        "colab": {
          "base_uri": "https://localhost:8080/"
        },
        "id": "GslOn4qGhxaH",
        "outputId": "bcfab323-a9eb-4cae-a1fb-ddb3e9639928"
      },
      "execution_count": 9,
      "outputs": [
        {
          "output_type": "stream",
          "name": "stdout",
          "text": [
            "                   GENDER  SURVEYQUESTIONESSENCEID\n",
            "7    prefer not to answer                    30013\n",
            "10   prefer not to answer                    30013\n",
            "81   prefer not to answer                    30013\n",
            "89   prefer not to answer                    30013\n",
            "165  prefer not to answer                    30013 \n",
            "\n",
            "                   GENDER  SURVEYQUESTIONESSENCEID\n",
            "70   prefer not to answer                    30014\n",
            "96   prefer not to answer                    30014\n",
            "113  prefer not to answer                    30014\n",
            "121  prefer not to answer                    30014\n",
            "125  prefer not to answer                    30014\n"
          ]
        }
      ]
    },
    {
      "cell_type": "markdown",
      "source": [
        "#TOKENIZATION"
      ],
      "metadata": {
        "id": "kJJybtzPittO"
      }
    },
    {
      "cell_type": "code",
      "source": [
        "def sent_to_words(sentences):\n",
        "    for sentence in sentences:\n",
        "        yield(gensim.utils.simple_preprocess(str(sentence), deacc=True))\n",
        "\n",
        "pnta_inspire_words = list(sent_to_words(pnta_inspire[\"COMMENT\"]))\n",
        "\n",
        "pnta_gain_words = list(sent_to_words(pnta_gain[\"COMMENT\"]))\n",
        "\n",
        "print(pnta_inspire_words[:1],\"\\n\")\n",
        "\n",
        "print(pnta_gain_words[:1])"
      ],
      "metadata": {
        "colab": {
          "base_uri": "https://localhost:8080/"
        },
        "id": "pGfvWNTbiVkV",
        "outputId": "7eb2dca6-9fc0-4bf6-f2cb-da8432f025c4"
      },
      "execution_count": 10,
      "outputs": [
        {
          "output_type": "stream",
          "name": "stdout",
          "text": [
            "[['it', 'doesnt', 'you', 'have', 'manager', 'that', 'wife', 'works', 'as', 'regular', 'employee', 'but', 'they', 'can', 'get', 'away', 'with', 'anything']] \n",
            "\n",
            "[['talk', 'less', 'listen', 'more']]\n"
          ]
        }
      ]
    },
    {
      "cell_type": "markdown",
      "source": [
        "#Forming Bigrams in Datasets"
      ],
      "metadata": {
        "id": "4l9L8lmFjalk"
      }
    },
    {
      "cell_type": "code",
      "source": [
        "#Bigrams\n",
        "\n",
        "inspire_bigram = gensim.models.Phrases(pnta_inspire_words, min_count=3,threshold=10)\n",
        "\n",
        "gain_bigram = gensim.models.Phrases(pnta_gain_words, min_count=3,threshold=10)"
      ],
      "metadata": {
        "id": "48oTBvUwjZ9t"
      },
      "execution_count": 11,
      "outputs": []
    },
    {
      "cell_type": "code",
      "source": [
        "bigram_mod_inspire = gensim.models.phrases.Phraser(inspire_bigram)\n",
        "\n",
        "bigram_mod_gain = gensim.models.phrases.Phraser(gain_bigram)"
      ],
      "metadata": {
        "id": "aOr07dfGjvSE"
      },
      "execution_count": 12,
      "outputs": []
    },
    {
      "cell_type": "code",
      "source": [
        "def make_inspire_bigrams(texts):\n",
        "    return [bigram_mod_inspire[doc] for doc in texts]\n",
        "\n",
        "def make_gain_bigrams(texts):\n",
        "    return [bigram_mod_gain[doc] for doc in texts]\n",
        "\n",
        "female_inspire_words = make_inspire_bigrams(pnta_inspire_words)\n",
        "\n",
        "female_gain_words = make_gain_bigrams(pnta_gain_words)"
      ],
      "metadata": {
        "id": "y_SSgbmjl4cb"
      },
      "execution_count": 13,
      "outputs": []
    },
    {
      "cell_type": "code",
      "source": [
        "print(pnta_inspire_words[0])\n",
        "\n",
        "print(pnta_gain_words[1])"
      ],
      "metadata": {
        "colab": {
          "base_uri": "https://localhost:8080/"
        },
        "id": "cWEtxxcIj6rg",
        "outputId": "1125ef50-1c0d-4ce5-d005-5b38a166d3de"
      },
      "execution_count": 14,
      "outputs": [
        {
          "output_type": "stream",
          "name": "stdout",
          "text": [
            "['it', 'doesnt', 'you', 'have', 'manager', 'that', 'wife', 'works', 'as', 'regular', 'employee', 'but', 'they', 'can', 'get', 'away', 'with', 'anything']\n",
            "['promote', 'people', 'to', 'positions', 'based', 'on', 'their', 'work', 'to', 'date', 'and', 'their', 'commitment', 'to', 'the', 'company']\n"
          ]
        }
      ]
    },
    {
      "cell_type": "code",
      "source": [
        "print(len(pnta_inspire_words))\n",
        "print(len(pnta_gain_words))"
      ],
      "metadata": {
        "colab": {
          "base_uri": "https://localhost:8080/"
        },
        "id": "zWMwF74vo1-h",
        "outputId": "3eb4e5ec-835a-42f2-fec1-28a4ec9b57a1"
      },
      "execution_count": 15,
      "outputs": [
        {
          "output_type": "stream",
          "name": "stdout",
          "text": [
            "9221\n",
            "15097\n"
          ]
        }
      ]
    },
    {
      "cell_type": "markdown",
      "source": [
        "#Removing Stop Words with manual list added and removal of bigrams from dataset"
      ],
      "metadata": {
        "id": "VH3eqH-wpxL-"
      }
    },
    {
      "cell_type": "code",
      "source": [
        "import spacy.cli\n",
        "spacy.cli.download(\"en_core_web_lg\")\n",
        "\n",
        "nlp = spacy.load('en_core_web_lg', disable = ['parser','ner'])\n",
        "\n",
        "print(nlp.Defaults.stop_words)"
      ],
      "metadata": {
        "colab": {
          "base_uri": "https://localhost:8080/"
        },
        "id": "J6mMxgOwp2qu",
        "outputId": "d0ced554-868a-4494-c197-fb95d240f07c"
      },
      "execution_count": 16,
      "outputs": [
        {
          "output_type": "stream",
          "name": "stdout",
          "text": [
            "\u001b[38;5;2m✔ Download and installation successful\u001b[0m\n",
            "You can now load the package via spacy.load('en_core_web_lg')\n",
            "{'myself', \"n't\", 'when', 'might', 'wherein', 'as', 'should', '‘s', 'get', 'everywhere', 'been', 'wherever', 'see', 'can', 'hereupon', 'against', 'only', 'though', 'put', 'some', 'all', 'used', 'a', 'whatever', 'do', 'ca', 'had', 'indeed', 'two', 'part', 'alone', 'up', 'there', 'no', '‘re', 'amount', 'for', 'much', 'except', 'neither', '’re', 'whole', 'during', 'on', 'make', 'just', 'once', 'onto', 'so', 'really', 'with', 'bottom', 'serious', 'beyond', 'if', 'was', 'again', 'my', 'after', 'former', 'not', 'across', 'call', 'him', 'six', 'seemed', 'say', 'keep', 'fifteen', 'top', 'latter', '’ll', 'nine', 'move', 'will', 'may', 'hundred', 'it', 'their', 'whenever', 'almost', 'out', 'whither', 'least', 'while', 'cannot', 'regarding', 'anyhow', \"'m\", 'nor', 'either', 'herein', 'whence', 'hence', 'this', 'per', 'sometime', \"'s\", 'ever', 'who', 'me', 'because', '’m', 'herself', 'i', 'above', 'here', 'below', 'from', 'both', 'yours', 'nevertheless', 'seeming', 'else', 'nowhere', 'whether', 'enough', 'could', 'did', 'although', 'seem', 'n’t', 'name', 'any', 'since', 'n‘t', 'last', 'same', 'another', 'mostly', 'yet', 'done', 'sixty', 'go', 'nobody', 'perhaps', 'already', 'ten', 'too', '‘d', 'of', 'via', 'more', 'her', 'latterly', 'be', 'eleven', 'our', 'namely', 'several', 'down', 'someone', 'other', 'hers', 'somewhere', 'that', 'well', 'give', '’d', 'first', 'himself', 'rather', 'his', 'am', 'without', 'yourself', 'she', 'fifty', \"'d\", 'around', 'take', 'than', 'about', 'us', 'itself', 'are', 'front', 'becoming', 'very', 'over', 'thereafter', '‘ve', 'others', 'forty', 'hereafter', 'further', \"'ll\", 'hereby', 'show', 'whereby', 'upon', 'to', 'four', 'must', 'each', 'otherwise', 'throughout', 'seems', 'many', 'together', 'also', 'whose', 'everyone', 'themselves', 'back', 'eight', 'through', 'where', 'the', 'still', 'quite', 'become', 'ours', 'noone', 'then', 'thereby', 'moreover', 'one', 'thence', '’ve', '’s', 'three', 'we', 'twenty', 'every', 'at', 'something', 'formerly', 'or', 'towards', 'nothing', 'therein', 'afterwards', 'you', 'and', 'under', 'elsewhere', '‘m', 'what', 'he', 'behind', 'these', 'off', \"'re\", 'its', 'amongst', 'why', 'which', 'none', 'however', \"'ve\", 'whereafter', 'among', 'sometimes', 'being', 'them', 'next', 'becomes', 'empty', 'became', 'is', 'along', 'often', '‘ll', 'even', 'those', 'everything', 'beside', 'due', 'own', 'beforehand', 'between', 'into', 'twelve', 'various', 'whereupon', 'side', 'anything', 'within', 'anyway', 'but', 'would', 'therefore', 'somehow', 'such', 'never', 'using', 'please', 'ourselves', 'yourselves', 're', 'whom', 'toward', 'how', 'your', 'thru', 'most', 'by', 'in', 'before', 'have', 'third', 'full', 'now', 'five', 'unless', 'does', 'besides', 'anywhere', 'mine', 'meanwhile', 'has', 'whoever', 'less', 'until', 'whereas', 'were', 'anyone', 'they', 'made', 'doing', 'an', 'thereupon', 'thus', 'few', 'always'}\n"
          ]
        }
      ]
    },
    {
      "cell_type": "code",
      "source": [
        "#Adding my own stop words to list to get a better topic model\n",
        "\n",
        "nlp.Defaults.stop_words |= {'employees', 'company', 'work', 'people', 'like', \n",
        "                            'feel', 'leadership','know', 'time', 'staff', \n",
        "                            'better', 'leader', 'good', 'team', 'don','confidence',\n",
        "                            'great', 'ceo', 'care', 'new', 'job', 'business',\n",
        "                            'things', 'listen', 'decisions','doesn','u'}"
      ],
      "metadata": {
        "id": "7Ur8SvQGqRU1"
      },
      "execution_count": 17,
      "outputs": []
    },
    {
      "cell_type": "code",
      "source": [
        "def remove_stopwords(texts):\n",
        "    return [[word for word in simple_preprocess(str(doc)) if word not in nlp.Defaults.stop_words] for doc in texts]"
      ],
      "metadata": {
        "id": "3cNbPJLlp7Ie"
      },
      "execution_count": 18,
      "outputs": []
    },
    {
      "cell_type": "code",
      "source": [
        "inspire_words_nostops = remove_stopwords(pnta_inspire_words)\n",
        "\n",
        "gain_words_nostops = remove_stopwords(pnta_gain_words)"
      ],
      "metadata": {
        "id": "3KnWLyjDp7Et"
      },
      "execution_count": 19,
      "outputs": []
    },
    {
      "cell_type": "code",
      "source": [
        "#Making bigrams with data set with not stop words\n",
        "\n",
        "inspire_nostops_bigrams = make_inspire_bigrams(inspire_words_nostops)\n",
        "\n",
        "gain_nostops_bigrams = make_gain_bigrams(gain_words_nostops)"
      ],
      "metadata": {
        "id": "xwQLgvXgqCaW"
      },
      "execution_count": 20,
      "outputs": []
    },
    {
      "cell_type": "code",
      "source": [
        "print(inspire_nostops_bigrams[0:5],\"\\n\")\n",
        "      \n",
        "print(gain_nostops_bigrams[0:5]) "
      ],
      "metadata": {
        "colab": {
          "base_uri": "https://localhost:8080/"
        },
        "id": "J_j5ZloQsSpb",
        "outputId": "ac6ee454-ea05-4171-f0ec-e9607eed12c1"
      },
      "execution_count": 21,
      "outputs": [
        {
          "output_type": "stream",
          "name": "stdout",
          "text": [
            "[['doesnt', 'manager', 'wife', 'works', 'regular', 'employee', 'away'], ['truly', 'understand', 'respect', 'position', 'day', 'day', 'lead', 'mean', 'fully', 'understand', 'position', 'interact', 'different', 'types', 'callers', 'stakeholders'], ['speaker'], ['genuine'], ['numbers', 'meritocracy']] \n",
            "\n",
            "[['talk'], ['promote', 'positions', 'based', 'date', 'commitment'], ['actions', 'improve', 'discipline', 'trust', 'teachers'], ['allow', 'timers', 'working', 'hours', 'receive', 'benefits', 'livable', 'wages', 'pandemic'], []]\n"
          ]
        }
      ]
    },
    {
      "cell_type": "markdown",
      "source": [
        "# Lemmatization"
      ],
      "metadata": {
        "id": "IJN10iPFtDZj"
      }
    },
    {
      "cell_type": "code",
      "source": [
        "def lemmatization(texts, allowed_postags=['NOUN','ADJ', 'VERB','ADV']):\n",
        "    texts_out = []\n",
        "    for sent in texts:\n",
        "        doc = nlp(\" \".join(sent)) \n",
        "        texts_out.append([token.lemma_ for token in doc if token.pos_ in allowed_postags])\n",
        "    return texts_out\n",
        "\n",
        "inspire_final_words = lemmatization(inspire_nostops_bigrams, allowed_postags = [\n",
        "    'NOUN','ADJ', 'VERB','ADV'])\n",
        "\n",
        "gain_final_words = lemmatization(gain_nostops_bigrams, allowed_postags = [\n",
        "    'NOUN','ADJ', 'VERB','ADV'])\n",
        "\n",
        "print(inspire_final_words[:1])\n",
        "print(gain_final_words[:1])"
      ],
      "metadata": {
        "colab": {
          "base_uri": "https://localhost:8080/"
        },
        "id": "XSDgMHxytFqb",
        "outputId": "02bb61da-ba27-4168-d2cd-78604be57167"
      },
      "execution_count": 22,
      "outputs": [
        {
          "output_type": "stream",
          "name": "stdout",
          "text": [
            "[['manager', 'wife', 'work', 'regular', 'employee', 'away']]\n",
            "[['talk']]\n"
          ]
        }
      ]
    },
    {
      "cell_type": "markdown",
      "source": [
        "#EDA"
      ],
      "metadata": {
        "id": "RzzGfEh426OM"
      }
    },
    {
      "cell_type": "code",
      "source": [
        "long_list_inspire = [item for sublist in inspire_final_words for item in sublist]   \n",
        "\n",
        "long_list_gain = [item for sublist in gain_final_words for item in sublist]   "
      ],
      "metadata": {
        "id": "5vErJEXLpog5"
      },
      "execution_count": 23,
      "outputs": []
    },
    {
      "cell_type": "code",
      "source": [
        "from nltk import word_tokenize, pos_tag\n",
        "import nltk\n",
        "nltk.download('punkt')\n",
        "nltk.download('averaged_perceptron_tagger')\n",
        "\n",
        "def vb_adj(text):\n",
        "    '''Given a string of text, tokenize the text and pull out only the nouns.'''\n",
        "    is_vb_adj = lambda pos: pos[:2] == 'VB' or pos[:2] == 'JJ'\n",
        "    tokenized = word_tokenize(text)\n",
        "    all_vbs_adj = [word for (word, pos) in pos_tag(tokenized) if is_vb_adj(pos)]\n",
        "    return ' '.join(all_vbs_adj) "
      ],
      "metadata": {
        "colab": {
          "base_uri": "https://localhost:8080/"
        },
        "id": "2GH4zE0_uzWb",
        "outputId": "567234ee-b311-4701-f014-9d39dbb3f535"
      },
      "execution_count": 24,
      "outputs": [
        {
          "output_type": "stream",
          "name": "stderr",
          "text": [
            "[nltk_data] Downloading package punkt to /root/nltk_data...\n",
            "[nltk_data]   Unzipping tokenizers/punkt.zip.\n",
            "[nltk_data] Downloading package averaged_perceptron_tagger to\n",
            "[nltk_data]     /root/nltk_data...\n",
            "[nltk_data]   Unzipping taggers/averaged_perceptron_tagger.zip.\n"
          ]
        }
      ]
    },
    {
      "cell_type": "code",
      "source": [
        "long_string_inspire = ' '.join(long_list_inspire)\n",
        "\n",
        "long_string_gain = ' '.join(long_list_gain)"
      ],
      "metadata": {
        "id": "485KRLzvwxxy"
      },
      "execution_count": 25,
      "outputs": []
    },
    {
      "cell_type": "code",
      "source": [
        "print(long_string_inspire[:50])"
      ],
      "metadata": {
        "colab": {
          "base_uri": "https://localhost:8080/"
        },
        "id": "QMCbon6ZxfQl",
        "outputId": "5b12f7ee-ca1f-4c40-b0c9-9311cadd5cc8"
      },
      "execution_count": 26,
      "outputs": [
        {
          "output_type": "stream",
          "name": "stdout",
          "text": [
            "manager wife work regular employee away truly unde\n"
          ]
        }
      ]
    },
    {
      "cell_type": "code",
      "source": [
        "inspire_verbs_adj = vb_adj(long_string_inspire)\n",
        "\n",
        "inspire_verbs_adj_tokens = word_tokenize(inspire_verbs_adj)\n",
        "\n",
        "gain_verbs_adj = vb_adj(long_string_gain)\n",
        "\n",
        "gain_verbs_adj_tokens = word_tokenize(gain_verbs_adj)"
      ],
      "metadata": {
        "id": "TBF0E--XvIpw"
      },
      "execution_count": 27,
      "outputs": []
    },
    {
      "cell_type": "code",
      "source": [
        "print(inspire_verbs_adj_tokens[:4])"
      ],
      "metadata": {
        "colab": {
          "base_uri": "https://localhost:8080/"
        },
        "id": "eeBNLmKPy5vs",
        "outputId": "234d18cc-9fc5-429e-c333-56b4d7ed3c6b"
      },
      "execution_count": 28,
      "outputs": [
        {
          "output_type": "stream",
          "name": "stdout",
          "text": [
            "['regular', 'understand', 'respect', 'lead']\n"
          ]
        }
      ]
    },
    {
      "cell_type": "code",
      "source": [
        "print(gain_verbs_adj_tokens[:4])"
      ],
      "metadata": {
        "colab": {
          "base_uri": "https://localhost:8080/"
        },
        "id": "keRIYD0A2a5L",
        "outputId": "7293eff5-3299-47fa-a57d-20bf66241d8d"
      },
      "execution_count": 29,
      "outputs": [
        {
          "output_type": "stream",
          "name": "stdout",
          "text": [
            "['improve', 'allow', 'receive', 'livable']\n"
          ]
        }
      ]
    },
    {
      "cell_type": "code",
      "source": [
        "print(len(inspire_verbs_adj_tokens))\n",
        "\n",
        "print(len(gain_verbs_adj_tokens))"
      ],
      "metadata": {
        "colab": {
          "base_uri": "https://localhost:8080/"
        },
        "id": "jXFMD5Ampodx",
        "outputId": "c611ccae-7a96-4c61-a7ad-994249a6def4"
      },
      "execution_count": 30,
      "outputs": [
        {
          "output_type": "stream",
          "name": "stdout",
          "text": [
            "20580\n",
            "59786\n"
          ]
        }
      ]
    },
    {
      "cell_type": "code",
      "source": [
        "from nltk.probability import FreqDist\n",
        "\n",
        "fd_inspire = FreqDist(inspire_verbs_adj_tokens)\n",
        "\n",
        "fd_gain = FreqDist(gain_verbs_adj_tokens)\n",
        "\n",
        "print(fd_inspire.tabulate(50))\n",
        "print(fd_gain.tabulate(50))"
      ],
      "metadata": {
        "colab": {
          "base_uri": "https://localhost:8080/"
        },
        "id": "nEHalrGq25zM",
        "outputId": "b617783e-1596-4bae-ea55-e8ed8ed2bfcf"
      },
      "execution_count": 31,
      "outputs": [
        {
          "output_type": "stream",
          "name": "stdout",
          "text": [
            "      believe          make          want         think          open            go      positive          good          know        strong          take       genuine          need      pandemic    understand  approachable       willing          come          hard          give     confident        listen          lead          grow    individual         smart          keep        honest      continue          hear       improve        future         clear knowledgeable           see         speak    personable    successful           try           say       succeed         right          sure       current       provide        appear       inspire       amazing        happen     important \n",
            "          432           366           328           306           275           267           252           250           248           224           206           193           189           184           180           170           167           163           162           147           134           133           132           132           131           131           130           124           123           117           111           110           108           108           105           102           101            99            90            85            83            82            80            79            79            79            77            77            76            75 \n",
            "None\n",
            "       need          go       think        want        come        make  understand        stop        give        hard      happen        sure        open     provide       leave        hear         say         get       allow        take    continue      follow     improve  individual        lose        have     believe   different     include        hold    pandemic        good        tell     current        lead        high         ask   important     present         see      honest      little       right        find       bring         let        able accountable        real         big \n",
            "        949         867         722         686         651         591         579         431         397         396         373         370         369         367         352         347         341         330         322         322         321         313         307         305         294         289         287         278         274         264         262         261         261         261         253         252         240         225         219         218         217         213         213         212         204         204         203         202         202         200 \n",
            "None\n"
          ]
        }
      ]
    },
    {
      "cell_type": "code",
      "source": [
        "import seaborn as sns\n",
        "sns.set_theme(style=\"ticks\")\n",
        "top_inspire = fd_inspire.most_common(50)\n",
        "\n",
        "fdist_inspire = pd.Series(dict(top_inspire))\n",
        "\n",
        "sns.set(rc = {'figure.figsize':(2,9)})\n",
        "pnta_inspire = sns.barplot(y=fdist_inspire.index, x=fdist_inspire.values, color='grey')\n",
        "pnta_inspire.set_title(\"Prefer Not To Answer TOP 50 words\\n--Survey Essence ID: 30013--\\n Question: 'What about the leader\\n of this company\\n inspires your confidence?'\", weight='bold')"
      ],
      "metadata": {
        "colab": {
          "base_uri": "https://localhost:8080/",
          "height": 633
        },
        "id": "nkMl9vqEOEB-",
        "outputId": "819a6772-c23a-4e1a-89ab-d5afb51e9b84"
      },
      "execution_count": 32,
      "outputs": [
        {
          "output_type": "execute_result",
          "data": {
            "text/plain": [
              "Text(0.5, 1.0, \"Prefer Not To Answer TOP 50 words\\n--Survey Essence ID: 30013--\\n Question: 'What about the leader\\n of this company\\n inspires your confidence?'\")"
            ]
          },
          "metadata": {},
          "execution_count": 32
        },
        {
          "output_type": "display_data",
          "data": {
            "text/plain": [
              "<Figure size 144x648 with 1 Axes>"
            ],
            "image/png": "[encoded data removed]"
          },
          "metadata": {}
        }
      ]
    },
    {
      "cell_type": "code",
      "source": [
        "sns.set_theme(style=\"ticks\")\n",
        "top_gain = fd_gain.most_common(50)\n",
        "\n",
        "fdist_gain = pd.Series(dict(top_gain))\n",
        "\n",
        "sns.set(rc = {'figure.figsize':(2,9)})\n",
        "pnta_gain = sns.barplot(y=fdist_gain.index, x=fdist_gain.values, color='black')\n",
        "pnta_gain.set_title(\"Prefer Not To Answer TOP 50 words\\n--Survey Essence ID: 30014--\\n Question: 'What could the leader\\n of this company do to\\n gain your full confidence?'\",weight='bold')"
      ],
      "metadata": {
        "colab": {
          "base_uri": "https://localhost:8080/",
          "height": 633
        },
        "id": "MAPodhNuOD9U",
        "outputId": "da921a16-f6d9-47dd-d8c1-4c09b63c60f6"
      },
      "execution_count": 33,
      "outputs": [
        {
          "output_type": "execute_result",
          "data": {
            "text/plain": [
              "Text(0.5, 1.0, \"Prefer Not To Answer TOP 50 words\\n--Survey Essence ID: 30014--\\n Question: 'What could the leader\\n of this company do to\\n gain your full confidence?'\")"
            ]
          },
          "metadata": {},
          "execution_count": 33
        },
        {
          "output_type": "display_data",
          "data": {
            "text/plain": [
              "<Figure size 144x648 with 1 Axes>"
            ],
            "image/png": "[encoded data removed]"
          },
          "metadata": {}
        }
      ]
    },
    {
      "cell_type": "code",
      "source": [
        "print(sum(fdist_inspire.values[:50]))\n",
        "print(sum(fdist_gain.values[:50]))"
      ],
      "metadata": {
        "colab": {
          "base_uri": "https://localhost:8080/"
        },
        "id": "PnSv5JtDOD6l",
        "outputId": "221b7549-6029-4dd0-8bbc-6b0dd6c2277e"
      },
      "execution_count": 34,
      "outputs": [
        {
          "output_type": "stream",
          "name": "stdout",
          "text": [
            "7802\n",
            "17216\n"
          ]
        }
      ]
    },
    {
      "cell_type": "code",
      "source": [
        "top_50_inspire = fd_inspire.most_common(50)\n",
        "top_50_gain = fd_gain.most_common(50)\n",
        "\n",
        "fdist_50_inspire = pd.Series(dict(top_50_inspire))\n",
        "fdist_50_gain = pd.Series(dict(top_50_gain))\n",
        "\n",
        "\n",
        "print(fdist_50_inspire.index[:50])\n",
        "print(fdist_50_gain.index[:50])"
      ],
      "metadata": {
        "colab": {
          "base_uri": "https://localhost:8080/"
        },
        "id": "iATfRByvODz1",
        "outputId": "3215b52b-ff30-4549-8822-e2ac60011df1"
      },
      "execution_count": 35,
      "outputs": [
        {
          "output_type": "stream",
          "name": "stdout",
          "text": [
            "Index(['believe', 'make', 'want', 'think', 'open', 'go', 'positive', 'good',\n",
            "       'know', 'strong', 'take', 'genuine', 'need', 'pandemic', 'understand',\n",
            "       'approachable', 'willing', 'come', 'hard', 'give', 'confident',\n",
            "       'listen', 'lead', 'grow', 'individual', 'smart', 'keep', 'honest',\n",
            "       'continue', 'hear', 'improve', 'future', 'clear', 'knowledgeable',\n",
            "       'see', 'speak', 'personable', 'successful', 'try', 'say', 'succeed',\n",
            "       'right', 'sure', 'current', 'provide', 'appear', 'inspire', 'amazing',\n",
            "       'happen', 'important'],\n",
            "      dtype='object')\n",
            "Index(['need', 'go', 'think', 'want', 'come', 'make', 'understand', 'stop',\n",
            "       'give', 'hard', 'happen', 'sure', 'open', 'provide', 'leave', 'hear',\n",
            "       'say', 'get', 'allow', 'take', 'continue', 'follow', 'improve',\n",
            "       'individual', 'lose', 'have', 'believe', 'different', 'include', 'hold',\n",
            "       'pandemic', 'good', 'tell', 'current', 'lead', 'high', 'ask',\n",
            "       'important', 'present', 'see', 'honest', 'little', 'right', 'find',\n",
            "       'bring', 'let', 'able', 'accountable', 'real', 'big'],\n",
            "      dtype='object')\n"
          ]
        }
      ]
    },
    {
      "cell_type": "code",
      "source": [
        "#Adding words to stop list that are common to both lists\n",
        "\n",
        "inspire_top_50 = ['believe', 'make', 'want', 'think', 'open', 'go', 'positive', 'good',\n",
        "       'know', 'strong', 'take', 'genuine', 'need', 'pandemic', 'understand',\n",
        "       'approachable', 'willing', 'come', 'hard', 'give', 'confident',\n",
        "       'listen', 'lead', 'grow', 'individual', 'smart', 'keep', 'honest',\n",
        "       'continue', 'hear', 'improve', 'future', 'clear', 'knowledgeable',\n",
        "       'see', 'speak', 'personable', 'successful', 'try', 'say', 'succeed',\n",
        "       'right', 'sure', 'current', 'provide', 'appear', 'inspire', 'amazing',\n",
        "       'happen', 'important']\n",
        "\n",
        "gain_top_50 = ['need', 'go', 'think', 'want', 'come', 'make', 'understand', 'stop',\n",
        "       'give', 'hard', 'happen', 'sure', 'open', 'provide', 'leave', 'hear',\n",
        "       'say', 'get', 'allow', 'take', 'continue', 'follow', 'improve',\n",
        "       'individual', 'lose', 'have', 'believe', 'different', 'include', 'hold',\n",
        "       'pandemic', 'good', 'tell', 'current', 'lead', 'high', 'ask',\n",
        "       'important', 'present', 'see', 'honest', 'little', 'right', 'find',\n",
        "       'bring', 'let', 'able', 'accountable', 'real', 'big']\n",
        "\n",
        "gain_inpspire_common_words = []\n",
        "\n",
        "for word in inspire_top_50:\n",
        "  if word in gain_top_50:\n",
        "    gain_inpspire_common_words.append(word) "
      ],
      "metadata": {
        "id": "9ETevFoVONlH"
      },
      "execution_count": 36,
      "outputs": []
    },
    {
      "cell_type": "code",
      "source": [
        "print(gain_inpspire_common_words) \n",
        "print(len(gain_inpspire_common_words)) \n",
        "\n",
        "#WORDS ADDED TO STOPWORD LIST"
      ],
      "metadata": {
        "colab": {
          "base_uri": "https://localhost:8080/"
        },
        "id": "0tu0qbhwONh-",
        "outputId": "95cd056b-8619-4851-e1f0-f99fd5f8a191"
      },
      "execution_count": 37,
      "outputs": [
        {
          "output_type": "stream",
          "name": "stdout",
          "text": [
            "['believe', 'make', 'want', 'think', 'open', 'go', 'good', 'take', 'need', 'pandemic', 'understand', 'come', 'hard', 'give', 'lead', 'individual', 'honest', 'continue', 'hear', 'improve', 'see', 'say', 'right', 'sure', 'current', 'provide', 'happen', 'important']\n",
            "28\n"
          ]
        }
      ]
    },
    {
      "cell_type": "code",
      "source": [
        "nlp.Defaults.stop_words |= {'believe', 'make', 'want', 'think', 'open', 'go', \n",
        "                            'good', 'take', 'need', 'pandemic', 'understand', \n",
        "                            'come', 'hard', 'give', 'lead', 'individual', \n",
        "                            'honest', 'continue', 'hear', 'improve', 'see', \n",
        "                            'say', 'right', 'sure', 'current', 'provide', \n",
        "                            'happen', 'important','big','happen','look','live','sure',\n",
        "                            'real','stop','allow','current','little','different',\n",
        "                            'try','confident','big','try','right','live','current',\n",
        "                            'sure','run','little','allow','high',\n",
        "                            'bad','different','start','lead','real',\n",
        "                            'bring','hold','true','set','different','inspire','hold',\n",
        "                            'stop','little','follow','high','allow',\n",
        "                            'real','look','bad','expect','focus','present',\n",
        "                            'let','find','tell','start','ask','invest','big',\n",
        "                            'actual','actually'}"
      ],
      "metadata": {
        "id": "-1NzaT_LONe8"
      },
      "execution_count": 38,
      "outputs": []
    },
    {
      "cell_type": "code",
      "source": [
        "#stopwords were still being implemented in model had to remove again\n",
        "\n",
        "inspire_final_verbs_adj = remove_stopwords(inspire_verbs_adj_tokens)\n",
        "\n",
        "gain_final_verbs_adj = remove_stopwords(gain_verbs_adj_tokens)"
      ],
      "metadata": {
        "id": "qZom87qsP-Ls"
      },
      "execution_count": 39,
      "outputs": []
    },
    {
      "cell_type": "markdown",
      "source": [
        "# Creating corpus for Topic Modeling"
      ],
      "metadata": {
        "id": "ZbdeZuAIukk4"
      }
    },
    {
      "cell_type": "code",
      "source": [
        "id2inspire = corpora.Dictionary(inspire_final_verbs_adj)\n",
        "\n",
        "id2gain = corpora.Dictionary(gain_final_verbs_adj)\n",
        "\n",
        "inspire_texts = inspire_final_verbs_adj\n",
        "\n",
        "gain_texts = gain_final_verbs_adj\n",
        "\n",
        "inspire_corpus = [id2inspire.doc2bow(text) for text in inspire_texts]\n",
        "\n",
        "gain_corpus = [id2gain.doc2bow(text) for text in gain_texts]\n",
        "\n",
        "print(inspire_corpus[:1])\n",
        "print(gain_corpus[:1])"
      ],
      "metadata": {
        "colab": {
          "base_uri": "https://localhost:8080/"
        },
        "id": "nOpFji5kukUa",
        "outputId": "127ed91e-edfd-44cf-842e-8028110dfc6b"
      },
      "execution_count": 40,
      "outputs": [
        {
          "output_type": "stream",
          "name": "stdout",
          "text": [
            "[[(0, 1)]]\n",
            "[[]]\n"
          ]
        }
      ]
    },
    {
      "cell_type": "code",
      "source": [
        "lda_inspire_model = gensim.models.ldamodel.LdaModel(corpus=inspire_corpus,\n",
        "                                           id2word=id2inspire,\n",
        "                                           num_topics=2, \n",
        "                                           random_state=100,\n",
        "                                           update_every=1,\n",
        "                                           chunksize=100,\n",
        "                                           passes=3,\n",
        "                                           alpha='auto',\n",
        "                                           per_word_topics=True)\n",
        "\n",
        "\n",
        "lda_gain_model = gensim.models.ldamodel.LdaModel(corpus=gain_corpus,\n",
        "                                           id2word=id2gain,\n",
        "                                           num_topics=2, \n",
        "                                           random_state=100,\n",
        "                                           update_every=1,\n",
        "                                           chunksize=100,\n",
        "                                           passes=3,\n",
        "                                           alpha='auto',\n",
        "                                           per_word_topics=True)"
      ],
      "metadata": {
        "id": "xDekKLaOvYeB"
      },
      "execution_count": 41,
      "outputs": []
    },
    {
      "cell_type": "markdown",
      "source": [
        "# PNTA topics for those who answered\n",
        "\n",
        "# **\"What about the leader of this company inspires your confidence?\"**"
      ],
      "metadata": {
        "id": "29-rQVSQwc6f"
      }
    },
    {
      "cell_type": "code",
      "source": [
        "pprint(lda_inspire_model.print_topics())\n",
        "doc_inspire_lda = lda_inspire_model[inspire_corpus]"
      ],
      "metadata": {
        "colab": {
          "base_uri": "https://localhost:8080/"
        },
        "id": "nH-x6LTVwBXI",
        "outputId": "586938cf-6642-4f3c-d35a-c4ae69739c71"
      },
      "execution_count": 42,
      "outputs": [
        {
          "output_type": "stream",
          "name": "stdout",
          "text": [
            "[(0,\n",
            "  '0.034*\"positive\" + 0.030*\"strong\" + 0.027*\"speak\" + 0.024*\"approachable\" + '\n",
            "  '0.022*\"genuine\" + 0.018*\"willing\" + 0.016*\"grow\" + 0.016*\"personable\" + '\n",
            "  '0.011*\"available\" + 0.009*\"successful\"'),\n",
            " (1,\n",
            "  '0.023*\"knowledgeable\" + 0.021*\"smart\" + 0.014*\"future\" + 0.013*\"friendly\" + '\n",
            "  '0.013*\"succeed\" + 0.012*\"thoughtful\" + 0.011*\"clear\" + 0.011*\"handle\" + '\n",
            "  '0.008*\"professional\" + 0.008*\"appreciate\"')]\n"
          ]
        }
      ]
    },
    {
      "cell_type": "markdown",
      "source": [
        "# PNTA topics for those who answered\n",
        "\n",
        "# **\"What could the leader of this company do to gain your full confidence?\"**"
      ],
      "metadata": {
        "id": "uAh-C0BZwwot"
      }
    },
    {
      "cell_type": "code",
      "source": [
        "pprint(lda_gain_model.print_topics())\n",
        "doc_gain_lda = lda_gain_model[gain_corpus]"
      ],
      "metadata": {
        "colab": {
          "base_uri": "https://localhost:8080/"
        },
        "id": "a1QVt_MPw39n",
        "outputId": "ed6148e6-7ce8-4914-b300-81286a48d10d"
      },
      "execution_count": 43,
      "outputs": [
        {
          "output_type": "stream",
          "name": "stdout",
          "text": [
            "[(0,\n",
            "  '0.016*\"leave\" + 0.013*\"lose\" + 0.009*\"recognize\" + 0.009*\"salary\" + '\n",
            "  '0.009*\"transparent\" + 0.008*\"grow\" + 0.007*\"include\" + 0.007*\"help\" + '\n",
            "  '0.007*\"small\" + 0.007*\"speak\"'),\n",
            " (1,\n",
            "  '0.012*\"politic\" + 0.011*\"learn\" + 0.010*\"senior\" + 0.008*\"accountable\" + '\n",
            "  '0.008*\"personal\" + 0.008*\"pay\" + 0.007*\"spend\" + 0.007*\"change\" + '\n",
            "  '0.007*\"large\" + 0.007*\"positive\"')]\n"
          ]
        }
      ]
    },
    {
      "cell_type": "markdown",
      "source": [
        "# DATA VISUALIZATIONS"
      ],
      "metadata": {
        "id": "aibEw2o-w_ze"
      }
    },
    {
      "cell_type": "code",
      "source": [
        "!pip install pyLDAvis"
      ],
      "metadata": {
        "colab": {
          "base_uri": "https://localhost:8080/"
        },
        "id": "xZUqAUoGxCQ-",
        "outputId": "ed9866ee-d67e-4e89-a60e-9907726036f7"
      },
      "execution_count": 44,
      "outputs": [
        {
          "output_type": "stream",
          "name": "stdout",
          "text": [
            "Looking in indexes: https://pypi.org/simple, https://us-python.pkg.dev/colab-wheels/public/simple/\n",
            "Collecting pyLDAvis\n",
            "  Downloading pyLDAvis-3.3.1.tar.gz (1.7 MB)\n",
            "\u001b[K     |████████████████████████████████| 1.7 MB 16.9 MB/s \n",
            "\u001b[?25h  Installing build dependencies ... \u001b[?25l\u001b[?25hdone\n",
            "  Getting requirements to build wheel ... \u001b[?25l\u001b[?25hdone\n",
            "  Installing backend dependencies ... \u001b[?25l\u001b[?25hdone\n",
            "    Preparing wheel metadata ... \u001b[?25l\u001b[?25hdone\n",
            "Requirement already satisfied: future in /usr/local/lib/python3.7/dist-packages (from pyLDAvis) (0.16.0)\n",
            "Requirement already satisfied: sklearn in /usr/local/lib/python3.7/dist-packages (from pyLDAvis) (0.0)\n",
            "Requirement already satisfied: numpy>=1.20.0 in /usr/local/lib/python3.7/dist-packages (from pyLDAvis) (1.21.6)\n",
            "Requirement already satisfied: scipy in /usr/local/lib/python3.7/dist-packages (from pyLDAvis) (1.7.3)\n",
            "Requirement already satisfied: gensim in /usr/local/lib/python3.7/dist-packages (from pyLDAvis) (3.6.0)\n",
            "Collecting funcy\n",
            "  Downloading funcy-1.17-py2.py3-none-any.whl (33 kB)\n",
            "Requirement already satisfied: jinja2 in /usr/local/lib/python3.7/dist-packages (from pyLDAvis) (2.11.3)\n",
            "Requirement already satisfied: setuptools in /usr/local/lib/python3.7/dist-packages (from pyLDAvis) (57.4.0)\n",
            "Requirement already satisfied: joblib in /usr/local/lib/python3.7/dist-packages (from pyLDAvis) (1.1.0)\n",
            "Requirement already satisfied: scikit-learn in /usr/local/lib/python3.7/dist-packages (from pyLDAvis) (1.0.2)\n",
            "Requirement already satisfied: pandas>=1.2.0 in /usr/local/lib/python3.7/dist-packages (from pyLDAvis) (1.3.5)\n",
            "Requirement already satisfied: numexpr in /usr/local/lib/python3.7/dist-packages (from pyLDAvis) (2.8.3)\n",
            "Requirement already satisfied: pytz>=2017.3 in /usr/local/lib/python3.7/dist-packages (from pandas>=1.2.0->pyLDAvis) (2022.2)\n",
            "Requirement already satisfied: python-dateutil>=2.7.3 in /usr/local/lib/python3.7/dist-packages (from pandas>=1.2.0->pyLDAvis) (2.8.2)\n",
            "Requirement already satisfied: six>=1.5 in /usr/local/lib/python3.7/dist-packages (from python-dateutil>=2.7.3->pandas>=1.2.0->pyLDAvis) (1.15.0)\n",
            "Requirement already satisfied: smart-open>=1.2.1 in /usr/local/lib/python3.7/dist-packages (from gensim->pyLDAvis) (5.2.1)\n",
            "Requirement already satisfied: MarkupSafe>=0.23 in /usr/local/lib/python3.7/dist-packages (from jinja2->pyLDAvis) (2.0.1)\n",
            "Requirement already satisfied: packaging in /usr/local/lib/python3.7/dist-packages (from numexpr->pyLDAvis) (21.3)\n",
            "Requirement already satisfied: pyparsing!=3.0.5,>=2.0.2 in /usr/local/lib/python3.7/dist-packages (from packaging->numexpr->pyLDAvis) (3.0.9)\n",
            "Requirement already satisfied: threadpoolctl>=2.0.0 in /usr/local/lib/python3.7/dist-packages (from scikit-learn->pyLDAvis) (3.1.0)\n",
            "Building wheels for collected packages: pyLDAvis\n",
            "  Building wheel for pyLDAvis (PEP 517) ... \u001b[?25l\u001b[?25hdone\n",
            "  Created wheel for pyLDAvis: filename=pyLDAvis-3.3.1-py2.py3-none-any.whl size=136898 sha256=0b5e805220f1917671f11c9ee996e3540138f966d5bc094104f4afdd0d5b7ff9\n",
            "  Stored in directory: /root/.cache/pip/wheels/c9/21/f6/17bcf2667e8a68532ba2fbf6d5c72fdf4c7f7d9abfa4852d2f\n",
            "Successfully built pyLDAvis\n",
            "Installing collected packages: funcy, pyLDAvis\n",
            "Successfully installed funcy-1.17 pyLDAvis-3.3.1\n"
          ]
        }
      ]
    },
    {
      "cell_type": "code",
      "source": [
        "import pyLDAvis\n",
        "import pyLDAvis.gensim_models\n",
        "\n",
        "pyLDAvis.enable_notebook()\n",
        "inspire_vis = pyLDAvis.gensim_models.prepare(lda_inspire_model, inspire_corpus, id2inspire)\n",
        "inspire_vis"
      ],
      "metadata": {
        "colab": {
          "base_uri": "https://localhost:8080/",
          "height": 931
        },
        "id": "0Xpkyij-xEY-",
        "outputId": "861c2d25-b78c-4f89-dc5f-7887f8abe7ad"
      },
      "execution_count": 45,
      "outputs": [
        {
          "output_type": "stream",
          "name": "stderr",
          "text": [
            "/usr/local/lib/python3.7/dist-packages/past/types/oldstr.py:5: DeprecationWarning: Using or importing the ABCs from 'collections' instead of from 'collections.abc' is deprecated since Python 3.3,and in 3.9 it will stop working\n",
            "  from collections import Iterable\n",
            "/usr/local/lib/python3.7/dist-packages/pyLDAvis/_prepare.py:247: FutureWarning: In a future version of pandas all arguments of DataFrame.drop except for the argument 'labels' will be keyword-only\n",
            "  by='saliency', ascending=False).head(R).drop('saliency', 1)\n"
          ]
        },
        {
          "output_type": "execute_result",
          "data": {
            "text/plain": [
              "PreparedData(topic_coordinates=              x    y  topics  cluster       Freq\n",
              "topic                                           \n",
              "0      0.091006  0.0       1        1  50.800068\n",
              "1     -0.091006  0.0       2        1  49.199932, topic_info=              Term        Freq       Total Category  logprob  loglift\n",
              "39        positive  227.000000  227.000000  Default  30.0000  30.0000\n",
              "3           strong  202.000000  202.000000  Default  29.0000  29.0000\n",
              "135          speak  186.000000  186.000000  Default  28.0000  28.0000\n",
              "19    approachable  165.000000  165.000000  Default  27.0000  27.0000\n",
              "165  knowledgeable  154.000000  154.000000  Default  26.0000  26.0000\n",
              "..             ...         ...         ...      ...      ...      ...\n",
              "429         entire   32.619352   36.715682   Topic2  -5.2989   0.5910\n",
              "242      encourage   32.241638   36.767028   Topic2  -5.3105   0.5779\n",
              "256         engage   41.557912   56.817910   Topic2  -5.0567   0.3965\n",
              "407      difficult   32.799882   42.579978   Topic2  -5.2933   0.4483\n",
              "174      necessary   30.731213   48.439361   Topic2  -5.3585   0.2542\n",
              "\n",
              "[111 rows x 6 columns], token_table=      Topic      Freq        Term\n",
              "term                             \n",
              "254       1  0.048933        able\n",
              "254       2  0.978661        able\n",
              "270       1  0.701001  accessible\n",
              "270       2  0.300429  accessible\n",
              "408       1  0.636637       adapt\n",
              "...     ...       ...         ...\n",
              "92        2  0.912067     visible\n",
              "31        1  0.992870     willing\n",
              "31        2  0.008072     willing\n",
              "129       1  0.811157   wonderful\n",
              "129       2  0.162231   wonderful\n",
              "\n",
              "[162 rows x 3 columns], R=30, lambda_step=0.01, plot_opts={'xlab': 'PC1', 'ylab': 'PC2'}, topic_order=[1, 2])"
            ],
            "text/html": [
              "\n",
              "<link rel=\"stylesheet\" type=\"text/css\" href=\"https://cdn.jsdelivr.net/gh/bmabey/pyLDAvis@3.3.1/pyLDAvis/js/ldavis.v1.0.0.css\">\n",
              "\n",
              "\n",
              "<div id=\"ldavis_el581399844320933924735464289\"></div>\n",
              "<script type=\"text/javascript\">\n",
              "\n",
              "var ldavis_el581399844320933924735464289_data = {\"mdsDat\": {\"x\": [0.09100615013325693, -0.09100615013325693], \"y\": [0.0, 0.0], \"topics\": [1, 2], \"cluster\": [1, 1], \"Freq\": [50.80006750050675, 49.199932499493244]}, \"tinfo\": {\"Term\": [\"positive\", \"strong\", \"speak\", \"approachable\", \"knowledgeable\", \"genuine\", \"smart\", \"willing\", \"grow\", \"personable\", \"future\", \"succeed\", \"friendly\", \"thoughtful\", \"clear\", \"available\", \"successful\", \"handle\", \"personal\", \"strive\", \"professional\", \"appreciate\", \"amazing\", \"ensure\", \"excellent\", \"supportive\", \"direct\", \"build\", \"drive\", \"ethic\", \"positive\", \"strong\", \"genuine\", \"approachable\", \"willing\", \"grow\", \"speak\", \"personable\", \"successful\", \"available\", \"personal\", \"build\", \"strive\", \"overall\", \"involve\", \"learn\", \"mean\", \"easy\", \"encouraging\", \"consistent\", \"innovative\", \"stay\", \"strategic\", \"interact\", \"large\", \"impressive\", \"wonderful\", \"safe\", \"humble\", \"capable\", \"incredible\", \"serve\", \"accessible\", \"aware\", \"remain\", \"caring\", \"technical\", \"adapt\", \"forward_thinke\", \"human\", \"smart\", \"knowledgeable\", \"clear\", \"succeed\", \"thoughtful\", \"amazing\", \"future\", \"appear\", \"ensure\", \"update\", \"friendly\", \"excellent\", \"appreciate\", \"professional\", \"direct\", \"ethic\", \"financial\", \"supportive\", \"able\", \"respect\", \"understanding\", \"transparent\", \"intelligent\", \"best_interest\", \"inclusive\", \"patient\", \"drive\", \"tough\", \"possible\", \"effective\", \"handle\", \"lose\", \"solid\", \"visible\", \"previous\", \"afraid\", \"entire\", \"encourage\", \"engage\", \"difficult\", \"necessary\"], \"Freq\": [227.0, 202.0, 186.0, 165.0, 154.0, 149.0, 135.0, 123.0, 111.0, 111.0, 96.0, 88.0, 90.0, 77.0, 73.0, 74.0, 64.0, 73.0, 58.0, 58.0, 56.0, 55.0, 49.0, 50.0, 50.0, 50.0, 47.0, 47.0, 51.0, 44.0, 226.19556778422586, 201.4678653966053, 148.82693023369526, 164.04761549429205, 122.93224826010517, 110.58045476737412, 184.5402465273225, 109.50428768489964, 63.574677730177214, 73.37726859162065, 57.027189124576616, 46.6026976935975, 56.93964682527844, 33.63012403718327, 27.883135598467625, 38.653502906734104, 38.20098133960479, 20.708743826891933, 14.881158349806869, 43.08864987337545, 15.966853589615152, 29.13944636702927, 52.77083319718091, 22.335810073288958, 22.822863364773976, 11.12456070827253, 10.329097660136185, 7.83143762105295, 32.73035340105402, 36.51515969217848, 18.09356121678109, 20.244357569775637, 42.129981039392575, 41.695150586522374, 34.16078528194671, 38.56107099309927, 28.700984794911633, 31.55810445534681, 28.957504382472973, 28.225022579848776, 134.60890352628653, 152.68726449221853, 72.91871893521575, 86.80122461860704, 76.61257651918858, 48.49401233990133, 94.25803453142326, 30.380717980392088, 49.6811641305094, 28.552047684465748, 87.64313368964005, 48.99565745222935, 53.89027179241119, 54.605037049528306, 45.96616049075333, 42.908961193154205, 30.12905347260353, 48.82757716004858, 19.70567564328876, 19.684327458324898, 42.01838002333478, 19.921497936071425, 28.08993174497962, 16.325209475376166, 26.550035658589366, 35.739724872936534, 49.02707106248087, 31.23207697056124, 14.508808268736738, 26.12493823475425, 68.6017138048371, 44.14385498436417, 33.46513632780276, 34.157083784033745, 48.70343336870822, 50.53168116905401, 32.619351847667595, 32.24163775912139, 41.55791151265913, 32.79988208156005, 30.731213019126752], \"Total\": [227.0, 202.0, 186.0, 165.0, 154.0, 149.0, 135.0, 123.0, 111.0, 111.0, 96.0, 88.0, 90.0, 77.0, 73.0, 74.0, 64.0, 73.0, 58.0, 58.0, 56.0, 55.0, 49.0, 50.0, 50.0, 50.0, 47.0, 47.0, 51.0, 44.0, 227.20662791917516, 202.51436187344547, 149.76745222385446, 165.12243836210337, 123.88334812241737, 111.68493116380307, 186.67956334783275, 111.34524435747703, 64.68894969803942, 74.69049076481464, 58.06111341334444, 47.65069722126197, 58.23203516008425, 34.45226966162155, 28.843239707869213, 40.875147094488426, 41.01127471385652, 22.303957198852565, 16.362520181129888, 47.7997461152355, 17.783263534922163, 32.8312287074221, 60.34866529729994, 26.138103123708113, 26.746738637105388, 13.088185667165945, 12.328073568940482, 9.439752725344354, 40.497283428717786, 45.29344687450386, 22.667247230083163, 25.803309355988084, 59.91433067431164, 64.43465909017672, 51.34939791107419, 63.84761842037794, 42.28440008171374, 50.26412667946244, 43.305366151313436, 46.35076536130143, 135.66374003890138, 154.25260229985759, 73.78084583735122, 88.02902535389643, 77.82006156204845, 49.34840889279842, 96.39451726812334, 31.088338620519764, 50.89739390966407, 29.27728887407568, 90.00659354782029, 50.359896041734984, 55.44770938535873, 56.26050613350459, 47.38595214481279, 44.24106422040044, 31.06692310567889, 50.44358636195891, 20.436081007475547, 20.41759959625742, 43.665970174838556, 20.71842676026418, 29.220023753216147, 17.016491795198363, 27.720993156094046, 37.54030475671272, 51.59597867477962, 32.952170248127494, 15.367695173695832, 27.825050156686434, 73.29375696604903, 47.34557064670374, 36.0778860958638, 37.27796604787571, 56.16524533295351, 62.45686208769568, 36.71568235695001, 36.76702761115635, 56.8179098374331, 42.57997773558274, 48.43936089943361], \"Category\": [\"Default\", \"Default\", \"Default\", \"Default\", \"Default\", \"Default\", \"Default\", \"Default\", \"Default\", \"Default\", \"Default\", \"Default\", \"Default\", \"Default\", \"Default\", \"Default\", \"Default\", \"Default\", \"Default\", \"Default\", \"Default\", \"Default\", \"Default\", \"Default\", \"Default\", \"Default\", \"Default\", \"Default\", \"Default\", \"Default\", \"Topic1\", \"Topic1\", \"Topic1\", \"Topic1\", \"Topic1\", \"Topic1\", \"Topic1\", \"Topic1\", \"Topic1\", \"Topic1\", \"Topic1\", \"Topic1\", \"Topic1\", \"Topic1\", \"Topic1\", \"Topic1\", \"Topic1\", \"Topic1\", \"Topic1\", \"Topic1\", \"Topic1\", \"Topic1\", \"Topic1\", \"Topic1\", \"Topic1\", \"Topic1\", \"Topic1\", \"Topic1\", \"Topic1\", \"Topic1\", \"Topic1\", \"Topic1\", \"Topic1\", \"Topic1\", \"Topic1\", \"Topic1\", \"Topic1\", \"Topic1\", \"Topic1\", \"Topic1\", \"Topic2\", \"Topic2\", \"Topic2\", \"Topic2\", \"Topic2\", \"Topic2\", \"Topic2\", \"Topic2\", \"Topic2\", \"Topic2\", \"Topic2\", \"Topic2\", \"Topic2\", \"Topic2\", \"Topic2\", \"Topic2\", \"Topic2\", \"Topic2\", \"Topic2\", \"Topic2\", \"Topic2\", \"Topic2\", \"Topic2\", \"Topic2\", \"Topic2\", \"Topic2\", \"Topic2\", \"Topic2\", \"Topic2\", \"Topic2\", \"Topic2\", \"Topic2\", \"Topic2\", \"Topic2\", \"Topic2\", \"Topic2\", \"Topic2\", \"Topic2\", \"Topic2\", \"Topic2\", \"Topic2\"], \"logprob\": [30.0, 29.0, 28.0, 27.0, 26.0, 25.0, 24.0, 23.0, 22.0, 21.0, 20.0, 19.0, 18.0, 17.0, 16.0, 15.0, 14.0, 13.0, 12.0, 11.0, 10.0, 9.0, 8.0, 7.0, 6.0, 5.0, 4.0, 3.0, 2.0, 1.0, -3.3944, -3.5101, -3.813, -3.7156, -4.0041, -4.11, -3.5979, -4.1198, -4.6635, -4.5201, -4.7722, -4.9741, -4.7738, -5.3003, -5.4877, -5.1611, -5.1729, -5.7852, -6.1157, -5.0525, -6.0452, -5.4437, -4.8498, -5.7096, -5.688, -6.4066, -6.4808, -6.7576, -5.3275, -5.218, -5.9202, -5.8079, -5.075, -5.0854, -5.2847, -5.1635, -5.4588, -5.3639, -5.4499, -5.4756, -3.8814, -3.7554, -4.4944, -4.3201, -4.445, -4.9023, -4.2377, -5.3699, -4.8781, -5.432, -4.3105, -4.892, -4.7968, -4.7836, -4.9559, -5.0247, -5.3783, -4.8955, -5.8029, -5.8039, -5.0456, -5.792, -5.4483, -5.991, -5.5047, -5.2075, -4.8914, -5.3423, -6.109, -5.5209, -4.5554, -4.9963, -5.2733, -5.2528, -4.898, -4.8612, -5.2989, -5.3105, -5.0567, -5.2933, -5.3585], \"loglift\": [30.0, 29.0, 28.0, 27.0, 26.0, 25.0, 24.0, 23.0, 22.0, 21.0, 20.0, 19.0, 18.0, 17.0, 16.0, 15.0, 14.0, 13.0, 12.0, 11.0, 10.0, 9.0, 8.0, 7.0, 6.0, 5.0, 4.0, 3.0, 2.0, 1.0, 0.6728, 0.6721, 0.671, 0.6707, 0.6696, 0.6673, 0.6657, 0.6606, 0.6599, 0.6595, 0.6593, 0.655, 0.6548, 0.6531, 0.6434, 0.6214, 0.6063, 0.6031, 0.5824, 0.5735, 0.5695, 0.558, 0.5431, 0.5201, 0.5186, 0.5147, 0.5004, 0.4905, 0.4643, 0.4618, 0.4519, 0.4346, 0.3251, 0.242, 0.2697, 0.173, 0.2898, 0.2118, 0.2748, 0.1812, 0.7015, 0.6991, 0.6975, 0.6952, 0.6936, 0.6918, 0.6869, 0.6863, 0.6851, 0.6842, 0.6827, 0.6818, 0.6808, 0.6794, 0.6789, 0.6787, 0.6786, 0.6767, 0.6729, 0.6727, 0.6708, 0.6701, 0.6698, 0.6678, 0.6661, 0.6601, 0.6582, 0.6557, 0.6518, 0.6462, 0.6431, 0.6393, 0.6341, 0.6218, 0.5667, 0.4974, 0.591, 0.5779, 0.3965, 0.4483, 0.2542]}, \"token.table\": {\"Topic\": [1, 2, 1, 2, 1, 2, 1, 2, 1, 2, 1, 2, 1, 2, 1, 2, 1, 2, 1, 2, 1, 2, 1, 2, 1, 2, 1, 2, 1, 2, 1, 2, 1, 2, 1, 2, 1, 2, 1, 2, 1, 2, 1, 2, 1, 2, 1, 2, 1, 2, 1, 2, 1, 2, 1, 2, 1, 2, 1, 2, 1, 2, 1, 2, 1, 2, 1, 2, 1, 2, 1, 2, 1, 2, 1, 2, 1, 2, 1, 2, 1, 2, 1, 2, 1, 2, 1, 2, 1, 2, 1, 2, 1, 2, 1, 2, 1, 2, 1, 2, 1, 2, 1, 2, 1, 2, 1, 2, 1, 2, 1, 2, 1, 2, 1, 2, 1, 2, 1, 2, 1, 2, 1, 2, 1, 2, 1, 2, 1, 2, 1, 2, 1, 2, 1, 2, 1, 2, 1, 2, 1, 2, 1, 2, 1, 2, 1, 2, 1, 2, 1, 2, 1, 2, 1, 2, 1, 2, 1, 2, 1, 2], \"Freq\": [0.04893306107145488, 0.9786612214290975, 0.7010009045800384, 0.3004289591057307, 0.6366369439593779, 0.3780031854758806, 0.19213261119572098, 0.8165635975818141, 0.020264077858565637, 0.9726757372111506, 0.03216640207785028, 0.9649920623355084, 0.036070020243759805, 0.9738905465815149, 0.9932023874330034, 0.006056112118493923, 0.977366720348141, 0.013388585210248508, 0.6518231118631469, 0.35695075173458046, 0.058766519681934415, 0.9402643149109506, 0.9863444344110955, 0.020986051795980756, 0.8168952145001726, 0.19870424136490686, 0.6108293616093996, 0.39155728308294846, 0.013553653236837175, 0.9894166862891137, 0.8995863680182676, 0.10460306604863577, 0.23485216601330716, 0.7750121478439137, 0.021103300761879218, 0.9707518350464441, 0.058144066205423395, 0.9496864146885821, 0.9415369574453968, 0.08967018642337113, 0.07187767816186288, 0.9344098161042176, 0.1359914120031512, 0.8703450368201678, 0.9167291978223979, 0.06111527985482653, 0.2640012637374002, 0.7392035384647205, 0.019647371371800757, 0.9823685685900378, 0.10894527197157836, 0.8987984937655215, 0.02260343456066502, 0.9719476861085959, 0.01985707037940002, 0.9729964485906009, 0.03218857550193648, 0.9656572650580946, 0.6696629673715492, 0.32328557045523065, 0.022220594304987275, 0.9777061494194401, 0.02074806800927234, 0.9751591964358, 0.9948757075555551, 0.006677018171513793, 0.9938672911675209, 0.008953759379887577, 0.06821863425988776, 0.9414171527864512, 0.6040892697616034, 0.3883431019896022, 0.8148694728644132, 0.19754411463379715, 0.8404526249650834, 0.1528095681754697, 0.03607374361983005, 0.9739910777354113, 0.7940973077714987, 0.22058258549208296, 0.899722369214163, 0.11246529615177038, 0.0342231070188618, 0.9582469965281304, 0.8416831128057369, 0.15303329323740672, 0.9707647366797304, 0.03467016916713323, 0.012965745602865893, 0.9918795386192409, 0.8599179253986657, 0.14955094354759405, 0.9541250068127273, 0.04892948752885781, 0.06336389991761275, 0.9293371987916537, 0.9265744667809825, 0.07315061579849862, 0.37159862693833495, 0.6399754130604658, 0.9868725728068546, 0.029025663906083958, 0.05327607255618703, 0.9589693060113665, 0.9879182594170067, 0.017962150171218307, 0.9817241979878988, 0.017223231543647348, 0.994689292604596, 0.0044012800557725485, 0.06507156660106413, 0.9760734990159619, 0.12463223401773214, 0.872425638124125, 0.03554891588166762, 0.9775951867458595, 0.6621304510498932, 0.3310652255249466, 0.048977353840522056, 0.9795470768104412, 0.8474798263010822, 0.21186995657527055, 0.7750943773946062, 0.23252831321838185, 0.007371166383244716, 0.9951074617380367, 0.08315343066466244, 0.9146877373112868, 0.991002960807749, 0.010713545522245935, 0.8833053510861755, 0.12183522083947247, 0.8782298620674097, 0.1325629980479109, 0.9788426566803428, 0.017172678187374436, 0.9925222001075074, 0.004937921393569689, 0.011359889490764843, 0.9883103856965414, 0.9893498085645948, 0.015458590758821793, 0.03964825152694264, 0.9713821624100946, 0.6858321258894082, 0.33109137111902465, 0.012850156886636072, 0.9894620802709776, 0.06069402970851821, 0.9407574604820322, 0.04826621304653776, 0.9653242609307552, 0.045802257272470975, 0.9618474027218905, 0.034156168089917484, 0.9905288746076071, 0.08047649370534676, 0.9120669286605967, 0.9928695168817646, 0.00807210989334768, 0.8111567427042403, 0.16223134854084806], \"Term\": [\"able\", \"able\", \"accessible\", \"accessible\", \"adapt\", \"adapt\", \"afraid\", \"afraid\", \"amazing\", \"amazing\", \"appear\", \"appear\", \"appreciate\", \"appreciate\", \"approachable\", \"approachable\", \"available\", \"available\", \"aware\", \"aware\", \"best_interest\", \"best_interest\", \"build\", \"build\", \"capable\", \"capable\", \"caring\", \"caring\", \"clear\", \"clear\", \"consistent\", \"consistent\", \"difficult\", \"difficult\", \"direct\", \"direct\", \"drive\", \"drive\", \"easy\", \"easy\", \"effective\", \"effective\", \"encourage\", \"encourage\", \"encouraging\", \"encouraging\", \"engage\", \"engage\", \"ensure\", \"ensure\", \"entire\", \"entire\", \"ethic\", \"ethic\", \"excellent\", \"excellent\", \"financial\", \"financial\", \"forward_thinke\", \"forward_thinke\", \"friendly\", \"friendly\", \"future\", \"future\", \"genuine\", \"genuine\", \"grow\", \"grow\", \"handle\", \"handle\", \"human\", \"human\", \"humble\", \"humble\", \"impressive\", \"impressive\", \"inclusive\", \"inclusive\", \"incredible\", \"incredible\", \"innovative\", \"innovative\", \"intelligent\", \"intelligent\", \"interact\", \"interact\", \"involve\", \"involve\", \"knowledgeable\", \"knowledgeable\", \"large\", \"large\", \"learn\", \"learn\", \"lose\", \"lose\", \"mean\", \"mean\", \"necessary\", \"necessary\", \"overall\", \"overall\", \"patient\", \"patient\", \"personable\", \"personable\", \"personal\", \"personal\", \"positive\", \"positive\", \"possible\", \"possible\", \"previous\", \"previous\", \"professional\", \"professional\", \"remain\", \"remain\", \"respect\", \"respect\", \"safe\", \"safe\", \"serve\", \"serve\", \"smart\", \"smart\", \"solid\", \"solid\", \"speak\", \"speak\", \"stay\", \"stay\", \"strategic\", \"strategic\", \"strive\", \"strive\", \"strong\", \"strong\", \"succeed\", \"succeed\", \"successful\", \"successful\", \"supportive\", \"supportive\", \"technical\", \"technical\", \"thoughtful\", \"thoughtful\", \"tough\", \"tough\", \"transparent\", \"transparent\", \"understanding\", \"understanding\", \"update\", \"update\", \"visible\", \"visible\", \"willing\", \"willing\", \"wonderful\", \"wonderful\"]}, \"R\": 30, \"lambda.step\": 0.01, \"plot.opts\": {\"xlab\": \"PC1\", \"ylab\": \"PC2\"}, \"topic.order\": [1, 2]};\n",
              "\n",
              "function LDAvis_load_lib(url, callback){\n",
              "  var s = document.createElement('script');\n",
              "  s.src = url;\n",
              "  s.async = true;\n",
              "  s.onreadystatechange = s.onload = callback;\n",
              "  s.onerror = function(){console.warn(\"failed to load library \" + url);};\n",
              "  document.getElementsByTagName(\"head\")[0].appendChild(s);\n",
              "}\n",
              "\n",
              "if(typeof(LDAvis) !== \"undefined\"){\n",
              "   // already loaded: just create the visualization\n",
              "   !function(LDAvis){\n",
              "       new LDAvis(\"#\" + \"ldavis_el581399844320933924735464289\", ldavis_el581399844320933924735464289_data);\n",
              "   }(LDAvis);\n",
              "}else if(typeof define === \"function\" && define.amd){\n",
              "   // require.js is available: use it to load d3/LDAvis\n",
              "   require.config({paths: {d3: \"https://d3js.org/d3.v5\"}});\n",
              "   require([\"d3\"], function(d3){\n",
              "      window.d3 = d3;\n",
              "      LDAvis_load_lib(\"https://cdn.jsdelivr.net/gh/bmabey/pyLDAvis@3.3.1/pyLDAvis/js/ldavis.v3.0.0.js\", function(){\n",
              "        new LDAvis(\"#\" + \"ldavis_el581399844320933924735464289\", ldavis_el581399844320933924735464289_data);\n",
              "      });\n",
              "    });\n",
              "}else{\n",
              "    // require.js not available: dynamically load d3 & LDAvis\n",
              "    LDAvis_load_lib(\"https://d3js.org/d3.v5.js\", function(){\n",
              "         LDAvis_load_lib(\"https://cdn.jsdelivr.net/gh/bmabey/pyLDAvis@3.3.1/pyLDAvis/js/ldavis.v3.0.0.js\", function(){\n",
              "                 new LDAvis(\"#\" + \"ldavis_el581399844320933924735464289\", ldavis_el581399844320933924735464289_data);\n",
              "            })\n",
              "         });\n",
              "}\n",
              "</script>"
            ]
          },
          "metadata": {},
          "execution_count": 45
        }
      ]
    },
    {
      "cell_type": "code",
      "source": [
        "gain_vis = pyLDAvis.gensim_models.prepare(lda_gain_model, gain_corpus, id2gain)\n",
        "gain_vis"
      ],
      "metadata": {
        "colab": {
          "base_uri": "https://localhost:8080/",
          "height": 896
        },
        "id": "4ivJOJGCxVSO",
        "outputId": "3fa11182-c70a-4a9d-e81d-d5631c57b6e5"
      },
      "execution_count": 46,
      "outputs": [
        {
          "output_type": "stream",
          "name": "stderr",
          "text": [
            "/usr/local/lib/python3.7/dist-packages/pyLDAvis/_prepare.py:247: FutureWarning: In a future version of pandas all arguments of DataFrame.drop except for the argument 'labels' will be keyword-only\n",
            "  by='saliency', ascending=False).head(R).drop('saliency', 1)\n"
          ]
        },
        {
          "output_type": "execute_result",
          "data": {
            "text/plain": [
              "PreparedData(topic_coordinates=              x    y  topics  cluster       Freq\n",
              "topic                                           \n",
              "0      0.046218  0.0       1        1  50.151203\n",
              "1     -0.046218  0.0       2        1  49.848797, topic_info=              Term        Freq       Total Category  logprob  loglift\n",
              "102          leave  331.000000  331.000000  Default  30.0000  30.0000\n",
              "160        politic  247.000000  247.000000  Default  29.0000  29.0000\n",
              "6            learn  222.000000  222.000000  Default  28.0000  28.0000\n",
              "76            lose  263.000000  263.000000  Default  27.0000  27.0000\n",
              "161         senior  204.000000  204.000000  Default  26.0000  26.0000\n",
              "..             ...         ...         ...      ...      ...      ...\n",
              "332      political   85.240823  138.418547   Topic2  -5.4614   0.2114\n",
              "309      associate   93.318098  180.297692   Topic2  -5.3709   0.0376\n",
              "249  understanding   78.466724  125.329853   Topic2  -5.5442   0.2279\n",
              "486   professional   77.189583  146.890553   Topic2  -5.5606   0.0528\n",
              "656            low   77.878454  157.405117   Topic2  -5.5518  -0.0075\n",
              "\n",
              "[116 rows x 6 columns], token_table=      Topic      Freq         Term\n",
              "term                              \n",
              "147       1  0.011152         able\n",
              "147       2  0.992549         able\n",
              "44        1  0.005977  accountable\n",
              "44        2  0.992159  accountable\n",
              "157       1  0.073930          add\n",
              "...     ...       ...          ...\n",
              "22        2  0.023472         walk\n",
              "203       1  0.121786      willing\n",
              "203       2  0.893100      willing\n",
              "255       1  0.782199        wrong\n",
              "255       2  0.210592        wrong\n",
              "\n",
              "[166 rows x 3 columns], R=30, lambda_step=0.01, plot_opts={'xlab': 'PC1', 'ylab': 'PC2'}, topic_order=[1, 2])"
            ],
            "text/html": [
              "\n",
              "<link rel=\"stylesheet\" type=\"text/css\" href=\"https://cdn.jsdelivr.net/gh/bmabey/pyLDAvis@3.3.1/pyLDAvis/js/ldavis.v1.0.0.css\">\n",
              "\n",
              "\n",
              "<div id=\"ldavis_el581399844322930724957149879\"></div>\n",
              "<script type=\"text/javascript\">\n",
              "\n",
              "var ldavis_el581399844322930724957149879_data = {\"mdsDat\": {\"x\": [0.04621811051811116, -0.04621811051811116], \"y\": [0.0, 0.0], \"topics\": [1, 2], \"cluster\": [1, 1], \"Freq\": [50.15120317831452, 49.84879682168548]}, \"tinfo\": {\"Term\": [\"leave\", \"politic\", \"learn\", \"lose\", \"senior\", \"recognize\", \"accountable\", \"personal\", \"grow\", \"pay\", \"spend\", \"help\", \"include\", \"speak\", \"change\", \"direct\", \"large\", \"salary\", \"future\", \"nice\", \"covid\", \"raise\", \"encourage\", \"positive\", \"able\", \"mean\", \"small\", \"ensure\", \"fair\", \"remove\", \"recognize\", \"speak\", \"grow\", \"direct\", \"ensure\", \"raise\", \"help\", \"covid\", \"leave\", \"include\", \"walk\", \"lose\", \"daily\", \"human\", \"single\", \"fair\", \"feedback\", \"meeting\", \"salary\", \"small\", \"appreciate\", \"successful\", \"strong\", \"difficult\", \"poor\", \"send\", \"long\", \"negative\", \"wrong\", \"sell\", \"realize\", \"hire\", \"exist\", \"transparent\", \"respect\", \"appear\", \"promote\", \"address\", \"offer\", \"old\", \"equal\", \"associate\", \"low\", \"reduce\", \"accountable\", \"senior\", \"personal\", \"learn\", \"able\", \"politic\", \"spend\", \"pay\", \"change\", \"nice\", \"future\", \"visible\", \"large\", \"possible\", \"implement\", \"remove\", \"encourage\", \"add\", \"training\", \"receive\", \"close\", \"positive\", \"mean\", \"involve\", \"willing\", \"seek\", \"meaningful\", \"operate\", \"standard\", \"update\", \"clear\", \"certain\", \"financial\", \"corporate\", \"competitive\", \"interact\", \"equal\", \"political\", \"associate\", \"understanding\", \"professional\", \"low\"], \"Freq\": [331.0, 247.0, 222.0, 263.0, 204.0, 183.0, 167.0, 161.0, 163.0, 155.0, 147.0, 145.0, 151.0, 139.0, 142.0, 137.0, 142.0, 190.0, 108.0, 104.0, 105.0, 101.0, 120.0, 153.0, 89.0, 151.0, 155.0, 77.0, 92.0, 87.0, 181.63166465791852, 138.43600028592016, 161.53931241189767, 136.04382481100626, 76.19413030239322, 100.09667702084775, 143.92705257418822, 104.1136281270472, 325.86902611744347, 148.52488912718798, 41.104560440205034, 253.05212454051704, 24.572792286469266, 21.608754814314278, 29.994766648429465, 88.0953339761528, 50.9699949176553, 82.39779770849482, 172.82769246938298, 139.59783699264597, 72.83013471602993, 36.752481849060686, 83.59616069970883, 28.22019564324216, 83.02136766792741, 50.402131067770355, 108.39240264905811, 26.94858029320738, 78.26775614850737, 15.927335710924996, 54.40307548173271, 71.7486323304906, 99.07258718517386, 171.99391538804892, 69.6383344708253, 68.57009343001457, 88.5950718395766, 79.33584205838012, 78.98448458666618, 68.67255506408212, 115.03636926464931, 86.97959466269488, 79.52666251397152, 72.45701660456105, 166.04341255647847, 202.65533400237192, 160.13697671261573, 220.4374785426688, 88.73921056275293, 244.766689893663, 145.38894199600247, 153.31419897569418, 140.47067511969806, 103.21855258537579, 106.67603656767587, 55.882426514445, 139.4081184975709, 28.993132725101812, 25.29389120174867, 83.66599121152314, 114.92415092048873, 37.63477038658056, 89.21183383438168, 68.87666947758764, 79.10109372996895, 138.4372941891683, 136.6398137064126, 109.57489356163903, 43.51216607509497, 47.944534847695884, 46.466748393705615, 55.92622271333155, 61.9490341177905, 114.75107813624062, 132.56968757956858, 115.2504473208563, 72.07443214132272, 95.32381697249589, 82.20803990788744, 72.71331088639455, 127.52027040876429, 85.24082271562273, 93.31809778286109, 78.46672403556664, 77.18958332748346, 77.878454127595], \"Total\": [331.0, 247.0, 222.0, 263.0, 204.0, 183.0, 167.0, 161.0, 163.0, 155.0, 147.0, 145.0, 151.0, 139.0, 142.0, 137.0, 142.0, 190.0, 108.0, 104.0, 105.0, 101.0, 120.0, 153.0, 89.0, 151.0, 155.0, 77.0, 92.0, 87.0, 183.0012718606449, 139.6837893812367, 163.35171700546235, 137.7021496821019, 77.14288004801917, 101.35711175460771, 145.8576002820523, 105.84049480285564, 331.7165458408287, 151.46053722946706, 42.604060718316525, 263.2212942318311, 25.613771830781953, 22.558472516445672, 31.324362013221446, 92.13134346916479, 55.518796490096676, 90.37205849015201, 190.51639686381048, 155.05196568115096, 81.22240960993128, 41.1518194892116, 95.82945814089794, 32.478953991550746, 99.3948053450095, 61.76943028344075, 136.29965551222242, 34.26798732398156, 99.71891521860174, 20.859955619762186, 71.81351070616235, 95.1101616907768, 132.68365831273678, 248.52184108754452, 94.40276266325662, 92.7652855154093, 140.74461650911894, 120.89540228991342, 122.47302136721626, 99.64436669257564, 242.5566396734136, 180.29769244555598, 157.4051166415665, 116.07447018093741, 167.31192014610323, 204.30229394540592, 161.54344947307823, 222.48325074639195, 89.66809546938664, 247.51661611531065, 147.2161996398101, 155.24459621690153, 142.50051834355736, 104.71361466020464, 108.67942012402153, 56.980487438214354, 142.25036584345, 29.713567117969372, 26.295430566713026, 87.22862667541612, 120.25829707924704, 40.579022494162515, 98.05107833232341, 75.83542320911536, 87.16367636214426, 153.59238103941868, 151.63019733466814, 123.66684106351636, 49.26659015046832, 54.95930260017846, 53.59363938208256, 65.01566990954872, 76.07111933007373, 141.00273739150683, 163.66233232936938, 159.77599281291376, 94.21065329899048, 137.7081653426048, 114.5764391832046, 99.48305576420393, 242.5566396734136, 138.4185471238703, 180.29769244555598, 125.32985301518131, 146.89055308975287, 157.4051166415665], \"Category\": [\"Default\", \"Default\", \"Default\", \"Default\", \"Default\", \"Default\", \"Default\", \"Default\", \"Default\", \"Default\", \"Default\", \"Default\", \"Default\", \"Default\", \"Default\", \"Default\", \"Default\", \"Default\", \"Default\", \"Default\", \"Default\", \"Default\", \"Default\", \"Default\", \"Default\", \"Default\", \"Default\", \"Default\", \"Default\", \"Default\", \"Topic1\", \"Topic1\", \"Topic1\", \"Topic1\", \"Topic1\", \"Topic1\", \"Topic1\", \"Topic1\", \"Topic1\", \"Topic1\", \"Topic1\", \"Topic1\", \"Topic1\", \"Topic1\", \"Topic1\", \"Topic1\", \"Topic1\", \"Topic1\", \"Topic1\", \"Topic1\", \"Topic1\", \"Topic1\", \"Topic1\", \"Topic1\", \"Topic1\", \"Topic1\", \"Topic1\", \"Topic1\", \"Topic1\", \"Topic1\", \"Topic1\", \"Topic1\", \"Topic1\", \"Topic1\", \"Topic1\", \"Topic1\", \"Topic1\", \"Topic1\", \"Topic1\", \"Topic1\", \"Topic1\", \"Topic1\", \"Topic1\", \"Topic1\", \"Topic2\", \"Topic2\", \"Topic2\", \"Topic2\", \"Topic2\", \"Topic2\", \"Topic2\", \"Topic2\", \"Topic2\", \"Topic2\", \"Topic2\", \"Topic2\", \"Topic2\", \"Topic2\", \"Topic2\", \"Topic2\", \"Topic2\", \"Topic2\", \"Topic2\", \"Topic2\", \"Topic2\", \"Topic2\", \"Topic2\", \"Topic2\", \"Topic2\", \"Topic2\", \"Topic2\", \"Topic2\", \"Topic2\", \"Topic2\", \"Topic2\", \"Topic2\", \"Topic2\", \"Topic2\", \"Topic2\", \"Topic2\", \"Topic2\", \"Topic2\", \"Topic2\", \"Topic2\", \"Topic2\", \"Topic2\"], \"logprob\": [30.0, 29.0, 28.0, 27.0, 26.0, 25.0, 24.0, 23.0, 22.0, 21.0, 20.0, 19.0, 18.0, 17.0, 16.0, 15.0, 14.0, 13.0, 12.0, 11.0, 10.0, 9.0, 8.0, 7.0, 6.0, 5.0, 4.0, 3.0, 2.0, 1.0, -4.711, -4.9826, -4.8282, -5.0, -5.5797, -5.3068, -4.9437, -5.2675, -4.1265, -4.9122, -6.1968, -4.3794, -6.7113, -6.8399, -6.5119, -5.4345, -5.9817, -5.5014, -4.7607, -4.9742, -5.6248, -6.3088, -5.487, -6.5729, -5.4939, -5.9929, -5.2272, -6.619, -5.5528, -7.1449, -5.9165, -5.6398, -5.3171, -4.7655, -5.6696, -5.6851, -5.4289, -5.5393, -5.5437, -5.6836, -5.1677, -5.4473, -5.5369, -5.63, -4.7947, -4.5954, -4.8309, -4.5113, -5.4212, -4.4066, -4.9275, -4.8744, -4.9619, -5.2701, -5.2371, -5.8837, -4.9695, -6.5399, -6.6764, -5.4801, -5.1626, -6.279, -5.4159, -5.6746, -5.5362, -4.9765, -4.9896, -5.2103, -6.1339, -6.0369, -6.0682, -5.8829, -5.7806, -5.1641, -5.0198, -5.1598, -5.6292, -5.3496, -5.4977, -5.6204, -5.0586, -5.4614, -5.3709, -5.5442, -5.5606, -5.5518], \"loglift\": [30.0, 29.0, 28.0, 27.0, 26.0, 25.0, 24.0, 23.0, 22.0, 21.0, 20.0, 19.0, 18.0, 17.0, 16.0, 15.0, 14.0, 13.0, 12.0, 11.0, 10.0, 9.0, 8.0, 7.0, 6.0, 5.0, 4.0, 3.0, 2.0, 1.0, 0.6826, 0.6812, 0.679, 0.678, 0.6778, 0.6776, 0.6768, 0.6737, 0.6723, 0.6706, 0.6543, 0.6507, 0.6486, 0.6471, 0.6468, 0.6453, 0.6046, 0.5978, 0.5927, 0.5851, 0.5811, 0.5771, 0.5536, 0.5496, 0.5101, 0.4868, 0.461, 0.4498, 0.4479, 0.4203, 0.4125, 0.4083, 0.398, 0.3221, 0.3859, 0.3879, 0.2273, 0.2689, 0.2515, 0.3179, -0.0559, -0.0388, 0.0074, 0.2189, 0.6886, 0.6881, 0.6874, 0.6869, 0.6858, 0.685, 0.6837, 0.6837, 0.6818, 0.6818, 0.6776, 0.6767, 0.676, 0.6716, 0.6573, 0.6545, 0.6508, 0.6209, 0.6017, 0.5999, 0.5991, 0.5923, 0.5921, 0.5752, 0.572, 0.5596, 0.5535, 0.5456, 0.4908, 0.4902, 0.4855, 0.3695, 0.4283, 0.3283, 0.3642, 0.3827, 0.0532, 0.2114, 0.0376, 0.2279, 0.0528, -0.0075]}, \"token.table\": {\"Topic\": [1, 2, 1, 2, 1, 2, 1, 2, 1, 2, 1, 2, 1, 2, 1, 2, 1, 2, 1, 2, 1, 2, 1, 2, 1, 2, 1, 2, 1, 2, 1, 2, 1, 2, 1, 2, 1, 2, 1, 2, 1, 2, 1, 2, 1, 2, 1, 2, 1, 2, 1, 2, 1, 2, 1, 2, 1, 2, 1, 2, 1, 2, 1, 2, 1, 2, 1, 2, 1, 2, 1, 2, 1, 2, 1, 2, 1, 2, 1, 2, 1, 2, 1, 2, 1, 2, 1, 2, 1, 2, 1, 2, 1, 2, 1, 2, 1, 2, 1, 2, 1, 2, 1, 2, 1, 2, 1, 2, 1, 2, 1, 2, 1, 2, 1, 2, 1, 2, 1, 2, 1, 2, 1, 2, 1, 2, 1, 2, 1, 2, 1, 2, 1, 2, 1, 2, 1, 2, 1, 2, 1, 2, 1, 2, 1, 2, 1, 2, 1, 2, 1, 2, 1, 2, 1, 2, 1, 2, 1, 2, 1, 2, 1, 2, 1, 2], \"Freq\": [0.01115223865038382, 0.99254923988416, 0.005976860459952652, 0.9921588363521403, 0.07392982421968307, 0.9364444401159855, 0.6534574392709651, 0.34740775252380424, 0.7438127271061798, 0.2587174702978017, 0.8987667363056673, 0.09849498480062108, 0.48253529382396926, 0.5158135899497602, 0.28164431469183093, 0.7197576931013457, 0.014035036666871344, 0.982452566680994, 0.189414384842156, 0.8126488123873145, 0.0917813512908968, 0.906340843997606, 0.27928953132181805, 0.7156794240121587, 0.30499280776494264, 0.6898646842302274, 0.9826106746167065, 0.018896359127244355, 0.976037428816152, 0.03904149715264608, 0.8620967290782848, 0.12315667558261212, 0.9876389026167605, 0.014524101509070006, 0.04157717281415628, 0.9562749747255945, 0.9851848926653016, 0.012962959114017127, 0.4741160668899431, 0.5277117961905454, 0.7461355924228134, 0.2562485872967238, 0.955158111087922, 0.04341627777672373, 0.9186078089624524, 0.09005958911396592, 0.23351923831989543, 0.7642447799560214, 0.018402748171803485, 0.9845470271914863, 0.9917251129633541, 0.012243519913127828, 0.9872642887414838, 0.013712004010298385, 0.7570169025060349, 0.24182484385609448, 0.9752433363545102, 0.044329242561568644, 0.03802942102290138, 0.9507355255725346, 0.9837545985609487, 0.01980713956834125, 0.2714030021755239, 0.7337933021782682, 0.11320738752281607, 0.8894866162506977, 0.0210895766925589, 0.9771503867552291, 0.00898944074796801, 0.9888384822764812, 0.9827667750900441, 0.018087732056871978, 0.7923717752193093, 0.20542971950130243, 0.9611684371446455, 0.03799084731797018, 0.5082426906246714, 0.4955366233590546, 0.09892488609569632, 0.9035139596740263, 0.13061251448320643, 0.8583108094610707, 0.9073600996809835, 0.08852293655424229, 0.7879073767809163, 0.20427228286912644, 0.009549856561107139, 0.9836352257940353, 0.6450400187575255, 0.3510977317287797, 0.6924626277457298, 0.31110639797271916, 0.13842816681764572, 0.8613308157542401, 0.012882896079717198, 0.9855415500983656, 0.006190285048770445, 0.9904456078032713, 0.012120398408333075, 0.9898325366805345, 0.3828966645096374, 0.6140795562890411, 0.8350537003608844, 0.16097420729848375, 0.09766109424496992, 0.8984820670537234, 0.03365466004232279, 0.9759851412273607, 0.4765452816916599, 0.5241998098608258, 0.6323510071465762, 0.36946350979350523, 0.9866105916879975, 0.009866105916879975, 0.7519476414535773, 0.2367242574946447, 0.09230514848842572, 0.9098650351001965, 0.9945286070940133, 0.005464442896120952, 0.6202914377964945, 0.37906698976452446, 0.04585650551262583, 0.9629866157651424, 0.741503723251156, 0.2648227583039843, 0.9080583238390133, 0.09448005681561988, 0.12736697281121012, 0.873373527848298, 0.7670198485389879, 0.2396937026684337, 0.8094618935380417, 0.17808161657836916, 0.009789415289357662, 0.9936256518698027, 0.9577210219744473, 0.03192403406581491, 0.9029230902360578, 0.09674175966814905, 0.9879457065941907, 0.007159026859378193, 0.013585461415885928, 0.9849459526517298, 0.1840383068277698, 0.8150267873801235, 0.8765571842897713, 0.12522245489853875, 0.8991096981677799, 0.0972010484505708, 0.0917888936366044, 0.9076901704064213, 0.6920920883545649, 0.3098319232750087, 0.3750104134751267, 0.6223577074693593, 0.18439358328064692, 0.8155870029720921, 0.017549867418812974, 0.9827925754535265, 0.9623495814419657, 0.02347194101077965, 0.12178638671105525, 0.8931001692144052, 0.7821986413411138, 0.21059194189953065], \"Term\": [\"able\", \"able\", \"accountable\", \"accountable\", \"add\", \"add\", \"address\", \"address\", \"appear\", \"appear\", \"appreciate\", \"appreciate\", \"associate\", \"associate\", \"certain\", \"certain\", \"change\", \"change\", \"clear\", \"clear\", \"close\", \"close\", \"competitive\", \"competitive\", \"corporate\", \"corporate\", \"covid\", \"covid\", \"daily\", \"daily\", \"difficult\", \"difficult\", \"direct\", \"direct\", \"encourage\", \"encourage\", \"ensure\", \"ensure\", \"equal\", \"equal\", \"exist\", \"exist\", \"fair\", \"fair\", \"feedback\", \"feedback\", \"financial\", \"financial\", \"future\", \"future\", \"grow\", \"grow\", \"help\", \"help\", \"hire\", \"hire\", \"human\", \"human\", \"implement\", \"implement\", \"include\", \"include\", \"interact\", \"interact\", \"involve\", \"involve\", \"large\", \"large\", \"learn\", \"learn\", \"leave\", \"leave\", \"long\", \"long\", \"lose\", \"lose\", \"low\", \"low\", \"mean\", \"mean\", \"meaningful\", \"meaningful\", \"meeting\", \"meeting\", \"negative\", \"negative\", \"nice\", \"nice\", \"offer\", \"offer\", \"old\", \"old\", \"operate\", \"operate\", \"pay\", \"pay\", \"personal\", \"personal\", \"politic\", \"politic\", \"political\", \"political\", \"poor\", \"poor\", \"positive\", \"positive\", \"possible\", \"possible\", \"professional\", \"professional\", \"promote\", \"promote\", \"raise\", \"raise\", \"realize\", \"realize\", \"receive\", \"receive\", \"recognize\", \"recognize\", \"reduce\", \"reduce\", \"remove\", \"remove\", \"respect\", \"respect\", \"salary\", \"salary\", \"seek\", \"seek\", \"sell\", \"sell\", \"send\", \"send\", \"senior\", \"senior\", \"single\", \"single\", \"small\", \"small\", \"speak\", \"speak\", \"spend\", \"spend\", \"standard\", \"standard\", \"strong\", \"strong\", \"successful\", \"successful\", \"training\", \"training\", \"transparent\", \"transparent\", \"understanding\", \"understanding\", \"update\", \"update\", \"visible\", \"visible\", \"walk\", \"walk\", \"willing\", \"willing\", \"wrong\", \"wrong\"]}, \"R\": 30, \"lambda.step\": 0.01, \"plot.opts\": {\"xlab\": \"PC1\", \"ylab\": \"PC2\"}, \"topic.order\": [1, 2]};\n",
              "\n",
              "function LDAvis_load_lib(url, callback){\n",
              "  var s = document.createElement('script');\n",
              "  s.src = url;\n",
              "  s.async = true;\n",
              "  s.onreadystatechange = s.onload = callback;\n",
              "  s.onerror = function(){console.warn(\"failed to load library \" + url);};\n",
              "  document.getElementsByTagName(\"head\")[0].appendChild(s);\n",
              "}\n",
              "\n",
              "if(typeof(LDAvis) !== \"undefined\"){\n",
              "   // already loaded: just create the visualization\n",
              "   !function(LDAvis){\n",
              "       new LDAvis(\"#\" + \"ldavis_el581399844322930724957149879\", ldavis_el581399844322930724957149879_data);\n",
              "   }(LDAvis);\n",
              "}else if(typeof define === \"function\" && define.amd){\n",
              "   // require.js is available: use it to load d3/LDAvis\n",
              "   require.config({paths: {d3: \"https://d3js.org/d3.v5\"}});\n",
              "   require([\"d3\"], function(d3){\n",
              "      window.d3 = d3;\n",
              "      LDAvis_load_lib(\"https://cdn.jsdelivr.net/gh/bmabey/pyLDAvis@3.3.1/pyLDAvis/js/ldavis.v3.0.0.js\", function(){\n",
              "        new LDAvis(\"#\" + \"ldavis_el581399844322930724957149879\", ldavis_el581399844322930724957149879_data);\n",
              "      });\n",
              "    });\n",
              "}else{\n",
              "    // require.js not available: dynamically load d3 & LDAvis\n",
              "    LDAvis_load_lib(\"https://d3js.org/d3.v5.js\", function(){\n",
              "         LDAvis_load_lib(\"https://cdn.jsdelivr.net/gh/bmabey/pyLDAvis@3.3.1/pyLDAvis/js/ldavis.v3.0.0.js\", function(){\n",
              "                 new LDAvis(\"#\" + \"ldavis_el581399844322930724957149879\", ldavis_el581399844322930724957149879_data);\n",
              "            })\n",
              "         });\n",
              "}\n",
              "</script>"
            ]
          },
          "metadata": {},
          "execution_count": 46
        }
      ]
    },
    {
      "cell_type": "code",
      "source": [
        "pyLDAvis.save_html(inspire_vis, 'pnta_inspire.html')\n",
        "pyLDAvis.save_html(gain_vis, 'pnta_gain.html')"
      ],
      "metadata": {
        "id": "0iqZ7G2fL0eG"
      },
      "execution_count": 47,
      "outputs": []
    },
    {
      "cell_type": "markdown",
      "source": [
        "#WORD CLOUDS"
      ],
      "metadata": {
        "id": "CUC4xzrlxhbm"
      }
    },
    {
      "cell_type": "code",
      "source": [
        "import matplotlib.colors as mcolors\n",
        "from wordcloud import WordCloud\n",
        "from PIL import Image\n",
        "\n",
        "\n",
        "colsi = [color for name, color in mcolors.CSS4_COLORS.items()]\n",
        "\n",
        "x, y = np.ogrid[:290, :290]\n",
        "\n",
        "mask = (x - 150) ** 2 + (y - 150) ** 2 > 130 ** 2\n",
        "mask = 255 * mask.astype(int)\n",
        "\n",
        "cloud_inspire = WordCloud(background_color='grey',\n",
        "                  mask=mask,\n",
        "                  width=500,\n",
        "                  height=500,\n",
        "                  max_words=10,\n",
        "                  color_func=lambda *args, **kwargs: colsi[i+20],\n",
        "                  prefer_horizontal=1.0)\n",
        "\n",
        "topics = lda_inspire_model.show_topics(formatted=False)\n",
        "\n",
        "fig, axes = plt.subplots(1, 2, figsize=(16,3), sharex=True, sharey=True)\n",
        "\n",
        "for i, ax in enumerate(axes.flatten()):\n",
        "    fig.add_subplot(ax)\n",
        "    topic_words = dict(topics[i][1])\n",
        "    cloud_inspire.generate_from_frequencies(topic_words, max_font_size=300)\n",
        "    plt.gca().imshow(cloud_inspire)\n",
        "    plt.gca().set_title('Topic ' + str(i+1), fontdict=dict(size=16))\n",
        "    plt.gca().axis('off')\n",
        "\n",
        "fig.patch.set_facecolor('grey')\n",
        "fig.suptitle(\"TOPICS for \\nPrefer Not To Answer Option \\n\\n-- Survey Essence ID: 30013 --\\n\\nQuestion: 'What about the\\n leader of this company\\n inspires your confidence?'\",\n",
        "             fontweight='bold',y=0.8,fontsize=12)\n",
        "fig.tight_layout()\n",
        "plt.subplots_adjust(wspace=0, hspace=0)\n",
        "plt.axis('off')\n",
        "\n",
        "plt.imshow(cloud_inspire, interpolation=\"bilinear\")\n",
        "plt.margins(x=0, y=0)\n",
        "plt.tight_layout()\n",
        "plt.show()"
      ],
      "metadata": {
        "colab": {
          "base_uri": "https://localhost:8080/",
          "height": 221
        },
        "id": "sYRNwDUlxjRe",
        "outputId": "72734b2a-4c43-4cbe-d2b0-0cd82ecdac39"
      },
      "execution_count": 48,
      "outputs": [
        {
          "output_type": "display_data",
          "data": {
            "text/plain": [
              "<Figure size 1152x216 with 2 Axes>"
            ],
            "image/png": "[encoded data removed]"
          },
          "metadata": {}
        }
      ]
    },
    {
      "cell_type": "code",
      "source": [
        "colsd = [color for name, color in mcolors.TABLEAU_COLORS.items()]\n",
        "\n",
        "cloud_gain = WordCloud(background_color='black',\n",
        "                  width=500,\n",
        "                  height=500,\n",
        "                  max_words=100,\n",
        "                  mask=mask,\n",
        "                  color_func=lambda *args, **kwargs: colsd[i+3],\n",
        "                  prefer_horizontal=1.0)\n",
        "\n",
        "topics = lda_gain_model.show_topics(formatted=False)\n",
        "\n",
        "fig, axes = plt.subplots(1, 2, figsize=(15,3), sharex=True, sharey=True)\n",
        "\n",
        "for i, ax in enumerate(axes.flatten()):\n",
        "    fig.add_subplot(ax)\n",
        "    topic_words = dict(topics[i][1])\n",
        "    cloud_gain.generate_from_frequencies(topic_words, max_font_size=300)\n",
        "    plt.gca().imshow(cloud_gain)\n",
        "    plt.gca().set_title('Topic ' + str(i+1), fontdict=dict(size=16), color='white')\n",
        "    plt.gca().axis('off')\n",
        "\n",
        "fig.patch.set_facecolor('black')\n",
        "fig.suptitle(\"TOPICS for Prefer Not To Answer Option \\n\\n--Survey Essence ID: 30014--\\n\\nQuestion: 'What could the leader\\n of this company do to gain\\n your full confidence?'\",\n",
        "             fontweight='bold',y=0.8,fontsize=12, color='white')\n",
        "\n",
        "\n",
        "plt.subplots_adjust(wspace=0, hspace=0)\n",
        "plt.axis('off')\n",
        "plt.margins(x=0, y=0)\n",
        "plt.tight_layout()\n",
        "plt.show()"
      ],
      "metadata": {
        "colab": {
          "base_uri": "https://localhost:8080/",
          "height": 221
        },
        "id": "SkXKiGte1NFj",
        "outputId": "b3143c2d-cca5-4473-810c-f917a49f50a7"
      },
      "execution_count": 49,
      "outputs": [
        {
          "output_type": "display_data",
          "data": {
            "text/plain": [
              "<Figure size 1080x216 with 2 Axes>"
            ],
            "image/png": "[encoded data removed]"
          },
          "metadata": {}
        }
      ]
    }
  ]
}