{
  "nbformat": 4,
  "nbformat_minor": 0,
  "metadata": {
    "colab": {
      "name": "Male Comments.ipynb",
      "provenance": [],
      "collapsed_sections": [],
      "authorship_tag": "ABX9TyO5Qdd5uMrQhMSzC3Al94V+",
      "include_colab_link": true
    },
    "kernelspec": {
      "name": "python3",
      "display_name": "Python 3"
    },
    "language_info": {
      "name": "python"
    }
  },
  "cells": [
    {
      "cell_type": "markdown",
      "metadata": {
        "id": "view-in-github",
        "colab_type": "text"
      },
      "source": [
        "<a href=\"https://colab.research.google.com/github/EricDeop/NLP--Spacy-Preprocessing-/blob/Male-Comments/Male_Comments.ipynb\" target=\"_parent\"><img src=\"https://colab.research.google.com/assets/colab-badge.svg\" alt=\"Open In Colab\"/></a>"
      ]
    },
    {
      "cell_type": "code",
      "execution_count": 1,
      "metadata": {
        "colab": {
          "base_uri": "https://localhost:8080/",
          "height": 224
        },
        "id": "lXxDz9p0f3XD",
        "outputId": "cabc9b26-d81c-49e7-944c-bf9346269f8d"
      },
      "outputs": [
        {
          "output_type": "stream",
          "name": "stdout",
          "text": [
            "Mounted at /content/drive\n"
          ]
        },
        {
          "output_type": "execute_result",
          "data": {
            "text/plain": [
              "   SURVEYRESPONDERID AVERAGE_RESPONSE_DATE  YEAR  MONTH  GENDER  \\\n",
              "0           17296164                1/7/21  2021      1    Male   \n",
              "1           17311889                1/7/21  2021      1  Female   \n",
              "2           17334983                1/7/21  2021      1    Male   \n",
              "3           17340598                1/2/21  2021      1    Male   \n",
              "4           17340874                1/2/21  2021      1    Male   \n",
              "\n",
              "   SURVEYQUESTIONESSENCEID                                            COMMENT  \n",
              "0                    30013  Melvins professional demeanor and interpersona...  \n",
              "1                    30014             Proved better supervision and support.  \n",
              "2                    30013                                 Proven experience   \n",
              "3                    30014  Let the team do what they were hired to do, so...  \n",
              "4                    30013  They consistently look for opportunities to ma...  "
            ],
            "text/html": [
              "\n",
              "  <div id=\"df-93f45799-eaab-45b3-a942-d8c44dcecdba\">\n",
              "    <div class=\"colab-df-container\">\n",
              "      <div>\n",
              "<style scoped>\n",
              "    .dataframe tbody tr th:only-of-type {\n",
              "        vertical-align: middle;\n",
              "    }\n",
              "\n",
              "    .dataframe tbody tr th {\n",
              "        vertical-align: top;\n",
              "    }\n",
              "\n",
              "    .dataframe thead th {\n",
              "        text-align: right;\n",
              "    }\n",
              "</style>\n",
              "<table border=\"1\" class=\"dataframe\">\n",
              "  <thead>\n",
              "    <tr style=\"text-align: right;\">\n",
              "      <th></th>\n",
              "      <th>SURVEYRESPONDERID</th>\n",
              "      <th>AVERAGE_RESPONSE_DATE</th>\n",
              "      <th>YEAR</th>\n",
              "      <th>MONTH</th>\n",
              "      <th>GENDER</th>\n",
              "      <th>SURVEYQUESTIONESSENCEID</th>\n",
              "      <th>COMMENT</th>\n",
              "    </tr>\n",
              "  </thead>\n",
              "  <tbody>\n",
              "    <tr>\n",
              "      <th>0</th>\n",
              "      <td>17296164</td>\n",
              "      <td>1/7/21</td>\n",
              "      <td>2021</td>\n",
              "      <td>1</td>\n",
              "      <td>Male</td>\n",
              "      <td>30013</td>\n",
              "      <td>Melvins professional demeanor and interpersona...</td>\n",
              "    </tr>\n",
              "    <tr>\n",
              "      <th>1</th>\n",
              "      <td>17311889</td>\n",
              "      <td>1/7/21</td>\n",
              "      <td>2021</td>\n",
              "      <td>1</td>\n",
              "      <td>Female</td>\n",
              "      <td>30014</td>\n",
              "      <td>Proved better supervision and support.</td>\n",
              "    </tr>\n",
              "    <tr>\n",
              "      <th>2</th>\n",
              "      <td>17334983</td>\n",
              "      <td>1/7/21</td>\n",
              "      <td>2021</td>\n",
              "      <td>1</td>\n",
              "      <td>Male</td>\n",
              "      <td>30013</td>\n",
              "      <td>Proven experience</td>\n",
              "    </tr>\n",
              "    <tr>\n",
              "      <th>3</th>\n",
              "      <td>17340598</td>\n",
              "      <td>1/2/21</td>\n",
              "      <td>2021</td>\n",
              "      <td>1</td>\n",
              "      <td>Male</td>\n",
              "      <td>30014</td>\n",
              "      <td>Let the team do what they were hired to do, so...</td>\n",
              "    </tr>\n",
              "    <tr>\n",
              "      <th>4</th>\n",
              "      <td>17340874</td>\n",
              "      <td>1/2/21</td>\n",
              "      <td>2021</td>\n",
              "      <td>1</td>\n",
              "      <td>Male</td>\n",
              "      <td>30013</td>\n",
              "      <td>They consistently look for opportunities to ma...</td>\n",
              "    </tr>\n",
              "  </tbody>\n",
              "</table>\n",
              "</div>\n",
              "      <button class=\"colab-df-convert\" onclick=\"convertToInteractive('df-93f45799-eaab-45b3-a942-d8c44dcecdba')\"\n",
              "              title=\"Convert this dataframe to an interactive table.\"\n",
              "              style=\"display:none;\">\n",
              "        \n",
              "  <svg xmlns=\"http://www.w3.org/2000/svg\" height=\"24px\"viewBox=\"0 0 24 24\"\n",
              "       width=\"24px\">\n",
              "    <path d=\"M0 0h24v24H0V0z\" fill=\"none\"/>\n",
              "    <path d=\"M18.56 5.44l.94 2.06.94-2.06 2.06-.94-2.06-.94-.94-2.06-.94 2.06-2.06.94zm-11 1L8.5 8.5l.94-2.06 2.06-.94-2.06-.94L8.5 2.5l-.94 2.06-2.06.94zm10 10l.94 2.06.94-2.06 2.06-.94-2.06-.94-.94-2.06-.94 2.06-2.06.94z\"/><path d=\"M17.41 7.96l-1.37-1.37c-.4-.4-.92-.59-1.43-.59-.52 0-1.04.2-1.43.59L10.3 9.45l-7.72 7.72c-.78.78-.78 2.05 0 2.83L4 21.41c.39.39.9.59 1.41.59.51 0 1.02-.2 1.41-.59l7.78-7.78 2.81-2.81c.8-.78.8-2.07 0-2.86zM5.41 20L4 18.59l7.72-7.72 1.47 1.35L5.41 20z\"/>\n",
              "  </svg>\n",
              "      </button>\n",
              "      \n",
              "  <style>\n",
              "    .colab-df-container {\n",
              "      display:flex;\n",
              "      flex-wrap:wrap;\n",
              "      gap: 12px;\n",
              "    }\n",
              "\n",
              "    .colab-df-convert {\n",
              "      background-color: #E8F0FE;\n",
              "      border: none;\n",
              "      border-radius: 50%;\n",
              "      cursor: pointer;\n",
              "      display: none;\n",
              "      fill: #1967D2;\n",
              "      height: 32px;\n",
              "      padding: 0 0 0 0;\n",
              "      width: 32px;\n",
              "    }\n",
              "\n",
              "    .colab-df-convert:hover {\n",
              "      background-color: #E2EBFA;\n",
              "      box-shadow: 0px 1px 2px rgba(60, 64, 67, 0.3), 0px 1px 3px 1px rgba(60, 64, 67, 0.15);\n",
              "      fill: #174EA6;\n",
              "    }\n",
              "\n",
              "    [theme=dark] .colab-df-convert {\n",
              "      background-color: #3B4455;\n",
              "      fill: #D2E3FC;\n",
              "    }\n",
              "\n",
              "    [theme=dark] .colab-df-convert:hover {\n",
              "      background-color: #434B5C;\n",
              "      box-shadow: 0px 1px 3px 1px rgba(0, 0, 0, 0.15);\n",
              "      filter: drop-shadow(0px 1px 2px rgba(0, 0, 0, 0.3));\n",
              "      fill: #FFFFFF;\n",
              "    }\n",
              "  </style>\n",
              "\n",
              "      <script>\n",
              "        const buttonEl =\n",
              "          document.querySelector('#df-93f45799-eaab-45b3-a942-d8c44dcecdba button.colab-df-convert');\n",
              "        buttonEl.style.display =\n",
              "          google.colab.kernel.accessAllowed ? 'block' : 'none';\n",
              "\n",
              "        async function convertToInteractive(key) {\n",
              "          const element = document.querySelector('#df-93f45799-eaab-45b3-a942-d8c44dcecdba');\n",
              "          const dataTable =\n",
              "            await google.colab.kernel.invokeFunction('convertToInteractive',\n",
              "                                                     [key], {});\n",
              "          if (!dataTable) return;\n",
              "\n",
              "          const docLinkHtml = 'Like what you see? Visit the ' +\n",
              "            '<a target=\"_blank\" href=https://colab.research.google.com/notebooks/data_table.ipynb>data table notebook</a>'\n",
              "            + ' to learn more about interactive tables.';\n",
              "          element.innerHTML = '';\n",
              "          dataTable['output_type'] = 'display_data';\n",
              "          await google.colab.output.renderOutput(dataTable, element);\n",
              "          const docLink = document.createElement('div');\n",
              "          docLink.innerHTML = docLinkHtml;\n",
              "          element.appendChild(docLink);\n",
              "        }\n",
              "      </script>\n",
              "    </div>\n",
              "  </div>\n",
              "  "
            ]
          },
          "metadata": {},
          "execution_count": 1
        }
      ],
      "source": [
        "from google.colab import drive\n",
        "\n",
        "drive.mount('/content/drive')\n",
        "\n",
        "import numpy as np\n",
        "import pandas as pd\n",
        "\n",
        "path = \"/content/drive/MyDrive/LeaderComment.csv\"\n",
        "\n",
        "df = pd.read_csv(path)\n",
        "\n",
        "df.head()"
      ]
    },
    {
      "cell_type": "code",
      "source": [
        "#Importing necessary packages\n",
        "import spacy\n",
        "import re\n",
        "import string\n",
        "from pprint import pprint\n",
        "\n",
        "import gensim\n",
        "import gensim.corpora as corpora\n",
        "from gensim.utils import simple_preprocess\n",
        "from gensim.models import CoherenceModel\n",
        "\n",
        "import matplotlib.pyplot as plt\n",
        "%matplotlib inline"
      ],
      "metadata": {
        "id": "OHhXi18EgDdx"
      },
      "execution_count": 2,
      "outputs": []
    },
    {
      "cell_type": "markdown",
      "source": [
        "#Data Cleaning before splitting dataset to only male gender"
      ],
      "metadata": {
        "id": "5kdC93a2gMS1"
      }
    },
    {
      "cell_type": "code",
      "source": [
        "df['GENDER'] = df['GENDER'].str.lower()\n",
        "\n",
        "df = df.replace({'GENDER' : {'do not wish to disclose' : 'prefer not to answer',\n",
        "                        'cisgender' : 'gender not listed', 'm' : 'male', \n",
        "                        'f' : 'female'}})\n",
        "\n",
        "df = df[df[\"GENDER\"].str.contains(\n",
        "    \"non-binary|other gender|gender not listed|gender identity not listed|other gender\"\n",
        "    ) == False]\n",
        "\n",
        "print(\"\\n\")\n",
        "\n",
        "df['GENDER'].value_counts()"
      ],
      "metadata": {
        "colab": {
          "base_uri": "https://localhost:8080/"
        },
        "id": "m1SXWrfcgL9-",
        "outputId": "999e712c-913a-47de-d928-c4b20a7d5ad9"
      },
      "execution_count": 3,
      "outputs": [
        {
          "output_type": "stream",
          "name": "stdout",
          "text": [
            "\n",
            "\n"
          ]
        },
        {
          "output_type": "execute_result",
          "data": {
            "text/plain": [
              "female                  96071\n",
              "male                    84840\n",
              "prefer not to answer    24326\n",
              "Name: GENDER, dtype: int64"
            ]
          },
          "metadata": {},
          "execution_count": 3
        }
      ]
    },
    {
      "cell_type": "code",
      "source": [
        "#Removing duplicates\n",
        "#Survey responder ID - Duplicate survey ID indicates same person\n",
        "#cannot ascertain if duplicate comments exist that they are from the same person\n",
        "#left comments as is and the other columns too\n",
        "\n",
        "ids = df['SURVEYRESPONDERID']\n",
        "duplicates = ids[ids.duplicated()]\n",
        "\n",
        "print(\"Duplicate ID's :\", duplicates.value_counts().sum(),\"\\n\")\n",
        "\n",
        "df = df.drop_duplicates(subset=['SURVEYRESPONDERID'])\n",
        "print(\"Rows, Columns after Duplicate ID's removed: \",df.shape)"
      ],
      "metadata": {
        "colab": {
          "base_uri": "https://localhost:8080/"
        },
        "id": "a_d9u6cOgLAt",
        "outputId": "e45c2ac2-5fdd-4c11-9beb-6be17ee74d11"
      },
      "execution_count": 4,
      "outputs": [
        {
          "output_type": "stream",
          "name": "stdout",
          "text": [
            "Duplicate ID's : 24 \n",
            "\n",
            "Rows, Columns after Duplicate ID's removed:  (205213, 7)\n"
          ]
        }
      ]
    },
    {
      "cell_type": "code",
      "source": [
        "# Removing Nan Values\n",
        "\n",
        "print(df.isna().sum().sort_values(ascending = False))\n",
        "\n",
        "#NaN values only found in comment column\n",
        "#Removal of those 4 comments\n",
        "df = df.dropna()\n",
        "\n",
        "df.shape\n",
        "\n",
        "# Dropping AVERAGE_RESPONSE_DATE, YEAR, and MONTH columns as they will \n",
        "# not be relevant to this analysis\n",
        "\n",
        "df = df.drop(columns=['AVERAGE_RESPONSE_DATE', 'YEAR', 'MONTH'], axis=1)\n",
        "df.head()"
      ],
      "metadata": {
        "colab": {
          "base_uri": "https://localhost:8080/",
          "height": 345
        },
        "id": "AylOf0bYhCx3",
        "outputId": "259a742d-c1c8-4013-b513-341ac56c1d3f"
      },
      "execution_count": 5,
      "outputs": [
        {
          "output_type": "stream",
          "name": "stdout",
          "text": [
            "COMMENT                    4\n",
            "SURVEYRESPONDERID          0\n",
            "AVERAGE_RESPONSE_DATE      0\n",
            "YEAR                       0\n",
            "MONTH                      0\n",
            "GENDER                     0\n",
            "SURVEYQUESTIONESSENCEID    0\n",
            "dtype: int64\n"
          ]
        },
        {
          "output_type": "execute_result",
          "data": {
            "text/plain": [
              "   SURVEYRESPONDERID  GENDER  SURVEYQUESTIONESSENCEID  \\\n",
              "0           17296164    male                    30013   \n",
              "1           17311889  female                    30014   \n",
              "2           17334983    male                    30013   \n",
              "3           17340598    male                    30014   \n",
              "4           17340874    male                    30013   \n",
              "\n",
              "                                             COMMENT  \n",
              "0  Melvins professional demeanor and interpersona...  \n",
              "1             Proved better supervision and support.  \n",
              "2                                 Proven experience   \n",
              "3  Let the team do what they were hired to do, so...  \n",
              "4  They consistently look for opportunities to ma...  "
            ],
            "text/html": [
              "\n",
              "  <div id=\"df-e087d794-7c16-4520-bb6c-6e14f30cdea0\">\n",
              "    <div class=\"colab-df-container\">\n",
              "      <div>\n",
              "<style scoped>\n",
              "    .dataframe tbody tr th:only-of-type {\n",
              "        vertical-align: middle;\n",
              "    }\n",
              "\n",
              "    .dataframe tbody tr th {\n",
              "        vertical-align: top;\n",
              "    }\n",
              "\n",
              "    .dataframe thead th {\n",
              "        text-align: right;\n",
              "    }\n",
              "</style>\n",
              "<table border=\"1\" class=\"dataframe\">\n",
              "  <thead>\n",
              "    <tr style=\"text-align: right;\">\n",
              "      <th></th>\n",
              "      <th>SURVEYRESPONDERID</th>\n",
              "      <th>GENDER</th>\n",
              "      <th>SURVEYQUESTIONESSENCEID</th>\n",
              "      <th>COMMENT</th>\n",
              "    </tr>\n",
              "  </thead>\n",
              "  <tbody>\n",
              "    <tr>\n",
              "      <th>0</th>\n",
              "      <td>17296164</td>\n",
              "      <td>male</td>\n",
              "      <td>30013</td>\n",
              "      <td>Melvins professional demeanor and interpersona...</td>\n",
              "    </tr>\n",
              "    <tr>\n",
              "      <th>1</th>\n",
              "      <td>17311889</td>\n",
              "      <td>female</td>\n",
              "      <td>30014</td>\n",
              "      <td>Proved better supervision and support.</td>\n",
              "    </tr>\n",
              "    <tr>\n",
              "      <th>2</th>\n",
              "      <td>17334983</td>\n",
              "      <td>male</td>\n",
              "      <td>30013</td>\n",
              "      <td>Proven experience</td>\n",
              "    </tr>\n",
              "    <tr>\n",
              "      <th>3</th>\n",
              "      <td>17340598</td>\n",
              "      <td>male</td>\n",
              "      <td>30014</td>\n",
              "      <td>Let the team do what they were hired to do, so...</td>\n",
              "    </tr>\n",
              "    <tr>\n",
              "      <th>4</th>\n",
              "      <td>17340874</td>\n",
              "      <td>male</td>\n",
              "      <td>30013</td>\n",
              "      <td>They consistently look for opportunities to ma...</td>\n",
              "    </tr>\n",
              "  </tbody>\n",
              "</table>\n",
              "</div>\n",
              "      <button class=\"colab-df-convert\" onclick=\"convertToInteractive('df-e087d794-7c16-4520-bb6c-6e14f30cdea0')\"\n",
              "              title=\"Convert this dataframe to an interactive table.\"\n",
              "              style=\"display:none;\">\n",
              "        \n",
              "  <svg xmlns=\"http://www.w3.org/2000/svg\" height=\"24px\"viewBox=\"0 0 24 24\"\n",
              "       width=\"24px\">\n",
              "    <path d=\"M0 0h24v24H0V0z\" fill=\"none\"/>\n",
              "    <path d=\"M18.56 5.44l.94 2.06.94-2.06 2.06-.94-2.06-.94-.94-2.06-.94 2.06-2.06.94zm-11 1L8.5 8.5l.94-2.06 2.06-.94-2.06-.94L8.5 2.5l-.94 2.06-2.06.94zm10 10l.94 2.06.94-2.06 2.06-.94-2.06-.94-.94-2.06-.94 2.06-2.06.94z\"/><path d=\"M17.41 7.96l-1.37-1.37c-.4-.4-.92-.59-1.43-.59-.52 0-1.04.2-1.43.59L10.3 9.45l-7.72 7.72c-.78.78-.78 2.05 0 2.83L4 21.41c.39.39.9.59 1.41.59.51 0 1.02-.2 1.41-.59l7.78-7.78 2.81-2.81c.8-.78.8-2.07 0-2.86zM5.41 20L4 18.59l7.72-7.72 1.47 1.35L5.41 20z\"/>\n",
              "  </svg>\n",
              "      </button>\n",
              "      \n",
              "  <style>\n",
              "    .colab-df-container {\n",
              "      display:flex;\n",
              "      flex-wrap:wrap;\n",
              "      gap: 12px;\n",
              "    }\n",
              "\n",
              "    .colab-df-convert {\n",
              "      background-color: #E8F0FE;\n",
              "      border: none;\n",
              "      border-radius: 50%;\n",
              "      cursor: pointer;\n",
              "      display: none;\n",
              "      fill: #1967D2;\n",
              "      height: 32px;\n",
              "      padding: 0 0 0 0;\n",
              "      width: 32px;\n",
              "    }\n",
              "\n",
              "    .colab-df-convert:hover {\n",
              "      background-color: #E2EBFA;\n",
              "      box-shadow: 0px 1px 2px rgba(60, 64, 67, 0.3), 0px 1px 3px 1px rgba(60, 64, 67, 0.15);\n",
              "      fill: #174EA6;\n",
              "    }\n",
              "\n",
              "    [theme=dark] .colab-df-convert {\n",
              "      background-color: #3B4455;\n",
              "      fill: #D2E3FC;\n",
              "    }\n",
              "\n",
              "    [theme=dark] .colab-df-convert:hover {\n",
              "      background-color: #434B5C;\n",
              "      box-shadow: 0px 1px 3px 1px rgba(0, 0, 0, 0.15);\n",
              "      filter: drop-shadow(0px 1px 2px rgba(0, 0, 0, 0.3));\n",
              "      fill: #FFFFFF;\n",
              "    }\n",
              "  </style>\n",
              "\n",
              "      <script>\n",
              "        const buttonEl =\n",
              "          document.querySelector('#df-e087d794-7c16-4520-bb6c-6e14f30cdea0 button.colab-df-convert');\n",
              "        buttonEl.style.display =\n",
              "          google.colab.kernel.accessAllowed ? 'block' : 'none';\n",
              "\n",
              "        async function convertToInteractive(key) {\n",
              "          const element = document.querySelector('#df-e087d794-7c16-4520-bb6c-6e14f30cdea0');\n",
              "          const dataTable =\n",
              "            await google.colab.kernel.invokeFunction('convertToInteractive',\n",
              "                                                     [key], {});\n",
              "          if (!dataTable) return;\n",
              "\n",
              "          const docLinkHtml = 'Like what you see? Visit the ' +\n",
              "            '<a target=\"_blank\" href=https://colab.research.google.com/notebooks/data_table.ipynb>data table notebook</a>'\n",
              "            + ' to learn more about interactive tables.';\n",
              "          element.innerHTML = '';\n",
              "          dataTable['output_type'] = 'display_data';\n",
              "          await google.colab.output.renderOutput(dataTable, element);\n",
              "          const docLink = document.createElement('div');\n",
              "          docLink.innerHTML = docLinkHtml;\n",
              "          element.appendChild(docLink);\n",
              "        }\n",
              "      </script>\n",
              "    </div>\n",
              "  </div>\n",
              "  "
            ]
          },
          "metadata": {},
          "execution_count": 5
        }
      ]
    },
    {
      "cell_type": "code",
      "source": [
        "# Converting all text to lowercase and removing punctuations\n",
        "\n",
        "def clean_text(text):\n",
        "  text = text.lower()\n",
        "  text = re.sub(r'[^\\w\\s]',' ', text)\n",
        "  text = re.sub('\\[.*?\\#]', '', text)\n",
        "  text = re.sub('\\n', ' ', text)\n",
        "  text = re.sub('[%s]' % re.escape(string.punctuation), ' ', text)\n",
        "  return text\n",
        "\n",
        "cleaning = lambda x: clean_text(x)"
      ],
      "metadata": {
        "id": "NtWzhJVUhQb2"
      },
      "execution_count": 6,
      "outputs": []
    },
    {
      "cell_type": "code",
      "source": [
        "df_clean = pd.DataFrame(df['COMMENT'].apply(cleaning))\n",
        "\n",
        "df[\"COMMENT\"] = df_clean\n",
        "\n",
        "print(df['COMMENT'].head(10),\"\\n\")\n",
        "print(df['COMMENT'].tail(10))"
      ],
      "metadata": {
        "colab": {
          "base_uri": "https://localhost:8080/"
        },
        "id": "2qZt4ZuvhR2u",
        "outputId": "84987da9-8df3-4339-d05a-bebcf28abd94"
      },
      "execution_count": 7,
      "outputs": [
        {
          "output_type": "stream",
          "name": "stdout",
          "text": [
            "0    melvins professional demeanor and interpersona...\n",
            "1               proved better supervision and support \n",
            "2                                   proven experience \n",
            "3    let the team do what they were hired to do  so...\n",
            "4    they consistently look for opportunities to ma...\n",
            "5    willingness to terminate bad employees  commit...\n",
            "6    calm  fearless  godliness of character  respec...\n",
            "7    it doesnt  you have a manager that wife works ...\n",
            "8    quit pitting the different shifts and departme...\n",
            "9    pay me what i deserve based on my qualificatio...\n",
            "Name: COMMENT, dtype: object \n",
            "\n",
            "206951               good at communicating what is required\n",
            "206952                 employ composite industry managers  \n",
            "206953                        drug test and stick to policy\n",
            "206954                     passion and drive for results   \n",
            "206955    spend money in the right areas   stop employin...\n",
            "206956    his open and willingness to describe what is g...\n",
            "206957    howard makes sure that we feel safe and feel c...\n",
            "206958    be present  engage with management  make it a ...\n",
            "206959    change in leadership style  servant leadership...\n",
            "206960             they have made great decisions so far   \n",
            "Name: COMMENT, dtype: object\n"
          ]
        }
      ]
    },
    {
      "cell_type": "code",
      "source": [
        "#Splitting Original data to only MALE under GENDER column\n",
        "\n",
        "male = df[df[\"GENDER\"].str.match(\"male\") == True]\n",
        "\n",
        "male.head()"
      ],
      "metadata": {
        "colab": {
          "base_uri": "https://localhost:8080/",
          "height": 206
        },
        "id": "owgncwh1hldf",
        "outputId": "379f328c-8961-4995-f49f-fe88c925abe0"
      },
      "execution_count": 8,
      "outputs": [
        {
          "output_type": "execute_result",
          "data": {
            "text/plain": [
              "   SURVEYRESPONDERID GENDER  SURVEYQUESTIONESSENCEID  \\\n",
              "0           17296164   male                    30013   \n",
              "2           17334983   male                    30013   \n",
              "3           17340598   male                    30014   \n",
              "4           17340874   male                    30013   \n",
              "5           17341537   male                    30013   \n",
              "\n",
              "                                             COMMENT  \n",
              "0  melvins professional demeanor and interpersona...  \n",
              "2                                 proven experience   \n",
              "3  let the team do what they were hired to do  so...  \n",
              "4  they consistently look for opportunities to ma...  \n",
              "5  willingness to terminate bad employees  commit...  "
            ],
            "text/html": [
              "\n",
              "  <div id=\"df-4d100f11-8959-4bfb-b49d-f69a254997d2\">\n",
              "    <div class=\"colab-df-container\">\n",
              "      <div>\n",
              "<style scoped>\n",
              "    .dataframe tbody tr th:only-of-type {\n",
              "        vertical-align: middle;\n",
              "    }\n",
              "\n",
              "    .dataframe tbody tr th {\n",
              "        vertical-align: top;\n",
              "    }\n",
              "\n",
              "    .dataframe thead th {\n",
              "        text-align: right;\n",
              "    }\n",
              "</style>\n",
              "<table border=\"1\" class=\"dataframe\">\n",
              "  <thead>\n",
              "    <tr style=\"text-align: right;\">\n",
              "      <th></th>\n",
              "      <th>SURVEYRESPONDERID</th>\n",
              "      <th>GENDER</th>\n",
              "      <th>SURVEYQUESTIONESSENCEID</th>\n",
              "      <th>COMMENT</th>\n",
              "    </tr>\n",
              "  </thead>\n",
              "  <tbody>\n",
              "    <tr>\n",
              "      <th>0</th>\n",
              "      <td>17296164</td>\n",
              "      <td>male</td>\n",
              "      <td>30013</td>\n",
              "      <td>melvins professional demeanor and interpersona...</td>\n",
              "    </tr>\n",
              "    <tr>\n",
              "      <th>2</th>\n",
              "      <td>17334983</td>\n",
              "      <td>male</td>\n",
              "      <td>30013</td>\n",
              "      <td>proven experience</td>\n",
              "    </tr>\n",
              "    <tr>\n",
              "      <th>3</th>\n",
              "      <td>17340598</td>\n",
              "      <td>male</td>\n",
              "      <td>30014</td>\n",
              "      <td>let the team do what they were hired to do  so...</td>\n",
              "    </tr>\n",
              "    <tr>\n",
              "      <th>4</th>\n",
              "      <td>17340874</td>\n",
              "      <td>male</td>\n",
              "      <td>30013</td>\n",
              "      <td>they consistently look for opportunities to ma...</td>\n",
              "    </tr>\n",
              "    <tr>\n",
              "      <th>5</th>\n",
              "      <td>17341537</td>\n",
              "      <td>male</td>\n",
              "      <td>30013</td>\n",
              "      <td>willingness to terminate bad employees  commit...</td>\n",
              "    </tr>\n",
              "  </tbody>\n",
              "</table>\n",
              "</div>\n",
              "      <button class=\"colab-df-convert\" onclick=\"convertToInteractive('df-4d100f11-8959-4bfb-b49d-f69a254997d2')\"\n",
              "              title=\"Convert this dataframe to an interactive table.\"\n",
              "              style=\"display:none;\">\n",
              "        \n",
              "  <svg xmlns=\"http://www.w3.org/2000/svg\" height=\"24px\"viewBox=\"0 0 24 24\"\n",
              "       width=\"24px\">\n",
              "    <path d=\"M0 0h24v24H0V0z\" fill=\"none\"/>\n",
              "    <path d=\"M18.56 5.44l.94 2.06.94-2.06 2.06-.94-2.06-.94-.94-2.06-.94 2.06-2.06.94zm-11 1L8.5 8.5l.94-2.06 2.06-.94-2.06-.94L8.5 2.5l-.94 2.06-2.06.94zm10 10l.94 2.06.94-2.06 2.06-.94-2.06-.94-.94-2.06-.94 2.06-2.06.94z\"/><path d=\"M17.41 7.96l-1.37-1.37c-.4-.4-.92-.59-1.43-.59-.52 0-1.04.2-1.43.59L10.3 9.45l-7.72 7.72c-.78.78-.78 2.05 0 2.83L4 21.41c.39.39.9.59 1.41.59.51 0 1.02-.2 1.41-.59l7.78-7.78 2.81-2.81c.8-.78.8-2.07 0-2.86zM5.41 20L4 18.59l7.72-7.72 1.47 1.35L5.41 20z\"/>\n",
              "  </svg>\n",
              "      </button>\n",
              "      \n",
              "  <style>\n",
              "    .colab-df-container {\n",
              "      display:flex;\n",
              "      flex-wrap:wrap;\n",
              "      gap: 12px;\n",
              "    }\n",
              "\n",
              "    .colab-df-convert {\n",
              "      background-color: #E8F0FE;\n",
              "      border: none;\n",
              "      border-radius: 50%;\n",
              "      cursor: pointer;\n",
              "      display: none;\n",
              "      fill: #1967D2;\n",
              "      height: 32px;\n",
              "      padding: 0 0 0 0;\n",
              "      width: 32px;\n",
              "    }\n",
              "\n",
              "    .colab-df-convert:hover {\n",
              "      background-color: #E2EBFA;\n",
              "      box-shadow: 0px 1px 2px rgba(60, 64, 67, 0.3), 0px 1px 3px 1px rgba(60, 64, 67, 0.15);\n",
              "      fill: #174EA6;\n",
              "    }\n",
              "\n",
              "    [theme=dark] .colab-df-convert {\n",
              "      background-color: #3B4455;\n",
              "      fill: #D2E3FC;\n",
              "    }\n",
              "\n",
              "    [theme=dark] .colab-df-convert:hover {\n",
              "      background-color: #434B5C;\n",
              "      box-shadow: 0px 1px 3px 1px rgba(0, 0, 0, 0.15);\n",
              "      filter: drop-shadow(0px 1px 2px rgba(0, 0, 0, 0.3));\n",
              "      fill: #FFFFFF;\n",
              "    }\n",
              "  </style>\n",
              "\n",
              "      <script>\n",
              "        const buttonEl =\n",
              "          document.querySelector('#df-4d100f11-8959-4bfb-b49d-f69a254997d2 button.colab-df-convert');\n",
              "        buttonEl.style.display =\n",
              "          google.colab.kernel.accessAllowed ? 'block' : 'none';\n",
              "\n",
              "        async function convertToInteractive(key) {\n",
              "          const element = document.querySelector('#df-4d100f11-8959-4bfb-b49d-f69a254997d2');\n",
              "          const dataTable =\n",
              "            await google.colab.kernel.invokeFunction('convertToInteractive',\n",
              "                                                     [key], {});\n",
              "          if (!dataTable) return;\n",
              "\n",
              "          const docLinkHtml = 'Like what you see? Visit the ' +\n",
              "            '<a target=\"_blank\" href=https://colab.research.google.com/notebooks/data_table.ipynb>data table notebook</a>'\n",
              "            + ' to learn more about interactive tables.';\n",
              "          element.innerHTML = '';\n",
              "          dataTable['output_type'] = 'display_data';\n",
              "          await google.colab.output.renderOutput(dataTable, element);\n",
              "          const docLink = document.createElement('div');\n",
              "          docLink.innerHTML = docLinkHtml;\n",
              "          element.appendChild(docLink);\n",
              "        }\n",
              "      </script>\n",
              "    </div>\n",
              "  </div>\n",
              "  "
            ]
          },
          "metadata": {},
          "execution_count": 8
        }
      ]
    },
    {
      "cell_type": "code",
      "source": [
        "# Splitting MALE gender by SURVEYQUESTIONESSENCEID\n",
        "\n",
        "male_inspire = male[male[\"SURVEYQUESTIONESSENCEID\"] == 30013]\n",
        "male_gain = male[male[\"SURVEYQUESTIONESSENCEID\"] == 30014]\n",
        "\n",
        "\n",
        "print(male_inspire.iloc[[0,1,2,3,4],[1,2]], \"\\n\")\n",
        "print(male_gain.iloc[[0,1,2,3,4],[1,2]])"
      ],
      "metadata": {
        "colab": {
          "base_uri": "https://localhost:8080/"
        },
        "id": "GslOn4qGhxaH",
        "outputId": "770e1d46-655e-42be-e38f-a303be1815ab"
      },
      "execution_count": 9,
      "outputs": [
        {
          "output_type": "stream",
          "name": "stdout",
          "text": [
            "   GENDER  SURVEYQUESTIONESSENCEID\n",
            "0    male                    30013\n",
            "2    male                    30013\n",
            "4    male                    30013\n",
            "5    male                    30013\n",
            "13   male                    30013 \n",
            "\n",
            "   GENDER  SURVEYQUESTIONESSENCEID\n",
            "3    male                    30014\n",
            "9    male                    30014\n",
            "21   male                    30014\n",
            "22   male                    30014\n",
            "25   male                    30014\n"
          ]
        }
      ]
    },
    {
      "cell_type": "markdown",
      "source": [
        "#TOKENIZATION"
      ],
      "metadata": {
        "id": "kJJybtzPittO"
      }
    },
    {
      "cell_type": "code",
      "source": [
        "def sent_to_words(sentences):\n",
        "    for sentence in sentences:\n",
        "        yield(gensim.utils.simple_preprocess(str(sentence), deacc=True))\n",
        "\n",
        "male_inspire_words = list(sent_to_words(male_inspire[\"COMMENT\"]))\n",
        "\n",
        "male_gain_words = list(sent_to_words(male_gain[\"COMMENT\"]))\n",
        "\n",
        "print(male_inspire_words[:1],\"\\n\")\n",
        "\n",
        "print(male_gain_words[:1])"
      ],
      "metadata": {
        "colab": {
          "base_uri": "https://localhost:8080/"
        },
        "id": "pGfvWNTbiVkV",
        "outputId": "b2d65c08-9a55-4a00-da90-45a9f84be559"
      },
      "execution_count": 10,
      "outputs": [
        {
          "output_type": "stream",
          "name": "stdout",
          "text": [
            "[['melvins', 'professional', 'demeanor', 'and', 'interpersonal', 'skills', 'inspire', 'confidence']] \n",
            "\n",
            "[['let', 'the', 'team', 'do', 'what', 'they', 'were', 'hired', 'to', 'do', 'sometimes', 'it', 'feels', 'like', 'the', 'leaders', 'have', 'fomo', 'or', 'an', 'have', 'to', 'do', 'it', 'for', 'it', 'to', 'be', 'done', 'right', 'mentality']]\n"
          ]
        }
      ]
    },
    {
      "cell_type": "markdown",
      "source": [
        "#Forming Bigrams in Datasets"
      ],
      "metadata": {
        "id": "4l9L8lmFjalk"
      }
    },
    {
      "cell_type": "code",
      "source": [
        "#Bigrams\n",
        "\n",
        "inspire_bigram = gensim.models.Phrases(male_inspire_words, min_count=3,threshold=10)\n",
        "\n",
        "gain_bigram = gensim.models.Phrases(male_gain_words, min_count=3,threshold=20)"
      ],
      "metadata": {
        "id": "48oTBvUwjZ9t"
      },
      "execution_count": 11,
      "outputs": []
    },
    {
      "cell_type": "code",
      "source": [
        "bigram_mod_inspire = gensim.models.phrases.Phraser(inspire_bigram)\n",
        "\n",
        "bigram_mod_gain = gensim.models.phrases.Phraser(gain_bigram)"
      ],
      "metadata": {
        "id": "aOr07dfGjvSE"
      },
      "execution_count": 12,
      "outputs": []
    },
    {
      "cell_type": "code",
      "source": [
        "def make_inspire_bigrams(texts):\n",
        "    return [bigram_mod_inspire[doc] for doc in texts]\n",
        "\n",
        "def make_gain_bigrams(texts):\n",
        "    return [bigram_mod_gain[doc] for doc in texts]\n",
        "\n",
        "male_inspire_words = make_inspire_bigrams(male_inspire_words)\n",
        "\n",
        "male_gain_words = make_gain_bigrams(male_gain_words)"
      ],
      "metadata": {
        "id": "y_SSgbmjl4cb"
      },
      "execution_count": 13,
      "outputs": []
    },
    {
      "cell_type": "code",
      "source": [
        "print(male_inspire_words[0])\n",
        "\n",
        "print(male_gain_words[0])"
      ],
      "metadata": {
        "colab": {
          "base_uri": "https://localhost:8080/"
        },
        "id": "cWEtxxcIj6rg",
        "outputId": "f32d21a5-ae94-4100-9be3-ce4e69499fa7"
      },
      "execution_count": 14,
      "outputs": [
        {
          "output_type": "stream",
          "name": "stdout",
          "text": [
            "['melvins', 'professional', 'demeanor', 'and', 'interpersonal', 'skills', 'inspire_confidence']\n",
            "['let', 'the', 'team', 'do', 'what', 'they', 'were_hired', 'to', 'do', 'sometimes', 'it', 'feels_like', 'the', 'leaders', 'have', 'fomo', 'or', 'an', 'have', 'to', 'do', 'it', 'for', 'it', 'to', 'be', 'done', 'right', 'mentality']\n"
          ]
        }
      ]
    },
    {
      "cell_type": "code",
      "source": [
        "print(len(male_inspire_words))\n",
        "print(len(male_gain_words))"
      ],
      "metadata": {
        "colab": {
          "base_uri": "https://localhost:8080/"
        },
        "id": "zWMwF74vo1-h",
        "outputId": "e25abf18-ccd3-430d-bf79-bfaedb22a7f9"
      },
      "execution_count": 15,
      "outputs": [
        {
          "output_type": "stream",
          "name": "stdout",
          "text": [
            "49883\n",
            "34952\n"
          ]
        }
      ]
    },
    {
      "cell_type": "markdown",
      "source": [
        "#Removing Stop Words with manual list added and removal of bigrams from dataset"
      ],
      "metadata": {
        "id": "VH3eqH-wpxL-"
      }
    },
    {
      "cell_type": "code",
      "source": [
        "import spacy.cli\n",
        "spacy.cli.download(\"en_core_web_lg\")\n",
        "\n",
        "nlp = spacy.load('en_core_web_lg', disable = ['parser','ner'])\n",
        "\n",
        "print(nlp.Defaults.stop_words)"
      ],
      "metadata": {
        "colab": {
          "base_uri": "https://localhost:8080/"
        },
        "id": "J6mMxgOwp2qu",
        "outputId": "3846f549-67c5-4015-8a87-16eadf7705a3"
      },
      "execution_count": 16,
      "outputs": [
        {
          "output_type": "stream",
          "name": "stdout",
          "text": [
            "\u001b[38;5;2m✔ Download and installation successful\u001b[0m\n",
            "You can now load the package via spacy.load('en_core_web_lg')\n",
            "{'elsewhere', 'up', 'last', 'this', 'seeming', 'himself', 'which', 'however', 'therefore', 'a', 'since', 'again', \"'d\", 'between', 'for', 'others', 'anyone', 'besides', 'you', 'bottom', 'whence', 'except', 'otherwise', 'though', 'ten', 'amongst', 'yet', 'not', 'it', 'indeed', 'through', '‘re', 'the', 'very', 'both', 'she', 'someone', 'than', 'does', 'hereby', 'two', 'without', 'somewhere', 'always', '‘ve', 'together', 'above', 'used', 'beyond', 'either', 'via', 'eleven', 'more', 'none', 'other', 'be', 'such', \"'re\", 'become', 'twelve', '’re', 'own', '’m', 'thru', 'formerly', 'him', 'most', 'because', 'down', 'to', 'thereby', 'therein', 'but', 'was', 'three', 'by', 'we', 'former', 'why', 'serious', 'if', 'noone', 'could', 'although', 'am', 'behind', 'hereafter', 'his', 'neither', 'their', 'almost', 'were', 'n‘t', 'nowhere', 'done', 'five', 'as', 'been', 'eight', 'your', 'has', 'herein', 'made', \"'ve\", 'had', 'perhaps', 'becoming', 'some', 'within', 'well', 'one', 'already', 'its', 'four', 'moreover', 'next', 'became', 'nor', 'anyway', 'into', 'what', 'did', 'alone', 'many', 'move', 'with', 'several', 'herself', 'beforehand', 'toward', 'no', 'ever', 'them', 'twenty', 'my', 'whereafter', 'yours', '‘ll', 'hers', 'ours', 'seemed', 'enough', 're', 'all', 'then', 'much', 'now', 'he', 'during', 'less', 'amount', '‘m', 'yourself', 'around', 'hundred', 'somehow', 'even', 'forty', 'n’t', '’ve', 'thereupon', 'themselves', 'get', 'fifteen', 'against', 'front', 'i', 'me', '‘d', 'there', 'whenever', 'or', 'over', 'whether', 'else', 'show', 'sometime', \"'ll\", 'any', 'whole', 'those', 'from', 'itself', 'anything', 'call', 'wherever', 'thereafter', 'everything', 'thence', \"'s\", 'would', 'fifty', 'top', 'may', 'wherein', 'another', 'here', 'few', 'are', 'each', 'part', 'below', 'whereupon', 'nevertheless', 'full', 'third', 'can', 'same', 'anywhere', 'do', 'will', 'and', 'everywhere', 'us', '’s', '’ll', 'onto', 'under', 'cannot', 'name', 'they', 'out', 'everyone', 'should', 'whom', 'at', 'also', 'using', 'thus', 'on', 'really', 'namely', 'an', \"n't\", 'being', '’d', 'keep', 'throughout', 'never', 'please', 'latterly', 'whatever', 'doing', 'hence', '‘s', 'go', 'afterwards', 'quite', 'give', 'so', 'her', 'nothing', 'that', 'in', 'off', 'side', 'still', 'who', 'nine', 'upon', 'about', 'make', 'towards', 'back', 'while', 'empty', 'rather', 'due', 'too', 'when', 'often', 'nobody', 'anyhow', 'meanwhile', 'whither', 'mostly', 'take', 'how', \"'m\", 'our', 'along', 'these', 'sixty', 'sometimes', 'among', 'of', 'hereupon', 'regarding', 'latter', 'say', 'put', 'every', 'beside', 'where', 'seems', 'yourselves', 'across', 'is', 'only', 'might', 'ourselves', 'various', 'after', 'unless', 'mine', 'further', 'seem', 'must', 'before', 'whose', 'just', 'something', 'whereby', 'whoever', 'per', 'becomes', 'first', 'six', 'least', 'once', 'see', 'until', 'ca', 'have', 'whereas', 'myself'}\n"
          ]
        }
      ]
    },
    {
      "cell_type": "code",
      "source": [
        "#Adding my own stop words to list to get a better topic model\n",
        "\n",
        "nlp.Defaults.stop_words |= {'employee','employees', 'company', 'work', 'people', 'like', \n",
        "                            'feel', 'leadership','know', 'time', 'staff', \n",
        "                            'better', 'leader', 'good', 'team', 'don','confidence',\n",
        "                            'great', 'ceo', 'care', 'new', 'job', 'business',\n",
        "                            'things', 'listen', 'decisions','doesn','u','come'}"
      ],
      "metadata": {
        "id": "7Ur8SvQGqRU1"
      },
      "execution_count": 17,
      "outputs": []
    },
    {
      "cell_type": "code",
      "source": [
        "def remove_stopwords(texts):\n",
        "    return [[word for word in simple_preprocess(str(doc)) if word not in nlp.Defaults.stop_words] for doc in texts]"
      ],
      "metadata": {
        "id": "3cNbPJLlp7Ie"
      },
      "execution_count": 18,
      "outputs": []
    },
    {
      "cell_type": "code",
      "source": [
        "inspire_words_nostops = remove_stopwords(male_inspire_words)\n",
        "\n",
        "gain_words_nostops = remove_stopwords(male_gain_words)"
      ],
      "metadata": {
        "id": "3KnWLyjDp7Et"
      },
      "execution_count": 19,
      "outputs": []
    },
    {
      "cell_type": "code",
      "source": [
        "print(inspire_words_nostops[0])"
      ],
      "metadata": {
        "colab": {
          "base_uri": "https://localhost:8080/"
        },
        "id": "smjZodtVq8At",
        "outputId": "7e783ce6-1103-4045-8d09-5f0c379f5dce"
      },
      "execution_count": 20,
      "outputs": [
        {
          "output_type": "stream",
          "name": "stdout",
          "text": [
            "['melvins', 'professional', 'demeanor', 'interpersonal', 'skills']\n"
          ]
        }
      ]
    },
    {
      "cell_type": "code",
      "source": [
        "#Making bigrams with data set with not stop words\n",
        "\n",
        "inspire_nostops_bigrams = make_inspire_bigrams(inspire_words_nostops)\n",
        "\n",
        "gain_nostops_bigrams = make_gain_bigrams(gain_words_nostops)"
      ],
      "metadata": {
        "id": "xwQLgvXgqCaW"
      },
      "execution_count": 21,
      "outputs": []
    },
    {
      "cell_type": "code",
      "source": [
        "print(inspire_nostops_bigrams[0:5],\"\\n\")\n",
        "      \n",
        "print(gain_nostops_bigrams[0:5]) "
      ],
      "metadata": {
        "colab": {
          "base_uri": "https://localhost:8080/"
        },
        "id": "J_j5ZloQsSpb",
        "outputId": "dc81ac06-3d3f-4f7b-91e8-d2cd1b66f9ff"
      },
      "execution_count": 22,
      "outputs": [
        {
          "output_type": "stream",
          "name": "stdout",
          "text": [
            "[['melvins', 'professional', 'demeanor', 'interpersonal', 'skills'], ['proven', 'experience'], ['consistently', 'look', 'opportunities', 'market', 'es', 'brand', 'look', 'ways', 'improve'], ['willingness', 'terminate', 'bad', 'commitment', 'standard', 'maintaining'], ['willing', 'help']] \n",
            "\n",
            "[['let', 'were_hired', 'feels_like', 'leaders', 'fomo', 'right', 'mentality'], ['pay', 'deserve', 'based', 'qualifications', 'stop_treating', 'an_intern'], ['stick'], ['circumstances', 'facing', 'best'], ['expected', 'communication', 'isn']]\n"
          ]
        }
      ]
    },
    {
      "cell_type": "markdown",
      "source": [
        "# Lemmatization"
      ],
      "metadata": {
        "id": "IJN10iPFtDZj"
      }
    },
    {
      "cell_type": "code",
      "source": [
        "def lemmatization(texts, allowed_postags=['NOUN','ADJ', 'VERB','ADV']):\n",
        "    texts_out = []\n",
        "    for sent in texts:\n",
        "        doc = nlp(\" \".join(sent)) \n",
        "        texts_out.append([token.lemma_ for token in doc if token.pos_ in allowed_postags])\n",
        "    return texts_out\n",
        "\n",
        "inspire_final_words = lemmatization(inspire_nostops_bigrams, allowed_postags = [\n",
        "    'NOUN','ADJ', 'VERB','ADV'])\n",
        "\n",
        "gain_final_words = lemmatization(gain_nostops_bigrams, allowed_postags = [\n",
        "    'NOUN','ADJ', 'VERB','ADV'])\n",
        "\n",
        "print(inspire_final_words[:1])\n",
        "print(gain_final_words[:1])"
      ],
      "metadata": {
        "colab": {
          "base_uri": "https://localhost:8080/"
        },
        "id": "XSDgMHxytFqb",
        "outputId": "d75a38b3-13f7-420b-f4ca-5dff39e731da"
      },
      "execution_count": 23,
      "outputs": [
        {
          "output_type": "stream",
          "name": "stdout",
          "text": [
            "[['melvin', 'professional', 'demeanor', 'interpersonal', 'skill']]\n",
            "[['let', 'were_hired', 'feels_like', 'leader', 'mentality']]\n"
          ]
        }
      ]
    },
    {
      "cell_type": "markdown",
      "source": [
        "#EDA"
      ],
      "metadata": {
        "id": "dTEdDO5P29mM"
      }
    },
    {
      "cell_type": "code",
      "source": [
        "long_list_inspire = [item for sublist in inspire_final_words for item in sublist]   \n",
        "\n",
        "long_list_gain = [item for sublist in gain_final_words for item in sublist]   "
      ],
      "metadata": {
        "id": "xTjur5V8pP17"
      },
      "execution_count": 24,
      "outputs": []
    },
    {
      "cell_type": "code",
      "source": [
        "from nltk import word_tokenize, pos_tag\n",
        "import nltk\n",
        "nltk.download('punkt')\n",
        "nltk.download('averaged_perceptron_tagger')\n",
        "\n",
        "def vb_adj(text):\n",
        "    '''Given a string of text, tokenize the text and pull out only the nouns.'''\n",
        "    is_vb_adj = lambda pos: pos[:2] == 'VB' or pos[:2] == 'JJ'\n",
        "    tokenized = word_tokenize(text)\n",
        "    all_vbs_adj = [word for (word, pos) in pos_tag(tokenized) if is_vb_adj(pos)]\n",
        "    return ' '.join(all_vbs_adj) "
      ],
      "metadata": {
        "colab": {
          "base_uri": "https://localhost:8080/"
        },
        "id": "YWwGfWpT-Wds",
        "outputId": "8e826086-00c9-46a8-9d1c-53f3705759f0"
      },
      "execution_count": 25,
      "outputs": [
        {
          "output_type": "stream",
          "name": "stderr",
          "text": [
            "[nltk_data] Downloading package punkt to /root/nltk_data...\n",
            "[nltk_data]   Unzipping tokenizers/punkt.zip.\n",
            "[nltk_data] Downloading package averaged_perceptron_tagger to\n",
            "[nltk_data]     /root/nltk_data...\n",
            "[nltk_data]   Unzipping taggers/averaged_perceptron_tagger.zip.\n"
          ]
        }
      ]
    },
    {
      "cell_type": "code",
      "source": [
        "long_string_inspire = ' '.join(long_list_inspire)\n",
        "\n",
        "long_string_gain = ' '.join(long_list_gain)"
      ],
      "metadata": {
        "id": "FRNsXyk1-WWO"
      },
      "execution_count": 26,
      "outputs": []
    },
    {
      "cell_type": "code",
      "source": [
        "inspire_verbs_adj = vb_adj(long_string_inspire)\n",
        "\n",
        "inspire_verbs_adj_tokens = word_tokenize(inspire_verbs_adj)\n",
        "\n",
        "gain_verbs_adj = vb_adj(long_string_gain)\n",
        "\n",
        "gain_verbs_adj_tokens = word_tokenize(gain_verbs_adj)"
      ],
      "metadata": {
        "id": "GyCX4rTb-WTG"
      },
      "execution_count": 27,
      "outputs": []
    },
    {
      "cell_type": "code",
      "source": [
        "print(inspire_verbs_adj_tokens[:4])\n",
        "print(gain_verbs_adj_tokens[:4])"
      ],
      "metadata": {
        "colab": {
          "base_uri": "https://localhost:8080/"
        },
        "id": "rdbMgXVY-WQT",
        "outputId": "3e48eca2-cd6c-4dae-ca61-a47c3cf3302e"
      },
      "execution_count": 28,
      "outputs": [
        {
          "output_type": "stream",
          "name": "stdout",
          "text": [
            "['melvin', 'professional', 'interpersonal', 'prove']\n",
            "['let', 'were_hired', 'feels_like', 'pay']\n"
          ]
        }
      ]
    },
    {
      "cell_type": "code",
      "source": [
        "print(len(inspire_verbs_adj_tokens))\n",
        "\n",
        "print(len(gain_verbs_adj_tokens))"
      ],
      "metadata": {
        "colab": {
          "base_uri": "https://localhost:8080/"
        },
        "id": "6rF1HFnY-WNl",
        "outputId": "d544141b-6755-4b8e-8921-68df1cdfb447"
      },
      "execution_count": 29,
      "outputs": [
        {
          "output_type": "stream",
          "name": "stdout",
          "text": [
            "92364\n",
            "108620\n"
          ]
        }
      ]
    },
    {
      "cell_type": "code",
      "source": [
        "from nltk.probability import FreqDist\n",
        "\n",
        "fd_inspire = FreqDist(inspire_verbs_adj_tokens)\n",
        "\n",
        "fd_gain = FreqDist(gain_verbs_adj_tokens)\n",
        "\n",
        "print(fd_inspire.tabulate(50))\n",
        "print(fd_gain.tabulate(50))"
      ],
      "metadata": {
        "colab": {
          "base_uri": "https://localhost:8080/"
        },
        "id": "GJC21UhG2-9s",
        "outputId": "917b608e-7ae6-4dce-9fae-b1b3c660a02b"
      },
      "execution_count": 30,
      "outputs": [
        {
          "output_type": "stream",
          "name": "stdout",
          "text": [
            "         want          open       believe          make          good        strong      positive         think       willing          grow    understand          know          take            go          need        future     confident          hard  approachable         clear       genuine          give        honest      continue       improve        listen         right       provide          lead    individual      pandemic       succeed         smart           see          keep         speak    successful          easy knowledgeable           get      personal    personable          hear          come          able       overall     important         build           set          look \n",
            "         1537          1500          1406          1291          1192          1170          1131          1055           985           953           898           875           832           821           791           761           742           695           695           670           657           613           610           577           563           538           507           506           502           498           472           469           453           443           433           379           366           363           351           349           348           348           345           345           340           331           331           329           328           321 \n",
            "None\n",
            "       need          go       think        make        want  understand        sure        open    continue        stop     provide        hard         get        give        high     improve        take       leave      happen        come     current       allow        hear     believe        have        good   different  individual         say       clear         big      little        grow        lead        lose         bad      invest        find     include    personal        tell       start transparent       spend       right         see   corporate         let   important         set \n",
            "       1763        1674        1346        1092        1056        1048         944         884         822         796         790         733         678         639         630         620         612         607         602         578         573         565         562         556         543         521         517         508         505         484         460         447         424         411         408         404         400         399         394         391         383         379         378         378         375         375         372         371         368         366 \n",
            "None\n"
          ]
        }
      ]
    },
    {
      "cell_type": "code",
      "source": [
        "import seaborn as sns\n",
        "sns.set_theme(style=\"ticks\")\n",
        "top_inspire = fd_inspire.most_common(50)\n",
        "\n",
        "fdist_inspire = pd.Series(dict(top_inspire))\n",
        "\n",
        "sns.set(rc = {'figure.figsize':(2,9)})\n",
        "\n",
        "male_inspire = sns.barplot(y=fdist_inspire.index, x=fdist_inspire.values, color='grey')\n",
        "male_inspire.set_title(\"Males TOP 50 words\\n--Survey Essence ID: 30013--\\n Question: 'What about the leader\\n of this company\\n inspires your confidence?'\", weight='bold')"
      ],
      "metadata": {
        "colab": {
          "base_uri": "https://localhost:8080/",
          "height": 633
        },
        "id": "QS6k-mV-MWIW",
        "outputId": "09e6fe7b-fcb6-431f-a048-d9add3a333d9"
      },
      "execution_count": 31,
      "outputs": [
        {
          "output_type": "execute_result",
          "data": {
            "text/plain": [
              "Text(0.5, 1.0, \"Males TOP 50 words\\n--Survey Essence ID: 30013--\\n Question: 'What about the leader\\n of this company\\n inspires your confidence?'\")"
            ]
          },
          "metadata": {},
          "execution_count": 31
        },
        {
          "output_type": "display_data",
          "data": {
            "text/plain": [
              "<Figure size 144x648 with 1 Axes>"
            ],
            "image/png": "[encoded data removed]"
          },
          "metadata": {}
        }
      ]
    },
    {
      "cell_type": "code",
      "source": [
        "sns.set_theme(style=\"ticks\")\n",
        "top_gain = fd_gain.most_common(50)\n",
        "\n",
        "fdist_gain = pd.Series(dict(top_gain))\n",
        "\n",
        "sns.set(rc = {'figure.figsize':(2,9)})\n",
        "male_gain = sns.barplot(y=fdist_gain.index, x=fdist_gain.values, color='black')\n",
        "male_gain.set_title(\"Males TOP 50 words\\n--Survey Essence ID: 30014--\\n Question: 'What could the leader of\\n this company do to\\n gain your full confidence?'\",weight='bold')"
      ],
      "metadata": {
        "colab": {
          "base_uri": "https://localhost:8080/",
          "height": 633
        },
        "id": "GGnh22eNMZeu",
        "outputId": "2691d2c7-19a8-4641-c275-124a0e53a056"
      },
      "execution_count": 32,
      "outputs": [
        {
          "output_type": "execute_result",
          "data": {
            "text/plain": [
              "Text(0.5, 1.0, \"Males TOP 50 words\\n--Survey Essence ID: 30014--\\n Question: 'What could the leader of\\n this company do to\\n gain your full confidence?'\")"
            ]
          },
          "metadata": {},
          "execution_count": 32
        },
        {
          "output_type": "display_data",
          "data": {
            "text/plain": [
              "<Figure size 144x648 with 1 Axes>"
            ],
            "image/png": "[encoded data removed]"
          },
          "metadata": {}
        }
      ]
    },
    {
      "cell_type": "code",
      "source": [
        "print(sum(fdist_inspire.values[:50]))\n",
        "print(sum(fdist_gain.values[:50]))"
      ],
      "metadata": {
        "colab": {
          "base_uri": "https://localhost:8080/"
        },
        "id": "0bIXzW-AMcle",
        "outputId": "cfeb259b-6d7e-4e1c-ce4c-511ad21b8fea"
      },
      "execution_count": 33,
      "outputs": [
        {
          "output_type": "stream",
          "name": "stdout",
          "text": [
            "33015\n",
            "31131\n"
          ]
        }
      ]
    },
    {
      "cell_type": "code",
      "source": [
        "top_50_inspire = fd_inspire.most_common(50)\n",
        "top_50_gain = fd_gain.most_common(50)\n",
        "\n",
        "fdist_50_inspire = pd.Series(dict(top_50_inspire))\n",
        "fdist_50_gain = pd.Series(dict(top_50_gain))\n",
        "\n",
        "\n",
        "print(fdist_50_inspire.index[:50])\n",
        "print(fdist_50_gain.index[:50])"
      ],
      "metadata": {
        "colab": {
          "base_uri": "https://localhost:8080/"
        },
        "id": "sEQDGgWW-D3i",
        "outputId": "d9509448-2dee-4750-e635-df26431c82f4"
      },
      "execution_count": 34,
      "outputs": [
        {
          "output_type": "stream",
          "name": "stdout",
          "text": [
            "Index(['want', 'open', 'believe', 'make', 'good', 'strong', 'positive',\n",
            "       'think', 'willing', 'grow', 'understand', 'know', 'take', 'go', 'need',\n",
            "       'future', 'confident', 'hard', 'approachable', 'clear', 'genuine',\n",
            "       'give', 'honest', 'continue', 'improve', 'listen', 'right', 'provide',\n",
            "       'lead', 'individual', 'pandemic', 'succeed', 'smart', 'see', 'keep',\n",
            "       'speak', 'successful', 'easy', 'knowledgeable', 'get', 'personal',\n",
            "       'personable', 'hear', 'come', 'able', 'overall', 'important', 'build',\n",
            "       'set', 'look'],\n",
            "      dtype='object')\n",
            "Index(['need', 'go', 'think', 'make', 'want', 'understand', 'sure', 'open',\n",
            "       'continue', 'stop', 'provide', 'hard', 'get', 'give', 'high', 'improve',\n",
            "       'take', 'leave', 'happen', 'come', 'current', 'allow', 'hear',\n",
            "       'believe', 'have', 'good', 'different', 'individual', 'say', 'clear',\n",
            "       'big', 'little', 'grow', 'lead', 'lose', 'bad', 'invest', 'find',\n",
            "       'include', 'personal', 'tell', 'start', 'transparent', 'spend', 'right',\n",
            "       'see', 'corporate', 'let', 'important', 'set'],\n",
            "      dtype='object')\n"
          ]
        }
      ]
    },
    {
      "cell_type": "code",
      "source": [
        "inspire_top_50 = ['want', 'open', 'believe', 'make', 'good', 'strong', 'positive',\n",
        "       'think', 'willing', 'grow', 'understand', 'know', 'take', 'go', 'need',\n",
        "       'future', 'confident', 'hard', 'approachable', 'clear', 'genuine',\n",
        "       'give', 'honest', 'continue', 'improve', 'listen', 'right', 'provide',\n",
        "       'lead', 'individual', 'pandemic', 'succeed', 'smart', 'see', 'keep',\n",
        "       'speak', 'successful', 'easy', 'knowledgeable', 'get', 'personal',\n",
        "       'personable', 'hear', 'come', 'able', 'overall', 'important', 'build',\n",
        "       'set', 'look']\n",
        "\n",
        "gain_top_50 = ['need', 'go', 'think', 'make', 'want', 'understand', 'sure', 'open',\n",
        "       'continue', 'stop', 'provide', 'hard', 'get', 'give', 'high', 'improve',\n",
        "       'take', 'leave', 'happen', 'come', 'current', 'allow', 'hear',\n",
        "       'believe', 'have', 'good', 'different', 'individual', 'say', 'clear',\n",
        "       'big', 'little', 'grow', 'lead', 'lose', 'bad', 'invest', 'find',\n",
        "       'include', 'personal', 'tell', 'start', 'transparent', 'spend', 'right',\n",
        "       'see', 'corporate', 'let', 'important', 'set']"
      ],
      "metadata": {
        "id": "yfwTRFpzMiWY"
      },
      "execution_count": 35,
      "outputs": []
    },
    {
      "cell_type": "code",
      "source": [
        "gain_inpspire_common_words = []\n",
        "\n",
        "for word in inspire_top_50:\n",
        "  if word in gain_top_50:\n",
        "    gain_inpspire_common_words.append(word) "
      ],
      "metadata": {
        "id": "imJNzLWPNUn1"
      },
      "execution_count": 36,
      "outputs": []
    },
    {
      "cell_type": "code",
      "source": [
        "print(gain_inpspire_common_words) \n",
        "print(len(gain_inpspire_common_words)) \n",
        "#WORDS ADDED TO STOPWORD LIST"
      ],
      "metadata": {
        "colab": {
          "base_uri": "https://localhost:8080/"
        },
        "id": "1yN-fKVINUkl",
        "outputId": "4af68582-75a8-4876-9c75-053bc4c01591"
      },
      "execution_count": 37,
      "outputs": [
        {
          "output_type": "stream",
          "name": "stdout",
          "text": [
            "['want', 'open', 'believe', 'make', 'good', 'think', 'grow', 'understand', 'take', 'go', 'need', 'hard', 'clear', 'give', 'continue', 'improve', 'right', 'provide', 'lead', 'individual', 'see', 'get', 'personal', 'hear', 'come', 'important', 'set']\n",
            "27\n"
          ]
        }
      ]
    },
    {
      "cell_type": "code",
      "source": [
        "nlp.Defaults.stop_words |= {'want', 'open', 'believe', 'make', 'good', 'think',\n",
        "                            'grow', 'understand', 'take', 'go', 'need', 'hard',\n",
        "                            'clear', 'give', 'continue', 'improve', 'right', \n",
        "                            'provide', 'lead', 'individual', 'see', 'get',\n",
        "                            'personal', 'hear', 'come', 'important', 'set',\n",
        "                            'big','happen','look','live','sure',\n",
        "                            'real','stop','allow','current','little','different',\n",
        "                            'try','confident','big','try','right','live','current',\n",
        "                            'sure','run','little','allow','high',\n",
        "                            'bad','different','start','lead','real',\n",
        "                            'bring','hold','true','set','different','inspire','hold',\n",
        "                            'stop','little','follow','high','allow',\n",
        "                            'real','look','bad','expect','focus','present',\n",
        "                            'let','find','tell','start','ask','invest','big',\n",
        "                            'actual','actually'}"
      ],
      "metadata": {
        "id": "x_nK84MANdyV"
      },
      "execution_count": 38,
      "outputs": []
    },
    {
      "cell_type": "code",
      "source": [
        "#stopwords removed after lemmatization and implementing common\n",
        "#word between datasets\n",
        "\n",
        "inspire_final_verbs_adj = remove_stopwords(inspire_verbs_adj_tokens)\n",
        "\n",
        "gain_final_verbs_adj = remove_stopwords(gain_verbs_adj_tokens)"
      ],
      "metadata": {
        "id": "PBeevp05VevA"
      },
      "execution_count": 39,
      "outputs": []
    },
    {
      "cell_type": "markdown",
      "source": [
        "# Creating corpus for Topic Modeling"
      ],
      "metadata": {
        "id": "ZbdeZuAIukk4"
      }
    },
    {
      "cell_type": "code",
      "source": [
        "id2inspire = corpora.Dictionary(inspire_final_verbs_adj)\n",
        "\n",
        "id2gain = corpora.Dictionary(gain_final_verbs_adj)\n",
        "\n",
        "inspire_texts = inspire_final_verbs_adj\n",
        "\n",
        "gain_texts = gain_final_verbs_adj\n",
        "\n",
        "inspire_corpus = [id2inspire.doc2bow(text) for text in inspire_texts]\n",
        "\n",
        "gain_corpus = [id2gain.doc2bow(text) for text in gain_texts]\n",
        "\n",
        "print(inspire_corpus[:1])\n",
        "print(gain_corpus[:1])"
      ],
      "metadata": {
        "colab": {
          "base_uri": "https://localhost:8080/"
        },
        "id": "nOpFji5kukUa",
        "outputId": "8ffe4bb9-207b-46ce-9a65-6291567ca17a"
      },
      "execution_count": 40,
      "outputs": [
        {
          "output_type": "stream",
          "name": "stdout",
          "text": [
            "[[(0, 1)]]\n",
            "[[]]\n"
          ]
        }
      ]
    },
    {
      "cell_type": "code",
      "source": [
        "lda_inspire_model = gensim.models.ldamodel.LdaModel(corpus=inspire_corpus,\n",
        "                                           id2word=id2inspire,\n",
        "                                           num_topics=2, \n",
        "                                           random_state=100,\n",
        "                                           update_every=1,\n",
        "                                           chunksize=100,\n",
        "                                           passes=3,\n",
        "                                           alpha='auto',\n",
        "                                           per_word_topics=True)\n",
        "\n",
        "\n",
        "lda_gain_model = gensim.models.ldamodel.LdaModel(corpus=gain_corpus,\n",
        "                                           id2word=id2gain,\n",
        "                                           num_topics=2, \n",
        "                                           random_state=100,\n",
        "                                           update_every=1,\n",
        "                                           chunksize=100,\n",
        "                                           passes=3,\n",
        "                                           alpha='auto',\n",
        "                                           per_word_topics=True)"
      ],
      "metadata": {
        "id": "xDekKLaOvYeB"
      },
      "execution_count": 41,
      "outputs": []
    },
    {
      "cell_type": "markdown",
      "source": [
        "# Male topics for those who answered\n",
        "\n",
        "# **\"What about the leader of this company inspires your confidence?\"**"
      ],
      "metadata": {
        "id": "29-rQVSQwc6f"
      }
    },
    {
      "cell_type": "code",
      "source": [
        "pprint(lda_inspire_model.print_topics())\n",
        "doc_inspire_lda = lda_inspire_model[inspire_corpus]"
      ],
      "metadata": {
        "colab": {
          "base_uri": "https://localhost:8080/"
        },
        "id": "nH-x6LTVwBXI",
        "outputId": "7c6f1806-f8bb-4483-9170-fa339e2673aa"
      },
      "execution_count": 42,
      "outputs": [
        {
          "output_type": "stream",
          "name": "stdout",
          "text": [
            "[(0,\n",
            "  '0.028*\"approachable\" + 0.027*\"willing\" + 0.020*\"honest\" + 0.014*\"smart\" + '\n",
            "  '0.013*\"knowledgeable\" + 0.010*\"financial\" + 0.009*\"update\" + 0.009*\"drive\" '\n",
            "  '+ 0.009*\"successful\" + 0.009*\"available\"'),\n",
            " (1,\n",
            "  '0.035*\"strong\" + 0.030*\"positive\" + 0.024*\"future\" + 0.022*\"genuine\" + '\n",
            "  '0.013*\"overall\" + 0.013*\"succeed\" + 0.012*\"personable\" + 0.011*\"thoughtful\" '\n",
            "  '+ 0.011*\"easy\" + 0.009*\"involve\"')]\n"
          ]
        }
      ]
    },
    {
      "cell_type": "markdown",
      "source": [
        "# Male topics for those who answered\n",
        "\n",
        "# **\"What could the leader of this company do to gain your full confidence?\"**"
      ],
      "metadata": {
        "id": "uAh-C0BZwwot"
      }
    },
    {
      "cell_type": "code",
      "source": [
        "pprint(lda_gain_model.print_topics())\n",
        "doc_gain_lda = lda_gain_model[gain_corpus]"
      ],
      "metadata": {
        "colab": {
          "base_uri": "https://localhost:8080/"
        },
        "id": "a1QVt_MPw39n",
        "outputId": "f670a3f2-1740-474b-f353-7be9c1cab6a3"
      },
      "execution_count": 43,
      "outputs": [
        {
          "output_type": "stream",
          "name": "stdout",
          "text": [
            "[(0,\n",
            "  '0.011*\"strong\" + 0.011*\"salary\" + 0.011*\"transparent\" + 0.009*\"build\" + '\n",
            "  '0.009*\"direct\" + 0.009*\"honest\" + 0.008*\"help\" + 0.008*\"positive\" + '\n",
            "  '0.007*\"pay\" + 0.007*\"wrong\"'),\n",
            " (1,\n",
            "  '0.015*\"leave\" + 0.015*\"spend\" + 0.010*\"raise\" + 0.010*\"include\" + '\n",
            "  '0.008*\"lose\" + 0.008*\"future\" + 0.008*\"political\" + 0.007*\"low\" + '\n",
            "  '0.007*\"corporate\" + 0.007*\"affect\"')]\n"
          ]
        }
      ]
    },
    {
      "cell_type": "markdown",
      "source": [
        "# DATA VISUALIZATIONS"
      ],
      "metadata": {
        "id": "aibEw2o-w_ze"
      }
    },
    {
      "cell_type": "code",
      "source": [
        "!pip install pyLDAvis"
      ],
      "metadata": {
        "colab": {
          "base_uri": "https://localhost:8080/"
        },
        "id": "xZUqAUoGxCQ-",
        "outputId": "2fb70671-cf68-439e-fe9b-2e3547bdbf04"
      },
      "execution_count": 44,
      "outputs": [
        {
          "output_type": "stream",
          "name": "stdout",
          "text": [
            "Looking in indexes: https://pypi.org/simple, https://us-python.pkg.dev/colab-wheels/public/simple/\n",
            "Collecting pyLDAvis\n",
            "  Downloading pyLDAvis-3.3.1.tar.gz (1.7 MB)\n",
            "\u001b[K     |████████████████████████████████| 1.7 MB 15.1 MB/s \n",
            "\u001b[?25h  Installing build dependencies ... \u001b[?25l\u001b[?25hdone\n",
            "  Getting requirements to build wheel ... \u001b[?25l\u001b[?25hdone\n",
            "  Installing backend dependencies ... \u001b[?25l\u001b[?25hdone\n",
            "    Preparing wheel metadata ... \u001b[?25l\u001b[?25hdone\n",
            "Requirement already satisfied: scipy in /usr/local/lib/python3.7/dist-packages (from pyLDAvis) (1.7.3)\n",
            "Requirement already satisfied: future in /usr/local/lib/python3.7/dist-packages (from pyLDAvis) (0.16.0)\n",
            "Requirement already satisfied: pandas>=1.2.0 in /usr/local/lib/python3.7/dist-packages (from pyLDAvis) (1.3.5)\n",
            "Requirement already satisfied: setuptools in /usr/local/lib/python3.7/dist-packages (from pyLDAvis) (57.4.0)\n",
            "Requirement already satisfied: jinja2 in /usr/local/lib/python3.7/dist-packages (from pyLDAvis) (2.11.3)\n",
            "Requirement already satisfied: joblib in /usr/local/lib/python3.7/dist-packages (from pyLDAvis) (1.1.0)\n",
            "Collecting funcy\n",
            "  Downloading funcy-1.17-py2.py3-none-any.whl (33 kB)\n",
            "Requirement already satisfied: numexpr in /usr/local/lib/python3.7/dist-packages (from pyLDAvis) (2.8.3)\n",
            "Requirement already satisfied: gensim in /usr/local/lib/python3.7/dist-packages (from pyLDAvis) (3.6.0)\n",
            "Requirement already satisfied: scikit-learn in /usr/local/lib/python3.7/dist-packages (from pyLDAvis) (1.0.2)\n",
            "Requirement already satisfied: numpy>=1.20.0 in /usr/local/lib/python3.7/dist-packages (from pyLDAvis) (1.21.6)\n",
            "Requirement already satisfied: sklearn in /usr/local/lib/python3.7/dist-packages (from pyLDAvis) (0.0)\n",
            "Requirement already satisfied: pytz>=2017.3 in /usr/local/lib/python3.7/dist-packages (from pandas>=1.2.0->pyLDAvis) (2022.2)\n",
            "Requirement already satisfied: python-dateutil>=2.7.3 in /usr/local/lib/python3.7/dist-packages (from pandas>=1.2.0->pyLDAvis) (2.8.2)\n",
            "Requirement already satisfied: six>=1.5 in /usr/local/lib/python3.7/dist-packages (from python-dateutil>=2.7.3->pandas>=1.2.0->pyLDAvis) (1.15.0)\n",
            "Requirement already satisfied: smart-open>=1.2.1 in /usr/local/lib/python3.7/dist-packages (from gensim->pyLDAvis) (5.2.1)\n",
            "Requirement already satisfied: MarkupSafe>=0.23 in /usr/local/lib/python3.7/dist-packages (from jinja2->pyLDAvis) (2.0.1)\n",
            "Requirement already satisfied: packaging in /usr/local/lib/python3.7/dist-packages (from numexpr->pyLDAvis) (21.3)\n",
            "Requirement already satisfied: pyparsing!=3.0.5,>=2.0.2 in /usr/local/lib/python3.7/dist-packages (from packaging->numexpr->pyLDAvis) (3.0.9)\n",
            "Requirement already satisfied: threadpoolctl>=2.0.0 in /usr/local/lib/python3.7/dist-packages (from scikit-learn->pyLDAvis) (3.1.0)\n",
            "Building wheels for collected packages: pyLDAvis\n",
            "  Building wheel for pyLDAvis (PEP 517) ... \u001b[?25l\u001b[?25hdone\n",
            "  Created wheel for pyLDAvis: filename=pyLDAvis-3.3.1-py2.py3-none-any.whl size=136898 sha256=16470e481522f6834c26bc6edd13fd0a45807e51552b3882a78577f692d1593d\n",
            "  Stored in directory: /root/.cache/pip/wheels/c9/21/f6/17bcf2667e8a68532ba2fbf6d5c72fdf4c7f7d9abfa4852d2f\n",
            "Successfully built pyLDAvis\n",
            "Installing collected packages: funcy, pyLDAvis\n",
            "Successfully installed funcy-1.17 pyLDAvis-3.3.1\n"
          ]
        }
      ]
    },
    {
      "cell_type": "code",
      "source": [
        "import pyLDAvis\n",
        "import pyLDAvis.gensim_models\n",
        "\n",
        "pyLDAvis.enable_notebook()\n",
        "inspire_vis = pyLDAvis.gensim_models.prepare(lda_inspire_model, inspire_corpus, id2inspire)\n",
        "inspire_vis"
      ],
      "metadata": {
        "colab": {
          "base_uri": "https://localhost:8080/",
          "height": 931
        },
        "id": "0Xpkyij-xEY-",
        "outputId": "00578fa0-56fc-4b7e-b553-5c25d24d31d1"
      },
      "execution_count": 45,
      "outputs": [
        {
          "output_type": "stream",
          "name": "stderr",
          "text": [
            "/usr/local/lib/python3.7/dist-packages/past/types/oldstr.py:5: DeprecationWarning: Using or importing the ABCs from 'collections' instead of from 'collections.abc' is deprecated since Python 3.3,and in 3.9 it will stop working\n",
            "  from collections import Iterable\n",
            "/usr/local/lib/python3.7/dist-packages/pyLDAvis/_prepare.py:247: FutureWarning: In a future version of pandas all arguments of DataFrame.drop except for the argument 'labels' will be keyword-only\n",
            "  by='saliency', ascending=False).head(R).drop('saliency', 1)\n"
          ]
        },
        {
          "output_type": "execute_result",
          "data": {
            "text/plain": [
              "PreparedData(topic_coordinates=              x    y  topics  cluster       Freq\n",
              "topic                                           \n",
              "1      0.114962  0.0       1        1  50.459831\n",
              "0     -0.114962  0.0       2        1  49.540169, topic_info=             Term         Freq        Total Category  logprob  loglift\n",
              "6          strong  1115.000000  1115.000000  Default  30.0000  30.0000\n",
              "25       positive   956.000000   956.000000  Default  29.0000  29.0000\n",
              "58   approachable   856.000000   856.000000  Default  28.0000  28.0000\n",
              "5         willing   847.000000   847.000000  Default  27.0000  27.0000\n",
              "222        future   748.000000   748.000000  Default  26.0000  26.0000\n",
              "..            ...          ...          ...      ...      ...      ...\n",
              "198    consistent   228.043119   239.118488   Topic2  -4.9143   0.6550\n",
              "494         drive   269.634949   301.906281   Topic2  -4.7468   0.5893\n",
              "129          fair   157.823811   168.002850   Topic2  -5.2824   0.6399\n",
              "329    innovative   144.559298   149.695373   Topic2  -5.3702   0.6675\n",
              "135          nice   171.483674   309.246415   Topic2  -5.1994   0.1127\n",
              "\n",
              "[110 rows x 6 columns], token_table=      Topic      Freq          Term\n",
              "term                               \n",
              "224       1  0.992665          able\n",
              "224       2  0.004890          able\n",
              "298       1  0.983311       achieve\n",
              "298       2  0.017151       achieve\n",
              "100       1  0.010639  always_looke\n",
              "...     ...       ...           ...\n",
              "5         2  0.998068       willing\n",
              "259       1  0.964999           win\n",
              "259       2  0.034464           win\n",
              "431       1  0.968819    work_ethic\n",
              "431       2  0.030514    work_ethic\n",
              "\n",
              "[158 rows x 3 columns], R=30, lambda_step=0.01, plot_opts={'xlab': 'PC1', 'ylab': 'PC2'}, topic_order=[2, 1])"
            ],
            "text/html": [
              "\n",
              "<link rel=\"stylesheet\" type=\"text/css\" href=\"https://cdn.jsdelivr.net/gh/bmabey/pyLDAvis@3.3.1/pyLDAvis/js/ldavis.v1.0.0.css\">\n",
              "\n",
              "\n",
              "<div id=\"ldavis_el591399798215729449163633581\"></div>\n",
              "<script type=\"text/javascript\">\n",
              "\n",
              "var ldavis_el591399798215729449163633581_data = {\"mdsDat\": {\"x\": [0.11496170414723736, -0.11496170414723736], \"y\": [0.0, 0.0], \"topics\": [1, 2], \"cluster\": [1, 1], \"Freq\": [50.4598314741113, 49.5401685258887]}, \"tinfo\": {\"Term\": [\"strong\", \"positive\", \"approachable\", \"willing\", \"future\", \"genuine\", \"honest\", \"smart\", \"knowledgeable\", \"overall\", \"succeed\", \"thoughtful\", \"personable\", \"financial\", \"update\", \"successful\", \"strive\", \"build\", \"appreciate\", \"speak\", \"supportive\", \"strategic\", \"direct\", \"available\", \"involve\", \"appear\", \"easy\", \"encourage\", \"caring\", \"ensure\", \"strong\", \"positive\", \"future\", \"genuine\", \"succeed\", \"overall\", \"speak\", \"pandemic\", \"strive\", \"able\", \"thoughtful\", \"professional\", \"has_been\", \"communicate\", \"small\", \"commitment\", \"achieve\", \"team_member\", \"going_on\", \"safe\", \"progressive\", \"appear\", \"consider\", \"empathy\", \"caring\", \"we_need\", \"personable\", \"involve\", \"work_ethic\", \"win\", \"ensure\", \"happy\", \"committed\", \"easy\", \"transparent\", \"steady\", \"associate\", \"general\", \"best_interest\", \"corporate\", \"nice\", \"willing\", \"approachable\", \"honest\", \"smart\", \"knowledgeable\", \"successful\", \"build\", \"supportive\", \"appreciate\", \"direct\", \"update\", \"strategic\", \"understanding\", \"help\", \"respect\", \"intelligent\", \"amazing\", \"possible\", \"always_looke\", \"include\", \"feel_like\", \"difficult\", \"aware\", \"learn\", \"engage\", \"financial\", \"leave\", \"everyday\", \"excellent\", \"necessary\", \"available\", \"encourage\", \"impressive\", \"inform\", \"consistent\", \"drive\", \"fair\", \"innovative\", \"nice\"], \"Freq\": [1115.0, 956.0, 856.0, 847.0, 748.0, 708.0, 634.0, 445.0, 418.0, 413.0, 406.0, 364.0, 397.0, 329.0, 278.0, 270.0, 272.0, 262.0, 263.0, 266.0, 255.0, 259.0, 250.0, 270.0, 289.0, 272.0, 363.0, 239.0, 256.0, 270.0, 1114.394097426333, 955.4720485051586, 747.3093038456877, 706.445430933165, 405.1720308084786, 411.5927134996912, 265.37081113053387, 206.62442601437638, 271.3348901993883, 203.32110774683, 361.38272966645627, 210.77807790921923, 130.97972846068038, 181.12912257869854, 94.13729897515454, 100.35710141647657, 171.61563846364135, 83.62801876475133, 40.50051143945741, 67.82666455529727, 82.41896514305999, 265.34800157821, 62.59550443822745, 109.43066176268377, 248.85357145927338, 57.22443320894659, 384.41371735998695, 280.17848369603627, 126.64641450415517, 56.001340956133475, 260.42641335361253, 193.8414695889355, 229.82207962931184, 335.2605466480495, 250.2158970210631, 118.79626689381215, 170.9506250815494, 177.58152991940528, 151.14695328419157, 125.17830743323583, 137.76274118525376, 846.3273153082222, 855.2713661290396, 632.5130758848445, 444.1145355540705, 416.58027565190355, 268.82946537581597, 261.05307648486246, 254.41993040813765, 262.1504611257715, 248.8064270721895, 276.3953695911225, 257.25853687032304, 157.04209571336915, 161.55215302840165, 168.19127368732865, 143.27498022858637, 198.71855334569176, 155.95767287791574, 186.1313093485905, 142.34167237057682, 138.39878084203332, 186.72749453434736, 137.01779884157904, 165.16409899510492, 214.3517058944644, 325.44405660455504, 84.51611434073337, 114.20962152327171, 87.45445148016344, 86.7417257757116, 264.6642123387247, 233.6254187527877, 117.48294032244618, 137.36841857241444, 228.04311922751793, 269.6349490005598, 157.82381120601073, 144.55929840755113, 171.4836735371683], \"Total\": [1115.0, 956.0, 856.0, 847.0, 748.0, 708.0, 634.0, 445.0, 418.0, 413.0, 406.0, 364.0, 397.0, 329.0, 278.0, 270.0, 272.0, 262.0, 263.0, 266.0, 255.0, 259.0, 250.0, 270.0, 289.0, 272.0, 363.0, 239.0, 256.0, 270.0, 1115.7754953329334, 956.7272021697762, 748.7013498537705, 708.0473675944208, 406.544593647943, 413.289909169014, 266.62004073198386, 207.61858862677354, 272.8099566121009, 204.4999302016725, 364.1066161034794, 212.42795385677655, 132.47051782098282, 183.47819032826533, 95.46117841797353, 102.28443468306229, 174.91914119929262, 85.44748485105659, 41.470075802729845, 69.52909578228723, 84.5176831608102, 272.11981076402384, 64.30078450929979, 112.58914593646986, 256.10509221879, 59.04983138269566, 397.6010307445916, 289.88426933575334, 131.08750056594576, 58.03111846153082, 270.9581135554256, 201.35659528038602, 240.3017535888308, 363.14319485416405, 269.9573650555344, 124.56654379114975, 184.7866417484299, 194.82516148001588, 168.79227242550823, 143.60063147801827, 309.24641472242206, 847.6373110759025, 856.9563743791535, 634.1047838520662, 445.5914323101062, 418.33369437065477, 270.1389280411222, 262.3832754626399, 255.92923140807034, 263.77837182081123, 250.4600520425514, 278.26415863965866, 259.28917250731405, 158.2897759461842, 162.90006134241912, 169.69747772047876, 144.63759622814112, 200.6498742321294, 157.50984827079117, 187.99273557530697, 143.83709762858214, 139.9419791408818, 189.01762244290495, 138.75425832019684, 167.36070985727, 217.2069423497475, 329.9891762439485, 85.74990133398319, 115.90084224063293, 88.78665105957322, 88.22485560476548, 270.6498019905251, 239.02560513051483, 119.56079793980425, 140.63742466284242, 239.1184876221339, 301.9062808405258, 168.00285020900478, 149.69537267685635, 309.24641472242206], \"Category\": [\"Default\", \"Default\", \"Default\", \"Default\", \"Default\", \"Default\", \"Default\", \"Default\", \"Default\", \"Default\", \"Default\", \"Default\", \"Default\", \"Default\", \"Default\", \"Default\", \"Default\", \"Default\", \"Default\", \"Default\", \"Default\", \"Default\", \"Default\", \"Default\", \"Default\", \"Default\", \"Default\", \"Default\", \"Default\", \"Default\", \"Topic1\", \"Topic1\", \"Topic1\", \"Topic1\", \"Topic1\", \"Topic1\", \"Topic1\", \"Topic1\", \"Topic1\", \"Topic1\", \"Topic1\", \"Topic1\", \"Topic1\", \"Topic1\", \"Topic1\", \"Topic1\", \"Topic1\", \"Topic1\", \"Topic1\", \"Topic1\", \"Topic1\", \"Topic1\", \"Topic1\", \"Topic1\", \"Topic1\", \"Topic1\", \"Topic1\", \"Topic1\", \"Topic1\", \"Topic1\", \"Topic1\", \"Topic1\", \"Topic1\", \"Topic1\", \"Topic1\", \"Topic1\", \"Topic1\", \"Topic1\", \"Topic1\", \"Topic1\", \"Topic1\", \"Topic2\", \"Topic2\", \"Topic2\", \"Topic2\", \"Topic2\", \"Topic2\", \"Topic2\", \"Topic2\", \"Topic2\", \"Topic2\", \"Topic2\", \"Topic2\", \"Topic2\", \"Topic2\", \"Topic2\", \"Topic2\", \"Topic2\", \"Topic2\", \"Topic2\", \"Topic2\", \"Topic2\", \"Topic2\", \"Topic2\", \"Topic2\", \"Topic2\", \"Topic2\", \"Topic2\", \"Topic2\", \"Topic2\", \"Topic2\", \"Topic2\", \"Topic2\", \"Topic2\", \"Topic2\", \"Topic2\", \"Topic2\", \"Topic2\", \"Topic2\", \"Topic2\"], \"logprob\": [30.0, 29.0, 28.0, 27.0, 26.0, 25.0, 24.0, 23.0, 22.0, 21.0, 20.0, 19.0, 18.0, 17.0, 16.0, 15.0, 14.0, 13.0, 12.0, 11.0, 10.0, 9.0, 8.0, 7.0, 6.0, 5.0, 4.0, 3.0, 2.0, 1.0, -3.3462, -3.5001, -3.7458, -3.802, -4.358, -4.3422, -4.7811, -5.0314, -4.7589, -5.0475, -4.4723, -5.0115, -5.4872, -5.1631, -5.8175, -5.7535, -5.217, -5.9359, -6.661, -6.1453, -5.9505, -4.7812, -6.2256, -5.667, -4.8454, -6.3153, -4.4105, -4.7268, -5.5209, -6.3369, -4.7999, -5.0952, -4.925, -4.5474, -4.8399, -5.5849, -5.2209, -5.1828, -5.344, -5.5325, -5.4367, -3.603, -3.5925, -3.8942, -4.2478, -4.3118, -4.7498, -4.7792, -4.8049, -4.775, -4.8272, -4.722, -4.7938, -5.2874, -5.259, -5.2188, -5.3791, -5.052, -5.2943, -5.1174, -5.3856, -5.4137, -5.1142, -5.4238, -5.2369, -4.9763, -4.5587, -5.9069, -5.6058, -5.8728, -5.8809, -4.7654, -4.8902, -5.5776, -5.4212, -4.9143, -4.7468, -5.2824, -5.3702, -5.1994], \"loglift\": [30.0, 29.0, 28.0, 27.0, 26.0, 25.0, 24.0, 23.0, 22.0, 21.0, 20.0, 19.0, 18.0, 17.0, 16.0, 15.0, 14.0, 13.0, 12.0, 11.0, 10.0, 9.0, 8.0, 7.0, 6.0, 5.0, 4.0, 3.0, 2.0, 1.0, 0.6828, 0.6827, 0.6821, 0.6817, 0.6806, 0.6799, 0.6793, 0.6792, 0.6786, 0.6782, 0.6765, 0.6762, 0.6727, 0.6711, 0.67, 0.665, 0.6649, 0.6625, 0.6603, 0.6592, 0.6588, 0.6588, 0.6571, 0.6555, 0.6553, 0.6526, 0.6503, 0.6499, 0.6495, 0.6484, 0.6443, 0.646, 0.6394, 0.6041, 0.6081, 0.6366, 0.6062, 0.5913, 0.5736, 0.5467, -0.1246, 0.7008, 0.7004, 0.6999, 0.6991, 0.6982, 0.6975, 0.6973, 0.6965, 0.6962, 0.6958, 0.6956, 0.6945, 0.6945, 0.6941, 0.6935, 0.6929, 0.6927, 0.6925, 0.6924, 0.6919, 0.6913, 0.6902, 0.6898, 0.6892, 0.6892, 0.6885, 0.6879, 0.6877, 0.6873, 0.6854, 0.68, 0.6795, 0.6849, 0.6789, 0.655, 0.5893, 0.6399, 0.6675, 0.1127]}, \"token.table\": {\"Topic\": [1, 2, 1, 2, 1, 2, 1, 2, 1, 2, 1, 2, 1, 2, 1, 2, 1, 2, 1, 2, 1, 2, 1, 2, 1, 2, 1, 2, 1, 2, 1, 2, 1, 2, 1, 2, 1, 2, 1, 2, 1, 2, 1, 2, 1, 2, 1, 2, 1, 2, 1, 2, 1, 2, 1, 2, 1, 2, 1, 2, 1, 2, 1, 2, 1, 2, 1, 2, 1, 2, 1, 2, 1, 2, 1, 2, 1, 2, 1, 2, 1, 2, 1, 2, 1, 2, 1, 2, 1, 2, 1, 2, 1, 2, 1, 2, 1, 2, 1, 2, 1, 2, 1, 2, 1, 2, 1, 2, 1, 2, 1, 2, 1, 2, 1, 2, 1, 2, 1, 2, 1, 2, 1, 2, 1, 2, 1, 2, 1, 2, 1, 2, 1, 2, 1, 2, 1, 2, 1, 2, 1, 2, 1, 2, 1, 2, 1, 2, 1, 2, 1, 2, 1, 2, 1, 2, 1, 2], \"Freq\": [0.9926653754835354, 0.004889977219130716, 0.9833114822124199, 0.017150781666495696, 0.010638708957979023, 0.9893999330920491, 0.009967611530552091, 0.991777347289933, 0.9738357499807393, 0.025723963207038396, 0.007582122772971816, 0.9932580832593079, 0.002333841091326215, 0.9977170665419568, 0.9253915671718351, 0.07576305228307421, 0.02216886898077261, 0.9791250466507903, 0.014413972041021557, 0.9873570848099766, 0.8945907169218286, 0.1066399530105491, 0.003811218524644066, 0.9947280349321012, 0.9722571224287875, 0.027332529546190813, 0.9776658619648159, 0.019553317239296316, 0.9571299275391155, 0.041614344675613715, 0.9864932702691719, 0.010900478124521235, 0.9797703166574638, 0.031103819576427424, 0.04600229831405888, 0.9535021832368569, 0.8704697097319828, 0.12534763820140551, 0.0105810240026912, 0.9893257442516271, 0.007985305375805855, 0.994170519287829, 0.10599315758158463, 0.8943172670946203, 0.9225011090584634, 0.0771045703093641, 0.9681217411623755, 0.026645552509056206, 0.02091826102592589, 0.9789746160133317, 0.013811713233223402, 0.985235543969936, 0.9595579057898037, 0.040596680629568616, 0.01725612999297802, 0.9835994095997473, 0.011262954375078632, 0.979877030631841, 0.05952279968797821, 0.9404602350700557, 0.014291637236218934, 0.9861229692991065, 0.015152012126311952, 0.9848807882102769, 0.9977275987894202, 0.0013356460492495584, 0.9136396892875579, 0.08725772313420496, 0.9971084313167116, 0.0028246697771011657, 0.988664698734433, 0.02411377313986422, 0.9634648407212981, 0.03973050889572363, 0.9888992823069505, 0.007548849483259163, 0.006138733108872073, 0.9944747636372759, 0.0031540528488846584, 0.9982577266719943, 0.016727891035044348, 0.9785816255500943, 0.006952309358898578, 0.987227928963598, 0.02133144863248214, 0.9741361542166844, 0.033401166052028704, 0.9686338155088325, 0.0069138317151141715, 0.9886779352613265, 0.9659027053851443, 0.034496525192326585, 0.004780872367952142, 0.9968118887180216, 0.011950236119969001, 0.9858944798974426, 0.01166182099854725, 0.9912547848765163, 0.011334674260957191, 0.9861166607032755, 0.44624607895250157, 0.5529570978324476, 0.9968789241150176, 0.004839218078228241, 0.9970205527796668, 0.004816524409563608, 0.9657922648763743, 0.03269609230050225, 0.998194676428287, 0.001045230027673599, 0.012697618732776613, 0.9904142611565758, 0.9932779380921811, 0.009414956759167594, 0.9702111668629174, 0.02366368699665652, 0.011785679002809621, 0.9899970362360082, 0.9780078287358258, 0.028764936139288995, 0.9846934801959409, 0.010475462555275967, 0.002244208320648448, 0.9964284943679109, 0.9939237848455196, 0.003750655791869885, 0.9553126897340692, 0.04816702637314635, 0.007713395745221809, 0.9911713532610026, 0.9933655038306596, 0.003665555364688781, 0.9984087342477408, 0.0008962376429512934, 0.9962006784198425, 0.0024597547615304756, 0.0037017989493457006, 0.9957839173739935, 0.007814660283221298, 0.9924618559691049, 0.9830599478313529, 0.02340618923407983, 0.9914678394566814, 0.008239344926232808, 0.92607215938921, 0.0740857727511368, 0.006317527420974952, 0.9918518050930675, 0.007187415043954413, 0.991863276065709, 0.9652864142928551, 0.033869698747117725, 0.0011797498610941325, 0.9980683824856361, 0.9649994948334959, 0.03446426767262485, 0.9688185330538859, 0.03051396954500428], \"Term\": [\"able\", \"able\", \"achieve\", \"achieve\", \"always_looke\", \"always_looke\", \"amazing\", \"amazing\", \"appear\", \"appear\", \"appreciate\", \"appreciate\", \"approachable\", \"approachable\", \"associate\", \"associate\", \"available\", \"available\", \"aware\", \"aware\", \"best_interest\", \"best_interest\", \"build\", \"build\", \"caring\", \"caring\", \"commitment\", \"commitment\", \"committed\", \"committed\", \"communicate\", \"communicate\", \"consider\", \"consider\", \"consistent\", \"consistent\", \"corporate\", \"corporate\", \"difficult\", \"difficult\", \"direct\", \"direct\", \"drive\", \"drive\", \"easy\", \"easy\", \"empathy\", \"empathy\", \"encourage\", \"encourage\", \"engage\", \"engage\", \"ensure\", \"ensure\", \"everyday\", \"everyday\", \"excellent\", \"excellent\", \"fair\", \"fair\", \"feel_like\", \"feel_like\", \"financial\", \"financial\", \"future\", \"future\", \"general\", \"general\", \"genuine\", \"genuine\", \"going_on\", \"going_on\", \"happy\", \"happy\", \"has_been\", \"has_been\", \"help\", \"help\", \"honest\", \"honest\", \"impressive\", \"impressive\", \"include\", \"include\", \"inform\", \"inform\", \"innovative\", \"innovative\", \"intelligent\", \"intelligent\", \"involve\", \"involve\", \"knowledgeable\", \"knowledgeable\", \"learn\", \"learn\", \"leave\", \"leave\", \"necessary\", \"necessary\", \"nice\", \"nice\", \"overall\", \"overall\", \"pandemic\", \"pandemic\", \"personable\", \"personable\", \"positive\", \"positive\", \"possible\", \"possible\", \"professional\", \"professional\", \"progressive\", \"progressive\", \"respect\", \"respect\", \"safe\", \"safe\", \"small\", \"small\", \"smart\", \"smart\", \"speak\", \"speak\", \"steady\", \"steady\", \"strategic\", \"strategic\", \"strive\", \"strive\", \"strong\", \"strong\", \"succeed\", \"succeed\", \"successful\", \"successful\", \"supportive\", \"supportive\", \"team_member\", \"team_member\", \"thoughtful\", \"thoughtful\", \"transparent\", \"transparent\", \"understanding\", \"understanding\", \"update\", \"update\", \"we_need\", \"we_need\", \"willing\", \"willing\", \"win\", \"win\", \"work_ethic\", \"work_ethic\"]}, \"R\": 30, \"lambda.step\": 0.01, \"plot.opts\": {\"xlab\": \"PC1\", \"ylab\": \"PC2\"}, \"topic.order\": [2, 1]};\n",
              "\n",
              "function LDAvis_load_lib(url, callback){\n",
              "  var s = document.createElement('script');\n",
              "  s.src = url;\n",
              "  s.async = true;\n",
              "  s.onreadystatechange = s.onload = callback;\n",
              "  s.onerror = function(){console.warn(\"failed to load library \" + url);};\n",
              "  document.getElementsByTagName(\"head\")[0].appendChild(s);\n",
              "}\n",
              "\n",
              "if(typeof(LDAvis) !== \"undefined\"){\n",
              "   // already loaded: just create the visualization\n",
              "   !function(LDAvis){\n",
              "       new LDAvis(\"#\" + \"ldavis_el591399798215729449163633581\", ldavis_el591399798215729449163633581_data);\n",
              "   }(LDAvis);\n",
              "}else if(typeof define === \"function\" && define.amd){\n",
              "   // require.js is available: use it to load d3/LDAvis\n",
              "   require.config({paths: {d3: \"https://d3js.org/d3.v5\"}});\n",
              "   require([\"d3\"], function(d3){\n",
              "      window.d3 = d3;\n",
              "      LDAvis_load_lib(\"https://cdn.jsdelivr.net/gh/bmabey/pyLDAvis@3.3.1/pyLDAvis/js/ldavis.v3.0.0.js\", function(){\n",
              "        new LDAvis(\"#\" + \"ldavis_el591399798215729449163633581\", ldavis_el591399798215729449163633581_data);\n",
              "      });\n",
              "    });\n",
              "}else{\n",
              "    // require.js not available: dynamically load d3 & LDAvis\n",
              "    LDAvis_load_lib(\"https://d3js.org/d3.v5.js\", function(){\n",
              "         LDAvis_load_lib(\"https://cdn.jsdelivr.net/gh/bmabey/pyLDAvis@3.3.1/pyLDAvis/js/ldavis.v3.0.0.js\", function(){\n",
              "                 new LDAvis(\"#\" + \"ldavis_el591399798215729449163633581\", ldavis_el591399798215729449163633581_data);\n",
              "            })\n",
              "         });\n",
              "}\n",
              "</script>"
            ]
          },
          "metadata": {},
          "execution_count": 45
        }
      ]
    },
    {
      "cell_type": "code",
      "source": [
        "gain_vis = pyLDAvis.gensim_models.prepare(lda_gain_model, gain_corpus, id2gain)\n",
        "gain_vis"
      ],
      "metadata": {
        "colab": {
          "base_uri": "https://localhost:8080/",
          "height": 896
        },
        "id": "4ivJOJGCxVSO",
        "outputId": "70dcea51-7de1-4d47-968d-1725eca0c6de"
      },
      "execution_count": 46,
      "outputs": [
        {
          "output_type": "stream",
          "name": "stderr",
          "text": [
            "/usr/local/lib/python3.7/dist-packages/pyLDAvis/_prepare.py:247: FutureWarning: In a future version of pandas all arguments of DataFrame.drop except for the argument 'labels' will be keyword-only\n",
            "  by='saliency', ascending=False).head(R).drop('saliency', 1)\n"
          ]
        },
        {
          "output_type": "execute_result",
          "data": {
            "text/plain": [
              "PreparedData(topic_coordinates=              x    y  topics  cluster       Freq\n",
              "topic                                           \n",
              "1      0.097032  0.0       1        1  50.513552\n",
              "0     -0.097032  0.0       2        1  49.486448, topic_info=            Term        Freq       Total Category  logprob  loglift\n",
              "248        leave  562.000000  562.000000  Default  30.0000  30.0000\n",
              "142        spend  562.000000  562.000000  Default  29.0000  29.0000\n",
              "170       salary  411.000000  411.000000  Default  28.0000  28.0000\n",
              "380       strong  420.000000  420.000000  Default  27.0000  27.0000\n",
              "107  transparent  386.000000  386.000000  Default  26.0000  26.0000\n",
              "..           ...         ...         ...      ...      ...      ...\n",
              "680       expand  209.187751  251.583851   Topic2  -5.1649   0.5189\n",
              "805       social  199.345844  236.245768   Topic2  -5.2131   0.5336\n",
              "375   initiative  173.666030  192.670957   Topic2  -5.3510   0.5996\n",
              "593      address  182.764916  224.289707   Topic2  -5.2999   0.4987\n",
              "515      promote  180.513994  233.446057   Topic2  -5.3123   0.4463\n",
              "\n",
              "[109 rows x 6 columns], token_table=      Topic      Freq         Term\n",
              "term                              \n",
              "152       1  0.992983         able\n",
              "152       2  0.003940         able\n",
              "35        1  0.004567  accountable\n",
              "35        2  0.995581  accountable\n",
              "40        1  0.010160  acknowledge\n",
              "...     ...       ...          ...\n",
              "178       2  0.985591      willing\n",
              "167       1  0.989958          win\n",
              "167       2  0.009850          win\n",
              "6         1  0.007544        wrong\n",
              "6         2  0.991981        wrong\n",
              "\n",
              "[158 rows x 3 columns], R=30, lambda_step=0.01, plot_opts={'xlab': 'PC1', 'ylab': 'PC2'}, topic_order=[2, 1])"
            ],
            "text/html": [
              "\n",
              "<link rel=\"stylesheet\" type=\"text/css\" href=\"https://cdn.jsdelivr.net/gh/bmabey/pyLDAvis@3.3.1/pyLDAvis/js/ldavis.v1.0.0.css\">\n",
              "\n",
              "\n",
              "<div id=\"ldavis_el591399798215752486510891374\"></div>\n",
              "<script type=\"text/javascript\">\n",
              "\n",
              "var ldavis_el591399798215752486510891374_data = {\"mdsDat\": {\"x\": [0.0970323296741735, -0.0970323296741735], \"y\": [0.0, 0.0], \"topics\": [1, 2], \"cluster\": [1, 1], \"Freq\": [50.513552082945665, 49.486447917054335]}, \"tinfo\": {\"Term\": [\"leave\", \"spend\", \"salary\", \"strong\", \"transparent\", \"raise\", \"build\", \"honest\", \"direct\", \"include\", \"help\", \"lose\", \"pay\", \"corporate\", \"political\", \"wrong\", \"affect\", \"engage\", \"positive\", \"able\", \"potential\", \"consider\", \"competitive\", \"certain\", \"future\", \"visible\", \"stay\", \"accountable\", \"communicate\", \"old\", \"leave\", \"spend\", \"lose\", \"raise\", \"corporate\", \"able\", \"certain\", \"consider\", \"update\", \"large\", \"communicate\", \"difficult\", \"possible\", \"ensure\", \"affect\", \"old\", \"small\", \"create\", \"answer\", \"successful\", \"engage\", \"entire\", \"win\", \"potential\", \"receive\", \"senior\", \"exist\", \"major\", \"replace\", \"complete\", \"political\", \"include\", \"future\", \"busy\", \"specific\", \"involve\", \"low\", \"equal\", \"transparent\", \"salary\", \"pay\", \"accountable\", \"build\", \"speak\", \"help\", \"nice\", \"learn\", \"strong\", \"honest\", \"visible\", \"stay\", \"training\", \"wrong\", \"consistent\", \"overall\", \"acknowledge\", \"recognize\", \"meet\", \"aware\", \"change\", \"competitive\", \"hire\", \"meeting\", \"respect\", \"correct\", \"willing\", \"technical\", \"internal\", \"direct\", \"previous\", \"reduce\", \"positive\", \"politic\", \"long\", \"expand\", \"social\", \"initiative\", \"address\", \"promote\"], \"Freq\": [562.0, 562.0, 411.0, 420.0, 386.0, 377.0, 343.0, 321.0, 339.0, 387.0, 306.0, 293.0, 272.0, 271.0, 293.0, 265.0, 270.0, 270.0, 287.0, 253.0, 256.0, 239.0, 233.0, 228.0, 306.0, 224.0, 224.0, 218.0, 228.0, 229.0, 560.9769198024235, 560.7653381507982, 292.43688890785467, 375.7909058442205, 270.2836391228659, 252.4796296085529, 227.14973140076702, 237.9952488468407, 187.97266856516512, 204.9283849713623, 226.527272730317, 185.81733058725453, 182.78441080903488, 121.2049615767756, 268.65081628642986, 227.45485239911753, 175.66447417901503, 202.05504766932322, 179.12485571976723, 192.42218301553035, 268.22650440701494, 115.83504605863762, 200.89987589327194, 253.34483811109047, 130.90891613407967, 93.33695368294482, 208.04066092094328, 205.079179099618, 183.34796144438442, 148.25417388671372, 288.4833331258286, 374.1037518746726, 290.6698566868707, 214.33167361362038, 221.9049845805493, 225.19283605926722, 270.3195582320084, 202.75550510294025, 385.270485382927, 409.7578710296334, 270.8171087511363, 217.7357037800004, 341.9937354470699, 212.45928260601045, 304.330444738861, 180.95861055417046, 161.27871838324634, 417.6070438596142, 318.90602353850034, 222.48132710065468, 222.35710942353631, 122.40582266780291, 262.665541062653, 220.74067703224506, 221.23386519635164, 194.9229722329793, 107.86014749232847, 182.2386868444641, 156.67570841272865, 134.17391318128335, 230.49239549224902, 104.28506181586768, 120.5951445855635, 204.10266880131763, 197.23324030992617, 119.02010672076737, 225.2143887783233, 218.03175647875975, 333.74265381659654, 146.42374357858145, 185.11724312226013, 279.60493827190857, 142.10752879945622, 257.9209065733565, 209.187751107575, 199.34584440821388, 173.66603043691046, 182.76491561497411, 180.51399446831124], \"Total\": [562.0, 562.0, 411.0, 420.0, 386.0, 377.0, 343.0, 321.0, 339.0, 387.0, 306.0, 293.0, 272.0, 271.0, 293.0, 265.0, 270.0, 270.0, 287.0, 253.0, 256.0, 239.0, 233.0, 228.0, 306.0, 224.0, 224.0, 218.0, 228.0, 229.0, 562.4215676525539, 562.8959408711509, 293.7056176124319, 377.50972636821706, 271.6447716137838, 253.78069485668914, 228.56913022002848, 239.60544283642062, 189.26594090582807, 206.3492013730781, 228.14958190193806, 187.16750761523588, 184.1134100102532, 122.18280443954816, 270.83057673851584, 229.3421741019634, 177.13848168950847, 203.88682219686558, 180.77056119540015, 194.21254943080194, 270.8013645221106, 117.04322269471359, 203.0390127450345, 256.20380956091645, 132.39661730727443, 94.48777024183005, 210.61867160405308, 207.63814545551878, 185.7837511665252, 150.65557774427302, 293.2701106912203, 387.0657592875419, 306.2595065515986, 222.9783074999043, 236.86540951200413, 246.49342708781512, 353.97258557229816, 263.3269325353806, 386.8675719742051, 411.53233215097265, 272.1585871131525, 218.96770616505142, 343.9708647904249, 213.72241931789395, 306.4752948894367, 182.29024743486104, 162.50508719799083, 420.9138245478755, 321.5940887616809, 224.4207080152303, 224.32964024752462, 123.53454850485963, 265.1259918814129, 222.9073875184922, 223.40720977042358, 196.85616745037765, 108.98573622635271, 184.1406342098054, 158.3563816554737, 135.6592739567741, 233.12227325959893, 105.54736075238124, 122.09896565023884, 206.93479712662355, 200.00531474313422, 120.7397460352995, 228.58102839440457, 221.3110183806646, 339.4073580421058, 148.69026680186866, 188.65368166898466, 287.4035980332671, 144.42480296455105, 273.3545257133034, 251.58385091737608, 236.24576798446702, 192.67095681849068, 224.28970728669768, 233.44605739586743], \"Category\": [\"Default\", \"Default\", \"Default\", \"Default\", \"Default\", \"Default\", \"Default\", \"Default\", \"Default\", \"Default\", \"Default\", \"Default\", \"Default\", \"Default\", \"Default\", \"Default\", \"Default\", \"Default\", \"Default\", \"Default\", \"Default\", \"Default\", \"Default\", \"Default\", \"Default\", \"Default\", \"Default\", \"Default\", \"Default\", \"Default\", \"Topic1\", \"Topic1\", \"Topic1\", \"Topic1\", \"Topic1\", \"Topic1\", \"Topic1\", \"Topic1\", \"Topic1\", \"Topic1\", \"Topic1\", \"Topic1\", \"Topic1\", \"Topic1\", \"Topic1\", \"Topic1\", \"Topic1\", \"Topic1\", \"Topic1\", \"Topic1\", \"Topic1\", \"Topic1\", \"Topic1\", \"Topic1\", \"Topic1\", \"Topic1\", \"Topic1\", \"Topic1\", \"Topic1\", \"Topic1\", \"Topic1\", \"Topic1\", \"Topic1\", \"Topic1\", \"Topic1\", \"Topic1\", \"Topic1\", \"Topic1\", \"Topic2\", \"Topic2\", \"Topic2\", \"Topic2\", \"Topic2\", \"Topic2\", \"Topic2\", \"Topic2\", \"Topic2\", \"Topic2\", \"Topic2\", \"Topic2\", \"Topic2\", \"Topic2\", \"Topic2\", \"Topic2\", \"Topic2\", \"Topic2\", \"Topic2\", \"Topic2\", \"Topic2\", \"Topic2\", \"Topic2\", \"Topic2\", \"Topic2\", \"Topic2\", \"Topic2\", \"Topic2\", \"Topic2\", \"Topic2\", \"Topic2\", \"Topic2\", \"Topic2\", \"Topic2\", \"Topic2\", \"Topic2\", \"Topic2\", \"Topic2\", \"Topic2\", \"Topic2\", \"Topic2\"], \"logprob\": [30.0, 29.0, 28.0, 27.0, 26.0, 25.0, 24.0, 23.0, 22.0, 21.0, 20.0, 19.0, 18.0, 17.0, 16.0, 15.0, 14.0, 13.0, 12.0, 11.0, 10.0, 9.0, 8.0, 7.0, 6.0, 5.0, 4.0, 3.0, 2.0, 1.0, -4.199, -4.1994, -4.8504, -4.5996, -4.9292, -4.9973, -5.1031, -5.0564, -5.2924, -5.206, -5.1058, -5.3039, -5.3204, -5.7312, -4.9353, -5.1017, -5.3601, -5.2201, -5.3406, -5.269, -4.9368, -5.7765, -5.2259, -4.9939, -5.6542, -5.9925, -5.1909, -5.2053, -5.3173, -5.5297, -4.864, -4.6041, -4.8565, -5.1612, -5.1264, -5.1117, -4.9291, -5.2167, -4.5542, -4.4926, -4.9067, -5.1249, -4.6733, -5.1494, -4.79, -5.3099, -5.425, -4.4736, -4.7432, -5.1033, -5.1038, -5.7008, -4.9373, -5.1111, -5.1089, -5.2355, -5.8273, -5.3028, -5.454, -5.609, -5.0679, -5.861, -5.7157, -5.1895, -5.2237, -5.7288, -5.0911, -5.1235, -4.6978, -5.5216, -5.2871, -4.8748, -5.5515, -4.9555, -5.1649, -5.2131, -5.351, -5.2999, -5.3123], \"loglift\": [30.0, 29.0, 28.0, 27.0, 26.0, 25.0, 24.0, 23.0, 22.0, 21.0, 20.0, 19.0, 18.0, 17.0, 16.0, 15.0, 14.0, 13.0, 12.0, 11.0, 10.0, 9.0, 8.0, 7.0, 6.0, 5.0, 4.0, 3.0, 2.0, 1.0, 0.6804, 0.6791, 0.6786, 0.6784, 0.6779, 0.6778, 0.6767, 0.6762, 0.6761, 0.676, 0.6758, 0.6757, 0.6757, 0.6749, 0.6748, 0.6747, 0.6746, 0.6739, 0.6738, 0.6737, 0.6734, 0.6726, 0.6723, 0.6717, 0.6716, 0.6707, 0.6706, 0.6705, 0.6697, 0.6669, 0.6665, 0.6489, 0.6307, 0.6434, 0.6177, 0.5926, 0.4133, 0.4215, 0.6993, 0.6992, 0.6985, 0.6978, 0.6977, 0.6975, 0.6964, 0.6961, 0.6959, 0.6956, 0.6951, 0.6948, 0.6946, 0.6943, 0.6941, 0.6937, 0.6937, 0.6936, 0.6931, 0.6931, 0.6928, 0.6925, 0.6921, 0.6914, 0.6911, 0.6897, 0.6895, 0.6891, 0.6886, 0.6885, 0.6866, 0.6881, 0.6845, 0.676, 0.6873, 0.6454, 0.5189, 0.5336, 0.5996, 0.4987, 0.4463]}, \"token.table\": {\"Topic\": [1, 2, 1, 2, 1, 2, 1, 2, 1, 2, 1, 2, 1, 2, 1, 2, 1, 2, 1, 2, 1, 2, 1, 2, 1, 2, 1, 2, 1, 2, 1, 2, 1, 2, 1, 2, 1, 2, 1, 2, 1, 2, 1, 2, 1, 2, 1, 2, 1, 2, 1, 2, 1, 2, 1, 2, 1, 2, 1, 2, 1, 2, 1, 2, 1, 2, 1, 2, 1, 2, 1, 2, 1, 2, 1, 2, 1, 2, 1, 2, 1, 2, 1, 2, 1, 2, 1, 2, 1, 2, 1, 2, 1, 2, 1, 2, 1, 2, 1, 2, 1, 2, 1, 2, 1, 2, 1, 2, 1, 2, 1, 2, 1, 2, 1, 2, 1, 2, 1, 2, 1, 2, 1, 2, 1, 2, 1, 2, 1, 2, 1, 2, 1, 2, 1, 2, 1, 2, 1, 2, 1, 2, 1, 2, 1, 2, 1, 2, 1, 2, 1, 2, 1, 2, 1, 2, 1, 2], \"Freq\": [0.9929833320942922, 0.003940410047993223, 0.0045668834802800986, 0.9955805987010614, 0.010159702009357407, 0.9905709459123472, 0.18725781271056555, 0.8159090410960356, 0.9932408786313547, 0.007384690547445016, 0.9902054782388693, 0.01106374836021083, 0.012629740456884633, 0.9914346258654437, 0.005814445945061548, 0.9942702566055246, 0.9597346145435777, 0.040362670705103736, 0.9931349862576894, 0.004375043992324623, 0.0073714090517588635, 0.9877688129356877, 0.9949612798219715, 0.008766178676845563, 0.012868783227157697, 0.9866067140820901, 0.9823731866816066, 0.013275313333535222, 0.9932996395348304, 0.008347055794410339, 0.00897233610004999, 0.991443139055524, 0.9939451379681907, 0.0036812782887710766, 0.014999601404857087, 0.9849738255856154, 0.9907457373824595, 0.009809363736459995, 0.9937622313289765, 0.005342807695317078, 0.017677872496964724, 0.9840682356643695, 0.9896552791487804, 0.01107823073674008, 0.9903193870448982, 0.008184457744172712, 0.9910868594464913, 0.008543852236607684, 0.7709048141998348, 0.2316512003260587, 0.9875667642184356, 0.014243751406996668, 0.16694235280544073, 0.8307369461032645, 0.9501745865020923, 0.05224327623379202, 0.006525811487420267, 0.9919233460878806, 0.009474419756890408, 0.9853396547166023, 0.009328529674011411, 0.9919336553365468, 0.9662440839210589, 0.03358602430741649, 0.09861372110120006, 0.9030940774530953, 0.013555583549120313, 0.985039071236076, 0.9128032445256322, 0.08519496948905901, 0.9934615624189466, 0.004846153963019252, 0.006153653508592215, 0.9907382148833465, 0.9974724161833137, 0.0017780256972964594, 0.05487379424525105, 0.9438292610183181, 0.9941927647612018, 0.003404769742332883, 0.7627709348266832, 0.23730651305719036, 0.9872945048236142, 0.014448212265711427, 0.010861263775822822, 0.9883750035998767, 0.016380155141765426, 0.9909993860768084, 0.005485756995076418, 0.9929220161088316, 0.989787425225497, 0.008720594054850194, 0.008952262561513697, 0.9892250130472635, 0.0036743283047109606, 0.9957429705766704, 0.013848036894957014, 0.983210619541948, 0.9820298404129936, 0.017049129173836695, 0.02783542048445057, 0.9742397169557699, 0.9939525860164602, 0.0054314348962648095, 0.9874950744627601, 0.011709427760427986, 0.013450779550116894, 0.9819069071585333, 0.22703317670567877, 0.7753397166741105, 0.9960008278919296, 0.0052978767441060086, 0.9894512614016938, 0.007553063064135067, 0.00917551263702158, 0.9909553647983307, 0.02120287271688912, 0.9806328631561219, 0.9850161752626578, 0.010765204101231232, 0.014497320130090531, 0.9858177688461561, 0.004859885466462669, 0.9962765206248473, 0.9842543618288137, 0.010583380234718425, 0.9935729284870805, 0.0056453007300402295, 0.15661656213216366, 0.8423431314675829, 0.004678966311496713, 0.991940858037303, 0.9372411128217066, 0.06332710221768288, 0.9966318093034804, 0.0035530545786220335, 0.008915451376791788, 0.9896151028238885, 0.0071273496498302225, 0.993077384543011, 0.9886075877316555, 0.010297995705538077, 0.013124448783315723, 0.9843336587486793, 0.008094901483860297, 0.9875779810309562, 0.005169727692072761, 0.9951725807240065, 0.9933113115874453, 0.005283570806316198, 0.008911833572257824, 0.9892135265206184, 0.016564553642636284, 0.9855909417368588, 0.9899575322128118, 0.009850323703610067, 0.007543583282074326, 0.9919812015927739], \"Term\": [\"able\", \"able\", \"accountable\", \"accountable\", \"acknowledge\", \"acknowledge\", \"address\", \"address\", \"affect\", \"affect\", \"answer\", \"answer\", \"aware\", \"aware\", \"build\", \"build\", \"busy\", \"busy\", \"certain\", \"certain\", \"change\", \"change\", \"communicate\", \"communicate\", \"competitive\", \"competitive\", \"complete\", \"complete\", \"consider\", \"consider\", \"consistent\", \"consistent\", \"corporate\", \"corporate\", \"correct\", \"correct\", \"create\", \"create\", \"difficult\", \"difficult\", \"direct\", \"direct\", \"engage\", \"engage\", \"ensure\", \"ensure\", \"entire\", \"entire\", \"equal\", \"equal\", \"exist\", \"exist\", \"expand\", \"expand\", \"future\", \"future\", \"help\", \"help\", \"hire\", \"hire\", \"honest\", \"honest\", \"include\", \"include\", \"initiative\", \"initiative\", \"internal\", \"internal\", \"involve\", \"involve\", \"large\", \"large\", \"learn\", \"learn\", \"leave\", \"leave\", \"long\", \"long\", \"lose\", \"lose\", \"low\", \"low\", \"major\", \"major\", \"meet\", \"meet\", \"meeting\", \"meeting\", \"nice\", \"nice\", \"old\", \"old\", \"overall\", \"overall\", \"pay\", \"pay\", \"politic\", \"politic\", \"political\", \"political\", \"positive\", \"positive\", \"possible\", \"possible\", \"potential\", \"potential\", \"previous\", \"previous\", \"promote\", \"promote\", \"raise\", \"raise\", \"receive\", \"receive\", \"recognize\", \"recognize\", \"reduce\", \"reduce\", \"replace\", \"replace\", \"respect\", \"respect\", \"salary\", \"salary\", \"senior\", \"senior\", \"small\", \"small\", \"social\", \"social\", \"speak\", \"speak\", \"specific\", \"specific\", \"spend\", \"spend\", \"stay\", \"stay\", \"strong\", \"strong\", \"successful\", \"successful\", \"technical\", \"technical\", \"training\", \"training\", \"transparent\", \"transparent\", \"update\", \"update\", \"visible\", \"visible\", \"willing\", \"willing\", \"win\", \"win\", \"wrong\", \"wrong\"]}, \"R\": 30, \"lambda.step\": 0.01, \"plot.opts\": {\"xlab\": \"PC1\", \"ylab\": \"PC2\"}, \"topic.order\": [2, 1]};\n",
              "\n",
              "function LDAvis_load_lib(url, callback){\n",
              "  var s = document.createElement('script');\n",
              "  s.src = url;\n",
              "  s.async = true;\n",
              "  s.onreadystatechange = s.onload = callback;\n",
              "  s.onerror = function(){console.warn(\"failed to load library \" + url);};\n",
              "  document.getElementsByTagName(\"head\")[0].appendChild(s);\n",
              "}\n",
              "\n",
              "if(typeof(LDAvis) !== \"undefined\"){\n",
              "   // already loaded: just create the visualization\n",
              "   !function(LDAvis){\n",
              "       new LDAvis(\"#\" + \"ldavis_el591399798215752486510891374\", ldavis_el591399798215752486510891374_data);\n",
              "   }(LDAvis);\n",
              "}else if(typeof define === \"function\" && define.amd){\n",
              "   // require.js is available: use it to load d3/LDAvis\n",
              "   require.config({paths: {d3: \"https://d3js.org/d3.v5\"}});\n",
              "   require([\"d3\"], function(d3){\n",
              "      window.d3 = d3;\n",
              "      LDAvis_load_lib(\"https://cdn.jsdelivr.net/gh/bmabey/pyLDAvis@3.3.1/pyLDAvis/js/ldavis.v3.0.0.js\", function(){\n",
              "        new LDAvis(\"#\" + \"ldavis_el591399798215752486510891374\", ldavis_el591399798215752486510891374_data);\n",
              "      });\n",
              "    });\n",
              "}else{\n",
              "    // require.js not available: dynamically load d3 & LDAvis\n",
              "    LDAvis_load_lib(\"https://d3js.org/d3.v5.js\", function(){\n",
              "         LDAvis_load_lib(\"https://cdn.jsdelivr.net/gh/bmabey/pyLDAvis@3.3.1/pyLDAvis/js/ldavis.v3.0.0.js\", function(){\n",
              "                 new LDAvis(\"#\" + \"ldavis_el591399798215752486510891374\", ldavis_el591399798215752486510891374_data);\n",
              "            })\n",
              "         });\n",
              "}\n",
              "</script>"
            ]
          },
          "metadata": {},
          "execution_count": 46
        }
      ]
    },
    {
      "cell_type": "code",
      "source": [
        "pyLDAvis.save_html(inspire_vis, 'Male_inspire.html')\n",
        "pyLDAvis.save_html(gain_vis, 'Male_gain.html')"
      ],
      "metadata": {
        "id": "C__CKcqsL7_o"
      },
      "execution_count": 47,
      "outputs": []
    },
    {
      "cell_type": "markdown",
      "source": [
        "#WORD CLOUDS"
      ],
      "metadata": {
        "id": "CUC4xzrlxhbm"
      }
    },
    {
      "cell_type": "code",
      "source": [
        "import matplotlib.colors as mcolors\n",
        "from wordcloud import WordCloud\n",
        "\n",
        "\n",
        "colsi = [color for name, color in mcolors.CSS4_COLORS.items()]\n",
        "\n",
        "x, y = np.ogrid[:290, :290]\n",
        "\n",
        "mask = (x - 150) ** 2 + (y - 150) ** 2 > 130 ** 2\n",
        "mask = 255 * mask.astype(int)\n",
        "\n",
        "cloud_inspire = WordCloud(background_color='gray',\n",
        "                  width=500,\n",
        "                  height=500,\n",
        "                  max_words=10,\n",
        "                  mask=mask,\n",
        "                  color_func=lambda *args, **kwargs: colsi[i+20],\n",
        "                  prefer_horizontal=1.0)\n",
        "\n",
        "topics = lda_inspire_model.show_topics(formatted=False)\n",
        "\n",
        "fig, axes = plt.subplots(1, 2, figsize=(14,3), sharex=True, sharey=True)\n",
        "\n",
        "for i, ax in enumerate(axes.flatten()):\n",
        "    fig.add_subplot(ax)\n",
        "    topic_words = dict(topics[i][1])\n",
        "    cloud_inspire.generate_from_frequencies(topic_words, max_font_size=300)\n",
        "    plt.gca().imshow(cloud_inspire)\n",
        "    plt.gca().set_title('Topic ' + str(i+1), fontdict=dict(size=16))\n",
        "    plt.gca().axis('off')\n",
        "\n",
        "fig.patch.set_facecolor('grey')\n",
        "fig.suptitle(\"TOPICS for Male Option \\n\\n-- Survey Essence ID: 30013 --\\n\\nQuestion: 'What about the\\n leader of this company\\n inspires your confidence?'\",\n",
        "             fontweight='bold',y=0.8,fontsize=12)\n",
        "\n",
        "plt.subplots_adjust(wspace=0, hspace=0)\n",
        "plt.axis('off')\n",
        "plt.margins(x=0, y=0)\n",
        "plt.tight_layout()\n",
        "plt.show()"
      ],
      "metadata": {
        "colab": {
          "base_uri": "https://localhost:8080/",
          "height": 221
        },
        "id": "sYRNwDUlxjRe",
        "outputId": "2d99728f-0abd-4276-d434-bb37f6248951"
      },
      "execution_count": 48,
      "outputs": [
        {
          "output_type": "display_data",
          "data": {
            "text/plain": [
              "<Figure size 1008x216 with 2 Axes>"
            ],
            "image/png": "[encoded data removed]"
          },
          "metadata": {}
        }
      ]
    },
    {
      "cell_type": "code",
      "source": [
        "colsd = [color for name, color in mcolors.TABLEAU_COLORS.items()]\n",
        "\n",
        "cloud_gain = WordCloud(background_color='black',\n",
        "                  width=500,\n",
        "                  height=500,\n",
        "                  max_words=100,\n",
        "                  mask=mask,\n",
        "                  color_func=lambda *args, **kwargs: colsd[i+3],\n",
        "                  prefer_horizontal=1.0)\n",
        "\n",
        "topics = lda_gain_model.show_topics(formatted=False)\n",
        "\n",
        "fig, axes = plt.subplots(1, 2, figsize=(15,3), sharex=True, sharey=True)\n",
        "\n",
        "for i, ax in enumerate(axes.flatten()):\n",
        "    fig.add_subplot(ax)\n",
        "    topic_words = dict(topics[i][1])\n",
        "    cloud_gain.generate_from_frequencies(topic_words, max_font_size=300)\n",
        "    plt.gca().imshow(cloud_gain)\n",
        "    plt.gca().set_title('Topic ' + str(i+1), fontdict=dict(size=16), color='white')\n",
        "    plt.gca().axis('off')\n",
        "\n",
        "fig.patch.set_facecolor('black')\n",
        "fig.suptitle(\"TOPICS for Male Option \\n\\n--Survey Essence ID: 30014--\\n\\nQuestion: 'What could the leader\\n of this company do to gain\\n your full confidence?'\",\n",
        "             fontweight='bold',y=0.8,fontsize=12, color='white')\n",
        "\n",
        "plt.subplots_adjust(wspace=0, hspace=0)\n",
        "plt.axis('off')\n",
        "plt.margins(x=0, y=0)\n",
        "plt.tight_layout()\n",
        "plt.show()"
      ],
      "metadata": {
        "colab": {
          "base_uri": "https://localhost:8080/",
          "height": 221
        },
        "id": "SkXKiGte1NFj",
        "outputId": "8b3a9594-8f08-493a-ae23-1c0cea53de47"
      },
      "execution_count": 49,
      "outputs": [
        {
          "output_type": "display_data",
          "data": {
            "text/plain": [
              "<Figure size 1080x216 with 2 Axes>"
            ],
            "image/png": "[encoded data removed]"
          },
          "metadata": {}
        }
      ]
    }
  ]
}