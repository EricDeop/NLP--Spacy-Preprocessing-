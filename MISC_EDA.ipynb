{
  "nbformat": 4,
  "nbformat_minor": 0,
  "metadata": {
    "colab": {
      "name": "MISC EDA.ipynb",
      "provenance": [],
      "authorship_tag": "ABX9TyOwqwvZ8gJlPH4hp7Uc9rq/",
      "include_colab_link": true
    },
    "kernelspec": {
      "name": "python3",
      "display_name": "Python 3"
    },
    "language_info": {
      "name": "python"
    }
  },
  "cells": [
    {
      "cell_type": "markdown",
      "metadata": {
        "id": "view-in-github",
        "colab_type": "text"
      },
      "source": [
        "<a href=\"https://colab.research.google.com/github/EricDeop/NLP-Employee-Survey-Project/blob/NLP---Employee-Survey-Project/MISC_EDA.ipynb\" target=\"_parent\"><img src=\"https://colab.research.google.com/assets/colab-badge.svg\" alt=\"Open In Colab\"/></a>"
      ]
    },
    {
      "cell_type": "code",
      "execution_count": 1,
      "metadata": {
        "colab": {
          "base_uri": "https://localhost:8080/",
          "height": 224
        },
        "id": "pVIo8vNOj9lY",
        "outputId": "7b8c5b91-250e-4692-dc64-31fde43feecc"
      },
      "outputs": [
        {
          "output_type": "stream",
          "name": "stdout",
          "text": [
            "Drive already mounted at /content/drive; to attempt to forcibly remount, call drive.mount(\"/content/drive\", force_remount=True).\n"
          ]
        },
        {
          "output_type": "execute_result",
          "data": {
            "text/plain": [
              "   SURVEYRESPONDERID AVERAGE_RESPONSE_DATE  YEAR  MONTH  GENDER  \\\n",
              "0           17296164                1/7/21  2021      1    Male   \n",
              "1           17311889                1/7/21  2021      1  Female   \n",
              "2           17334983                1/7/21  2021      1    Male   \n",
              "3           17340598                1/2/21  2021      1    Male   \n",
              "4           17340874                1/2/21  2021      1    Male   \n",
              "\n",
              "   SURVEYQUESTIONESSENCEID                                            COMMENT  \n",
              "0                    30013  Melvins professional demeanor and interpersona...  \n",
              "1                    30014             Proved better supervision and support.  \n",
              "2                    30013                                 Proven experience   \n",
              "3                    30014  Let the team do what they were hired to do, so...  \n",
              "4                    30013  They consistently look for opportunities to ma...  "
            ],
            "text/html": [
              "\n",
              "  <div id=\"df-af05a33e-af0b-4a1e-83e0-52b88e725893\">\n",
              "    <div class=\"colab-df-container\">\n",
              "      <div>\n",
              "<style scoped>\n",
              "    .dataframe tbody tr th:only-of-type {\n",
              "        vertical-align: middle;\n",
              "    }\n",
              "\n",
              "    .dataframe tbody tr th {\n",
              "        vertical-align: top;\n",
              "    }\n",
              "\n",
              "    .dataframe thead th {\n",
              "        text-align: right;\n",
              "    }\n",
              "</style>\n",
              "<table border=\"1\" class=\"dataframe\">\n",
              "  <thead>\n",
              "    <tr style=\"text-align: right;\">\n",
              "      <th></th>\n",
              "      <th>SURVEYRESPONDERID</th>\n",
              "      <th>AVERAGE_RESPONSE_DATE</th>\n",
              "      <th>YEAR</th>\n",
              "      <th>MONTH</th>\n",
              "      <th>GENDER</th>\n",
              "      <th>SURVEYQUESTIONESSENCEID</th>\n",
              "      <th>COMMENT</th>\n",
              "    </tr>\n",
              "  </thead>\n",
              "  <tbody>\n",
              "    <tr>\n",
              "      <th>0</th>\n",
              "      <td>17296164</td>\n",
              "      <td>1/7/21</td>\n",
              "      <td>2021</td>\n",
              "      <td>1</td>\n",
              "      <td>Male</td>\n",
              "      <td>30013</td>\n",
              "      <td>Melvins professional demeanor and interpersona...</td>\n",
              "    </tr>\n",
              "    <tr>\n",
              "      <th>1</th>\n",
              "      <td>17311889</td>\n",
              "      <td>1/7/21</td>\n",
              "      <td>2021</td>\n",
              "      <td>1</td>\n",
              "      <td>Female</td>\n",
              "      <td>30014</td>\n",
              "      <td>Proved better supervision and support.</td>\n",
              "    </tr>\n",
              "    <tr>\n",
              "      <th>2</th>\n",
              "      <td>17334983</td>\n",
              "      <td>1/7/21</td>\n",
              "      <td>2021</td>\n",
              "      <td>1</td>\n",
              "      <td>Male</td>\n",
              "      <td>30013</td>\n",
              "      <td>Proven experience</td>\n",
              "    </tr>\n",
              "    <tr>\n",
              "      <th>3</th>\n",
              "      <td>17340598</td>\n",
              "      <td>1/2/21</td>\n",
              "      <td>2021</td>\n",
              "      <td>1</td>\n",
              "      <td>Male</td>\n",
              "      <td>30014</td>\n",
              "      <td>Let the team do what they were hired to do, so...</td>\n",
              "    </tr>\n",
              "    <tr>\n",
              "      <th>4</th>\n",
              "      <td>17340874</td>\n",
              "      <td>1/2/21</td>\n",
              "      <td>2021</td>\n",
              "      <td>1</td>\n",
              "      <td>Male</td>\n",
              "      <td>30013</td>\n",
              "      <td>They consistently look for opportunities to ma...</td>\n",
              "    </tr>\n",
              "  </tbody>\n",
              "</table>\n",
              "</div>\n",
              "      <button class=\"colab-df-convert\" onclick=\"convertToInteractive('df-af05a33e-af0b-4a1e-83e0-52b88e725893')\"\n",
              "              title=\"Convert this dataframe to an interactive table.\"\n",
              "              style=\"display:none;\">\n",
              "        \n",
              "  <svg xmlns=\"http://www.w3.org/2000/svg\" height=\"24px\"viewBox=\"0 0 24 24\"\n",
              "       width=\"24px\">\n",
              "    <path d=\"M0 0h24v24H0V0z\" fill=\"none\"/>\n",
              "    <path d=\"M18.56 5.44l.94 2.06.94-2.06 2.06-.94-2.06-.94-.94-2.06-.94 2.06-2.06.94zm-11 1L8.5 8.5l.94-2.06 2.06-.94-2.06-.94L8.5 2.5l-.94 2.06-2.06.94zm10 10l.94 2.06.94-2.06 2.06-.94-2.06-.94-.94-2.06-.94 2.06-2.06.94z\"/><path d=\"M17.41 7.96l-1.37-1.37c-.4-.4-.92-.59-1.43-.59-.52 0-1.04.2-1.43.59L10.3 9.45l-7.72 7.72c-.78.78-.78 2.05 0 2.83L4 21.41c.39.39.9.59 1.41.59.51 0 1.02-.2 1.41-.59l7.78-7.78 2.81-2.81c.8-.78.8-2.07 0-2.86zM5.41 20L4 18.59l7.72-7.72 1.47 1.35L5.41 20z\"/>\n",
              "  </svg>\n",
              "      </button>\n",
              "      \n",
              "  <style>\n",
              "    .colab-df-container {\n",
              "      display:flex;\n",
              "      flex-wrap:wrap;\n",
              "      gap: 12px;\n",
              "    }\n",
              "\n",
              "    .colab-df-convert {\n",
              "      background-color: #E8F0FE;\n",
              "      border: none;\n",
              "      border-radius: 50%;\n",
              "      cursor: pointer;\n",
              "      display: none;\n",
              "      fill: #1967D2;\n",
              "      height: 32px;\n",
              "      padding: 0 0 0 0;\n",
              "      width: 32px;\n",
              "    }\n",
              "\n",
              "    .colab-df-convert:hover {\n",
              "      background-color: #E2EBFA;\n",
              "      box-shadow: 0px 1px 2px rgba(60, 64, 67, 0.3), 0px 1px 3px 1px rgba(60, 64, 67, 0.15);\n",
              "      fill: #174EA6;\n",
              "    }\n",
              "\n",
              "    [theme=dark] .colab-df-convert {\n",
              "      background-color: #3B4455;\n",
              "      fill: #D2E3FC;\n",
              "    }\n",
              "\n",
              "    [theme=dark] .colab-df-convert:hover {\n",
              "      background-color: #434B5C;\n",
              "      box-shadow: 0px 1px 3px 1px rgba(0, 0, 0, 0.15);\n",
              "      filter: drop-shadow(0px 1px 2px rgba(0, 0, 0, 0.3));\n",
              "      fill: #FFFFFF;\n",
              "    }\n",
              "  </style>\n",
              "\n",
              "      <script>\n",
              "        const buttonEl =\n",
              "          document.querySelector('#df-af05a33e-af0b-4a1e-83e0-52b88e725893 button.colab-df-convert');\n",
              "        buttonEl.style.display =\n",
              "          google.colab.kernel.accessAllowed ? 'block' : 'none';\n",
              "\n",
              "        async function convertToInteractive(key) {\n",
              "          const element = document.querySelector('#df-af05a33e-af0b-4a1e-83e0-52b88e725893');\n",
              "          const dataTable =\n",
              "            await google.colab.kernel.invokeFunction('convertToInteractive',\n",
              "                                                     [key], {});\n",
              "          if (!dataTable) return;\n",
              "\n",
              "          const docLinkHtml = 'Like what you see? Visit the ' +\n",
              "            '<a target=\"_blank\" href=https://colab.research.google.com/notebooks/data_table.ipynb>data table notebook</a>'\n",
              "            + ' to learn more about interactive tables.';\n",
              "          element.innerHTML = '';\n",
              "          dataTable['output_type'] = 'display_data';\n",
              "          await google.colab.output.renderOutput(dataTable, element);\n",
              "          const docLink = document.createElement('div');\n",
              "          docLink.innerHTML = docLinkHtml;\n",
              "          element.appendChild(docLink);\n",
              "        }\n",
              "      </script>\n",
              "    </div>\n",
              "  </div>\n",
              "  "
            ]
          },
          "metadata": {},
          "execution_count": 1
        }
      ],
      "source": [
        "from google.colab import drive\n",
        "\n",
        "drive.mount('/content/drive')\n",
        "\n",
        "import numpy as np\n",
        "import pandas as pd\n",
        "\n",
        "path = \"/content/drive/MyDrive/LeaderComment.csv\"\n",
        "\n",
        "df = pd.read_csv(path)\n",
        "\n",
        "df.head()"
      ]
    },
    {
      "cell_type": "markdown",
      "source": [
        "# MISCELLANEOUS EXPLORATORY DATA ANALYSIS"
      ],
      "metadata": {
        "id": "cjVNooMuOoOW"
      }
    },
    {
      "cell_type": "code",
      "source": [
        "#Importing necessary packages\n",
        "import spacy\n",
        "import re\n",
        "import string\n",
        "from pprint import pprint\n",
        "\n",
        "import gensim\n",
        "import gensim.corpora as corpora\n",
        "from gensim.utils import simple_preprocess\n",
        "from gensim.models import CoherenceModel\n",
        "\n",
        "import matplotlib.pyplot as plt\n",
        "%matplotlib inline"
      ],
      "metadata": {
        "id": "EqTCB1IK3AOW"
      },
      "execution_count": 2,
      "outputs": []
    },
    {
      "cell_type": "code",
      "source": [
        "df['GENDER'] = df['GENDER'].str.lower()\n",
        "\n",
        "df = df.replace({'GENDER' : {'do not wish to disclose' : 'prefer not to answer',\n",
        "                        'cisgender' : 'gender not listed', 'm' : 'male', \n",
        "                        'f' : 'female'}})\n",
        "\n",
        "df = df[df[\"GENDER\"].str.contains(\n",
        "    \"non-binary|other gender|gender not listed|gender identity not listed|other gender\"\n",
        "    ) == False]\n",
        "\n",
        "print(\"\\n\")\n",
        "\n",
        "df['GENDER'].value_counts()\n",
        "\n",
        "df['GENDER'] = df['GENDER'].str.lower()\n",
        "\n",
        "df = df.replace({'GENDER' : {'do not wish to disclose' : 'prefer not to answer',\n",
        "                        'cisgender' : 'gender not listed', 'm' : 'male', \n",
        "                        'f' : 'female'}})\n",
        "\n",
        "df = df[df[\"GENDER\"].str.contains(\n",
        "    \"non-binary|other gender|gender not listed|gender identity not listed|other gender\"\n",
        "    ) == False]\n",
        "\n",
        "print(\"\\n\")\n",
        "\n",
        "df['GENDER'].value_counts()\n",
        "\n",
        "# Removing Nan Values\n",
        "\n",
        "print(df.isna().sum().sort_values(ascending = False))\n",
        "\n",
        "#NaN values only found in comment column\n",
        "#Removal of those 4 comments\n",
        "df = df.dropna()\n",
        "\n",
        "df.shape\n",
        "\n",
        "# Dropping AVERAGE_RESPONSE_DATE, YEAR, and MONTH columns as they will \n",
        "# not be relevant to this analysis\n",
        "\n",
        "df = df.drop(columns=['AVERAGE_RESPONSE_DATE', 'YEAR', 'MONTH'], axis=1)\n",
        "df.head()"
      ],
      "metadata": {
        "colab": {
          "base_uri": "https://localhost:8080/",
          "height": 519
        },
        "id": "uUPSwy_13Hj0",
        "outputId": "49635178-770f-444a-e747-a22a496a4ae9"
      },
      "execution_count": 3,
      "outputs": [
        {
          "output_type": "stream",
          "name": "stdout",
          "text": [
            "\n",
            "\n"
          ]
        },
        {
          "output_type": "stream",
          "name": "stderr",
          "text": [
            "/usr/local/lib/python3.7/dist-packages/ipykernel_launcher.py:15: SettingWithCopyWarning: \n",
            "A value is trying to be set on a copy of a slice from a DataFrame.\n",
            "Try using .loc[row_indexer,col_indexer] = value instead\n",
            "\n",
            "See the caveats in the documentation: https://pandas.pydata.org/pandas-docs/stable/user_guide/indexing.html#returning-a-view-versus-a-copy\n",
            "  from ipykernel import kernelapp as app\n"
          ]
        },
        {
          "output_type": "stream",
          "name": "stdout",
          "text": [
            "\n",
            "\n",
            "COMMENT                    4\n",
            "SURVEYRESPONDERID          0\n",
            "AVERAGE_RESPONSE_DATE      0\n",
            "YEAR                       0\n",
            "MONTH                      0\n",
            "GENDER                     0\n",
            "SURVEYQUESTIONESSENCEID    0\n",
            "dtype: int64\n"
          ]
        },
        {
          "output_type": "execute_result",
          "data": {
            "text/plain": [
              "   SURVEYRESPONDERID  GENDER  SURVEYQUESTIONESSENCEID  \\\n",
              "0           17296164    male                    30013   \n",
              "1           17311889  female                    30014   \n",
              "2           17334983    male                    30013   \n",
              "3           17340598    male                    30014   \n",
              "4           17340874    male                    30013   \n",
              "\n",
              "                                             COMMENT  \n",
              "0  Melvins professional demeanor and interpersona...  \n",
              "1             Proved better supervision and support.  \n",
              "2                                 Proven experience   \n",
              "3  Let the team do what they were hired to do, so...  \n",
              "4  They consistently look for opportunities to ma...  "
            ],
            "text/html": [
              "\n",
              "  <div id=\"df-11a52433-5be6-4f84-9bee-d016d5f4b234\">\n",
              "    <div class=\"colab-df-container\">\n",
              "      <div>\n",
              "<style scoped>\n",
              "    .dataframe tbody tr th:only-of-type {\n",
              "        vertical-align: middle;\n",
              "    }\n",
              "\n",
              "    .dataframe tbody tr th {\n",
              "        vertical-align: top;\n",
              "    }\n",
              "\n",
              "    .dataframe thead th {\n",
              "        text-align: right;\n",
              "    }\n",
              "</style>\n",
              "<table border=\"1\" class=\"dataframe\">\n",
              "  <thead>\n",
              "    <tr style=\"text-align: right;\">\n",
              "      <th></th>\n",
              "      <th>SURVEYRESPONDERID</th>\n",
              "      <th>GENDER</th>\n",
              "      <th>SURVEYQUESTIONESSENCEID</th>\n",
              "      <th>COMMENT</th>\n",
              "    </tr>\n",
              "  </thead>\n",
              "  <tbody>\n",
              "    <tr>\n",
              "      <th>0</th>\n",
              "      <td>17296164</td>\n",
              "      <td>male</td>\n",
              "      <td>30013</td>\n",
              "      <td>Melvins professional demeanor and interpersona...</td>\n",
              "    </tr>\n",
              "    <tr>\n",
              "      <th>1</th>\n",
              "      <td>17311889</td>\n",
              "      <td>female</td>\n",
              "      <td>30014</td>\n",
              "      <td>Proved better supervision and support.</td>\n",
              "    </tr>\n",
              "    <tr>\n",
              "      <th>2</th>\n",
              "      <td>17334983</td>\n",
              "      <td>male</td>\n",
              "      <td>30013</td>\n",
              "      <td>Proven experience</td>\n",
              "    </tr>\n",
              "    <tr>\n",
              "      <th>3</th>\n",
              "      <td>17340598</td>\n",
              "      <td>male</td>\n",
              "      <td>30014</td>\n",
              "      <td>Let the team do what they were hired to do, so...</td>\n",
              "    </tr>\n",
              "    <tr>\n",
              "      <th>4</th>\n",
              "      <td>17340874</td>\n",
              "      <td>male</td>\n",
              "      <td>30013</td>\n",
              "      <td>They consistently look for opportunities to ma...</td>\n",
              "    </tr>\n",
              "  </tbody>\n",
              "</table>\n",
              "</div>\n",
              "      <button class=\"colab-df-convert\" onclick=\"convertToInteractive('df-11a52433-5be6-4f84-9bee-d016d5f4b234')\"\n",
              "              title=\"Convert this dataframe to an interactive table.\"\n",
              "              style=\"display:none;\">\n",
              "        \n",
              "  <svg xmlns=\"http://www.w3.org/2000/svg\" height=\"24px\"viewBox=\"0 0 24 24\"\n",
              "       width=\"24px\">\n",
              "    <path d=\"M0 0h24v24H0V0z\" fill=\"none\"/>\n",
              "    <path d=\"M18.56 5.44l.94 2.06.94-2.06 2.06-.94-2.06-.94-.94-2.06-.94 2.06-2.06.94zm-11 1L8.5 8.5l.94-2.06 2.06-.94-2.06-.94L8.5 2.5l-.94 2.06-2.06.94zm10 10l.94 2.06.94-2.06 2.06-.94-2.06-.94-.94-2.06-.94 2.06-2.06.94z\"/><path d=\"M17.41 7.96l-1.37-1.37c-.4-.4-.92-.59-1.43-.59-.52 0-1.04.2-1.43.59L10.3 9.45l-7.72 7.72c-.78.78-.78 2.05 0 2.83L4 21.41c.39.39.9.59 1.41.59.51 0 1.02-.2 1.41-.59l7.78-7.78 2.81-2.81c.8-.78.8-2.07 0-2.86zM5.41 20L4 18.59l7.72-7.72 1.47 1.35L5.41 20z\"/>\n",
              "  </svg>\n",
              "      </button>\n",
              "      \n",
              "  <style>\n",
              "    .colab-df-container {\n",
              "      display:flex;\n",
              "      flex-wrap:wrap;\n",
              "      gap: 12px;\n",
              "    }\n",
              "\n",
              "    .colab-df-convert {\n",
              "      background-color: #E8F0FE;\n",
              "      border: none;\n",
              "      border-radius: 50%;\n",
              "      cursor: pointer;\n",
              "      display: none;\n",
              "      fill: #1967D2;\n",
              "      height: 32px;\n",
              "      padding: 0 0 0 0;\n",
              "      width: 32px;\n",
              "    }\n",
              "\n",
              "    .colab-df-convert:hover {\n",
              "      background-color: #E2EBFA;\n",
              "      box-shadow: 0px 1px 2px rgba(60, 64, 67, 0.3), 0px 1px 3px 1px rgba(60, 64, 67, 0.15);\n",
              "      fill: #174EA6;\n",
              "    }\n",
              "\n",
              "    [theme=dark] .colab-df-convert {\n",
              "      background-color: #3B4455;\n",
              "      fill: #D2E3FC;\n",
              "    }\n",
              "\n",
              "    [theme=dark] .colab-df-convert:hover {\n",
              "      background-color: #434B5C;\n",
              "      box-shadow: 0px 1px 3px 1px rgba(0, 0, 0, 0.15);\n",
              "      filter: drop-shadow(0px 1px 2px rgba(0, 0, 0, 0.3));\n",
              "      fill: #FFFFFF;\n",
              "    }\n",
              "  </style>\n",
              "\n",
              "      <script>\n",
              "        const buttonEl =\n",
              "          document.querySelector('#df-11a52433-5be6-4f84-9bee-d016d5f4b234 button.colab-df-convert');\n",
              "        buttonEl.style.display =\n",
              "          google.colab.kernel.accessAllowed ? 'block' : 'none';\n",
              "\n",
              "        async function convertToInteractive(key) {\n",
              "          const element = document.querySelector('#df-11a52433-5be6-4f84-9bee-d016d5f4b234');\n",
              "          const dataTable =\n",
              "            await google.colab.kernel.invokeFunction('convertToInteractive',\n",
              "                                                     [key], {});\n",
              "          if (!dataTable) return;\n",
              "\n",
              "          const docLinkHtml = 'Like what you see? Visit the ' +\n",
              "            '<a target=\"_blank\" href=https://colab.research.google.com/notebooks/data_table.ipynb>data table notebook</a>'\n",
              "            + ' to learn more about interactive tables.';\n",
              "          element.innerHTML = '';\n",
              "          dataTable['output_type'] = 'display_data';\n",
              "          await google.colab.output.renderOutput(dataTable, element);\n",
              "          const docLink = document.createElement('div');\n",
              "          docLink.innerHTML = docLinkHtml;\n",
              "          element.appendChild(docLink);\n",
              "        }\n",
              "      </script>\n",
              "    </div>\n",
              "  </div>\n",
              "  "
            ]
          },
          "metadata": {},
          "execution_count": 3
        }
      ]
    },
    {
      "cell_type": "code",
      "source": [
        "female = df[df[\"GENDER\"].str.match(\"female\") == True]\n",
        "female_30014 = female[female[\"SURVEYQUESTIONESSENCEID\"] == 30014]\n",
        "\n",
        "male = df[df[\"GENDER\"].str.match(\"male\") == True]\n",
        "male_30014 = male[male[\"SURVEYQUESTIONESSENCEID\"] == 30014]\n",
        "\n",
        "pnta = df[df[\"GENDER\"].str.match(\"prefer not to answer\") == True]\n",
        "pnta_30014 = pnta[pnta[\"SURVEYQUESTIONESSENCEID\"] == 30014]"
      ],
      "metadata": {
        "id": "Ou13ivh_hm1z"
      },
      "execution_count": 4,
      "outputs": []
    },
    {
      "cell_type": "code",
      "source": [
        "female_comments = female_30014[female_30014[\"COMMENT\"].str.contains(\"build\") == True]\n",
        "\n",
        "male_comments = male_30014[male_30014[\"COMMENT\"].str.contains(\"transparent|honest|direct\") == True]\n",
        "\n",
        "pnta_comments = pnta_30014[pnta_30014['COMMENT'].str.contains(\"politic|senior|accountable|learn\") == True]"
      ],
      "metadata": {
        "id": "NIPnqqEGhqCD"
      },
      "execution_count": 5,
      "outputs": []
    },
    {
      "cell_type": "code",
      "source": [
        "pd.set_option('display.max_colwidth', None)\n",
        "import random\n",
        "\n",
        "random_comment_female = female_comments['COMMENT']\n",
        "\n",
        "random_comment_male = male_comments['COMMENT']\n",
        "\n",
        "random_comment_pnta = pnta_comments['COMMENT']\n",
        "\n",
        "sampling_female = random.sample(list(random_comment_female), k=4) \n",
        "sampling_male = random.sample(list(random_comment_male), k=3) \n",
        "sampling_pnta = random.sample(list(random_comment_pnta), k=3) \n"
      ],
      "metadata": {
        "id": "TMvpGPX-iIrz"
      },
      "execution_count": 6,
      "outputs": []
    },
    {
      "cell_type": "code",
      "source": [
        "print(sampling_female)"
      ],
      "metadata": {
        "colab": {
          "base_uri": "https://localhost:8080/"
        },
        "id": "sfPP4TPqmJhX",
        "outputId": "e948682c-7f46-4de1-b2e7-0f6474251b6d"
      },
      "execution_count": 7,
      "outputs": [
        {
          "output_type": "stream",
          "name": "stdout",
          "text": [
            "['This survey is confusing as to whom we are evaluating. It has several questions regarding Monarch Management team whom I do not necessarily work with directly for anything so it is difficulty to evaluate.  I feel that my direct manager in MY building is very supportive and good to work with. ', 'I think he could see what happens at building levels and what it is like working in the buildings when decisions are made at Central Office. I feel that where is a disconnect. ', 'Values (including who and what you value) show up in your actions and your words. Here\\'s a recap: \\r\\n\\r\\nWe\\'re doing great financially per the monthly meetings all of 2020. Then: we\\'ll have to see how it goes for paying out a return on your time investment during a pay cut. In the meantime, we bought a new building. Then \"more revenue, more revenue, more revenue.\" Then, I believe the firm has always been more about people than money. \\r\\n\\r\\nThese statements and actions demonstrate lack of clarity in direction. That\\'s concerning in someone who\\'s steering the ship. \\r\\n', 'Show trust in employees, fully invest in and support D&I efforts, improve work/life flexibility, support working parents, improve parental leave benefits, modify all work schedules to 8hr work days, update all hardware to laptops and docking stations, improve spacing between employee workspaces to allow for 6 ft of distance, build an onsite workout facility and locker room and functioning kitchen/cafe ']\n"
          ]
        }
      ]
    },
    {
      "cell_type": "code",
      "source": [
        "print(sampling_male)"
      ],
      "metadata": {
        "colab": {
          "base_uri": "https://localhost:8080/"
        },
        "id": "cxeIfCEIqWjD",
        "outputId": "ae5ba55c-2b12-4812-fe69-2740cff7bbcc"
      },
      "execution_count": 8,
      "outputs": [
        {
          "output_type": "stream",
          "name": "stdout",
          "text": [
            "['Listen to our customers and respect the customers. Forcing consumer software to do updates or telemetry does not help. (Bloatware, \"Vendor Malware\") Also, adding value to the applications we pre-install and make them optional. Again respect the customers. For commercial software, understand the use cases and expect Dell Images to get wiped. Provide more value in commercial solutions. \\nWork on modernizing our applications to be a hybrid Service/cloud that adds real value to the end-user.\\nOn my personal laptop, I un-install all the Dell applications and just leave Dell Command Update, to do updates. (We have like 4 ways we can update the machine currently pre-installed, and updates don\\'t match) Normally I just go directly to dell.com to do my updates since Dell Command Update has a 2-week delay in the catalog or has issues.\\nAlso, more realistic training on Security with live instructors and in-person if possible. Today I read this article https://www.dell.com/support/kbdoc/en-us/000188682/dsa-2021-106-dell-client-platform-security-update-for-multiple-vulnerabilities-in-the-supportassist-biosconnect-feature-and-https-boot-feature\\n\\nHow can we improve pen testing?\\nDo we have a framework to prevent this type of vulnerability from happening again and help improve our other products?', \"Be more open with what's occurring within C4. The good and bad. I can respect directness whether the news is good, bad or indifferent. \", \"Be honest with us. There are changes every 3 months and they completely botched Talent Architecture and communications about everyone's compensation. Housing was one of the strongest COVID proof industries. Leaders at this company combined COVID and exiting conservatorship into ammunition to take away our annual merit increase and lessened our 401k contribution. The message was complete bs and easy to see through. We're not dumb people and we can see the W10 posted every year. Leaders still get fat long term incentive bonuses If we're being so commercially savy, why only shake down the pockets of the little guy? God forbit i get a 2% cost of living increase.\\n\\nAlso - they've painted a picture about not having raises in 2022...I give myself less than 6 months of time at Fannie, I'll be moving on. \"]\n"
          ]
        }
      ]
    },
    {
      "cell_type": "code",
      "source": [
        "print(sampling_pnta)"
      ],
      "metadata": {
        "colab": {
          "base_uri": "https://localhost:8080/"
        },
        "id": "Abgu5MMvqWXz",
        "outputId": "3561f985-99a7-453f-89bc-238ee2ecad6a"
      },
      "execution_count": 9,
      "outputs": [
        {
          "output_type": "stream",
          "name": "stdout",
          "text": [
            "['At this point, I do not know. I have had concerns and issues over my time here that I have brought to management, compliance officers, and skip-level bosses and had no follow up from anyone other than the senior retreat manager, Annette. ', \"Stay in your lane and stop spending so much time trying to be PC and focus on making Redfin a good place to work for everyone regardless of our race, gender, age, etc. Bring us together as fellow teammates and stop emphasizing our differences.\\nPlease refrain from giving advice on how we should identify with our pronouns in email signature line. He was late to the game on that and it just reeked of pandering and came across quite cringe worthy. More importantly, this is a complete overstep into our personal lives and he has absolutely no place or invitation to tell us how we should identify ourselves. He's a CEO not our personal life coach or priest - please stay out of politics and our personal choices.\", \"Push assembly depts. to improve current process more efficient. Have consequences for not using procedures. Use NCR's to better improve procedures.\\r\\n\\r\\nIncorrect parts are constantly being made and are pushed passed QC. Incorrect chain of command for quality control. Machine shop should not be able to bypass incorrect parts. NCRs should be used to learn and improve current and past problems. \"]\n"
          ]
        }
      ]
    },
    {
      "cell_type": "code",
      "source": [
        "print(len(random_comment_female))\n",
        "print(len(random_comment_male))\n",
        "print(len(random_comment_pnta))"
      ],
      "metadata": {
        "colab": {
          "base_uri": "https://localhost:8080/"
        },
        "id": "tm9UF6HaWQ4f",
        "outputId": "05a6d82f-c05e-4d0c-c0b4-aae94c9c167a"
      },
      "execution_count": 10,
      "outputs": [
        {
          "output_type": "stream",
          "name": "stdout",
          "text": [
            "580\n",
            "2818\n",
            "1001\n"
          ]
        }
      ]
    },
    {
      "cell_type": "code",
      "source": [
        "# Converting all text to lowercase and removing punctuations\n",
        "\n",
        "def clean_text(text):\n",
        "  text = text.lower()\n",
        "  text = re.sub(r'[^\\w\\s]',' ', text)\n",
        "  text = re.sub('\\[.*?\\#]', '', text)\n",
        "  text = re.sub('\\n', ' ', text)\n",
        "  text = re.sub('[%s]' % re.escape(string.punctuation), ' ', text)\n",
        "  return text\n",
        "\n",
        "cleaning = lambda x: clean_text(x)\n",
        "\n",
        "df_clean = pd.DataFrame(df['COMMENT'].apply(cleaning))\n",
        "\n",
        "df[\"COMMENT\"] = df_clean\n",
        "\n",
        "print(df['COMMENT'].head(10),\"\\n\")\n",
        "print(df['COMMENT'].tail(10))"
      ],
      "metadata": {
        "colab": {
          "base_uri": "https://localhost:8080/"
        },
        "id": "JUP1dSwl3LjU",
        "outputId": "d3e73887-8ec0-4b0e-9d1f-948c2d65e10c"
      },
      "execution_count": 11,
      "outputs": [
        {
          "output_type": "stream",
          "name": "stdout",
          "text": [
            "0                                                                                                                                                                                                                      melvins professional demeanor and interpersonal skills inspire confidence \n",
            "1                                                                                                                                                                                                                                                          proved better supervision and support \n",
            "2                                                                                                                                                                                                                                                                              proven experience \n",
            "3                                                                                                                                          let the team do what they were hired to do  sometimes it feels like the leaders have a fomo  or an i have to do it for it to be done right mentality  \n",
            "4                                                                                                                                                             they consistently look for opportunities to market the es brand and look for ways to improve the work environment of the employees \n",
            "5                                                                                                                                                                                                            willingness to terminate bad employees  commitment to a standard and maintaining it \n",
            "6                                                                                                                                                                                                         calm  fearless  godliness of character  respectful  really cares about their employees \n",
            "7                                                                                                                                                                                       it doesnt  you have a manager that wife works as a regular employee but they can get away with anything  \n",
            "8    quit pitting the different shifts and departments against each other   treat all fairly  quit playing favorites   make sure the distribution of work is equal all around   make sure everyone is pulling their weight   if a task is not suited to ones personality try something different \n",
            "9                                                                                                                                                                                                            pay me what i deserve based on my qualifications and stop treating me like an intern\n",
            "Name: COMMENT, dtype: object \n",
            "\n",
            "206951                                                                                                                                                                                                                                                                                               good at communicating what is required\n",
            "206952                                                                                                                                                                                                                                                                                                 employ composite industry managers  \n",
            "206953                                                                                                                                                                                                                                                                                                        drug test and stick to policy\n",
            "206954                                                                                                                                                                                                                                                                                                     passion and drive for results   \n",
            "206955                                                                                                                                                                                                                                                                                 spend money in the right areas   stop employing kids\n",
            "206956                                                                                                                                                                                                                                                               his open and willingness to describe what is going on adn why we do it\n",
            "206957                                                                                                             howard makes sure that we feel safe and feel comfortable in our branch  the way he made me feel comfortable when he was visiting our branch made me want to stay at gtfcu   maybe just not the branch i am currently at \n",
            "206958    be present  engage with management  make it a priority and make it deliberate  voice appreciation directly to the employee  and often  don t wait until it s time for a survey to come out  our employees are struggling with pay and with project workloads  we ve already lost good employees and we re at risk of losing more \n",
            "206959                                                                                                                                                                                                                             change in leadership style  servant leadership style is the most effective  higher employee engagement  \n",
            "206960                                                                                                                                                                                                                                                                                             they have made great decisions so far   \n",
            "Name: COMMENT, dtype: object\n"
          ]
        }
      ]
    },
    {
      "cell_type": "code",
      "source": [
        "import spacy.cli\n",
        "spacy.cli.download(\"en_core_web_lg\")\n",
        "\n",
        "nlp = spacy.load('en_core_web_lg', disable = ['parser','ner'])\n",
        "\n",
        "print(nlp.Defaults.stop_words)"
      ],
      "metadata": {
        "colab": {
          "base_uri": "https://localhost:8080/"
        },
        "id": "xmDiGMke4Lk0",
        "outputId": "fb6a8b20-aafa-4113-b001-2d74364726dc"
      },
      "execution_count": 12,
      "outputs": [
        {
          "output_type": "stream",
          "name": "stdout",
          "text": [
            "\u001b[38;5;2m✔ Download and installation successful\u001b[0m\n",
            "You can now load the package via spacy.load('en_core_web_lg')\n",
            "{'whenever', 'across', 'when', 'unless', 'move', 'to', 'him', 'twelve', 'well', \"'m\", 'through', 'now', 'too', 'else', 'quite', 'say', 'anywhere', 'beforehand', 'the', 'everything', 'what', 'former', 'ourselves', 'while', 'her', 'few', 'although', 'whether', 'he', 'must', 'mostly', 'were', 'hereafter', 'rather', 'keep', 'might', 'them', 'due', 'nor', '‘d', 'throughout', 'after', 'there', 'does', 'eleven', 'his', 'more', 'noone', 'yours', 'side', 'whole', 'below', 'within', 'though', 'if', 'seeming', 'your', 'than', 'has', 'eight', 'hence', 'already', '’ve', '’ll', 'somewhere', 'twenty', 'something', 'almost', 'everywhere', 'sometimes', 'out', 'namely', 'thru', 'besides', \"'ll\", 'these', 'seems', 'one', 'seemed', 'until', 'up', 'wherever', 'never', 'toward', 'someone', 'perhaps', 'top', 'their', 'off', 'about', 'which', 'from', 'for', 'show', 'is', 'are', 'those', 'become', 'our', 'herself', 'two', 'under', 'via', 'mine', 'above', 'whereby', 'against', 'so', '‘re', 'its', 'make', 're', 'yet', 'such', 'moreover', 'do', 'yourself', 'thereby', 'of', 'became', 'nowhere', 'serious', 'anyhow', 'together', 'part', 'whereafter', 'wherein', 'hers', 'i', 'along', 'alone', 'n‘t', 'name', 'nine', 'fifty', 'own', 'call', 'whither', 'n’t', 'who', \"'d\", 'fifteen', 'hundred', 'have', 'front', 'get', 'and', 'am', 'beyond', 'much', 'me', 'anything', 'over', 'before', 'just', 'thus', 'using', 'bottom', 'often', 'any', 'sixty', 'whom', 'many', 'down', 'put', 'afterwards', 'last', 'since', \"n't\", 'may', 'on', 'indeed', 'per', 'however', 'ten', 'some', 'as', 'other', 'hereupon', 'no', 'various', 'whereas', '‘ve', 'go', 'cannot', 'three', 'meanwhile', 'enough', \"'ve\", 'yourselves', 'it', 'a', 'thereupon', 'others', '’re', 'ca', 'that', 'neither', 'herein', 'should', 'elsewhere', 'thereafter', 'first', 'been', 'take', 'upon', 'done', 'by', 'can', 'becoming', 'among', 'had', '‘s', 'here', 'really', 'less', 'therein', 'onto', 'least', 'everyone', '‘ll', 'give', 'used', 'nevertheless', 'hereby', 'whatever', 'thence', 'anyone', 'forty', 'four', \"'re\", 'regarding', 'somehow', 'behind', 'itself', 'except', 'we', 'amongst', '’m', 'always', 'again', 'where', 'otherwise', 'then', 'they', 'sometime', 'us', 'full', 'how', 'because', 'around', 'during', 'could', 'five', 'did', 'you', 'several', 'both', 'most', 'without', 'ours', 'very', 'next', 'but', 'still', 'every', 'an', 'why', 'was', 'with', 'please', 'whoever', 'also', 'empty', \"'s\", 'at', 'himself', 'each', 'being', 'even', 'into', 'beside', 'she', 'six', 'latterly', 'would', 'formerly', 'see', 'further', 'nobody', 'only', '’s', 'once', 'another', 'whereupon', 'none', 'towards', 'all', 'myself', 'doing', 'whence', 'therefore', 'between', 'nothing', 'will', 'in', 'either', 'back', 'this', '’d', 'same', 'seem', 'amount', 'made', 'themselves', 'my', 'anyway', 'third', 'whose', 'not', 'ever', 'becomes', 'be', 'or', '‘m', 'latter'}\n"
          ]
        }
      ]
    },
    {
      "cell_type": "code",
      "source": [
        "df_inspire = df[df['SURVEYQUESTIONESSENCEID'] == 30013]\n",
        "df_gain = df[df['SURVEYQUESTIONESSENCEID'] == 30014]\n",
        "\n",
        "print(df_inspire.head(3))\n",
        "df_gain.head(3)"
      ],
      "metadata": {
        "colab": {
          "base_uri": "https://localhost:8080/",
          "height": 361
        },
        "id": "frbthhbgIwj7",
        "outputId": "18958d3f-f2ed-4332-f0c9-93eaf3719a33"
      },
      "execution_count": 13,
      "outputs": [
        {
          "output_type": "stream",
          "name": "stdout",
          "text": [
            "   SURVEYRESPONDERID GENDER  SURVEYQUESTIONESSENCEID  \\\n",
            "0           17296164   male                    30013   \n",
            "2           17334983   male                    30013   \n",
            "4           17340874   male                    30013   \n",
            "\n",
            "                                                                                                                               COMMENT  \n",
            "0                                                           melvins professional demeanor and interpersonal skills inspire confidence   \n",
            "2                                                                                                                   proven experience   \n",
            "4  they consistently look for opportunities to market the es brand and look for ways to improve the work environment of the employees   \n"
          ]
        },
        {
          "output_type": "execute_result",
          "data": {
            "text/plain": [
              "   SURVEYRESPONDERID  GENDER  SURVEYQUESTIONESSENCEID  \\\n",
              "1           17311889  female                    30014   \n",
              "3           17340598    male                    30014   \n",
              "8           17341752  female                    30014   \n",
              "\n",
              "                                                                                                                                                                                                                                                                                        COMMENT  \n",
              "1                                                                                                                                                                                                                                                        proved better supervision and support   \n",
              "3                                                                                                                                        let the team do what they were hired to do  sometimes it feels like the leaders have a fomo  or an i have to do it for it to be done right mentality    \n",
              "8  quit pitting the different shifts and departments against each other   treat all fairly  quit playing favorites   make sure the distribution of work is equal all around   make sure everyone is pulling their weight   if a task is not suited to ones personality try something different   "
            ],
            "text/html": [
              "\n",
              "  <div id=\"df-c948d1bf-6019-4a2c-af95-0e5deeb5ab03\">\n",
              "    <div class=\"colab-df-container\">\n",
              "      <div>\n",
              "<style scoped>\n",
              "    .dataframe tbody tr th:only-of-type {\n",
              "        vertical-align: middle;\n",
              "    }\n",
              "\n",
              "    .dataframe tbody tr th {\n",
              "        vertical-align: top;\n",
              "    }\n",
              "\n",
              "    .dataframe thead th {\n",
              "        text-align: right;\n",
              "    }\n",
              "</style>\n",
              "<table border=\"1\" class=\"dataframe\">\n",
              "  <thead>\n",
              "    <tr style=\"text-align: right;\">\n",
              "      <th></th>\n",
              "      <th>SURVEYRESPONDERID</th>\n",
              "      <th>GENDER</th>\n",
              "      <th>SURVEYQUESTIONESSENCEID</th>\n",
              "      <th>COMMENT</th>\n",
              "    </tr>\n",
              "  </thead>\n",
              "  <tbody>\n",
              "    <tr>\n",
              "      <th>1</th>\n",
              "      <td>17311889</td>\n",
              "      <td>female</td>\n",
              "      <td>30014</td>\n",
              "      <td>proved better supervision and support</td>\n",
              "    </tr>\n",
              "    <tr>\n",
              "      <th>3</th>\n",
              "      <td>17340598</td>\n",
              "      <td>male</td>\n",
              "      <td>30014</td>\n",
              "      <td>let the team do what they were hired to do  sometimes it feels like the leaders have a fomo  or an i have to do it for it to be done right mentality</td>\n",
              "    </tr>\n",
              "    <tr>\n",
              "      <th>8</th>\n",
              "      <td>17341752</td>\n",
              "      <td>female</td>\n",
              "      <td>30014</td>\n",
              "      <td>quit pitting the different shifts and departments against each other   treat all fairly  quit playing favorites   make sure the distribution of work is equal all around   make sure everyone is pulling their weight   if a task is not suited to ones personality try something different</td>\n",
              "    </tr>\n",
              "  </tbody>\n",
              "</table>\n",
              "</div>\n",
              "      <button class=\"colab-df-convert\" onclick=\"convertToInteractive('df-c948d1bf-6019-4a2c-af95-0e5deeb5ab03')\"\n",
              "              title=\"Convert this dataframe to an interactive table.\"\n",
              "              style=\"display:none;\">\n",
              "        \n",
              "  <svg xmlns=\"http://www.w3.org/2000/svg\" height=\"24px\"viewBox=\"0 0 24 24\"\n",
              "       width=\"24px\">\n",
              "    <path d=\"M0 0h24v24H0V0z\" fill=\"none\"/>\n",
              "    <path d=\"M18.56 5.44l.94 2.06.94-2.06 2.06-.94-2.06-.94-.94-2.06-.94 2.06-2.06.94zm-11 1L8.5 8.5l.94-2.06 2.06-.94-2.06-.94L8.5 2.5l-.94 2.06-2.06.94zm10 10l.94 2.06.94-2.06 2.06-.94-2.06-.94-.94-2.06-.94 2.06-2.06.94z\"/><path d=\"M17.41 7.96l-1.37-1.37c-.4-.4-.92-.59-1.43-.59-.52 0-1.04.2-1.43.59L10.3 9.45l-7.72 7.72c-.78.78-.78 2.05 0 2.83L4 21.41c.39.39.9.59 1.41.59.51 0 1.02-.2 1.41-.59l7.78-7.78 2.81-2.81c.8-.78.8-2.07 0-2.86zM5.41 20L4 18.59l7.72-7.72 1.47 1.35L5.41 20z\"/>\n",
              "  </svg>\n",
              "      </button>\n",
              "      \n",
              "  <style>\n",
              "    .colab-df-container {\n",
              "      display:flex;\n",
              "      flex-wrap:wrap;\n",
              "      gap: 12px;\n",
              "    }\n",
              "\n",
              "    .colab-df-convert {\n",
              "      background-color: #E8F0FE;\n",
              "      border: none;\n",
              "      border-radius: 50%;\n",
              "      cursor: pointer;\n",
              "      display: none;\n",
              "      fill: #1967D2;\n",
              "      height: 32px;\n",
              "      padding: 0 0 0 0;\n",
              "      width: 32px;\n",
              "    }\n",
              "\n",
              "    .colab-df-convert:hover {\n",
              "      background-color: #E2EBFA;\n",
              "      box-shadow: 0px 1px 2px rgba(60, 64, 67, 0.3), 0px 1px 3px 1px rgba(60, 64, 67, 0.15);\n",
              "      fill: #174EA6;\n",
              "    }\n",
              "\n",
              "    [theme=dark] .colab-df-convert {\n",
              "      background-color: #3B4455;\n",
              "      fill: #D2E3FC;\n",
              "    }\n",
              "\n",
              "    [theme=dark] .colab-df-convert:hover {\n",
              "      background-color: #434B5C;\n",
              "      box-shadow: 0px 1px 3px 1px rgba(0, 0, 0, 0.15);\n",
              "      filter: drop-shadow(0px 1px 2px rgba(0, 0, 0, 0.3));\n",
              "      fill: #FFFFFF;\n",
              "    }\n",
              "  </style>\n",
              "\n",
              "      <script>\n",
              "        const buttonEl =\n",
              "          document.querySelector('#df-c948d1bf-6019-4a2c-af95-0e5deeb5ab03 button.colab-df-convert');\n",
              "        buttonEl.style.display =\n",
              "          google.colab.kernel.accessAllowed ? 'block' : 'none';\n",
              "\n",
              "        async function convertToInteractive(key) {\n",
              "          const element = document.querySelector('#df-c948d1bf-6019-4a2c-af95-0e5deeb5ab03');\n",
              "          const dataTable =\n",
              "            await google.colab.kernel.invokeFunction('convertToInteractive',\n",
              "                                                     [key], {});\n",
              "          if (!dataTable) return;\n",
              "\n",
              "          const docLinkHtml = 'Like what you see? Visit the ' +\n",
              "            '<a target=\"_blank\" href=https://colab.research.google.com/notebooks/data_table.ipynb>data table notebook</a>'\n",
              "            + ' to learn more about interactive tables.';\n",
              "          element.innerHTML = '';\n",
              "          dataTable['output_type'] = 'display_data';\n",
              "          await google.colab.output.renderOutput(dataTable, element);\n",
              "          const docLink = document.createElement('div');\n",
              "          docLink.innerHTML = docLinkHtml;\n",
              "          element.appendChild(docLink);\n",
              "        }\n",
              "      </script>\n",
              "    </div>\n",
              "  </div>\n",
              "  "
            ]
          },
          "metadata": {},
          "execution_count": 13
        }
      ]
    },
    {
      "cell_type": "code",
      "source": [
        "def remove_stopwords(texts):\n",
        "    return [[word for word in simple_preprocess(str(doc)) if word not in nlp.Defaults.stop_words] for doc in texts]"
      ],
      "metadata": {
        "id": "68Ypq3la9wLf"
      },
      "execution_count": 14,
      "outputs": []
    },
    {
      "cell_type": "code",
      "source": [
        "inspire_words_nostops = remove_stopwords(df_inspire['COMMENT'])\n",
        "\n",
        "gain_words_nostops = remove_stopwords(df_gain['COMMENT'])"
      ],
      "metadata": {
        "id": "Og6pbviI91gR"
      },
      "execution_count": 15,
      "outputs": []
    },
    {
      "cell_type": "code",
      "source": [
        "import nltk\n",
        "nltk.download('punkt')\n",
        "\n",
        "long_list_inspire = [item for sublist in inspire_words_nostops for item in sublist]  \n",
        "long_list_gain = [item for sublist in gain_words_nostops for item in sublist] "
      ],
      "metadata": {
        "colab": {
          "base_uri": "https://localhost:8080/"
        },
        "id": "-v6TwwskDETo",
        "outputId": "f7ab2f3c-4706-415c-b1b4-e2d8afac53fe"
      },
      "execution_count": 16,
      "outputs": [
        {
          "output_type": "stream",
          "name": "stderr",
          "text": [
            "[nltk_data] Downloading package punkt to /root/nltk_data...\n",
            "[nltk_data]   Package punkt is already up-to-date!\n"
          ]
        }
      ]
    },
    {
      "cell_type": "code",
      "source": [
        "bigrams_inspire = nltk.bigrams(long_list_inspire)\n",
        "bigrams_gain = nltk.bigrams(long_list_gain)"
      ],
      "metadata": {
        "id": "Enc-zVqIDZZe"
      },
      "execution_count": 17,
      "outputs": []
    },
    {
      "cell_type": "code",
      "source": [
        "frequency_inspire = nltk.FreqDist(bigrams_inspire)\n",
        "frequency_gain = nltk.FreqDist(bigrams_gain)"
      ],
      "metadata": {
        "id": "2t-wuAZcDifp"
      },
      "execution_count": 18,
      "outputs": []
    },
    {
      "cell_type": "code",
      "source": [
        "frequency_inspire.most_common(50)"
      ],
      "metadata": {
        "colab": {
          "base_uri": "https://localhost:8080/"
        },
        "id": "N_U6dLjTD_nq",
        "outputId": "6302625e-060b-4b10-a4b8-f3314b544f0c"
      },
      "execution_count": 20,
      "outputs": [
        {
          "output_type": "execute_result",
          "data": {
            "text/plain": [
              "[(('feel', 'like'), 1998),\n",
              " (('cares', 'employees'), 1452),\n",
              " (('makes', 'feel'), 1162),\n",
              " (('genuinely', 'cares'), 1075),\n",
              " (('care', 'employees'), 1064),\n",
              " (('inspires', 'confidence'), 1042),\n",
              " (('right', 'direction'), 874),\n",
              " (('truly', 'cares'), 845),\n",
              " (('forward', 'thinking'), 832),\n",
              " (('new', 'ideas'), 824),\n",
              " (('team', 'members'), 795),\n",
              " (('leadership', 'team'), 772),\n",
              " (('best', 'interest'), 743),\n",
              " (('hard', 'work'), 741),\n",
              " (('positive', 'attitude'), 720),\n",
              " (('takes', 'time'), 687),\n",
              " (('great', 'job'), 650),\n",
              " (('open', 'door'), 646),\n",
              " (('genuinely', 'care'), 620),\n",
              " (('company', 'employees'), 609),\n",
              " (('don', 'know'), 609),\n",
              " (('cares', 'people'), 603),\n",
              " (('long', 'term'), 559),\n",
              " (('open', 'communication'), 540),\n",
              " (('willing', 'listen'), 540),\n",
              " (('good', 'job'), 532),\n",
              " (('door', 'policy'), 520),\n",
              " (('great', 'leader'), 519),\n",
              " (('track', 'record'), 515),\n",
              " (('decision', 'making'), 507),\n",
              " (('day', 'day'), 491),\n",
              " (('direction', 'company'), 491),\n",
              " (('hard', 'working'), 485),\n",
              " (('open', 'honest'), 485),\n",
              " (('right', 'thing'), 479),\n",
              " (('vision', 'future'), 467),\n",
              " (('work', 'ethic'), 466),\n",
              " (('clear', 'vision'), 462),\n",
              " (('grow', 'company'), 460),\n",
              " (('vision', 'company'), 446),\n",
              " (('work', 'hard'), 438),\n",
              " (('feel', 'confident'), 435),\n",
              " (('executive', 'team'), 415),\n",
              " (('people', 'work'), 403),\n",
              " (('gives', 'confidence'), 402),\n",
              " (('long', 'time'), 387),\n",
              " (('willingness', 'listen'), 385),\n",
              " (('wants', 'best'), 383),\n",
              " (('best', 'interests'), 365),\n",
              " (('growth', 'company'), 361)]"
            ]
          },
          "metadata": {},
          "execution_count": 20
        }
      ]
    },
    {
      "cell_type": "code",
      "source": [
        "frequency_gain.most_common(50)"
      ],
      "metadata": {
        "colab": {
          "base_uri": "https://localhost:8080/"
        },
        "id": "1GXp8dGEKytx",
        "outputId": "ca1471c7-8bde-4134-9e61-2fe2c1363ea6"
      },
      "execution_count": 21,
      "outputs": [
        {
          "output_type": "execute_result",
          "data": {
            "text/plain": [
              "[(('feel', 'like'), 1841),\n",
              " (('don', 'know'), 1732),\n",
              " (('team', 'members'), 1123),\n",
              " (('day', 'day'), 1051),\n",
              " (('upper', 'management'), 869),\n",
              " (('gain', 'confidence'), 792),\n",
              " (('work', 'home'), 708),\n",
              " (('feels', 'like'), 703),\n",
              " (('long', 'term'), 688),\n",
              " (('listen', 'employees'), 600),\n",
              " (('decision', 'making'), 548),\n",
              " (('better', 'communication'), 546),\n",
              " (('work', 'life'), 536),\n",
              " (('hard', 'work'), 521),\n",
              " (('senior', 'leadership'), 495),\n",
              " (('spend', 'time'), 487),\n",
              " (('life', 'balance'), 486),\n",
              " (('people', 'work'), 475),\n",
              " (('don', 'think'), 475),\n",
              " (('listen', 'concerns'), 468),\n",
              " (('don', 'feel'), 457),\n",
              " (('better', 'pay'), 453),\n",
              " (('leadership', 'team'), 446),\n",
              " (('increase', 'pay'), 440),\n",
              " (('care', 'employees'), 421),\n",
              " (('cost', 'living'), 419),\n",
              " (('working', 'home'), 395),\n",
              " (('good', 'job'), 395),\n",
              " (('actually', 'listen'), 372),\n",
              " (('employees', 'feel'), 361),\n",
              " (('executive', 'team'), 354),\n",
              " (('employees', 'work'), 344),\n",
              " (('senior', 'management'), 332),\n",
              " (('making', 'decisions'), 331),\n",
              " (('work', 'hard'), 300),\n",
              " (('work', 'environment'), 289),\n",
              " (('pay', 'attention'), 288),\n",
              " (('new', 'ideas'), 283),\n",
              " (('let', 'know'), 281),\n",
              " (('lower', 'level'), 279),\n",
              " (('listen', 'people'), 278),\n",
              " (('great', 'job'), 275),\n",
              " (('new', 'hires'), 272),\n",
              " (('hire', 'people'), 262),\n",
              " (('better', 'understanding'), 261),\n",
              " (('answer', 'question'), 250),\n",
              " (('remote', 'work'), 247),\n",
              " (('pay', 'employees'), 235),\n",
              " (('level', 'employees'), 233),\n",
              " (('town', 'hall'), 232)]"
            ]
          },
          "metadata": {},
          "execution_count": 21
        }
      ]
    },
    {
      "cell_type": "code",
      "source": [
        "#Adding my own stop words to list to get a better topic model\n",
        "\n",
        "nlp.Defaults.stop_words |= {'employees', 'company', 'work', 'people', 'like', \n",
        "                            'feel', 'leadership','know', 'time', 'staff', \n",
        "                            'better', 'leader', 'good', 'team', 'don','confidence',\n",
        "                            'great', 'ceo', 'care', 'new', 'job', 'business',\n",
        "                            'things', 'listen', 'decisions','doesn','u'}"
      ],
      "metadata": {
        "id": "85oNHY5l9wQ3"
      },
      "execution_count": 22,
      "outputs": []
    },
    {
      "cell_type": "code",
      "source": [
        "print(inspire_words_nostops[0:2])"
      ],
      "metadata": {
        "colab": {
          "base_uri": "https://localhost:8080/"
        },
        "id": "ww9CgpOU-AnI",
        "outputId": "ade71c65-c9ce-4f65-a2d1-6bcc42f1f180"
      },
      "execution_count": 23,
      "outputs": [
        {
          "output_type": "stream",
          "name": "stdout",
          "text": [
            "[['melvins', 'professional', 'demeanor', 'interpersonal', 'skills', 'inspire', 'confidence'], ['proven', 'experience']]\n"
          ]
        }
      ]
    },
    {
      "cell_type": "code",
      "source": [
        "def lemmatization(texts, allowed_postags=['NOUN','ADJ', 'VERB','ADV']):\n",
        "    texts_out = []\n",
        "    for sent in texts:\n",
        "        doc = nlp(\" \".join(sent)) \n",
        "        texts_out.append([token.lemma_ for token in doc if token.pos_ in allowed_postags])\n",
        "    return texts_out\n",
        "\n",
        "inspire_final_words = lemmatization(inspire_words_nostops, allowed_postags = [\n",
        "    'NOUN','ADJ', 'VERB','ADV'])\n",
        "\n",
        "gain_final_words = lemmatization(gain_words_nostops, allowed_postags = [\n",
        "    'NOUN','ADJ', 'VERB','ADV'])\n",
        "\n",
        "print(inspire_final_words[:1])\n",
        "print(gain_final_words[:1])"
      ],
      "metadata": {
        "colab": {
          "base_uri": "https://localhost:8080/"
        },
        "id": "caNx_P1R91du",
        "outputId": "de832ee8-13e5-4c85-a5b4-5effa7a4a6cd"
      },
      "execution_count": 24,
      "outputs": [
        {
          "output_type": "stream",
          "name": "stdout",
          "text": [
            "[['melvin', 'professional', 'demeanor', 'interpersonal', 'skill', 'inspire', 'confidence']]\n",
            "[['prove', 'well', 'supervision', 'support']]\n"
          ]
        }
      ]
    },
    {
      "cell_type": "code",
      "source": [
        "long_list_inspire = [item for sublist in inspire_final_words for item in sublist]   \n",
        "\n",
        "long_list_gain = [item for sublist in gain_final_words for item in sublist]  "
      ],
      "metadata": {
        "id": "ZzRNT_G291a_"
      },
      "execution_count": 25,
      "outputs": []
    },
    {
      "cell_type": "code",
      "source": [
        "from collections import Counter\n",
        "\n",
        "inspire_word_freq = Counter(long_list_inspire)\n",
        "gain_word_freq = Counter(long_list_gain)"
      ],
      "metadata": {
        "id": "RKcGhZCN-26-"
      },
      "execution_count": 26,
      "outputs": []
    },
    {
      "cell_type": "code",
      "source": [
        "inspire_word_freq.most_common(20)"
      ],
      "metadata": {
        "colab": {
          "base_uri": "https://localhost:8080/"
        },
        "id": "IQsIUXXj-24W",
        "outputId": "393ec10f-8563-4885-b66e-46c4a4b8986c"
      },
      "execution_count": 27,
      "outputs": [
        {
          "output_type": "execute_result",
          "data": {
            "text/plain": [
              "[('company', 17605),\n",
              " ('employee', 15174),\n",
              " ('work', 13398),\n",
              " ('care', 12385),\n",
              " ('good', 10814),\n",
              " ('leader', 10169),\n",
              " ('feel', 8830),\n",
              " ('know', 8031),\n",
              " ('leadership', 6689),\n",
              " ('make', 6379),\n",
              " ('team', 6285),\n",
              " ('people', 6229),\n",
              " ('confidence', 6096),\n",
              " ('great', 5953),\n",
              " ('time', 5336),\n",
              " ('open', 5232),\n",
              " ('inspire', 5069),\n",
              " ('business', 4994),\n",
              " ('help', 4843),\n",
              " ('positive', 4668)]"
            ]
          },
          "metadata": {},
          "execution_count": 27
        }
      ]
    },
    {
      "cell_type": "code",
      "source": [
        "gain_word_freq.most_common(20)"
      ],
      "metadata": {
        "colab": {
          "base_uri": "https://localhost:8080/"
        },
        "id": "5w0YdhJ2-2zo",
        "outputId": "04ad91cd-b1fe-431a-f736-3b8b70d346d9"
      },
      "execution_count": 28,
      "outputs": [
        {
          "output_type": "execute_result",
          "data": {
            "text/plain": [
              "[('employee', 18376),\n",
              " ('work', 17731),\n",
              " ('company', 11814),\n",
              " ('people', 11239),\n",
              " ('need', 9492),\n",
              " ('time', 8752),\n",
              " ('feel', 8414),\n",
              " ('know', 7867),\n",
              " ('pay', 7825),\n",
              " ('well', 7617),\n",
              " ('team', 7499),\n",
              " ('staff', 7488),\n",
              " ('change', 6674),\n",
              " ('job', 6008),\n",
              " ('listen', 5961),\n",
              " ('leader', 5793),\n",
              " ('thing', 5297),\n",
              " ('decision', 5293),\n",
              " ('leadership', 5217),\n",
              " ('good', 5142)]"
            ]
          },
          "metadata": {},
          "execution_count": 28
        }
      ]
    },
    {
      "cell_type": "code",
      "source": [
        "long_string_inspirecounter = ' '.join(inspire_word_freq)\n",
        "\n",
        "long_string_gaincounter = ' '.join(gain_word_freq)\n",
        "\n",
        "doc_inspire_counter = nlp(long_string_inspirecounter)\n",
        "\n",
        "doc_gain_counter = nlp(long_string_gaincounter)"
      ],
      "metadata": {
        "id": "m19AQfjd-2xO"
      },
      "execution_count": 29,
      "outputs": []
    },
    {
      "cell_type": "code",
      "source": [
        "from spacy.matcher import Matcher \n",
        "matcher = Matcher(nlp.vocab) \n",
        "pattern = [{'POS':'VERB'}, {'POS':'ADJ'}] \n",
        "matcher.add('ADJ_PHRASE', [pattern]) \n",
        "matches_inspire = matcher(doc_inspire_counter, as_spans=True) \n",
        "phrases_inspire = [] \n",
        "for span in matches_inspire:\n",
        "    phrases_inspire.append(span.text.lower())\n",
        "    phrase_inspire_freq = Counter(phrases_inspire)\n",
        "phrase_inspire_freq.most_common(30)"
      ],
      "metadata": {
        "colab": {
          "base_uri": "https://localhost:8080/"
        },
        "id": "BAQOVFFI_Aum",
        "outputId": "5515730a-e865-4385-df0c-d62225c3c5fe"
      },
      "execution_count": 32,
      "outputs": [
        {
          "output_type": "execute_result",
          "data": {
            "text/plain": [
              "[('terminate bad', 1),\n",
              " ('interact different', 1),\n",
              " ('make sure', 1),\n",
              " ('expect willing', 1),\n",
              " ('want focused', 1),\n",
              " ('learn available', 1),\n",
              " ('build good', 1),\n",
              " ('grow great', 1),\n",
              " ('profit genuine', 1),\n",
              " ('communicate darkest', 1),\n",
              " ('ve long', 1),\n",
              " ('come small', 1),\n",
              " ('present positive', 1),\n",
              " ('bring incredible', 1),\n",
              " ('doesn popular', 1),\n",
              " ('reassure tough', 1),\n",
              " ('prepare intelligent', 1),\n",
              " ('consider valuable', 1),\n",
              " ('meeting favorite', 1),\n",
              " ('see upset', 1),\n",
              " ('motivate appreciative', 1),\n",
              " ('remind compliment', 1),\n",
              " ('lose sparkle', 1),\n",
              " ('belittle embarrass', 1),\n",
              " ('play active', 1),\n",
              " ('vary competent', 1),\n",
              " ('treat helpful', 1),\n",
              " ('hire welcome', 1),\n",
              " ('grasp necessary', 1),\n",
              " ('stay relevant', 1)]"
            ]
          },
          "metadata": {},
          "execution_count": 32
        }
      ]
    },
    {
      "cell_type": "code",
      "source": [
        "matches_gain = matcher(doc_gain_counter, as_spans=True) \n",
        "phrases_gain = [] \n",
        "for span in matches_gain:\n",
        "    phrases_gain.append(span.text.lower())\n",
        "    phrase_gain_freq = Counter(phrases_gain)\n",
        "phrase_gain_freq.most_common(30)"
      ],
      "metadata": {
        "colab": {
          "base_uri": "https://localhost:8080/"
        },
        "id": "8LQWY_Ln_iet",
        "outputId": "d15d6198-6a78-43fb-b276-e4118588a2af"
      },
      "execution_count": 31,
      "outputs": [
        {
          "output_type": "execute_result",
          "data": {
            "text/plain": [
              "[('prove well', 1),\n",
              " ('playing favorite', 1),\n",
              " ('penalize bad', 1),\n",
              " ('stick great', 1),\n",
              " ('review familiar', 1),\n",
              " ('office necessary', 1),\n",
              " ('speak loud', 1),\n",
              " ('send major', 1),\n",
              " ('implement big', 1),\n",
              " ('building clean', 1),\n",
              " ('create novel', 1),\n",
              " ('prop old', 1),\n",
              " ('attend simple', 1),\n",
              " ('walk endure', 1),\n",
              " ('hold accountable', 1),\n",
              " ('involve new', 1),\n",
              " ('explain minute', 1),\n",
              " ('resign public', 1),\n",
              " ('acknowledge real', 1),\n",
              " ('micromanage overhear', 1),\n",
              " ('see biased', 1),\n",
              " ('reflect knowledgeable', 1),\n",
              " ('excuse double', 1),\n",
              " ('get confident', 1),\n",
              " ('provide yearly', 1),\n",
              " ('break suppose', 1),\n",
              " ('offer executive', 1),\n",
              " ('obligated ample', 1),\n",
              " ('retain worth', 1),\n",
              " ('enable frustrated', 1)]"
            ]
          },
          "metadata": {},
          "execution_count": 31
        }
      ]
    }
  ]
}